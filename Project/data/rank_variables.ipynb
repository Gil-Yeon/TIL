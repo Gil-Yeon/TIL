{
 "cells": [
  {
   "cell_type": "markdown",
   "metadata": {
    "id": "1wlBxEbQ6rz-"
   },
   "source": [
    "## 1. PCC / 2. Mutual Info Scores / 3. LR / 4. RF\n",
    "## 거리 적용은 머신러닝 파트 / 통계 분석에서 지역구별로 각각의 개수로 영향 평가"
   ]
  },
  {
   "cell_type": "code",
   "execution_count": 38,
   "metadata": {},
   "outputs": [],
   "source": [
    "# Load your dataset\n",
    "path = 'C:\\\\Users\\\\spa84\\\\'\n",
    "data = pd.read_csv(path + '서울시_전세_건별통합본(23년, 건물연수 추가).csv', encoding='utf-8')\n",
    "data = data[data['Building_Use'] == '아파트']\n",
    "\n",
    "selected_columns = ['JS_Price', 'Building_Age']\n",
    "\n",
    "# 컬럼 선택 및 랜덤 샘플링\n",
    "data = data[selected_columns].sample(n=30000, random_state=42)"
   ]
  },
  {
   "cell_type": "code",
   "execution_count": 39,
   "metadata": {},
   "outputs": [
    {
     "name": "stdout",
     "output_type": "stream",
     "text": [
      "<class 'pandas.core.frame.DataFrame'>\n",
      "Int64Index: 30000 entries, 200945 to 759996\n",
      "Data columns (total 2 columns):\n",
      " #   Column        Non-Null Count  Dtype\n",
      "---  ------        --------------  -----\n",
      " 0   JS_Price      30000 non-null  int64\n",
      " 1   Building_Age  30000 non-null  int64\n",
      "dtypes: int64(2)\n",
      "memory usage: 703.1 KB\n"
     ]
    }
   ],
   "source": [
    "data.info()"
   ]
  },
  {
   "cell_type": "code",
   "execution_count": 40,
   "metadata": {
    "colab": {
     "base_uri": "https://localhost:8080/",
     "height": 551
    },
    "id": "3AEV55Onfatq",
    "outputId": "63fd7356-5ac1-4db4-f6dc-d4c213771f5f"
   },
   "outputs": [
    {
     "data": {
      "text/html": [
       "<div>\n",
       "<style scoped>\n",
       "    .dataframe tbody tr th:only-of-type {\n",
       "        vertical-align: middle;\n",
       "    }\n",
       "\n",
       "    .dataframe tbody tr th {\n",
       "        vertical-align: top;\n",
       "    }\n",
       "\n",
       "    .dataframe thead th {\n",
       "        text-align: right;\n",
       "    }\n",
       "</style>\n",
       "<table border=\"1\" class=\"dataframe\">\n",
       "  <thead>\n",
       "    <tr style=\"text-align: right;\">\n",
       "      <th></th>\n",
       "      <th>Feature</th>\n",
       "      <th>Combined_Ranking</th>\n",
       "    </tr>\n",
       "  </thead>\n",
       "  <tbody>\n",
       "    <tr>\n",
       "      <th>0</th>\n",
       "      <td>Building_Age</td>\n",
       "      <td>NaN</td>\n",
       "    </tr>\n",
       "  </tbody>\n",
       "</table>\n",
       "</div>"
      ],
      "text/plain": [
       "        Feature  Combined_Ranking\n",
       "0  Building_Age               NaN"
      ]
     },
     "execution_count": 40,
     "metadata": {},
     "output_type": "execute_result"
    }
   ],
   "source": [
    "import pandas as pd\n",
    "import numpy as np\n",
    "from sklearn.feature_selection import mutual_info_regression\n",
    "from sklearn.linear_model import LinearRegression\n",
    "from sklearn.ensemble import RandomForestRegressor\n",
    "\n",
    "def normalize(data):\n",
    "    for column in data.columns:\n",
    "        if data[column].dtype == float:\n",
    "            if column != 'JS_Price':\n",
    "                data[column] = (data[column] - data[column].min()) / (data[column].max() - data[column].min())\n",
    "    return data\n",
    "\n",
    "data = normalize(data)\n",
    "\n",
    "# Define X (features) and y (target variable)\n",
    "X = data.drop(columns=['JS_Price'])\n",
    "y = data['JS_Price']\n",
    "\n",
    "# Step 1: Calculate Pearson Correlation Coefficients (PCC)\n",
    "pcc_ranking = X.corrwith(y).abs().sort_values(ascending=False)\n",
    "\n",
    "# Step 2: Compute Mutual Information Scores\n",
    "mi_scores = mutual_info_regression(X, y)\n",
    "mi_ranking = pd.Series(mi_scores, index=X.columns).sort_values(ascending=False)\n",
    "\n",
    "# Step 3: Fit a Linear Regression Model\n",
    "linear_model = LinearRegression()\n",
    "linear_model.fit(X, y)\n",
    "linear_regression_coefficients = pd.Series(linear_model.coef_, index=X.columns).abs().sort_values(ascending=False)\n",
    "\n",
    "# Step 4: Train a Random Forest Model\n",
    "rf_model = RandomForestRegressor(n_estimators=1000, random_state=100)\n",
    "rf_model.fit(X, y)\n",
    "rf_feature_importances = pd.Series(rf_model.feature_importances_, index=X.columns).sort_values(ascending=False)\n",
    "\n",
    "# Normalize each ranking\n",
    "min_max_scaler = lambda x: (x - x.min()) / (x.max() - x.min())\n",
    "\n",
    "normalized_pcc = min_max_scaler(pcc_ranking)\n",
    "normalized_mi = min_max_scaler(mi_ranking)\n",
    "normalized_linear = min_max_scaler(linear_regression_coefficients)\n",
    "normalized_rf = min_max_scaler(rf_feature_importances)\n",
    "\n",
    "# Define your weights for each ranking method (you can adjust these weights)\n",
    "weight_pcc = 0.2\n",
    "weight_mi = 0.2\n",
    "weight_linear = 0.3\n",
    "weight_rf = 0.3\n",
    "\n",
    "# Combine the normalized rankings with weights\n",
    "combined_ranking = (\n",
    "    weight_pcc * normalized_pcc +\n",
    "    weight_mi * normalized_mi +\n",
    "    weight_linear * normalized_linear +\n",
    "    weight_rf * normalized_rf\n",
    ")\n",
    "\n",
    "# Create a DataFrame with the combined ranking\n",
    "combined_ranking_df = pd.DataFrame({\n",
    "    'Feature': combined_ranking.index,\n",
    "    'Combined_Ranking': combined_ranking.values\n",
    "})\n",
    "\n",
    "# Sort the features by the combined ranking\n",
    "sorted_features = combined_ranking_df.sort_values(by='Combined_Ranking', ascending=False)\n",
    "\n",
    "Ranking_APT=sorted_features\n",
    "\n",
    "Ranking_APT"
   ]
  }
 ],
 "metadata": {
  "colab": {
   "provenance": []
  },
  "kernelspec": {
   "display_name": "Python 3",
   "language": "python",
   "name": "python3"
  },
  "language_info": {
   "codemirror_mode": {
    "name": "ipython",
    "version": 3
   },
   "file_extension": ".py",
   "mimetype": "text/x-python",
   "name": "python",
   "nbconvert_exporter": "python",
   "pygments_lexer": "ipython3",
   "version": "3.7.6"
  }
 },
 "nbformat": 4,
 "nbformat_minor": 1
}
