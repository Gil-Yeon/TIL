{
 "cells": [
  {
   "cell_type": "code",
   "execution_count": 1,
   "metadata": {
    "scrolled": false
   },
   "outputs": [
    {
     "name": "stderr",
     "output_type": "stream",
     "text": [
      "\n",
      "Bad key text.latex.preview in file C:\\Users\\spa84\\anaconda3\\lib\\site-packages\\matplotlib\\mpl-data\\stylelib\\_classic_test.mplstyle, line 123 ('text.latex.preview : False')\n",
      "You probably need to get an updated matplotlibrc file from\n",
      "https://github.com/matplotlib/matplotlib/blob/v3.5.3/matplotlibrc.template\n",
      "or from the matplotlib source distribution\n",
      "\n",
      "Bad key mathtext.fallback_to_cm in file C:\\Users\\spa84\\anaconda3\\lib\\site-packages\\matplotlib\\mpl-data\\stylelib\\_classic_test.mplstyle, line 155 ('mathtext.fallback_to_cm : True  # When True, use symbols from the Computer Modern')\n",
      "You probably need to get an updated matplotlibrc file from\n",
      "https://github.com/matplotlib/matplotlib/blob/v3.5.3/matplotlibrc.template\n",
      "or from the matplotlib source distribution\n",
      "\n",
      "Bad key savefig.jpeg_quality in file C:\\Users\\spa84\\anaconda3\\lib\\site-packages\\matplotlib\\mpl-data\\stylelib\\_classic_test.mplstyle, line 418 ('savefig.jpeg_quality: 95       # when a jpeg is saved, the default quality parameter.')\n",
      "You probably need to get an updated matplotlibrc file from\n",
      "https://github.com/matplotlib/matplotlib/blob/v3.5.3/matplotlibrc.template\n",
      "or from the matplotlib source distribution\n",
      "\n",
      "Bad key keymap.all_axes in file C:\\Users\\spa84\\anaconda3\\lib\\site-packages\\matplotlib\\mpl-data\\stylelib\\_classic_test.mplstyle, line 466 ('keymap.all_axes : a                 # enable all axes')\n",
      "You probably need to get an updated matplotlibrc file from\n",
      "https://github.com/matplotlib/matplotlib/blob/v3.5.3/matplotlibrc.template\n",
      "or from the matplotlib source distribution\n",
      "\n",
      "Bad key animation.avconv_path in file C:\\Users\\spa84\\anaconda3\\lib\\site-packages\\matplotlib\\mpl-data\\stylelib\\_classic_test.mplstyle, line 477 ('animation.avconv_path: avconv     # Path to avconv binary. Without full path')\n",
      "You probably need to get an updated matplotlibrc file from\n",
      "https://github.com/matplotlib/matplotlib/blob/v3.5.3/matplotlibrc.template\n",
      "or from the matplotlib source distribution\n",
      "\n",
      "Bad key animation.avconv_args in file C:\\Users\\spa84\\anaconda3\\lib\\site-packages\\matplotlib\\mpl-data\\stylelib\\_classic_test.mplstyle, line 479 ('animation.avconv_args:            # Additional arguments to pass to avconv')\n",
      "You probably need to get an updated matplotlibrc file from\n",
      "https://github.com/matplotlib/matplotlib/blob/v3.5.3/matplotlibrc.template\n",
      "or from the matplotlib source distribution\n"
     ]
    }
   ],
   "source": [
    "import pandas as pd\n",
    "import numpy as np\n",
    "import statsmodels.api as sm\n",
    "import statsmodels.stats.api as sms\n",
    "from scipy import stats\n",
    "import matplotlib.pyplot as plt\n",
    "import plotly.express as px\n",
    "import scipy\n",
    "import seaborn as sns\n",
    "import matplotlib.font_manager as fm\n",
    "from sklearn.preprocessing import MinMaxScaler, StandardScaler\n",
    "from statsmodels.stats.outliers_influence import variance_inflation_factor\n",
    "import math\n",
    "import warnings\n",
    "import pingouin as pg"
   ]
  },
  {
   "cell_type": "code",
   "execution_count": 2,
   "metadata": {},
   "outputs": [],
   "source": [
    "warnings.simplefilter('ignore')"
   ]
  },
  {
   "cell_type": "code",
   "execution_count": 3,
   "metadata": {},
   "outputs": [],
   "source": [
    "font_path = \"C:\\\\Users\\\\spa84\\\\Downloads\\\\text_mining\\\\NanumGothic.ttf\"  # 나눔 폰트의 경로를 지정\n",
    "font_name = fm.FontProperties(fname=font_path).get_name()\n",
    "plt.rc(\"font\", family=font_name)"
   ]
  },
  {
   "cell_type": "code",
   "execution_count": 4,
   "metadata": {
    "scrolled": false
   },
   "outputs": [],
   "source": [
    "df = pd.read_csv('../data/Coordinates_Preprocessed.csv')"
   ]
  },
  {
   "cell_type": "code",
   "execution_count": 5,
   "metadata": {},
   "outputs": [],
   "source": [
    "df = df[df['Region_Name'].isin(['강남구', '서초구', '송파구'])]"
   ]
  },
  {
   "cell_type": "code",
   "execution_count": 6,
   "metadata": {
    "scrolled": true
   },
   "outputs": [
    {
     "data": {
      "text/html": [
       "<div>\n",
       "<style scoped>\n",
       "    .dataframe tbody tr th:only-of-type {\n",
       "        vertical-align: middle;\n",
       "    }\n",
       "\n",
       "    .dataframe tbody tr th {\n",
       "        vertical-align: top;\n",
       "    }\n",
       "\n",
       "    .dataframe thead th {\n",
       "        text-align: right;\n",
       "    }\n",
       "</style>\n",
       "<table border=\"1\" class=\"dataframe\">\n",
       "  <thead>\n",
       "    <tr style=\"text-align: right;\">\n",
       "      <th></th>\n",
       "      <th>Building_Age</th>\n",
       "      <th>JS_Price</th>\n",
       "      <th>JS_BA</th>\n",
       "      <th>Population</th>\n",
       "      <th>UR</th>\n",
       "      <th>LC_index</th>\n",
       "      <th>CA_index</th>\n",
       "      <th>TC_index</th>\n",
       "      <th>SDT_index</th>\n",
       "      <th>HSP_index</th>\n",
       "      <th>Sell_Price</th>\n",
       "      <th>Crime_Rates</th>\n",
       "      <th>IR</th>\n",
       "      <th>Region_Name</th>\n",
       "      <th>Building_Use</th>\n",
       "      <th>YearMonth</th>\n",
       "      <th>Shortest_Distance_to_Subway</th>\n",
       "      <th>Shortest_Distance_to_School</th>\n",
       "      <th>Shortest_Distance_to_Univ</th>\n",
       "      <th>Shortest_Distance_to_Park</th>\n",
       "    </tr>\n",
       "  </thead>\n",
       "  <tbody>\n",
       "    <tr>\n",
       "      <th>1</th>\n",
       "      <td>0</td>\n",
       "      <td>16000</td>\n",
       "      <td>17.45</td>\n",
       "      <td>662019</td>\n",
       "      <td>3.4</td>\n",
       "      <td>98.0</td>\n",
       "      <td>101.1</td>\n",
       "      <td>99.1</td>\n",
       "      <td>112.039216</td>\n",
       "      <td>131.7</td>\n",
       "      <td>18000.00</td>\n",
       "      <td>0.834577</td>\n",
       "      <td>1.25</td>\n",
       "      <td>송파구</td>\n",
       "      <td>오피스텔</td>\n",
       "      <td>201912</td>\n",
       "      <td>365.167081</td>\n",
       "      <td>428.396368</td>\n",
       "      <td>2078.432085</td>\n",
       "      <td>1250.766345</td>\n",
       "    </tr>\n",
       "    <tr>\n",
       "      <th>2</th>\n",
       "      <td>30</td>\n",
       "      <td>42000</td>\n",
       "      <td>108.47</td>\n",
       "      <td>553927</td>\n",
       "      <td>2.7</td>\n",
       "      <td>78.0</td>\n",
       "      <td>84.3</td>\n",
       "      <td>81.7</td>\n",
       "      <td>120.439963</td>\n",
       "      <td>74.7</td>\n",
       "      <td>135000.00</td>\n",
       "      <td>1.537764</td>\n",
       "      <td>2.50</td>\n",
       "      <td>강남구</td>\n",
       "      <td>아파트</td>\n",
       "      <td>201310</td>\n",
       "      <td>698.127221</td>\n",
       "      <td>334.807784</td>\n",
       "      <td>1514.222790</td>\n",
       "      <td>918.048403</td>\n",
       "    </tr>\n",
       "    <tr>\n",
       "      <th>3</th>\n",
       "      <td>4</td>\n",
       "      <td>48000</td>\n",
       "      <td>84.95</td>\n",
       "      <td>674828</td>\n",
       "      <td>2.9</td>\n",
       "      <td>72.9</td>\n",
       "      <td>80.0</td>\n",
       "      <td>77.1</td>\n",
       "      <td>114.366829</td>\n",
       "      <td>79.4</td>\n",
       "      <td>91646.15</td>\n",
       "      <td>1.145652</td>\n",
       "      <td>3.25</td>\n",
       "      <td>송파구</td>\n",
       "      <td>아파트</td>\n",
       "      <td>201110</td>\n",
       "      <td>536.947700</td>\n",
       "      <td>24.176463</td>\n",
       "      <td>3817.518298</td>\n",
       "      <td>838.633151</td>\n",
       "    </tr>\n",
       "    <tr>\n",
       "      <th>14</th>\n",
       "      <td>5</td>\n",
       "      <td>50300</td>\n",
       "      <td>84.80</td>\n",
       "      <td>662392</td>\n",
       "      <td>3.4</td>\n",
       "      <td>75.4</td>\n",
       "      <td>82.3</td>\n",
       "      <td>79.7</td>\n",
       "      <td>107.748405</td>\n",
       "      <td>72.4</td>\n",
       "      <td>82405.88</td>\n",
       "      <td>1.176692</td>\n",
       "      <td>2.75</td>\n",
       "      <td>송파구</td>\n",
       "      <td>아파트</td>\n",
       "      <td>201301</td>\n",
       "      <td>629.175924</td>\n",
       "      <td>105.578465</td>\n",
       "      <td>3314.878382</td>\n",
       "      <td>616.251192</td>\n",
       "    </tr>\n",
       "    <tr>\n",
       "      <th>17</th>\n",
       "      <td>13</td>\n",
       "      <td>195000</td>\n",
       "      <td>138.32</td>\n",
       "      <td>531575</td>\n",
       "      <td>3.4</td>\n",
       "      <td>98.0</td>\n",
       "      <td>101.1</td>\n",
       "      <td>99.1</td>\n",
       "      <td>112.039216</td>\n",
       "      <td>131.7</td>\n",
       "      <td>241911.76</td>\n",
       "      <td>1.327496</td>\n",
       "      <td>1.25</td>\n",
       "      <td>강남구</td>\n",
       "      <td>아파트</td>\n",
       "      <td>201912</td>\n",
       "      <td>720.607552</td>\n",
       "      <td>200.118684</td>\n",
       "      <td>3057.379608</td>\n",
       "      <td>605.110061</td>\n",
       "    </tr>\n",
       "    <tr>\n",
       "      <th>...</th>\n",
       "      <td>...</td>\n",
       "      <td>...</td>\n",
       "      <td>...</td>\n",
       "      <td>...</td>\n",
       "      <td>...</td>\n",
       "      <td>...</td>\n",
       "      <td>...</td>\n",
       "      <td>...</td>\n",
       "      <td>...</td>\n",
       "      <td>...</td>\n",
       "      <td>...</td>\n",
       "      <td>...</td>\n",
       "      <td>...</td>\n",
       "      <td>...</td>\n",
       "      <td>...</td>\n",
       "      <td>...</td>\n",
       "      <td>...</td>\n",
       "      <td>...</td>\n",
       "      <td>...</td>\n",
       "      <td>...</td>\n",
       "    </tr>\n",
       "    <tr>\n",
       "      <th>4981</th>\n",
       "      <td>6</td>\n",
       "      <td>92000</td>\n",
       "      <td>135.67</td>\n",
       "      <td>553927</td>\n",
       "      <td>2.7</td>\n",
       "      <td>78.0</td>\n",
       "      <td>84.3</td>\n",
       "      <td>81.7</td>\n",
       "      <td>120.439963</td>\n",
       "      <td>74.7</td>\n",
       "      <td>135575.00</td>\n",
       "      <td>1.660401</td>\n",
       "      <td>2.50</td>\n",
       "      <td>강남구</td>\n",
       "      <td>아파트</td>\n",
       "      <td>201310</td>\n",
       "      <td>798.005073</td>\n",
       "      <td>138.756646</td>\n",
       "      <td>2317.546455</td>\n",
       "      <td>1173.724210</td>\n",
       "    </tr>\n",
       "    <tr>\n",
       "      <th>4985</th>\n",
       "      <td>30</td>\n",
       "      <td>55000</td>\n",
       "      <td>74.40</td>\n",
       "      <td>549396</td>\n",
       "      <td>4.2</td>\n",
       "      <td>90.8</td>\n",
       "      <td>95.6</td>\n",
       "      <td>91.3</td>\n",
       "      <td>107.678729</td>\n",
       "      <td>92.0</td>\n",
       "      <td>162166.67</td>\n",
       "      <td>1.375987</td>\n",
       "      <td>1.25</td>\n",
       "      <td>강남구</td>\n",
       "      <td>아파트</td>\n",
       "      <td>201704</td>\n",
       "      <td>1057.934479</td>\n",
       "      <td>266.932577</td>\n",
       "      <td>1371.500794</td>\n",
       "      <td>1485.068522</td>\n",
       "    </tr>\n",
       "    <tr>\n",
       "      <th>4991</th>\n",
       "      <td>8</td>\n",
       "      <td>45000</td>\n",
       "      <td>59.40</td>\n",
       "      <td>553927</td>\n",
       "      <td>3.0</td>\n",
       "      <td>76.4</td>\n",
       "      <td>82.8</td>\n",
       "      <td>80.6</td>\n",
       "      <td>112.511457</td>\n",
       "      <td>73.9</td>\n",
       "      <td>67675.00</td>\n",
       "      <td>0.953433</td>\n",
       "      <td>2.50</td>\n",
       "      <td>강남구</td>\n",
       "      <td>아파트</td>\n",
       "      <td>201305</td>\n",
       "      <td>1056.457748</td>\n",
       "      <td>233.355088</td>\n",
       "      <td>2732.475323</td>\n",
       "      <td>914.191552</td>\n",
       "    </tr>\n",
       "    <tr>\n",
       "      <th>4995</th>\n",
       "      <td>0</td>\n",
       "      <td>133000</td>\n",
       "      <td>84.86</td>\n",
       "      <td>530126</td>\n",
       "      <td>3.4</td>\n",
       "      <td>102.6</td>\n",
       "      <td>101.3</td>\n",
       "      <td>100.8</td>\n",
       "      <td>128.819696</td>\n",
       "      <td>158.1</td>\n",
       "      <td>193333.33</td>\n",
       "      <td>1.352069</td>\n",
       "      <td>0.50</td>\n",
       "      <td>강남구</td>\n",
       "      <td>아파트</td>\n",
       "      <td>202011</td>\n",
       "      <td>1341.605321</td>\n",
       "      <td>298.254673</td>\n",
       "      <td>3567.318940</td>\n",
       "      <td>1272.216183</td>\n",
       "    </tr>\n",
       "    <tr>\n",
       "      <th>4996</th>\n",
       "      <td>10</td>\n",
       "      <td>49000</td>\n",
       "      <td>84.91</td>\n",
       "      <td>427540</td>\n",
       "      <td>3.1</td>\n",
       "      <td>74.5</td>\n",
       "      <td>81.5</td>\n",
       "      <td>78.5</td>\n",
       "      <td>102.461258</td>\n",
       "      <td>74.2</td>\n",
       "      <td>81850.00</td>\n",
       "      <td>1.221012</td>\n",
       "      <td>3.00</td>\n",
       "      <td>서초구</td>\n",
       "      <td>아파트</td>\n",
       "      <td>201207</td>\n",
       "      <td>440.715060</td>\n",
       "      <td>269.506677</td>\n",
       "      <td>1053.568719</td>\n",
       "      <td>2804.609144</td>\n",
       "    </tr>\n",
       "  </tbody>\n",
       "</table>\n",
       "<p>1150 rows × 20 columns</p>\n",
       "</div>"
      ],
      "text/plain": [
       "      Building_Age  JS_Price   JS_BA  Population   UR  LC_index  CA_index  \\\n",
       "1                0     16000   17.45      662019  3.4      98.0     101.1   \n",
       "2               30     42000  108.47      553927  2.7      78.0      84.3   \n",
       "3                4     48000   84.95      674828  2.9      72.9      80.0   \n",
       "14               5     50300   84.80      662392  3.4      75.4      82.3   \n",
       "17              13    195000  138.32      531575  3.4      98.0     101.1   \n",
       "...            ...       ...     ...         ...  ...       ...       ...   \n",
       "4981             6     92000  135.67      553927  2.7      78.0      84.3   \n",
       "4985            30     55000   74.40      549396  4.2      90.8      95.6   \n",
       "4991             8     45000   59.40      553927  3.0      76.4      82.8   \n",
       "4995             0    133000   84.86      530126  3.4     102.6     101.3   \n",
       "4996            10     49000   84.91      427540  3.1      74.5      81.5   \n",
       "\n",
       "      TC_index   SDT_index  HSP_index  Sell_Price  Crime_Rates    IR  \\\n",
       "1         99.1  112.039216      131.7    18000.00     0.834577  1.25   \n",
       "2         81.7  120.439963       74.7   135000.00     1.537764  2.50   \n",
       "3         77.1  114.366829       79.4    91646.15     1.145652  3.25   \n",
       "14        79.7  107.748405       72.4    82405.88     1.176692  2.75   \n",
       "17        99.1  112.039216      131.7   241911.76     1.327496  1.25   \n",
       "...        ...         ...        ...         ...          ...   ...   \n",
       "4981      81.7  120.439963       74.7   135575.00     1.660401  2.50   \n",
       "4985      91.3  107.678729       92.0   162166.67     1.375987  1.25   \n",
       "4991      80.6  112.511457       73.9    67675.00     0.953433  2.50   \n",
       "4995     100.8  128.819696      158.1   193333.33     1.352069  0.50   \n",
       "4996      78.5  102.461258       74.2    81850.00     1.221012  3.00   \n",
       "\n",
       "     Region_Name Building_Use  YearMonth  Shortest_Distance_to_Subway  \\\n",
       "1            송파구         오피스텔     201912                   365.167081   \n",
       "2            강남구          아파트     201310                   698.127221   \n",
       "3            송파구          아파트     201110                   536.947700   \n",
       "14           송파구          아파트     201301                   629.175924   \n",
       "17           강남구          아파트     201912                   720.607552   \n",
       "...          ...          ...        ...                          ...   \n",
       "4981         강남구          아파트     201310                   798.005073   \n",
       "4985         강남구          아파트     201704                  1057.934479   \n",
       "4991         강남구          아파트     201305                  1056.457748   \n",
       "4995         강남구          아파트     202011                  1341.605321   \n",
       "4996         서초구          아파트     201207                   440.715060   \n",
       "\n",
       "      Shortest_Distance_to_School  Shortest_Distance_to_Univ  \\\n",
       "1                      428.396368                2078.432085   \n",
       "2                      334.807784                1514.222790   \n",
       "3                       24.176463                3817.518298   \n",
       "14                     105.578465                3314.878382   \n",
       "17                     200.118684                3057.379608   \n",
       "...                           ...                        ...   \n",
       "4981                   138.756646                2317.546455   \n",
       "4985                   266.932577                1371.500794   \n",
       "4991                   233.355088                2732.475323   \n",
       "4995                   298.254673                3567.318940   \n",
       "4996                   269.506677                1053.568719   \n",
       "\n",
       "      Shortest_Distance_to_Park  \n",
       "1                   1250.766345  \n",
       "2                    918.048403  \n",
       "3                    838.633151  \n",
       "14                   616.251192  \n",
       "17                   605.110061  \n",
       "...                         ...  \n",
       "4981                1173.724210  \n",
       "4985                1485.068522  \n",
       "4991                 914.191552  \n",
       "4995                1272.216183  \n",
       "4996                2804.609144  \n",
       "\n",
       "[1150 rows x 20 columns]"
      ]
     },
     "execution_count": 6,
     "metadata": {},
     "output_type": "execute_result"
    }
   ],
   "source": [
    "df"
   ]
  },
  {
   "cell_type": "markdown",
   "metadata": {},
   "source": [
    "## Categorical:\n",
    "\n",
    "- Nominal(variables that have two or more categories, but which do not have an intrinsic order.)\n",
    "\n",
    "    - Region_Name : 자치구 명\n",
    "    - Building_Use : 건물 용도\n",
    "    \n",
    "- Ordinal(variables that have two or more categories just like nominal variables. Only the categories can also be ordered or ranked.)\n",
    "\n",
    "    \n",
    "## Numeric:\n",
    "\n",
    "- Discrete\n",
    "    - YearMonth : 년월\n",
    "    - Building_Age : 건물연식\n",
    "    - JS_Price : 전세가\n",
    "   \n",
    "- Continous\n",
    "    - Sell_Price : 매매 가격\n",
    "    - JS_BA = JS_Building Area : 임대 면적\n",
    "    - lR = Interest Rate : 금리\n",
    "    - UR = Unemployment Rate : 실업률\n",
    "    - LC_index = Leading Composite index : 선행종합 지수\n",
    "    - CA_index = Comprehensive Accompany index : 동행종합 지수\n",
    "    - TC_index = Trailing Composite index : 후행종합 지수\n",
    "    - SDT_index = Supply and Demand Trend index = 전세수급동향 지수\n",
    "    - HSP_index = \n",
    "    - Population : 인구수\n",
    "    - Crime_Rates : 범죄율\n",
    "    - Shortest_Distance_to_Subway : 가장 가까운 지하철역과의 거리\n",
    "    - Shortest_Distance_to_School : 가장 가까운 초중고등학교와의 거리\n",
    "    - Shortest_Distance_to_Univ : 가장 가까운 대학교와의 거리\n",
    "    - Shortest_Distance_to_Park : 가장 가까운 공원과의 거리\n",
    "    "
   ]
  },
  {
   "cell_type": "code",
   "execution_count": 7,
   "metadata": {
    "scrolled": true
   },
   "outputs": [
    {
     "name": "stdout",
     "output_type": "stream",
     "text": [
      "<class 'pandas.core.frame.DataFrame'>\n",
      "Int64Index: 1150 entries, 1 to 4996\n",
      "Data columns (total 20 columns):\n",
      " #   Column                       Non-Null Count  Dtype  \n",
      "---  ------                       --------------  -----  \n",
      " 0   Building_Age                 1150 non-null   int64  \n",
      " 1   JS_Price                     1150 non-null   int64  \n",
      " 2   JS_BA                        1150 non-null   float64\n",
      " 3   Population                   1150 non-null   int64  \n",
      " 4   UR                           1150 non-null   float64\n",
      " 5   LC_index                     1150 non-null   float64\n",
      " 6   CA_index                     1150 non-null   float64\n",
      " 7   TC_index                     1150 non-null   float64\n",
      " 8   SDT_index                    1150 non-null   float64\n",
      " 9   HSP_index                    1150 non-null   float64\n",
      " 10  Sell_Price                   1150 non-null   float64\n",
      " 11  Crime_Rates                  1150 non-null   float64\n",
      " 12  IR                           1150 non-null   float64\n",
      " 13  Region_Name                  1150 non-null   object \n",
      " 14  Building_Use                 1150 non-null   object \n",
      " 15  YearMonth                    1150 non-null   int64  \n",
      " 16  Shortest_Distance_to_Subway  1150 non-null   float64\n",
      " 17  Shortest_Distance_to_School  1150 non-null   float64\n",
      " 18  Shortest_Distance_to_Univ    1150 non-null   float64\n",
      " 19  Shortest_Distance_to_Park    1150 non-null   float64\n",
      "dtypes: float64(14), int64(4), object(2)\n",
      "memory usage: 188.7+ KB\n"
     ]
    }
   ],
   "source": [
    "df.info()"
   ]
  },
  {
   "cell_type": "markdown",
   "metadata": {},
   "source": [
    "## 데이터 전처리"
   ]
  },
  {
   "cell_type": "markdown",
   "metadata": {},
   "source": [
    "### 범주형 변수 인코딩"
   ]
  },
  {
   "cell_type": "code",
   "execution_count": 8,
   "metadata": {},
   "outputs": [],
   "source": [
    "def target_encoding(df, target_column):\n",
    "    # DataFrame의 복사본을 만듭니다.\n",
    "    df_encoded = df.copy()\n",
    "    \n",
    "    for column in df.columns:\n",
    "        if df[column].dtype == object and column != target_column:\n",
    "            encoding_map = df.groupby(column)[target_column].mean().to_dict()\n",
    "            df_encoded[column] = df_encoded[column].map(encoding_map)\n",
    "    \n",
    "    return df_encoded"
   ]
  },
  {
   "cell_type": "code",
   "execution_count": 9,
   "metadata": {
    "scrolled": true
   },
   "outputs": [],
   "source": [
    "df_encoded = target_encoding(df, 'JS_Price')"
   ]
  },
  {
   "cell_type": "markdown",
   "metadata": {},
   "source": [
    "### 전체 변수 스케일링"
   ]
  },
  {
   "cell_type": "code",
   "execution_count": 10,
   "metadata": {
    "scrolled": true
   },
   "outputs": [],
   "source": [
    "# StandardScaler 객체 생성\n",
    "scaler = StandardScaler()\n",
    "\n",
    "# 정규화할 열 선택 (수치형 데이터만, 원핫인코딩 열 제외)\n",
    "numeric_columns = df_encoded.select_dtypes(include=['float', 'int']).columns\n",
    "# numeric_columns = [col for col in numeric_columns if col not in columns_encoded]\n",
    "\n",
    "# 데이터 정규화 (Z-점수로)\n",
    "df_encoded[numeric_columns] = scaler.fit_transform(df_encoded[numeric_columns])"
   ]
  },
  {
   "cell_type": "markdown",
   "metadata": {},
   "source": [
    "## Regression Analysis"
   ]
  },
  {
   "cell_type": "code",
   "execution_count": 11,
   "metadata": {
    "scrolled": true
   },
   "outputs": [
    {
     "data": {
      "text/plain": [
       "Index(['Building_Age', 'JS_Price', 'JS_BA', 'Population', 'UR', 'LC_index',\n",
       "       'CA_index', 'TC_index', 'SDT_index', 'HSP_index', 'Sell_Price',\n",
       "       'Crime_Rates', 'IR', 'Region_Name', 'Building_Use', 'YearMonth',\n",
       "       'Shortest_Distance_to_Subway', 'Shortest_Distance_to_School',\n",
       "       'Shortest_Distance_to_Univ', 'Shortest_Distance_to_Park'],\n",
       "      dtype='object')"
      ]
     },
     "execution_count": 11,
     "metadata": {},
     "output_type": "execute_result"
    }
   ],
   "source": [
    "df_encoded.columns"
   ]
  },
  {
   "cell_type": "code",
   "execution_count": 12,
   "metadata": {
    "scrolled": true
   },
   "outputs": [
    {
     "name": "stdout",
     "output_type": "stream",
     "text": [
      "                            OLS Regression Results                            \n",
      "==============================================================================\n",
      "Dep. Variable:               JS_Price   R-squared:                       0.756\n",
      "Model:                            OLS   Adj. R-squared:                  0.753\n",
      "Method:                 Least Squares   F-statistic:                     219.4\n",
      "Date:                Tue, 10 Oct 2023   Prob (F-statistic):               0.00\n",
      "Time:                        17:23:31   Log-Likelihood:                -820.67\n",
      "No. Observations:                1150   AIC:                             1675.\n",
      "Df Residuals:                    1133   BIC:                             1761.\n",
      "Df Model:                          16                                         \n",
      "Covariance Type:            nonrobust                                         \n",
      "===============================================================================================\n",
      "                                  coef    std err          t      P>|t|      [0.025      0.975]\n",
      "-----------------------------------------------------------------------------------------------\n",
      "const                        1.023e-14      0.015   6.97e-13      1.000      -0.029       0.029\n",
      "HSP_index                      -0.0529      0.065     -0.817      0.414      -0.180       0.074\n",
      "JS_BA                           0.5197      0.019     27.976      0.000       0.483       0.556\n",
      "SDT_index                       0.0549      0.026      2.137      0.033       0.004       0.105\n",
      "YearMonth                      -0.2839      0.128     -2.221      0.027      -0.535      -0.033\n",
      "Region_Name                     0.5403      0.066      8.147      0.000       0.410       0.670\n",
      "LC_index                        0.2872      0.317      0.907      0.364      -0.334       0.908\n",
      "IR                             -0.0663      0.028     -2.383      0.017      -0.121      -0.012\n",
      "CA_index                        0.1566      0.203      0.770      0.441      -0.242       0.555\n",
      "Shortest_Distance_to_School    -0.0930      0.016     -5.846      0.000      -0.124      -0.062\n",
      "Shortest_Distance_to_Univ      -0.0255      0.018     -1.382      0.167      -0.062       0.011\n",
      "Sell_Price                      0.3445      0.024     14.657      0.000       0.298       0.391\n",
      "TC_index                        0.2124      0.188      1.127      0.260      -0.157       0.582\n",
      "Population                      0.5266      0.070      7.516      0.000       0.389       0.664\n",
      "Building_Age                   -0.3846      0.016    -23.946      0.000      -0.416      -0.353\n",
      "Shortest_Distance_to_Park       0.0774      0.019      4.035      0.000       0.040       0.115\n",
      "Building_Use                    0.0833      0.020      4.210      0.000       0.044       0.122\n",
      "==============================================================================\n",
      "Omnibus:                      570.145   Durbin-Watson:                   1.993\n",
      "Prob(Omnibus):                  0.000   Jarque-Bera (JB):            11398.828\n",
      "Skew:                           1.812   Prob(JB):                         0.00\n",
      "Kurtosis:                      17.992   Cond. No.                         58.6\n",
      "==============================================================================\n",
      "\n",
      "Notes:\n",
      "[1] Standard Errors assume that the covariance matrix of the errors is correctly specified.\n"
     ]
    }
   ],
   "source": [
    "selected_features = ['HSP_index',\n",
    " 'JS_BA',\n",
    " 'SDT_index',\n",
    " 'YearMonth',\n",
    " 'Region_Name',\n",
    " 'LC_index',\n",
    " 'IR',\n",
    " 'CA_index',\n",
    " 'Shortest_Distance_to_School',\n",
    " 'Shortest_Distance_to_Univ',\n",
    " 'Sell_Price',\n",
    " 'TC_index',\n",
    " 'Population',\n",
    " 'Building_Age',\n",
    " 'Shortest_Distance_to_Park',\n",
    " 'Building_Use']\n",
    "\n",
    "# X 데이터 선택\n",
    "X = df_encoded[selected_features]\n",
    "\n",
    "# 상수항 추가\n",
    "X = sm.add_constant(X)\n",
    "\n",
    "# 종속 변수 선택\n",
    "Y = df_encoded['JS_Price']\n",
    "\n",
    "# 회귀 모델 생성\n",
    "model = sm.OLS(Y, X).fit()\n",
    "\n",
    "# 결과 요약 출력\n",
    "print(model.summary())"
   ]
  },
  {
   "cell_type": "markdown",
   "metadata": {},
   "source": [
    "## 변수선택법\n",
    "- 다중공선성과 회귀계수의 통계적 유의성 고려하여 진행"
   ]
  },
  {
   "cell_type": "markdown",
   "metadata": {},
   "source": [
    "### VIF"
   ]
  },
  {
   "cell_type": "code",
   "execution_count": 13,
   "metadata": {
    "scrolled": true
   },
   "outputs": [],
   "source": [
    "# X 데이터에서 상수항 제거 (VIF 계산에서 상수항은 제외해야 함)\n",
    "X_without_constant = X.drop('const', axis=1)\n",
    "\n",
    "# VIF 계산\n",
    "vif = pd.DataFrame()\n",
    "vif[\"Features\"] = X_without_constant.columns\n",
    "vif[\"VIF\"] = [variance_inflation_factor(X_without_constant.values, i) for i in range(X_without_constant.shape[1])]"
   ]
  },
  {
   "cell_type": "code",
   "execution_count": 14,
   "metadata": {
    "scrolled": false
   },
   "outputs": [
    {
     "data": {
      "text/html": [
       "<div>\n",
       "<style scoped>\n",
       "    .dataframe tbody tr th:only-of-type {\n",
       "        vertical-align: middle;\n",
       "    }\n",
       "\n",
       "    .dataframe tbody tr th {\n",
       "        vertical-align: top;\n",
       "    }\n",
       "\n",
       "    .dataframe thead th {\n",
       "        text-align: right;\n",
       "    }\n",
       "</style>\n",
       "<table border=\"1\" class=\"dataframe\">\n",
       "  <thead>\n",
       "    <tr style=\"text-align: right;\">\n",
       "      <th></th>\n",
       "      <th>Features</th>\n",
       "      <th>VIF</th>\n",
       "    </tr>\n",
       "  </thead>\n",
       "  <tbody>\n",
       "    <tr>\n",
       "      <th>5</th>\n",
       "      <td>LC_index</td>\n",
       "      <td>465.220066</td>\n",
       "    </tr>\n",
       "    <tr>\n",
       "      <th>7</th>\n",
       "      <td>CA_index</td>\n",
       "      <td>191.891748</td>\n",
       "    </tr>\n",
       "    <tr>\n",
       "      <th>11</th>\n",
       "      <td>TC_index</td>\n",
       "      <td>164.972142</td>\n",
       "    </tr>\n",
       "    <tr>\n",
       "      <th>3</th>\n",
       "      <td>YearMonth</td>\n",
       "      <td>75.887262</td>\n",
       "    </tr>\n",
       "    <tr>\n",
       "      <th>12</th>\n",
       "      <td>Population</td>\n",
       "      <td>22.792959</td>\n",
       "    </tr>\n",
       "    <tr>\n",
       "      <th>4</th>\n",
       "      <td>Region_Name</td>\n",
       "      <td>20.426713</td>\n",
       "    </tr>\n",
       "    <tr>\n",
       "      <th>0</th>\n",
       "      <td>HSP_index</td>\n",
       "      <td>19.478161</td>\n",
       "    </tr>\n",
       "    <tr>\n",
       "      <th>6</th>\n",
       "      <td>IR</td>\n",
       "      <td>3.595739</td>\n",
       "    </tr>\n",
       "    <tr>\n",
       "      <th>2</th>\n",
       "      <td>SDT_index</td>\n",
       "      <td>3.059880</td>\n",
       "    </tr>\n",
       "    <tr>\n",
       "      <th>10</th>\n",
       "      <td>Sell_Price</td>\n",
       "      <td>2.565727</td>\n",
       "    </tr>\n",
       "    <tr>\n",
       "      <th>15</th>\n",
       "      <td>Building_Use</td>\n",
       "      <td>1.816182</td>\n",
       "    </tr>\n",
       "    <tr>\n",
       "      <th>14</th>\n",
       "      <td>Shortest_Distance_to_Park</td>\n",
       "      <td>1.707840</td>\n",
       "    </tr>\n",
       "    <tr>\n",
       "      <th>1</th>\n",
       "      <td>JS_BA</td>\n",
       "      <td>1.602186</td>\n",
       "    </tr>\n",
       "    <tr>\n",
       "      <th>9</th>\n",
       "      <td>Shortest_Distance_to_Univ</td>\n",
       "      <td>1.582112</td>\n",
       "    </tr>\n",
       "    <tr>\n",
       "      <th>13</th>\n",
       "      <td>Building_Age</td>\n",
       "      <td>1.197608</td>\n",
       "    </tr>\n",
       "    <tr>\n",
       "      <th>8</th>\n",
       "      <td>Shortest_Distance_to_School</td>\n",
       "      <td>1.175164</td>\n",
       "    </tr>\n",
       "  </tbody>\n",
       "</table>\n",
       "</div>"
      ],
      "text/plain": [
       "                       Features         VIF\n",
       "5                      LC_index  465.220066\n",
       "7                      CA_index  191.891748\n",
       "11                     TC_index  164.972142\n",
       "3                     YearMonth   75.887262\n",
       "12                   Population   22.792959\n",
       "4                   Region_Name   20.426713\n",
       "0                     HSP_index   19.478161\n",
       "6                            IR    3.595739\n",
       "2                     SDT_index    3.059880\n",
       "10                   Sell_Price    2.565727\n",
       "15                 Building_Use    1.816182\n",
       "14    Shortest_Distance_to_Park    1.707840\n",
       "1                         JS_BA    1.602186\n",
       "9     Shortest_Distance_to_Univ    1.582112\n",
       "13                 Building_Age    1.197608\n",
       "8   Shortest_Distance_to_School    1.175164"
      ]
     },
     "execution_count": 14,
     "metadata": {},
     "output_type": "execute_result"
    }
   ],
   "source": [
    "vif.sort_values('VIF', ascending = False)"
   ]
  },
  {
   "cell_type": "code",
   "execution_count": 15,
   "metadata": {},
   "outputs": [
    {
     "data": {
      "text/html": [
       "<div>\n",
       "<style scoped>\n",
       "    .dataframe tbody tr th:only-of-type {\n",
       "        vertical-align: middle;\n",
       "    }\n",
       "\n",
       "    .dataframe tbody tr th {\n",
       "        vertical-align: top;\n",
       "    }\n",
       "\n",
       "    .dataframe thead th {\n",
       "        text-align: right;\n",
       "    }\n",
       "</style>\n",
       "<table border=\"1\" class=\"dataframe\">\n",
       "  <thead>\n",
       "    <tr style=\"text-align: right;\">\n",
       "      <th></th>\n",
       "      <th>0</th>\n",
       "      <th>1</th>\n",
       "      <th>2</th>\n",
       "      <th>3</th>\n",
       "      <th>4</th>\n",
       "      <th>5</th>\n",
       "      <th>6</th>\n",
       "    </tr>\n",
       "  </thead>\n",
       "  <tbody>\n",
       "    <tr>\n",
       "      <th>0</th>\n",
       "      <td></td>\n",
       "      <td>coef</td>\n",
       "      <td>std err</td>\n",
       "      <td>t</td>\n",
       "      <td>P&gt;|t|</td>\n",
       "      <td>[0.025</td>\n",
       "      <td>0.975]</td>\n",
       "    </tr>\n",
       "    <tr>\n",
       "      <th>1</th>\n",
       "      <td>const</td>\n",
       "      <td>1.023e-14</td>\n",
       "      <td>0.015</td>\n",
       "      <td>6.97e-13</td>\n",
       "      <td>1.000</td>\n",
       "      <td>-0.029</td>\n",
       "      <td>0.029</td>\n",
       "    </tr>\n",
       "    <tr>\n",
       "      <th>2</th>\n",
       "      <td>HSP_index</td>\n",
       "      <td>-0.0529</td>\n",
       "      <td>0.065</td>\n",
       "      <td>-0.817</td>\n",
       "      <td>0.414</td>\n",
       "      <td>-0.180</td>\n",
       "      <td>0.074</td>\n",
       "    </tr>\n",
       "    <tr>\n",
       "      <th>3</th>\n",
       "      <td>JS_BA</td>\n",
       "      <td>0.5197</td>\n",
       "      <td>0.019</td>\n",
       "      <td>27.976</td>\n",
       "      <td>0.000</td>\n",
       "      <td>0.483</td>\n",
       "      <td>0.556</td>\n",
       "    </tr>\n",
       "    <tr>\n",
       "      <th>4</th>\n",
       "      <td>SDT_index</td>\n",
       "      <td>0.0549</td>\n",
       "      <td>0.026</td>\n",
       "      <td>2.137</td>\n",
       "      <td>0.033</td>\n",
       "      <td>0.004</td>\n",
       "      <td>0.105</td>\n",
       "    </tr>\n",
       "    <tr>\n",
       "      <th>5</th>\n",
       "      <td>YearMonth</td>\n",
       "      <td>-0.2839</td>\n",
       "      <td>0.128</td>\n",
       "      <td>-2.221</td>\n",
       "      <td>0.027</td>\n",
       "      <td>-0.535</td>\n",
       "      <td>-0.033</td>\n",
       "    </tr>\n",
       "    <tr>\n",
       "      <th>6</th>\n",
       "      <td>Region_Name</td>\n",
       "      <td>0.5403</td>\n",
       "      <td>0.066</td>\n",
       "      <td>8.147</td>\n",
       "      <td>0.000</td>\n",
       "      <td>0.410</td>\n",
       "      <td>0.670</td>\n",
       "    </tr>\n",
       "    <tr>\n",
       "      <th>7</th>\n",
       "      <td>LC_index</td>\n",
       "      <td>0.2872</td>\n",
       "      <td>0.317</td>\n",
       "      <td>0.907</td>\n",
       "      <td>0.364</td>\n",
       "      <td>-0.334</td>\n",
       "      <td>0.908</td>\n",
       "    </tr>\n",
       "    <tr>\n",
       "      <th>8</th>\n",
       "      <td>IR</td>\n",
       "      <td>-0.0663</td>\n",
       "      <td>0.028</td>\n",
       "      <td>-2.383</td>\n",
       "      <td>0.017</td>\n",
       "      <td>-0.121</td>\n",
       "      <td>-0.012</td>\n",
       "    </tr>\n",
       "    <tr>\n",
       "      <th>9</th>\n",
       "      <td>CA_index</td>\n",
       "      <td>0.1566</td>\n",
       "      <td>0.203</td>\n",
       "      <td>0.770</td>\n",
       "      <td>0.441</td>\n",
       "      <td>-0.242</td>\n",
       "      <td>0.555</td>\n",
       "    </tr>\n",
       "    <tr>\n",
       "      <th>10</th>\n",
       "      <td>Shortest_Distance_to_School</td>\n",
       "      <td>-0.0930</td>\n",
       "      <td>0.016</td>\n",
       "      <td>-5.846</td>\n",
       "      <td>0.000</td>\n",
       "      <td>-0.124</td>\n",
       "      <td>-0.062</td>\n",
       "    </tr>\n",
       "    <tr>\n",
       "      <th>11</th>\n",
       "      <td>Shortest_Distance_to_Univ</td>\n",
       "      <td>-0.0255</td>\n",
       "      <td>0.018</td>\n",
       "      <td>-1.382</td>\n",
       "      <td>0.167</td>\n",
       "      <td>-0.062</td>\n",
       "      <td>0.011</td>\n",
       "    </tr>\n",
       "    <tr>\n",
       "      <th>12</th>\n",
       "      <td>Sell_Price</td>\n",
       "      <td>0.3445</td>\n",
       "      <td>0.024</td>\n",
       "      <td>14.657</td>\n",
       "      <td>0.000</td>\n",
       "      <td>0.298</td>\n",
       "      <td>0.391</td>\n",
       "    </tr>\n",
       "    <tr>\n",
       "      <th>13</th>\n",
       "      <td>TC_index</td>\n",
       "      <td>0.2124</td>\n",
       "      <td>0.188</td>\n",
       "      <td>1.127</td>\n",
       "      <td>0.260</td>\n",
       "      <td>-0.157</td>\n",
       "      <td>0.582</td>\n",
       "    </tr>\n",
       "    <tr>\n",
       "      <th>14</th>\n",
       "      <td>Population</td>\n",
       "      <td>0.5266</td>\n",
       "      <td>0.070</td>\n",
       "      <td>7.516</td>\n",
       "      <td>0.000</td>\n",
       "      <td>0.389</td>\n",
       "      <td>0.664</td>\n",
       "    </tr>\n",
       "    <tr>\n",
       "      <th>15</th>\n",
       "      <td>Building_Age</td>\n",
       "      <td>-0.3846</td>\n",
       "      <td>0.016</td>\n",
       "      <td>-23.946</td>\n",
       "      <td>0.000</td>\n",
       "      <td>-0.416</td>\n",
       "      <td>-0.353</td>\n",
       "    </tr>\n",
       "    <tr>\n",
       "      <th>16</th>\n",
       "      <td>Shortest_Distance_to_Park</td>\n",
       "      <td>0.0774</td>\n",
       "      <td>0.019</td>\n",
       "      <td>4.035</td>\n",
       "      <td>0.000</td>\n",
       "      <td>0.040</td>\n",
       "      <td>0.115</td>\n",
       "    </tr>\n",
       "    <tr>\n",
       "      <th>17</th>\n",
       "      <td>Building_Use</td>\n",
       "      <td>0.0833</td>\n",
       "      <td>0.020</td>\n",
       "      <td>4.210</td>\n",
       "      <td>0.000</td>\n",
       "      <td>0.044</td>\n",
       "      <td>0.122</td>\n",
       "    </tr>\n",
       "  </tbody>\n",
       "</table>\n",
       "</div>"
      ],
      "text/plain": [
       "                              0           1          2          3       4  \\\n",
       "0                                      coef    std err          t   P>|t|   \n",
       "1                         const   1.023e-14      0.015   6.97e-13   1.000   \n",
       "2                     HSP_index     -0.0529      0.065     -0.817   0.414   \n",
       "3                         JS_BA      0.5197      0.019     27.976   0.000   \n",
       "4                     SDT_index      0.0549      0.026      2.137   0.033   \n",
       "5                     YearMonth     -0.2839      0.128     -2.221   0.027   \n",
       "6                   Region_Name      0.5403      0.066      8.147   0.000   \n",
       "7                      LC_index      0.2872      0.317      0.907   0.364   \n",
       "8                            IR     -0.0663      0.028     -2.383   0.017   \n",
       "9                      CA_index      0.1566      0.203      0.770   0.441   \n",
       "10  Shortest_Distance_to_School     -0.0930      0.016     -5.846   0.000   \n",
       "11    Shortest_Distance_to_Univ     -0.0255      0.018     -1.382   0.167   \n",
       "12                   Sell_Price      0.3445      0.024     14.657   0.000   \n",
       "13                     TC_index      0.2124      0.188      1.127   0.260   \n",
       "14                   Population      0.5266      0.070      7.516   0.000   \n",
       "15                 Building_Age     -0.3846      0.016    -23.946   0.000   \n",
       "16    Shortest_Distance_to_Park      0.0774      0.019      4.035   0.000   \n",
       "17                 Building_Use      0.0833      0.020      4.210   0.000   \n",
       "\n",
       "            5          6  \n",
       "0      [0.025     0.975]  \n",
       "1      -0.029      0.029  \n",
       "2      -0.180      0.074  \n",
       "3       0.483      0.556  \n",
       "4       0.004      0.105  \n",
       "5      -0.535     -0.033  \n",
       "6       0.410      0.670  \n",
       "7      -0.334      0.908  \n",
       "8      -0.121     -0.012  \n",
       "9      -0.242      0.555  \n",
       "10     -0.124     -0.062  \n",
       "11     -0.062      0.011  \n",
       "12      0.298      0.391  \n",
       "13     -0.157      0.582  \n",
       "14      0.389      0.664  \n",
       "15     -0.416     -0.353  \n",
       "16      0.040      0.115  \n",
       "17      0.044      0.122  "
      ]
     },
     "execution_count": 15,
     "metadata": {},
     "output_type": "execute_result"
    }
   ],
   "source": [
    "model = pd.DataFrame(model.summary().tables[1])\n",
    "model"
   ]
  },
  {
   "cell_type": "code",
   "execution_count": 16,
   "metadata": {},
   "outputs": [
    {
     "data": {
      "text/plain": [
       "['HSP_index',\n",
       " 'YearMonth',\n",
       " 'Region_Name',\n",
       " 'LC_index',\n",
       " 'CA_index',\n",
       " 'TC_index',\n",
       " 'Population']"
      ]
     },
     "execution_count": 16,
     "metadata": {},
     "output_type": "execute_result"
    }
   ],
   "source": [
    "delete_columns = []\n",
    "for i in range(2, len(model.index)):\n",
    "    if vif['VIF'].iloc[i-2] > 5:\n",
    "        delete_columns.append(model.iloc[i, 0].data)\n",
    "delete_columns"
   ]
  },
  {
   "cell_type": "code",
   "execution_count": 17,
   "metadata": {
    "scrolled": false
   },
   "outputs": [
    {
     "data": {
      "text/plain": [
       "['Building_Age',\n",
       " 'Shortest_Distance_to_Univ',\n",
       " 'IR',\n",
       " 'Shortest_Distance_to_School',\n",
       " 'SDT_index',\n",
       " 'Sell_Price',\n",
       " 'JS_BA',\n",
       " 'Building_Use',\n",
       " 'Shortest_Distance_to_Park']"
      ]
     },
     "execution_count": 17,
     "metadata": {},
     "output_type": "execute_result"
    }
   ],
   "source": [
    "selected_features = list(set(selected_features) - set(delete_columns))\n",
    "selected_features"
   ]
  },
  {
   "cell_type": "markdown",
   "metadata": {},
   "source": [
    "### 회귀계수의 P-VALUE"
   ]
  },
  {
   "cell_type": "code",
   "execution_count": 18,
   "metadata": {
    "scrolled": false
   },
   "outputs": [
    {
     "name": "stdout",
     "output_type": "stream",
     "text": [
      "                            OLS Regression Results                            \n",
      "==============================================================================\n",
      "Dep. Variable:               JS_Price   R-squared:                       0.718\n",
      "Model:                            OLS   Adj. R-squared:                  0.715\n",
      "Method:                 Least Squares   F-statistic:                     321.9\n",
      "Date:                Tue, 10 Oct 2023   Prob (F-statistic):          1.09e-305\n",
      "Time:                        17:23:31   Log-Likelihood:                -904.64\n",
      "No. Observations:                1150   AIC:                             1829.\n",
      "Df Residuals:                    1140   BIC:                             1880.\n",
      "Df Model:                           9                                         \n",
      "Covariance Type:            nonrobust                                         \n",
      "===============================================================================================\n",
      "                                  coef    std err          t      P>|t|      [0.025      0.975]\n",
      "-----------------------------------------------------------------------------------------------\n",
      "const                       -4.836e-17      0.016  -3.07e-15      1.000      -0.031       0.031\n",
      "Building_Age                   -0.3524      0.017    -20.863      0.000      -0.386      -0.319\n",
      "Shortest_Distance_to_Univ       0.0234      0.018      1.280      0.201      -0.012       0.059\n",
      "IR                             -0.1692      0.017     -9.882      0.000      -0.203      -0.136\n",
      "Shortest_Distance_to_School    -0.0702      0.017     -4.239      0.000      -0.103      -0.038\n",
      "SDT_index                      -0.0890      0.017     -5.172      0.000      -0.123      -0.055\n",
      "Sell_Price                      0.4711      0.020     23.377      0.000       0.432       0.511\n",
      "JS_BA                           0.4788      0.019     25.014      0.000       0.441       0.516\n",
      "Building_Use                    0.0140      0.020      0.711      0.477      -0.025       0.053\n",
      "Shortest_Distance_to_Park       0.0412      0.018      2.288      0.022       0.006       0.076\n",
      "==============================================================================\n",
      "Omnibus:                      470.039   Durbin-Watson:                   1.989\n",
      "Prob(Omnibus):                  0.000   Jarque-Bera (JB):             6904.420\n",
      "Skew:                           1.478   Prob(JB):                         0.00\n",
      "Kurtosis:                      14.634   Cond. No.                         2.42\n",
      "==============================================================================\n",
      "\n",
      "Notes:\n",
      "[1] Standard Errors assume that the covariance matrix of the errors is correctly specified.\n"
     ]
    }
   ],
   "source": [
    "# X 데이터 선택\n",
    "X = df_encoded[selected_features]\n",
    "\n",
    "# 상수항 추가\n",
    "X = sm.add_constant(X)\n",
    "\n",
    "# 종속 변수 선택\n",
    "Y = df_encoded['JS_Price']\n",
    "\n",
    "# 회귀 모델 생성\n",
    "model = sm.OLS(Y, X).fit()\n",
    "\n",
    "# 결과 요약 출력\n",
    "print(model.summary())"
   ]
  },
  {
   "cell_type": "code",
   "execution_count": 19,
   "metadata": {},
   "outputs": [
    {
     "data": {
      "text/html": [
       "<div>\n",
       "<style scoped>\n",
       "    .dataframe tbody tr th:only-of-type {\n",
       "        vertical-align: middle;\n",
       "    }\n",
       "\n",
       "    .dataframe tbody tr th {\n",
       "        vertical-align: top;\n",
       "    }\n",
       "\n",
       "    .dataframe thead th {\n",
       "        text-align: right;\n",
       "    }\n",
       "</style>\n",
       "<table border=\"1\" class=\"dataframe\">\n",
       "  <thead>\n",
       "    <tr style=\"text-align: right;\">\n",
       "      <th></th>\n",
       "      <th>0</th>\n",
       "      <th>1</th>\n",
       "      <th>2</th>\n",
       "      <th>3</th>\n",
       "      <th>4</th>\n",
       "      <th>5</th>\n",
       "      <th>6</th>\n",
       "    </tr>\n",
       "  </thead>\n",
       "  <tbody>\n",
       "    <tr>\n",
       "      <th>0</th>\n",
       "      <td></td>\n",
       "      <td>coef</td>\n",
       "      <td>std err</td>\n",
       "      <td>t</td>\n",
       "      <td>P&gt;|t|</td>\n",
       "      <td>[0.025</td>\n",
       "      <td>0.975]</td>\n",
       "    </tr>\n",
       "    <tr>\n",
       "      <th>1</th>\n",
       "      <td>const</td>\n",
       "      <td>-4.836e-17</td>\n",
       "      <td>0.016</td>\n",
       "      <td>-3.07e-15</td>\n",
       "      <td>1.000</td>\n",
       "      <td>-0.031</td>\n",
       "      <td>0.031</td>\n",
       "    </tr>\n",
       "    <tr>\n",
       "      <th>2</th>\n",
       "      <td>Building_Age</td>\n",
       "      <td>-0.3524</td>\n",
       "      <td>0.017</td>\n",
       "      <td>-20.863</td>\n",
       "      <td>0.000</td>\n",
       "      <td>-0.386</td>\n",
       "      <td>-0.319</td>\n",
       "    </tr>\n",
       "    <tr>\n",
       "      <th>3</th>\n",
       "      <td>Shortest_Distance_to_Univ</td>\n",
       "      <td>0.0234</td>\n",
       "      <td>0.018</td>\n",
       "      <td>1.280</td>\n",
       "      <td>0.201</td>\n",
       "      <td>-0.012</td>\n",
       "      <td>0.059</td>\n",
       "    </tr>\n",
       "    <tr>\n",
       "      <th>4</th>\n",
       "      <td>IR</td>\n",
       "      <td>-0.1692</td>\n",
       "      <td>0.017</td>\n",
       "      <td>-9.882</td>\n",
       "      <td>0.000</td>\n",
       "      <td>-0.203</td>\n",
       "      <td>-0.136</td>\n",
       "    </tr>\n",
       "    <tr>\n",
       "      <th>5</th>\n",
       "      <td>Shortest_Distance_to_School</td>\n",
       "      <td>-0.0702</td>\n",
       "      <td>0.017</td>\n",
       "      <td>-4.239</td>\n",
       "      <td>0.000</td>\n",
       "      <td>-0.103</td>\n",
       "      <td>-0.038</td>\n",
       "    </tr>\n",
       "    <tr>\n",
       "      <th>6</th>\n",
       "      <td>SDT_index</td>\n",
       "      <td>-0.0890</td>\n",
       "      <td>0.017</td>\n",
       "      <td>-5.172</td>\n",
       "      <td>0.000</td>\n",
       "      <td>-0.123</td>\n",
       "      <td>-0.055</td>\n",
       "    </tr>\n",
       "    <tr>\n",
       "      <th>7</th>\n",
       "      <td>Sell_Price</td>\n",
       "      <td>0.4711</td>\n",
       "      <td>0.020</td>\n",
       "      <td>23.377</td>\n",
       "      <td>0.000</td>\n",
       "      <td>0.432</td>\n",
       "      <td>0.511</td>\n",
       "    </tr>\n",
       "    <tr>\n",
       "      <th>8</th>\n",
       "      <td>JS_BA</td>\n",
       "      <td>0.4788</td>\n",
       "      <td>0.019</td>\n",
       "      <td>25.014</td>\n",
       "      <td>0.000</td>\n",
       "      <td>0.441</td>\n",
       "      <td>0.516</td>\n",
       "    </tr>\n",
       "    <tr>\n",
       "      <th>9</th>\n",
       "      <td>Building_Use</td>\n",
       "      <td>0.0140</td>\n",
       "      <td>0.020</td>\n",
       "      <td>0.711</td>\n",
       "      <td>0.477</td>\n",
       "      <td>-0.025</td>\n",
       "      <td>0.053</td>\n",
       "    </tr>\n",
       "    <tr>\n",
       "      <th>10</th>\n",
       "      <td>Shortest_Distance_to_Park</td>\n",
       "      <td>0.0412</td>\n",
       "      <td>0.018</td>\n",
       "      <td>2.288</td>\n",
       "      <td>0.022</td>\n",
       "      <td>0.006</td>\n",
       "      <td>0.076</td>\n",
       "    </tr>\n",
       "  </tbody>\n",
       "</table>\n",
       "</div>"
      ],
      "text/plain": [
       "                              0           1          2          3       4  \\\n",
       "0                                      coef    std err          t   P>|t|   \n",
       "1                         const  -4.836e-17      0.016  -3.07e-15   1.000   \n",
       "2                  Building_Age     -0.3524      0.017    -20.863   0.000   \n",
       "3     Shortest_Distance_to_Univ      0.0234      0.018      1.280   0.201   \n",
       "4                            IR     -0.1692      0.017     -9.882   0.000   \n",
       "5   Shortest_Distance_to_School     -0.0702      0.017     -4.239   0.000   \n",
       "6                     SDT_index     -0.0890      0.017     -5.172   0.000   \n",
       "7                    Sell_Price      0.4711      0.020     23.377   0.000   \n",
       "8                         JS_BA      0.4788      0.019     25.014   0.000   \n",
       "9                  Building_Use      0.0140      0.020      0.711   0.477   \n",
       "10    Shortest_Distance_to_Park      0.0412      0.018      2.288   0.022   \n",
       "\n",
       "            5          6  \n",
       "0      [0.025     0.975]  \n",
       "1      -0.031      0.031  \n",
       "2      -0.386     -0.319  \n",
       "3      -0.012      0.059  \n",
       "4      -0.203     -0.136  \n",
       "5      -0.103     -0.038  \n",
       "6      -0.123     -0.055  \n",
       "7       0.432      0.511  \n",
       "8       0.441      0.516  \n",
       "9      -0.025      0.053  \n",
       "10      0.006      0.076  "
      ]
     },
     "execution_count": 19,
     "metadata": {},
     "output_type": "execute_result"
    }
   ],
   "source": [
    "model = pd.DataFrame(model.summary().tables[1])\n",
    "model"
   ]
  },
  {
   "cell_type": "code",
   "execution_count": 20,
   "metadata": {
    "scrolled": true
   },
   "outputs": [
    {
     "data": {
      "text/plain": [
       "['Shortest_Distance_to_Univ', 'Building_Use', 'Shortest_Distance_to_Park']"
      ]
     },
     "execution_count": 20,
     "metadata": {},
     "output_type": "execute_result"
    }
   ],
   "source": [
    "delete_columns = []\n",
    "for i in range(2, len(model.index)):\n",
    "    if float(model.iloc[i, 4].data) > 0.01:\n",
    "        delete_columns.append(model.iloc[i, 0].data)\n",
    "delete_columns"
   ]
  },
  {
   "cell_type": "code",
   "execution_count": 21,
   "metadata": {},
   "outputs": [
    {
     "data": {
      "text/plain": [
       "['Building_Age',\n",
       " 'IR',\n",
       " 'Shortest_Distance_to_School',\n",
       " 'SDT_index',\n",
       " 'Sell_Price',\n",
       " 'JS_BA']"
      ]
     },
     "execution_count": 21,
     "metadata": {},
     "output_type": "execute_result"
    }
   ],
   "source": [
    "selected_features = list(set(selected_features) - set(delete_columns))\n",
    "selected_features"
   ]
  },
  {
   "cell_type": "code",
   "execution_count": 22,
   "metadata": {},
   "outputs": [
    {
     "name": "stdout",
     "output_type": "stream",
     "text": [
      "                            OLS Regression Results                            \n",
      "==============================================================================\n",
      "Dep. Variable:               JS_Price   R-squared:                       0.716\n",
      "Model:                            OLS   Adj. R-squared:                  0.715\n",
      "Method:                 Least Squares   F-statistic:                     480.6\n",
      "Date:                Tue, 10 Oct 2023   Prob (F-statistic):          2.32e-308\n",
      "Time:                        17:23:31   Log-Likelihood:                -907.67\n",
      "No. Observations:                1150   AIC:                             1829.\n",
      "Df Residuals:                    1143   BIC:                             1865.\n",
      "Df Model:                           6                                         \n",
      "Covariance Type:            nonrobust                                         \n",
      "===============================================================================================\n",
      "                                  coef    std err          t      P>|t|      [0.025      0.975]\n",
      "-----------------------------------------------------------------------------------------------\n",
      "const                       -4.836e-17      0.016  -3.07e-15      1.000      -0.031       0.031\n",
      "Building_Age                   -0.3492      0.016    -21.286      0.000      -0.381      -0.317\n",
      "IR                             -0.1672      0.017     -9.961      0.000      -0.200      -0.134\n",
      "Shortest_Distance_to_School    -0.0672      0.016     -4.139      0.000      -0.099      -0.035\n",
      "SDT_index                      -0.0862      0.017     -5.094      0.000      -0.119      -0.053\n",
      "Sell_Price                      0.4812      0.019     24.932      0.000       0.443       0.519\n",
      "JS_BA                           0.4811      0.018     26.543      0.000       0.446       0.517\n",
      "==============================================================================\n",
      "Omnibus:                      461.168   Durbin-Watson:                   1.989\n",
      "Prob(Omnibus):                  0.000   Jarque-Bera (JB):             6696.474\n",
      "Skew:                           1.444   Prob(JB):                         0.00\n",
      "Kurtosis:                      14.463   Cond. No.                         2.04\n",
      "==============================================================================\n",
      "\n",
      "Notes:\n",
      "[1] Standard Errors assume that the covariance matrix of the errors is correctly specified.\n"
     ]
    }
   ],
   "source": [
    "# X 데이터 선택\n",
    "X = df_encoded[selected_features]\n",
    "\n",
    "# 상수항 추가\n",
    "X = sm.add_constant(X)\n",
    "\n",
    "# 종속 변수 선택\n",
    "Y = df_encoded['JS_Price']\n",
    "\n",
    "# 회귀 모델 생성\n",
    "model = sm.OLS(Y, X).fit()\n",
    "\n",
    "# 결과 요약 출력\n",
    "print(model.summary())"
   ]
  },
  {
   "cell_type": "markdown",
   "metadata": {},
   "source": [
    "- 모든 변수가 통계적으로 유의한 것을 확인할 수 있다."
   ]
  },
  {
   "cell_type": "markdown",
   "metadata": {},
   "source": [
    "## 모델가정 확인"
   ]
  },
  {
   "cell_type": "markdown",
   "metadata": {},
   "source": [
    "### 선형성\n",
    "- 선형성은 계수의 유의성 검정과 다중공선성을 고려하여 변수를 걸러냄으로써 어느 정도 만족하는 것으로 보인다."
   ]
  },
  {
   "cell_type": "code",
   "execution_count": 23,
   "metadata": {
    "scrolled": false
   },
   "outputs": [
    {
     "data": {
      "text/plain": [
       "[<matplotlib.lines.Line2D at 0x1a121304fc8>]"
      ]
     },
     "execution_count": 23,
     "metadata": {},
     "output_type": "execute_result"
    },
    {
     "data": {
      "image/png": "[encoded data removed]",
      "text/plain": [
       "<Figure size 432x288 with 1 Axes>"
      ]
     },
     "metadata": {
      "needs_background": "light"
     },
     "output_type": "display_data"
    }
   ],
   "source": [
    "fitted = model.predict(X)\n",
    "residual = df_encoded['JS_Price'] - fitted\n",
    "\n",
    "sns.regplot(x=fitted, y=residual, lowess=True, line_kws={'color':'red'})\n",
    "\n",
    "plt.plot([fitted.min(), fitted.max()], [0, 0], '--', color='grey')"
   ]
  },
  {
   "cell_type": "markdown",
   "metadata": {},
   "source": [
    "### 정규성"
   ]
  },
  {
   "cell_type": "code",
   "execution_count": 24,
   "metadata": {
    "scrolled": false
   },
   "outputs": [
    {
     "data": {
      "text/plain": [
       "ShapiroResult(statistic=0.865218997001648, pvalue=2.586994677289675e-30)"
      ]
     },
     "execution_count": 24,
     "metadata": {},
     "output_type": "execute_result"
    },
    {
     "data": {
      "image/png": "[encoded data removed]",
      "text/plain": [
       "<Figure size 432x288 with 1 Axes>"
      ]
     },
     "metadata": {
      "needs_background": "light"
     },
     "output_type": "display_data"
    }
   ],
   "source": [
    "fitted = model.predict(X)\n",
    "residual = df_encoded['JS_Price'] - fitted\n",
    "sr = scipy.stats.zscore(residual)\n",
    "(x, y), _ = scipy.stats.probplot(sr)\n",
    "\n",
    "# Scatterplot 그리기\n",
    "sns.scatterplot(x=x, y=y)\n",
    "plt.plot([-3, 3], [-3, 3], '--', color='grey')\n",
    "\n",
    "# Shapiro-Wilk 정규성 검정\n",
    "scipy.stats.shapiro(residual)"
   ]
  },
  {
   "cell_type": "markdown",
   "metadata": {},
   "source": [
    "### 등분산성"
   ]
  },
  {
   "cell_type": "code",
   "execution_count": 25,
   "metadata": {
    "scrolled": true
   },
   "outputs": [
    {
     "data": {
      "text/plain": [
       "<AxesSubplot:>"
      ]
     },
     "execution_count": 25,
     "metadata": {},
     "output_type": "execute_result"
    },
    {
     "data": {
      "image/png": "[encoded data removed]",
      "text/plain": [
       "<Figure size 432x288 with 1 Axes>"
      ]
     },
     "metadata": {
      "needs_background": "light"
     },
     "output_type": "display_data"
    }
   ],
   "source": [
    "sns.regplot(x=fitted, y=np.sqrt(np.abs(sr)), lowess=True, line_kws={'color': 'red'})"
   ]
  },
  {
   "cell_type": "markdown",
   "metadata": {},
   "source": [
    "### 독립성"
   ]
  },
  {
   "cell_type": "code",
   "execution_count": 26,
   "metadata": {
    "scrolled": true
   },
   "outputs": [
    {
     "name": "stdout",
     "output_type": "stream",
     "text": [
      "==============================================================================\n",
      "Omnibus:                      461.168   Durbin-Watson:                   1.989\n",
      "Prob(Omnibus):                  0.000   Jarque-Bera (JB):             6696.474\n",
      "Skew:                           1.444   Prob(JB):                         0.00\n",
      "Kurtosis:                      14.463   Cond. No.                         2.04\n",
      "==============================================================================\n"
     ]
    }
   ],
   "source": [
    "print(model.summary().tables[2])"
   ]
  },
  {
   "cell_type": "markdown",
   "metadata": {},
   "source": [
    "- Durbin-Watson:1.993로 1.5~2.5사이이므로 잔차 간의 자기상관이 없다고 할 수 있으며, 회귀 모델은 독립성 가정을 만족"
   ]
  },
  {
   "cell_type": "markdown",
   "metadata": {},
   "source": [
    "## 최종 모델 점검"
   ]
  },
  {
   "cell_type": "code",
   "execution_count": 27,
   "metadata": {
    "scrolled": true
   },
   "outputs": [
    {
     "name": "stdout",
     "output_type": "stream",
     "text": [
      "                            OLS Regression Results                            \n",
      "==============================================================================\n",
      "Dep. Variable:               JS_Price   R-squared:                       0.716\n",
      "Model:                            OLS   Adj. R-squared:                  0.715\n",
      "Method:                 Least Squares   F-statistic:                     480.6\n",
      "Date:                Tue, 10 Oct 2023   Prob (F-statistic):          2.32e-308\n",
      "Time:                        17:23:32   Log-Likelihood:                -907.67\n",
      "No. Observations:                1150   AIC:                             1829.\n",
      "Df Residuals:                    1143   BIC:                             1865.\n",
      "Df Model:                           6                                         \n",
      "Covariance Type:            nonrobust                                         \n",
      "===============================================================================================\n",
      "                                  coef    std err          t      P>|t|      [0.025      0.975]\n",
      "-----------------------------------------------------------------------------------------------\n",
      "const                       -4.836e-17      0.016  -3.07e-15      1.000      -0.031       0.031\n",
      "Building_Age                   -0.3492      0.016    -21.286      0.000      -0.381      -0.317\n",
      "IR                             -0.1672      0.017     -9.961      0.000      -0.200      -0.134\n",
      "Shortest_Distance_to_School    -0.0672      0.016     -4.139      0.000      -0.099      -0.035\n",
      "SDT_index                      -0.0862      0.017     -5.094      0.000      -0.119      -0.053\n",
      "Sell_Price                      0.4812      0.019     24.932      0.000       0.443       0.519\n",
      "JS_BA                           0.4811      0.018     26.543      0.000       0.446       0.517\n",
      "==============================================================================\n",
      "Omnibus:                      461.168   Durbin-Watson:                   1.989\n",
      "Prob(Omnibus):                  0.000   Jarque-Bera (JB):             6696.474\n",
      "Skew:                           1.444   Prob(JB):                         0.00\n",
      "Kurtosis:                      14.463   Cond. No.                         2.04\n",
      "==============================================================================\n",
      "\n",
      "Notes:\n",
      "[1] Standard Errors assume that the covariance matrix of the errors is correctly specified.\n"
     ]
    }
   ],
   "source": [
    "print(model.summary())"
   ]
  },
  {
   "cell_type": "code",
   "execution_count": 28,
   "metadata": {
    "scrolled": true
   },
   "outputs": [
    {
     "data": {
      "text/plain": [
       "Sell_Price                     4.811795e-01\n",
       "JS_BA                          4.811140e-01\n",
       "const                         -4.835542e-17\n",
       "Shortest_Distance_to_School   -6.719327e-02\n",
       "SDT_index                     -8.615509e-02\n",
       "IR                            -1.672460e-01\n",
       "Building_Age                  -3.491726e-01\n",
       "dtype: float64"
      ]
     },
     "execution_count": 28,
     "metadata": {},
     "output_type": "execute_result"
    }
   ],
   "source": [
    "model.params.sort_values(ascending=False)"
   ]
  }
 ],
 "metadata": {
  "colab": {
   "provenance": []
  },
  "kernelspec": {
   "display_name": "Python 3",
   "language": "python",
   "name": "python3"
  },
  "language_info": {
   "codemirror_mode": {
    "name": "ipython",
    "version": 3
   },
   "file_extension": ".py",
   "mimetype": "text/x-python",
   "name": "python",
   "nbconvert_exporter": "python",
   "pygments_lexer": "ipython3",
   "version": "3.7.6"
  }
 },
 "nbformat": 4,
 "nbformat_minor": 1
}
