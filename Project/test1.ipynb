{
 "cells": [
  {
   "cell_type": "code",
   "execution_count": 1,
   "metadata": {
    "scrolled": true
   },
   "outputs": [
    {
     "name": "stderr",
     "output_type": "stream",
     "text": [
      "\n",
      "Bad key text.latex.preview in file C:\\Users\\spa84\\anaconda3\\lib\\site-packages\\matplotlib\\mpl-data\\stylelib\\_classic_test.mplstyle, line 123 ('text.latex.preview : False')\n",
      "You probably need to get an updated matplotlibrc file from\n",
      "https://github.com/matplotlib/matplotlib/blob/v3.5.3/matplotlibrc.template\n",
      "or from the matplotlib source distribution\n",
      "\n",
      "Bad key mathtext.fallback_to_cm in file C:\\Users\\spa84\\anaconda3\\lib\\site-packages\\matplotlib\\mpl-data\\stylelib\\_classic_test.mplstyle, line 155 ('mathtext.fallback_to_cm : True  # When True, use symbols from the Computer Modern')\n",
      "You probably need to get an updated matplotlibrc file from\n",
      "https://github.com/matplotlib/matplotlib/blob/v3.5.3/matplotlibrc.template\n",
      "or from the matplotlib source distribution\n",
      "\n",
      "Bad key savefig.jpeg_quality in file C:\\Users\\spa84\\anaconda3\\lib\\site-packages\\matplotlib\\mpl-data\\stylelib\\_classic_test.mplstyle, line 418 ('savefig.jpeg_quality: 95       # when a jpeg is saved, the default quality parameter.')\n",
      "You probably need to get an updated matplotlibrc file from\n",
      "https://github.com/matplotlib/matplotlib/blob/v3.5.3/matplotlibrc.template\n",
      "or from the matplotlib source distribution\n",
      "\n",
      "Bad key keymap.all_axes in file C:\\Users\\spa84\\anaconda3\\lib\\site-packages\\matplotlib\\mpl-data\\stylelib\\_classic_test.mplstyle, line 466 ('keymap.all_axes : a                 # enable all axes')\n",
      "You probably need to get an updated matplotlibrc file from\n",
      "https://github.com/matplotlib/matplotlib/blob/v3.5.3/matplotlibrc.template\n",
      "or from the matplotlib source distribution\n",
      "\n",
      "Bad key animation.avconv_path in file C:\\Users\\spa84\\anaconda3\\lib\\site-packages\\matplotlib\\mpl-data\\stylelib\\_classic_test.mplstyle, line 477 ('animation.avconv_path: avconv     # Path to avconv binary. Without full path')\n",
      "You probably need to get an updated matplotlibrc file from\n",
      "https://github.com/matplotlib/matplotlib/blob/v3.5.3/matplotlibrc.template\n",
      "or from the matplotlib source distribution\n",
      "\n",
      "Bad key animation.avconv_args in file C:\\Users\\spa84\\anaconda3\\lib\\site-packages\\matplotlib\\mpl-data\\stylelib\\_classic_test.mplstyle, line 479 ('animation.avconv_args:            # Additional arguments to pass to avconv')\n",
      "You probably need to get an updated matplotlibrc file from\n",
      "https://github.com/matplotlib/matplotlib/blob/v3.5.3/matplotlibrc.template\n",
      "or from the matplotlib source distribution\n"
     ]
    }
   ],
   "source": [
    "import pandas as pd\n",
    "import numpy as np\n",
    "import statsmodels.api as sm\n",
    "import statsmodels.stats.api as sms\n",
    "from scipy import stats\n",
    "import matplotlib.pyplot as plt\n",
    "import plotly.express as px\n",
    "import scipy\n",
    "import seaborn as sns\n",
    "import matplotlib.font_manager as fm\n",
    "from sklearn.preprocessing import MinMaxScaler, StandardScaler\n",
    "from statsmodels.stats.outliers_influence import variance_inflation_factor\n",
    "import math\n",
    "import warnings\n",
    "from sklearn.model_selection import train_test_split\n",
    "from sklearn.linear_model import LogisticRegression\n",
    "from sklearn.feature_selection import SelectFromModel\n",
    "import random\n",
    "from imblearn.over_sampling import RandomOverSampler\n",
    "from sklearn.model_selection import learning_curve"
   ]
  },
  {
   "cell_type": "code",
   "execution_count": 2,
   "metadata": {},
   "outputs": [],
   "source": [
    "warnings.simplefilter('ignore')"
   ]
  },
  {
   "cell_type": "code",
   "execution_count": 3,
   "metadata": {},
   "outputs": [],
   "source": [
    "font_path = \"C:\\\\Users\\\\spa84\\\\Downloads\\\\text_mining\\\\NanumGothic.ttf\"  # 나눔 폰트의 경로를 지정\n",
    "font_name = fm.FontProperties(fname=font_path).get_name()\n",
    "plt.rc(\"font\", family=font_name)"
   ]
  },
  {
   "cell_type": "code",
   "execution_count": 4,
   "metadata": {},
   "outputs": [],
   "source": [
    "df = pd.read_csv('./data/Before_Encoding_5000.csv', encoding='euc-kr')"
   ]
  },
  {
   "cell_type": "code",
   "execution_count": 5,
   "metadata": {
    "scrolled": true
   },
   "outputs": [
    {
     "name": "stdout",
     "output_type": "stream",
     "text": [
      "<class 'pandas.core.frame.DataFrame'>\n",
      "RangeIndex: 5000 entries, 0 to 4999\n",
      "Data columns (total 19 columns):\n",
      " #   Column                       Non-Null Count  Dtype  \n",
      "---  ------                       --------------  -----  \n",
      " 0   Building_Age                 5000 non-null   int64  \n",
      " 1   JS_Price                     5000 non-null   int64  \n",
      " 2   JS_BA                        5000 non-null   float64\n",
      " 3   Population                   5000 non-null   int64  \n",
      " 4   UR                           5000 non-null   float64\n",
      " 5   LC_index                     5000 non-null   float64\n",
      " 6   CA_index                     5000 non-null   float64\n",
      " 7   TC_index                     5000 non-null   float64\n",
      " 8   SDT_index                    5000 non-null   float64\n",
      " 9   HSP_index                    5000 non-null   float64\n",
      " 10  Sell_Price                   5000 non-null   float64\n",
      " 11  Crime_Rates                  5000 non-null   float64\n",
      " 12  IR                           5000 non-null   float64\n",
      " 13  Region_Name                  5000 non-null   object \n",
      " 14  Building_Use                 5000 non-null   object \n",
      " 15  YearMonth                    5000 non-null   int64  \n",
      " 16  Shortest_Distance_to_Subway  5000 non-null   float64\n",
      " 17  Shortest_Distance_to_School  5000 non-null   float64\n",
      " 18  Shortest_Distance_to_Univ    5000 non-null   float64\n",
      "dtypes: float64(13), int64(4), object(2)\n",
      "memory usage: 742.3+ KB\n"
     ]
    }
   ],
   "source": [
    "df.info()"
   ]
  },
  {
   "cell_type": "markdown",
   "metadata": {},
   "source": [
    "## Categorical:\n",
    "\n",
    "- Nominal(variables that have two or more categories, but which do not have an intrinsic order.)\n",
    "\n",
    "    - Region_Name : 자치구 명\n",
    "    - Building_Use : 건물 용도\n",
    "    \n",
    "- Ordinal(variables that have two or more categories just like nominal variables. Only the categories can also be ordered or ranked.)\n",
    "\n",
    "    \n",
    "## Numeric:\n",
    "\n",
    "- Discrete\n",
    "    - YearMonth : 년월\n",
    "    - Building_Age : 건물연식\n",
    "    - JS_Price : 전세가\n",
    "   \n",
    "- Continous\n",
    "    - Sell_Price : 매매 가격\n",
    "    - JS_BA = JS_Building Area : 임대 면적\n",
    "    - lR = Interest Rate : 금리\n",
    "    - UR = Unemployment Rate : 실업률\n",
    "    - LC_index = Leading Composite index : 선행종합 지수\n",
    "    - CA_index = Comprehensive Accompany index : 동행종합 지수\n",
    "    - TC_index = Trailing Composite index : 후행종합 지수\n",
    "    - SDT_index = Supply and Demand Trend index = 전세수급동향 지수\n",
    "    - HSP_index = \n",
    "    - Population : 인구수\n",
    "    - Crime_Rates : 범죄율\n",
    "    - Shortest_Distance_to_Subway : 가장 가까운 지하철역과의 거리\n",
    "    - Shortest_Distance_to_School : 가장 가까운 초중고등학교와의 거리\n",
    "    - Shortest_Distance_to_Univ : 가장 가까운 대학교와의 거리\n",
    "    - Shortest_Distance_to_Park : 가장 가까운 공원과의 거리\n",
    "    "
   ]
  },
  {
   "cell_type": "markdown",
   "metadata": {},
   "source": [
    "## 데이터 전처리"
   ]
  },
  {
   "cell_type": "code",
   "execution_count": 6,
   "metadata": {},
   "outputs": [],
   "source": [
    "# 범주형 변수 리스트 지정\n",
    "categorical_columns = ['YearMonth', 'Building_Use', 'Region_Name']\n",
    "target_column = 'JS_Price'\n",
    "\n",
    "# 데이터 분할\n",
    "train_data, test_data = train_test_split(df, test_size=0.2, random_state=42)\n",
    "\n",
    "# 학습 데이터에서 각 범주의 평균 타겟 값 계산\n",
    "for categorical_column in categorical_columns:\n",
    "    encoding_map = train_data.groupby(categorical_column)['JS_Price'].mean().to_dict()\n",
    "    \n",
    "    # 학습 데이터에 타겟 인코딩 적용\n",
    "    train_data[categorical_column + '_encoded'] = train_data[categorical_column].map(encoding_map)\n",
    "    \n",
    "    # 테스트 데이터에도 동일한 인코딩 매핑을 적용\n",
    "    test_data[categorical_column + '_encoded'] = test_data[categorical_column].map(encoding_map)\n",
    "    \n",
    "    # 기존 범주형 변수 삭제\n",
    "    train_data.drop(columns=[categorical_column], inplace=True)\n",
    "    test_data.drop(columns=[categorical_column], inplace=True)"
   ]
  },
  {
   "cell_type": "code",
   "execution_count": 7,
   "metadata": {},
   "outputs": [],
   "source": [
    "# JS_Price를 4개의 범주로 나누고 기존 변수 삭제\n",
    "train_data['JS_Price_Category'] = pd.cut(train_data['JS_Price'], bins=5, labels=False)\n",
    "test_data['JS_Price_Category'] = pd.cut(test_data['JS_Price'], bins=5, labels=False)\n",
    "train_data.drop('JS_Price', axis=1, inplace=True)\n",
    "test_data.drop('JS_Price', axis=1, inplace=True)\n",
    "\n",
    "# 오버샘플링할 데이터와 레이블을 준비합니다.\n",
    "X_train = train_data.drop('JS_Price_Category', axis=1)  # 독립변수\n",
    "Y_train = train_data['JS_Price_Category']  # 종속변수\n",
    "X_test = test_data.drop('JS_Price_Category', axis=1)  # 테스트 독립변수\n",
    "Y_test = test_data['JS_Price_Category']  # 테스트 종속변수\n",
    "\n",
    "# RandomOverSampler를 초기화합니다.\n",
    "oversampler = RandomOverSampler(sampling_strategy='auto', random_state=42)\n",
    "\n",
    "# 오버샘플링을 적용합니다.\n",
    "X_train_resampled, Y_train_resampled = oversampler.fit_resample(X_train, Y_train)\n",
    "\n",
    "# 오버샘플링된 데이터를 새로운 데이터프레임으로 만듭니다.\n",
    "train_data_resampled = pd.concat([X_train_resampled, Y_train_resampled], axis=1)"
   ]
  },
  {
   "cell_type": "markdown",
   "metadata": {},
   "source": [
    "## Logistic Regression Analysis"
   ]
  },
  {
   "cell_type": "code",
   "execution_count": 8,
   "metadata": {},
   "outputs": [],
   "source": [
    "selected_features = train_data_resampled.columns.tolist()\n",
    "selected_features.remove('JS_Price_Category')"
   ]
  },
  {
   "cell_type": "code",
   "execution_count": 9,
   "metadata": {
    "scrolled": true
   },
   "outputs": [
    {
     "name": "stdout",
     "output_type": "stream",
     "text": [
      "모델 정확도 : 0.874 \n",
      "\n",
      "---예측된 클래스--- \n",
      " [0 0 0 1 0 1 0 1 0 0 0 1 0 0 1 0 0 0 0 2 0 0 0 0 0 0 0 1 0 0 0 2 1 0 0 1 0\n",
      " 0 2 0 0 2 0 0 1 0 2 1 0 0 0 0 0 0 0 1 0 0 1 0 0 0 0 0 0 1 0 0 0 3 0 0 0 1\n",
      " 0 0 0 0 0 0 0 1 0 1 0 0 0 0 0 1 0 0 0 0 2 1 1 0 0 0 0 0 0 0 0 0 0 0 0 0 0\n",
      " 2 1 0 0 1 0 1 0 1 0 0 0 0 0 1 0 0 0 0 0 0 0 0 0 0 0 0 1 0 0 0 0 0 0 0 0 0\n",
      " 0 2 0 1 0 0 0 0 0 1 3 0 0 0 0 0 0 0 0 0 0 0 0 0 0 0 0 1 0 0 0 1 0 0 0 1 0\n",
      " 0 1 0 0 0 0 0 0 0 0 0 0 1 0 0 0 0 1 0 0 0 0 0 1 0 1 0 0 0 0 1 0 0 1 0 0 0\n",
      " 0 0 0 0 0 1 0 0 1 0 0 0 0 0 0 0 1 0 0 0 0 2 1 0 0 0 0 1 0 0 0 0 0 0 0 1 0\n",
      " 0 0 0 0 0 0 1 0 1 0 1 1 0 0 0 0 0 0 0 0 0 0 0 0 0 0 0 0 2 0 0 0 0 0 0 0 0\n",
      " 0 0 1 0 0 0 0 0 0 1 0 1 1 1 0 0 0 0 0 0 0 0 0 0 0 0 0 0 0 0 0 1 1 0 0 0 0\n",
      " 0 0 0 0 0 0 1 0 0 0 0 0 0 0 0 0 0 0 1 0 0 0 0 1 0 0 1 0 1 1 0 0 0 0 0 0 0\n",
      " 0 0 0 0 0 0 0 0 0 1 0 0 1 0 0 0 0 1 0 0 0 0 1 0 1 1 0 0 0 0 0 0 2 0 0 0 0\n",
      " 1 0 0 0 0 0 1 0 0 0 2 0 0 1 1 0 0 0 1 2 0 0 1 1 0 0 0 0 0 0 0 0 0 1 0 0 0\n",
      " 1 0 0 1 0 0 0 0 1 0 0 0 2 0 0 1 0 1 0 0 0 0 0 0 0 0 0 1 0 1 0 2 0 0 1 2 0\n",
      " 0 1 0 0 0 2 0 0 0 1 0 0 0 1 0 0 0 0 0 0 0 0 1 0 0 0 0 0 0 0 1 0 0 0 0 0 0\n",
      " 0 0 0 1 0 0 1 0 0 0 0 0 0 0 0 0 1 1 0 0 0 0 0 0 0 0 0 0 1 0 0 1 0 0 0 0 1\n",
      " 1 0 0 0 0 0 0 0 0 1 0 0 0 0 0 1 0 2 1 0 0 1 0 0 0 0 0 0 0 0 0 0 0 0 0 0 0\n",
      " 0 0 0 0 0 0 0 0 0 0 0 0 1 0 0 0 1 0 0 0 0 0 0 0 0 0 2 0 0 0 0 0 0 0 0 1 0\n",
      " 0 0 0 0 0 0 0 0 0 1 0 0 0 0 0 0 0 0 1 1 0 1 0 0 0 0 0 0 0 0 0 0 0 0 0 0 1\n",
      " 0 0 1 0 0 0 0 0 0 0 0 0 0 0 0 1 0 1 0 0 0 0 1 1 0 0 0 0 1 0 0 0 0 0 0 0 4\n",
      " 0 0 0 0 0 0 0 0 0 0 0 0 0 0 0 0 0 0 0 0 0 0 0 0 0 1 0 0 0 0 0 1 0 0 0 0 0\n",
      " 0 0 0 0 0 0 0 0 0 0 0 1 1 0 1 0 0 0 0 1 0 0 0 0 0 0 0 0 0 0 0 0 0 0 0 1 0\n",
      " 0 0 0 0 0 0 0 1 0 1 0 0 0 3 0 0 0 0 0 0 2 0 0 0 0 0 0 0 0 1 0 0 0 0 0 1 0\n",
      " 0 0 0 0 0 1 2 0 0 0 0 1 0 0 0 0 1 0 0 0 0 1 1 0 0 0 0 0 1 0 0 0 1 0 1 1 0\n",
      " 0 0 0 0 1 0 0 0 0 0 0 0 0 0 1 1 0 0 0 0 0 0 0 0 0 0 0 0 0 0 0 0 0 0 0 0 0\n",
      " 0 0 0 0 0 0 0 0 0 1 1 0 0 0 0 0 0 0 2 0 0 0 0 1 0 0 0 1 0 0 0 0 4 0 0 0 0\n",
      " 0 0 0 1 0 0 0 0 0 0 0 0 0 2 0 1 0 0 0 0 1 0 0 1 1 0 0 1 1 2 0 0 0 0 1 1 0\n",
      " 0 0 0 0 0 1 0 0 0 0 0 0 0 0 0 0 1 0 1 3 3 0 0 0 1 0 1 0 0 0 0 0 0 0 0 0 0\n",
      " 2] \n",
      "\n",
      "---클래스별 확률--- \n",
      " [[9.92294427e-01 7.70410987e-03 1.46272378e-06 2.50863426e-16\n",
      "  5.59702642e-21]\n",
      " [9.95295675e-01 4.70429507e-03 3.00486462e-08 1.00996134e-10\n",
      "  1.46557410e-18]\n",
      " [9.99414590e-01 5.85397679e-04 1.20381189e-08 6.66273222e-20\n",
      "  1.70948996e-26]\n",
      " ...\n",
      " [9.99663329e-01 3.36670356e-04 2.52149363e-10 1.80333939e-23\n",
      "  1.28303547e-33]\n",
      " [9.99396231e-01 6.03762161e-04 6.93741774e-09 1.24582136e-22\n",
      "  3.55312389e-33]\n",
      " [1.43825353e-03 2.18182849e-01 7.37223320e-01 4.31555773e-02\n",
      "  4.75443946e-15]]\n"
     ]
    }
   ],
   "source": [
    "# 독립 변수 선택\n",
    "X_train_resampled = train_data_resampled[selected_features]\n",
    "\n",
    "# 데이터 표준화 (선택적)\n",
    "scaler = StandardScaler()\n",
    "X_train_resampled = scaler.fit_transform(X_train_resampled)\n",
    "X_test = scaler.transform(X_test)\n",
    "\n",
    "# 다항 로지스틱 회귀 모델 생성\n",
    "model = LogisticRegression(multi_class='multinomial', solver='lbfgs')\n",
    "model.fit(X_train_resampled, Y_train_resampled)\n",
    "\n",
    "# 모델 평가 (정확도 계산)\n",
    "accuracy = model.score(X_test, Y_test)\n",
    "print(f\"모델 정확도 : {accuracy}\", '\\n')\n",
    "\n",
    "# 각 클래스에 속할 확률 예측\n",
    "probabilities = model.predict_proba(X_test)\n",
    "\n",
    "# 예측 결과 클래스 (가장 높은 확률을 갖는 클래스 선택)\n",
    "predicted_classes = model.predict(X_test)\n",
    "\n",
    "# 예측된 클래스 및 확률 출력\n",
    "print(\"---예측된 클래스---\", '\\n', predicted_classes, '\\n')\n",
    "print(\"---클래스별 확률---\", '\\n', probabilities)"
   ]
  },
  {
   "cell_type": "markdown",
   "metadata": {},
   "source": [
    "## 변수선택법\n",
    "- SelectFromModel로 유의한 순서대로 변수 8개 선택"
   ]
  },
  {
   "cell_type": "code",
   "execution_count": 10,
   "metadata": {
    "scrolled": false
   },
   "outputs": [
    {
     "name": "stdout",
     "output_type": "stream",
     "text": [
      "선택된 변수:\n",
      "['Building_Age', 'JS_BA', 'LC_index', 'CA_index', 'HSP_index', 'Sell_Price', 'Region_Name_encoded']\n"
     ]
    }
   ],
   "source": [
    "# 로지스틱 회귀 모델을 사용하여 변수 선택\n",
    "model = LogisticRegression(max_iter=1000)  # 로지스틱 회귀 모델 생성 (다른 모델로 변경 가능)\n",
    "\n",
    "# SelectFromModel을 사용하여 변수 선택\n",
    "sfm = SelectFromModel(model, threshold=-np.inf, max_features=7)\n",
    "\n",
    "# 변수 선택 모델을 훈련 데이터에 맞춤\n",
    "sfm.fit(X_train_resampled, Y_train_resampled)\n",
    "\n",
    "# 선택된 변수 인덱스를 가져옴\n",
    "selected_feature_indices = sfm.get_support(indices=True)\n",
    "\n",
    "# 선택된 변수 이름 가져오기\n",
    "selected_features = [selected_features[i] for i in selected_feature_indices]\n",
    "\n",
    "# 선택된 변수 출력\n",
    "print(\"선택된 변수:\")\n",
    "print(selected_features)"
   ]
  },
  {
   "cell_type": "code",
   "execution_count": 11,
   "metadata": {
    "scrolled": false
   },
   "outputs": [
    {
     "name": "stdout",
     "output_type": "stream",
     "text": [
      "모델 정확도 (특성 선택 후): 0.863\n",
      "--- 예측된 클래스 ---\n",
      "[0 0 0 1 0 1 0 2 1 0 0 0 0 0 1 0 0 0 0 2 0 0 0 0 0 0 0 1 0 0 0 2 0 0 0 1 0\n",
      " 0 2 0 0 2 0 0 1 0 2 0 0 0 0 0 0 0 0 0 0 0 1 0 0 0 0 0 0 1 0 0 0 3 0 0 0 0\n",
      " 0 0 0 0 0 0 0 2 0 1 0 0 0 0 0 1 0 1 0 0 2 1 1 0 0 0 0 0 0 0 0 0 0 0 0 0 0\n",
      " 1 0 0 0 1 0 1 0 1 0 0 0 0 0 0 0 0 0 0 0 0 0 0 0 0 0 0 1 0 0 0 0 0 0 0 0 1\n",
      " 0 2 0 1 0 0 0 0 0 1 2 0 0 0 0 1 0 0 0 0 0 0 0 0 0 0 1 1 0 0 0 1 0 0 0 1 0\n",
      " 0 1 0 0 0 0 0 0 0 0 0 0 1 0 0 0 0 1 0 0 0 0 0 1 0 0 0 0 0 0 1 0 0 1 0 0 0\n",
      " 0 0 0 0 0 1 0 0 1 0 0 0 0 0 0 0 1 0 0 0 0 2 0 0 0 0 0 1 0 0 0 0 0 0 1 1 0\n",
      " 0 0 0 0 0 0 1 0 1 0 1 1 0 0 0 0 0 0 0 0 0 0 0 0 0 0 0 0 2 0 0 0 1 0 0 0 0\n",
      " 0 0 0 0 0 0 0 0 0 1 0 1 1 1 0 0 0 0 0 0 0 0 1 0 0 1 0 0 0 1 0 1 1 0 0 0 0\n",
      " 0 0 0 0 0 0 1 0 0 1 0 0 0 0 0 0 0 0 1 0 0 0 0 1 0 0 0 0 1 1 0 0 0 0 0 0 0\n",
      " 0 0 0 0 0 0 0 0 0 1 0 0 1 0 0 0 0 1 0 0 0 0 1 0 1 1 0 0 0 0 0 0 2 0 1 0 0\n",
      " 1 0 0 0 0 0 1 0 0 0 2 0 0 1 1 0 0 0 1 2 0 0 1 1 0 0 0 0 0 0 0 0 0 0 0 0 0\n",
      " 1 0 0 1 0 0 0 0 1 0 1 0 2 0 0 1 0 1 0 0 0 0 0 0 0 0 0 1 0 1 0 2 0 0 1 2 0\n",
      " 0 0 0 0 0 2 0 0 0 1 0 0 0 1 0 0 0 0 0 0 0 0 1 0 0 0 0 0 0 0 1 0 0 0 0 0 0\n",
      " 0 0 0 1 0 0 1 0 0 0 0 0 0 0 0 0 1 1 0 0 0 0 0 0 0 0 0 0 1 0 0 0 0 0 0 0 1\n",
      " 1 0 0 0 0 0 0 0 0 1 0 0 0 0 0 1 0 2 1 0 0 1 0 0 0 0 0 0 0 0 0 0 0 0 0 0 0\n",
      " 0 0 0 0 0 0 0 0 0 0 0 0 1 1 0 0 1 0 0 0 0 0 0 0 0 0 2 0 0 1 0 0 0 0 0 1 0\n",
      " 0 1 0 0 0 0 0 0 0 1 0 0 0 0 0 0 0 0 1 1 0 1 0 0 0 0 0 0 0 0 0 0 0 0 0 0 3\n",
      " 0 0 1 0 0 0 0 0 0 0 0 0 0 0 0 1 0 1 0 0 0 0 1 0 0 0 0 0 1 0 0 0 0 0 0 0 4\n",
      " 0 0 0 0 0 0 0 0 0 0 0 0 0 0 0 0 1 0 0 0 0 0 0 0 0 1 0 0 0 0 0 1 0 0 0 0 0\n",
      " 0 0 0 0 0 0 0 0 0 0 0 1 1 0 1 0 0 0 0 1 0 0 0 0 0 0 0 0 0 0 0 0 0 0 0 1 0\n",
      " 0 0 0 0 0 0 0 1 0 1 0 0 0 1 0 0 0 0 0 0 2 0 0 0 0 0 0 0 0 1 0 0 0 0 1 1 0\n",
      " 0 0 1 0 0 1 2 0 0 0 0 1 0 0 0 0 1 0 0 0 0 1 1 0 0 0 0 0 1 0 0 0 1 0 1 1 0\n",
      " 0 0 0 1 2 0 0 0 0 0 0 0 0 0 1 1 0 0 0 0 0 0 0 0 0 0 0 0 1 0 0 0 0 0 0 0 0\n",
      " 0 0 0 0 0 0 0 0 0 1 1 0 0 0 0 0 0 0 2 0 0 0 0 0 0 0 0 1 0 0 0 0 4 0 1 0 0\n",
      " 0 0 0 1 0 0 0 0 0 0 0 0 0 2 0 1 0 0 0 0 1 0 0 1 1 0 0 1 1 2 0 0 0 0 1 1 0\n",
      " 0 0 0 0 0 0 0 0 0 0 0 0 0 0 1 0 1 0 0 3 3 0 0 0 1 0 1 0 0 0 0 0 0 0 0 0 0\n",
      " 3]\n",
      "--- 클래스별 확률 ---\n",
      "[[9.74592506e-01 2.53943430e-02 1.31502743e-05 4.10383205e-10\n",
      "  1.89766451e-23]\n",
      " [9.81507330e-01 1.84654053e-02 2.71181198e-05 1.46990456e-07\n",
      "  9.52069827e-23]\n",
      " [9.99423243e-01 5.76686506e-04 7.01959473e-08 1.66369878e-14\n",
      "  2.10002404e-34]\n",
      " ...\n",
      " [9.99568711e-01 4.31288690e-04 5.10728658e-10 6.20391423e-17\n",
      "  1.03796690e-39]\n",
      " [9.99108657e-01 8.91322980e-04 1.98951277e-08 1.57485307e-15\n",
      "  2.89228038e-37]\n",
      " [4.94812908e-05 3.97436011e-02 1.99964022e-01 7.60242892e-01\n",
      "  3.81513471e-09]]\n"
     ]
    }
   ],
   "source": [
    "# 선택된 특성을 가져옵니다.\n",
    "selected_feature_indices = sfm.get_support(indices=True)\n",
    "\n",
    "# 선택된 특성을 사용하여 모델을 다시 훈련합니다.\n",
    "model = LogisticRegression(multi_class='multinomial', solver='lbfgs')\n",
    "model.fit(X_train_resampled[:, selected_feature_indices], Y_train_resampled)\n",
    "\n",
    "# 이제 선택된 특성을 사용하여 모델을 평가합니다 (정확도).\n",
    "accuracy = model.score(X_test[:, selected_feature_indices], Y_test)\n",
    "print(f\"모델 정확도 (특성 선택 후): {accuracy}\")\n",
    "\n",
    "# 예측된 클래스와 클래스별 확률\n",
    "predicted_classes = model.predict(X_test[:, selected_feature_indices])\n",
    "class_probabilities = model.predict_proba(X_test[:, selected_feature_indices])\n",
    "\n",
    "# 예측된 클래스와 클래스별 확률을 출력합니다.\n",
    "print(\"--- 예측된 클래스 ---\")\n",
    "print(predicted_classes)\n",
    "\n",
    "print(\"--- 클래스별 확률 ---\")\n",
    "print(class_probabilities)"
   ]
  },
  {
   "cell_type": "markdown",
   "metadata": {},
   "source": [
    "## 다중공선성 체크"
   ]
  },
  {
   "cell_type": "code",
   "execution_count": 12,
   "metadata": {},
   "outputs": [
    {
     "name": "stdout",
     "output_type": "stream",
     "text": [
      "              Variable         VIF\n",
      "0         Building_Age    1.160107\n",
      "1                JS_BA    1.686701\n",
      "2             LC_index  132.012670\n",
      "3             CA_index   71.267685\n",
      "4            HSP_index   18.457404\n",
      "5           Sell_Price    3.500042\n",
      "6  Region_Name_encoded    2.209664\n"
     ]
    }
   ],
   "source": [
    "independent_variables = pd.DataFrame(X_train_resampled[:, selected_feature_indices], columns=selected_features)\n",
    "\n",
    "# VIF 계산을 위한 함수를 정의합니다.\n",
    "def calculate_vif(data):\n",
    "    vif_data = pd.DataFrame()\n",
    "    vif_data[\"Variable\"] = data.columns\n",
    "    vif_data[\"VIF\"] = [variance_inflation_factor(data.values, i) for i in range(data.shape[1])]\n",
    "    return vif_data\n",
    "\n",
    "# VIF를 계산합니다.\n",
    "vif_result = calculate_vif(independent_variables)\n",
    "\n",
    "# VIF 결과를 출력합니다.\n",
    "print(vif_result)"
   ]
  },
  {
   "cell_type": "markdown",
   "metadata": {},
   "source": [
    "- VIF값 5를 기준으로 높으면 변수에서 제거할 요인으로 본다면 LC_index, CA_index가 제거변수"
   ]
  },
  {
   "cell_type": "markdown",
   "metadata": {},
   "source": [
    "## 과적합 체크"
   ]
  },
  {
   "cell_type": "code",
   "execution_count": 13,
   "metadata": {},
   "outputs": [
    {
     "data": {
      "image/png": "[encoded data removed]",
      "text/plain": [
       "<Figure size 432x288 with 1 Axes>"
      ]
     },
     "metadata": {
      "needs_background": "light"
     },
     "output_type": "display_data"
    }
   ],
   "source": [
    "# 학습 곡선을 그리는 함수 정의\n",
    "def plot_learning_curve(estimator, title, X, y, ylim=None, cv=None, n_jobs=None, train_sizes=np.linspace(.1, 1.0, 5)):\n",
    "    plt.figure()\n",
    "    plt.title(title)\n",
    "    if ylim is not None:\n",
    "        plt.ylim(*ylim)\n",
    "    plt.xlabel(\"Training examples\")\n",
    "    plt.ylabel(\"Score\")\n",
    "    train_sizes, train_scores, test_scores = learning_curve(\n",
    "        estimator, X, y, cv=cv, n_jobs=n_jobs, train_sizes=train_sizes)\n",
    "    train_scores_mean = np.mean(train_scores, axis=1)\n",
    "    train_scores_std = np.std(train_scores, axis=1)\n",
    "    test_scores_mean = np.mean(test_scores, axis=1)\n",
    "    test_scores_std = np.std(test_scores, axis=1)\n",
    "    plt.grid()\n",
    "\n",
    "    plt.fill_between(train_sizes, train_scores_mean - train_scores_std,\n",
    "                     train_scores_mean + train_scores_std, alpha=0.1,\n",
    "                     color=\"r\")\n",
    "    plt.fill_between(train_sizes, test_scores_mean - test_scores_std,\n",
    "                     test_scores_mean + test_scores_std, alpha=0.1, color=\"g\")\n",
    "    plt.plot(train_sizes, train_scores_mean, 'o-', color=\"r\",\n",
    "             label=\"Training score\")\n",
    "    plt.plot(train_sizes, test_scores_mean, 'o-', color=\"g\",\n",
    "             label=\"Cross-validation score\")\n",
    "\n",
    "    plt.legend(loc=\"best\")\n",
    "    return plt\n",
    "\n",
    "# 학습 곡선 그리기\n",
    "title = \"Learning Curves (Logistic Regression)\"\n",
    "# 모델은 이미 훈련되었다고 가정합니다 (model 변수에 저장되어 있음)\n",
    "plot_learning_curve(model, title, X_train_resampled, Y_train_resampled, cv=5, n_jobs=1)\n",
    "\n",
    "plt.show()"
   ]
  },
  {
   "cell_type": "markdown",
   "metadata": {},
   "source": [
    "## 변수선택법\n",
    "- p-value로 최종선택"
   ]
  },
  {
   "cell_type": "code",
   "execution_count": 14,
   "metadata": {
    "scrolled": false
   },
   "outputs": [
    {
     "name": "stdout",
     "output_type": "stream",
     "text": [
      "Warning: Maximum number of iterations has been exceeded.\n",
      "         Current function value: 0.391668\n",
      "         Iterations: 35\n",
      "P-values for selected independent variables:\n",
      "                                 0              1             2         3\n",
      "const                9.989819e-302   0.000000e+00  5.954249e-56  0.999230\n",
      "Building_Age          1.320765e-95  1.879968e-251  0.000000e+00  0.999520\n",
      "JS_BA                6.804349e-178   0.000000e+00  0.000000e+00  0.999295\n",
      "LC_index              1.598013e-22   3.764872e-01  7.626987e-19  0.999983\n",
      "CA_index              1.845172e-12   1.590120e-04  8.198235e-02  0.999995\n",
      "HSP_index             5.315791e-20   1.057882e-02  1.775289e-22  0.999892\n",
      "Sell_Price           7.372045e-109  2.701897e-195  0.000000e+00  0.999026\n",
      "Region_Name_encoded   2.761862e-50  2.453421e-152  1.455333e-32  0.999171\n"
     ]
    }
   ],
   "source": [
    "# 선택된 변수들의 인덱스 명을 변경\n",
    "selected_feature_names = ['Building_Age', 'JS_BA', 'LC_index', 'CA_index', 'HSP_index', 'Sell_Price', 'Region_Name_encoded']\n",
    "selected_X_train_resampled = X_train_resampled[:, selected_feature_indices]\n",
    "selected_X_train_resampled = pd.DataFrame(selected_X_train_resampled, columns=selected_feature_names)\n",
    "\n",
    "model = sm.MNLogit(Y_train_resampled, sm.add_constant(selected_X_train_resampled))  # 상수항 추가\n",
    "\n",
    "# 모델 피팅\n",
    "result = model.fit()\n",
    "\n",
    "# 독립 변수들의 p-value 추출\n",
    "p_values = result.pvalues\n",
    "\n",
    "# 결과 출력\n",
    "print(\"P-values for selected independent variables:\")\n",
    "print(p_values)"
   ]
  },
  {
   "cell_type": "markdown",
   "metadata": {},
   "source": [
    "- a=0.05일 때, 클래스 3을 제외하고 p-value값을 고려하면 LC_index, CA_index를 제외한다."
   ]
  }
 ],
 "metadata": {
  "colab": {
   "provenance": []
  },
  "kernelspec": {
   "display_name": "Python 3",
   "language": "python",
   "name": "python3"
  },
  "language_info": {
   "codemirror_mode": {
    "name": "ipython",
    "version": 3
   },
   "file_extension": ".py",
   "mimetype": "text/x-python",
   "name": "python",
   "nbconvert_exporter": "python",
   "pygments_lexer": "ipython3",
   "version": "3.7.6"
  }
 },
 "nbformat": 4,
 "nbformat_minor": 1
}
