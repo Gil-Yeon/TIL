{
 "cells": [
  {
   "cell_type": "code",
   "execution_count": 51,
   "metadata": {},
   "outputs": [],
   "source": [
    "%matplotlib inline\n",
    "\n",
    "import pandas as pd\n",
    "import numpy as np\n",
    "import matplotlib.pyplot as plt\n",
    "import seaborn as sns\n",
    "import warnings \n",
    "warnings.filterwarnings('ignore')\n",
    "import re\n",
    "from konlpy.tag import Okt\n",
    "from collections import Counter\n",
    "from sklearn.feature_extraction.text import CountVectorizer\n",
    "from sklearn.feature_extraction.text import TfidfTransformer\n",
    "from sklearn.model_selection import train_test_split\n",
    "from sklearn.linear_model import LogisticRegression\n",
    "from sklearn.metrics import accuracy_score,precision_score,recall_score,f1_score\n",
    "from sklearn.metrics import confusion_matrix\n",
    "from tqdm import tqdm\n",
    "from tensorflow.keras.preprocessing.text import Tokenizer\n",
    "from tensorflow.keras.preprocessing.sequence import pad_sequences"
   ]
  },
  {
   "cell_type": "code",
   "execution_count": 52,
   "metadata": {},
   "outputs": [],
   "source": [
    "review_test=pd.read_excel(\"C:\\\\Users\\\\spa84\\\\감성분석\\\\review_merge\\\\review_merge1.xlsx\")\n",
    "review_test.rename(columns={review_test.columns[0]:'rating',review_test.columns[1]:'text'},inplace=True)\n",
    "review_test.drop_duplicates(subset=['text'],inplace=True)#데이터 수를 줄인 test 데이터에요"
   ]
  },
  {
   "cell_type": "code",
   "execution_count": 53,
   "metadata": {},
   "outputs": [],
   "source": [
    "def korean_extract(text):\n",
    "    korean = re.compile('[^ ㄱ-ㅣ 가-힣]')#한글,공백 제외 제거\n",
    "    result =korean.sub('',text)#text에 적용\n",
    "    return result\n",
    "\n",
    "stopwords=pd.read_csv(\"C:\\\\Users\\\\spa84\\\\감성분석\\\\불용어.csv\",encoding=\"cp949\")"
   ]
  },
  {
   "cell_type": "code",
   "execution_count": 54,
   "metadata": {},
   "outputs": [],
   "source": [
    "okt = Okt()\n",
    "nouns = okt.nouns(korean_extract(review_test['text'][0]))"
   ]
  },
  {
   "cell_type": "code",
   "execution_count": 55,
   "metadata": {},
   "outputs": [
    {
     "data": {
      "text/plain": [
       "10    6680\n",
       "0     1099\n",
       "Name: y, dtype: int64"
      ]
     },
     "execution_count": 55,
     "metadata": {},
     "output_type": "execute_result"
    }
   ],
   "source": [
    "def rating_sort(rating):#일단 4,5점이 그래프 보면 많으니 이렇게 나눠보니까 차이가 확실히 많긴 많음\n",
    "    if rating >3:\n",
    "        return 1\n",
    "    else:\n",
    "        return 0\n",
    "\n",
    "review_test['y']=review_test['rating'].apply(lambda x: rating_sort(x))\n",
    "review_test['y'].value_counts()"
   ]
  },
  {
   "cell_type": "code",
   "execution_count": 56,
   "metadata": {},
   "outputs": [
    {
     "data": {
      "text/plain": [
       "10    17034\n",
       "0      2428\n",
       "Name: y, dtype: int64"
      ]
     },
     "execution_count": 56,
     "metadata": {},
     "output_type": "execute_result"
    }
   ],
   "source": [
    "review_train=pd.read_excel(\"C:\\\\Users\\\\spa84\\\\감성분석\\\\review_merge\\\\review_merge.xlsx\")\n",
    "review_train.rename(columns={review_train.columns[0]:'rating',review_train.columns[1]:'text'},inplace=True)\n",
    "review_train.drop_duplicates(subset=['text'],inplace=True)\n",
    "\n",
    "def korean_extract(text):\n",
    "    korean = re.compile('[^ ㄱ-ㅣ 가-힣]')#한글,공백 제외 제거\n",
    "    result =korean.sub('',text)#text에 적용\n",
    "    return result\n",
    "\n",
    "stopwords=pd.read_csv(\"C:\\\\Users\\\\spa84\\\\감성분석\\\\불용어.csv\",encoding=\"cp949\")\n",
    "\n",
    "okt = Okt()\n",
    "nouns = okt.nouns(korean_extract(review_train['text'][0]))\n",
    "\n",
    "def rating_sort(rating):\n",
    "    if rating >3:\n",
    "        return 1\n",
    "    else:\n",
    "        return 0\n",
    "\n",
    "review_train['y']=review_train['rating'].apply(lambda x: rating_sort(x))\n",
    "review_train['y'].value_counts() #아까 테스트 리뷰에 했던걸 똑같이 train 데이터에도 해주는 거임"
   ]
  },
  {
   "cell_type": "code",
   "execution_count": 57,
   "metadata": {},
   "outputs": [
    {
     "name": "stderr",
     "output_type": "stream",
     "text": [
      "100%|█████████████████████████████████████████████████████████████████████████████| 7779/7779 [00:45<00:00, 170.38it/s]\n"
     ]
    }
   ],
   "source": [
    "a_test=[]\n",
    "for sentence in tqdm(review_test['text']):\n",
    "    tokenized_sentence = okt.morphs(sentence, stem=True)\n",
    "    nouns = [x for x in tokenized_sentence if len(x) > 1]  \n",
    "    nouns = [x for x in tokenized_sentence if x not in stopwords]\n",
    "    a_test.append(nouns)"
   ]
  },
  {
   "cell_type": "code",
   "execution_count": 58,
   "metadata": {},
   "outputs": [
    {
     "name": "stderr",
     "output_type": "stream",
     "text": [
      "100%|███████████████████████████████████████████████████████████████████████████| 19462/19462 [02:11<00:00, 148.23it/s]\n"
     ]
    }
   ],
   "source": [
    "a_train=[]\n",
    "for sentence in tqdm(review_train['text']):\n",
    "    tokenized_sentence = okt.morphs(sentence, stem=True)\n",
    "    nouns = [x for x in tokenized_sentence if len(x) > 1]  \n",
    "    nouns = [x for x in tokenized_sentence if x not in stopwords]\n",
    "    a_train.append(nouns)"
   ]
  },
  {
   "cell_type": "code",
   "execution_count": 59,
   "metadata": {},
   "outputs": [],
   "source": [
    "token=Tokenizer()\n",
    "token.fit_on_texts(a_train)#단어 들을 토큰화 해서 단어마다 숫자를 대응시켜서 딕셔너리 형태로 만들어주려고 그러면 나중에 빈도수가 높은 단어부터 차례대로 고유 번호를 부여 받을 수 있어"
   ]
  },
  {
   "cell_type": "code",
   "execution_count": 60,
   "metadata": {},
   "outputs": [
    {
     "name": "stdout",
     "output_type": "stream",
     "text": [
      "단어 집합의 크기 : 8102\n",
      "등장 빈도가 2번 이하인 희귀 단어의 수: 4606\n",
      "단어 집합에서 희귀 단어의 비율: 56.85016045420884\n",
      "전체 등장 빈도에서 희귀 단어 등장 빈도 비율: 1.3825884045900654\n"
     ]
    }
   ],
   "source": [
    "threshold = 3 #희귀 단어 등장 빈도 비율을 보고 3을 2로 바꿔서도 해보고 해서 정하면 될것 같아\n",
    "rare_cnt = 0 \n",
    "total_freq = 0\n",
    "rare_freq = 0\n",
    "total_cnt = len(token.word_index)\n",
    "\n",
    "for key, value in token.word_counts.items():\n",
    "    total_freq = total_freq + value\n",
    "\n",
    "    if(value < threshold):\n",
    "        rare_cnt = rare_cnt + 1\n",
    "        rare_freq = rare_freq + value\n",
    "\n",
    "print('단어 집합의 크기 :',total_cnt)\n",
    "print('등장 빈도가 %s번 이하인 희귀 단어의 수: %s'%(threshold - 1, rare_cnt))\n",
    "print(\"단어 집합에서 희귀 단어의 비율:\", (rare_cnt / total_cnt)*100)\n",
    "print(\"전체 등장 빈도에서 희귀 단어 등장 빈도 비율:\", (rare_freq / total_freq)*100)"
   ]
  },
  {
   "cell_type": "code",
   "execution_count": 61,
   "metadata": {},
   "outputs": [],
   "source": [
    "vocab_size = total_cnt - rare_cnt + 1#이렇게 해서 만약 희귀단어 빈도 비율이 낮다면 삭제를 해주는 방향으로 가자 "
   ]
  },
  {
   "cell_type": "code",
   "execution_count": 62,
   "metadata": {},
   "outputs": [],
   "source": [
    "token = Tokenizer(vocab_size) \n",
    "token.fit_on_texts(a_train)\n",
    "a_train = token.texts_to_sequences(a_train)\n",
    "a_test = token.texts_to_sequences(a_test)#이거는 텍스트를 시퀀스로 변환하는건데 아까 위에서 부여 받은 숫자를 시퀀스(행렬?) 형태로 저장"
   ]
  },
  {
   "cell_type": "code",
   "execution_count": 63,
   "metadata": {},
   "outputs": [],
   "source": [
    "y_train = np.array(review_train['y'])\n",
    "y_test = np.array(review_test['y'])"
   ]
  },
  {
   "cell_type": "code",
   "execution_count": 64,
   "metadata": {},
   "outputs": [],
   "source": [
    "drop_train = [index for index, sentence in enumerate(a_train) if len(sentence) < 1]#위에서 빈도 낮은걸 지워주면 빈 데이터니까 그걸 지워주는 과정이야"
   ]
  },
  {
   "cell_type": "code",
   "execution_count": 65,
   "metadata": {
    "scrolled": true
   },
   "outputs": [
    {
     "name": "stdout",
     "output_type": "stream",
     "text": [
      "리뷰의 최대 길이 : 701\n",
      "리뷰의 평균 길이 : 20.564279108005344\n"
     ]
    },
    {
     "data": {
      "image/png": "[encoded data removed]",
      "text/plain": [
       "<Figure size 432x288 with 1 Axes>"
      ]
     },
     "metadata": {
      "needs_background": "light"
     },
     "output_type": "display_data"
    }
   ],
   "source": [
    "print('리뷰의 최대 길이 :',max(len(l) for l in a_train))\n",
    "print('리뷰의 평균 길이 :',sum(map(len, a_train))/len(a_train))\n",
    "plt.hist([len(s) for s in a_train], bins=50)\n",
    "plt.xlabel('length of samples')\n",
    "plt.ylabel('number of samples')\n",
    "plt.show()#이거를 하는 이유는 지금 우리가 가지고 있는 리뷰의 길이가 다 다르잖아 그래서 나중에 이걸 처리하려면 다 같은 길이어야지 한꺼번에 묶어서 처리 할 수 있거든 그래서 길이들을 확인해보고 맞춰주기 위해서 보는거야"
   ]
  },
  {
   "cell_type": "code",
   "execution_count": 66,
   "metadata": {},
   "outputs": [
    {
     "name": "stdout",
     "output_type": "stream",
     "text": [
      "리뷰 중 길이가 100 이하인 샘플의 비율: 98.23245298530469\n"
     ]
    }
   ],
   "source": [
    "def review_len(max_len, nested_list):\n",
    "  cnt = 0\n",
    "  for s in nested_list:\n",
    "    if(len(s) <= max_len):\n",
    "        cnt = cnt + 1\n",
    "  print('리뷰 중 길이가 %s 이하인 샘플의 비율: %s'%(max_len, (cnt / len(nested_list))*100)) #\n",
    "\n",
    "max_len=100\n",
    "#위에 그래프를 보고 어느정도의 숫자를 넣어서 train데이터 중 몇%가 우리가 넣은 숫자 이하의 길이를 갖나 판단해서 너무 길게 말고 대신 짤리는 리뷰가 없도록 설정을 해주는거야\n",
    "review_len(max_len,a_train)"
   ]
  },
  {
   "cell_type": "code",
   "execution_count": 67,
   "metadata": {},
   "outputs": [],
   "source": [
    "a_train = pad_sequences(a_train, maxlen = max_len)\n",
    "a_test = pad_sequences(a_test, maxlen = max_len)#이제 우리가 정한 최대길이로 모든 데이터의 길이를 맞추는 과정"
   ]
  },
  {
   "cell_type": "code",
   "execution_count": 68,
   "metadata": {},
   "outputs": [],
   "source": [
    "from tensorflow.keras.layers import Embedding, Dense, LSTM\n",
    "from tensorflow.keras.models import Sequential\n",
    "from tensorflow.keras.models import load_model\n",
    "from tensorflow.keras.callbacks import EarlyStopping, ModelCheckpoint#"
   ]
  },
  {
   "cell_type": "code",
   "execution_count": 69,
   "metadata": {},
   "outputs": [],
   "source": [
    "embedding_dim = 100 #차원을 100으로 잡았어 임베딩이니까 이제 1,0만 있는게 아니라 모든 실수로서 저장이 가능해짐\n",
    "hidden_units = 128\n",
    "\n",
    "model = Sequential()\n",
    "model.add(Embedding(vocab_size, embedding_dim))\n",
    "model.add(LSTM(hidden_units))#장단기 메모리 이고 불필요한건 지우고 필요한것만 저장해주는 거야\n",
    "model.add(Dense(1, activation='sigmoid'))"
   ]
  },
  {
   "cell_type": "code",
   "execution_count": 70,
   "metadata": {},
   "outputs": [],
   "source": [
    "es = EarlyStopping(monitor='val_loss', mode='min', verbose=1, patience=4) #검증 데이터 손실나면 4회에서 학습을 종료해줌\n",
    "mc = ModelCheckpoint('best_model', monitor='val_acc', mode='max', verbose=1, save_best_only=True)#이전보다 정확도가 좋아지는 것만 저장"
   ]
  },
  {
   "cell_type": "code",
   "execution_count": 71,
   "metadata": {},
   "outputs": [
    {
     "name": "stdout",
     "output_type": "stream",
     "text": [
      "Epoch 1/15\n",
      "244/244 [==============================] - 24s 95ms/step - loss: -217.0859 - acc: 3.8538e-04 - val_loss: -410.0443 - val_acc: 0.0000e+00\n",
      "\n",
      "Epoch 00001: val_acc improved from -inf to 0.00000, saving model to best_model\n"
     ]
    },
    {
     "name": "stderr",
     "output_type": "stream",
     "text": [
      "WARNING:absl:Found untraced functions such as lstm_cell_4_layer_call_fn, lstm_cell_4_layer_call_and_return_conditional_losses, lstm_cell_4_layer_call_fn, lstm_cell_4_layer_call_and_return_conditional_losses, lstm_cell_4_layer_call_and_return_conditional_losses while saving (showing 5 of 5). These functions will not be directly callable after loading.\n"
     ]
    },
    {
     "name": "stdout",
     "output_type": "stream",
     "text": [
      "INFO:tensorflow:Assets written to: best_model\\assets\n"
     ]
    },
    {
     "name": "stderr",
     "output_type": "stream",
     "text": [
      "INFO:tensorflow:Assets written to: best_model\\assets\n"
     ]
    },
    {
     "name": "stdout",
     "output_type": "stream",
     "text": [
      "Epoch 2/15\n",
      "244/244 [==============================] - 24s 100ms/step - loss: -455.4244 - acc: 0.0000e+00 - val_loss: -692.9453 - val_acc: 0.0000e+00\n",
      "\n",
      "Epoch 00002: val_acc did not improve from 0.00000\n",
      "Epoch 3/15\n",
      "244/244 [==============================] - 25s 101ms/step - loss: -688.9431 - acc: 0.0000e+00 - val_loss: -975.4815 - val_acc: 0.0000e+00\n",
      "\n",
      "Epoch 00003: val_acc did not improve from 0.00000\n",
      "Epoch 4/15\n",
      "244/244 [==============================] - 26s 108ms/step - loss: -922.5806 - acc: 0.0000e+00 - val_loss: -1258.5635 - val_acc: 0.0000e+00\n",
      "\n",
      "Epoch 00004: val_acc did not improve from 0.00000\n",
      "Epoch 5/15\n",
      "244/244 [==============================] - 24s 98ms/step - loss: -1156.3320 - acc: 0.0000e+00 - val_loss: -1541.1093 - val_acc: 0.0000e+00\n",
      "\n",
      "Epoch 00005: val_acc did not improve from 0.00000\n",
      "Epoch 6/15\n",
      "244/244 [==============================] - 24s 100ms/step - loss: -1390.1401 - acc: 0.0000e+00 - val_loss: -1824.0216 - val_acc: 0.0000e+00\n",
      "\n",
      "Epoch 00006: val_acc did not improve from 0.00000\n",
      "Epoch 7/15\n",
      "244/244 [==============================] - 25s 104ms/step - loss: -1624.0614 - acc: 0.0000e+00 - val_loss: -2106.7551 - val_acc: 0.0000e+00\n",
      "\n",
      "Epoch 00007: val_acc did not improve from 0.00000\n",
      "Epoch 8/15\n",
      "244/244 [==============================] - 24s 100ms/step - loss: -1857.7966 - acc: 0.0000e+00 - val_loss: -2389.4199 - val_acc: 0.0000e+00\n",
      "\n",
      "Epoch 00008: val_acc did not improve from 0.00000\n",
      "Epoch 9/15\n",
      "244/244 [==============================] - 26s 108ms/step - loss: -2091.6663 - acc: 0.0000e+00 - val_loss: -2672.2605 - val_acc: 0.0000e+00\n",
      "\n",
      "Epoch 00009: val_acc did not improve from 0.00000\n",
      "Epoch 10/15\n",
      "244/244 [==============================] - 25s 104ms/step - loss: -2325.3000 - acc: 0.0000e+00 - val_loss: -2955.1350 - val_acc: 0.0000e+00\n",
      "\n",
      "Epoch 00010: val_acc did not improve from 0.00000\n",
      "Epoch 11/15\n",
      "244/244 [==============================] - 25s 102ms/step - loss: -2558.5859 - acc: 0.0000e+00 - val_loss: -3237.7197 - val_acc: 0.0000e+00\n",
      "\n",
      "Epoch 00011: val_acc did not improve from 0.00000\n",
      "Epoch 12/15\n",
      "244/244 [==============================] - 25s 102ms/step - loss: -2792.6414 - acc: 0.0000e+00 - val_loss: -3520.1045 - val_acc: 0.0000e+00\n",
      "\n",
      "Epoch 00012: val_acc did not improve from 0.00000\n",
      "Epoch 13/15\n",
      "244/244 [==============================] - 24s 99ms/step - loss: -3026.0376 - acc: 0.0000e+00 - val_loss: -3803.0159 - val_acc: 0.0000e+00\n",
      "\n",
      "Epoch 00013: val_acc did not improve from 0.00000\n",
      "Epoch 14/15\n",
      "244/244 [==============================] - 24s 100ms/step - loss: -3259.9607 - acc: 0.0000e+00 - val_loss: -4085.8782 - val_acc: 0.0000e+00\n",
      "\n",
      "Epoch 00014: val_acc did not improve from 0.00000\n",
      "Epoch 15/15\n",
      "244/244 [==============================] - 24s 99ms/step - loss: -3493.7844 - acc: 0.0000e+00 - val_loss: -4368.2490 - val_acc: 0.0000e+00\n",
      "\n",
      "Epoch 00015: val_acc did not improve from 0.00000\n"
     ]
    }
   ],
   "source": [
    "model.compile(optimizer='rmsprop', loss='binary_crossentropy', metrics=['acc'])\n",
    "history = model.fit(a_train, y_train, epochs=15, callbacks=[es, mc], batch_size=64, validation_split=0.2)#train 데이터에서 20%만 검증데이터로 사용"
   ]
  },
  {
   "cell_type": "code",
   "execution_count": 72,
   "metadata": {},
   "outputs": [
    {
     "name": "stdout",
     "output_type": "stream",
     "text": [
      "244/244 [==============================] - 6s 23ms/step - loss: -345.6776 - acc: 0.0000e+00\n",
      "\n",
      " 테스트 정확도: 0.0000\n"
     ]
    }
   ],
   "source": [
    "loaded_model = load_model('best_model')\n",
    "print(\"\\n 테스트 정확도: %.4f\" % (loaded_model.evaluate(a_test, y_test)[1]))"
   ]
  },
  {
   "cell_type": "code",
   "execution_count": 73,
   "metadata": {},
   "outputs": [],
   "source": [
    "def review_predict(new_sentence):\n",
    "  new_sentence = re.sub(r'[^ㄱ-ㅎㅏ-ㅣ가-힣 ]','', new_sentence)\n",
    "  new_sentence = okt.morphs(new_sentence, stem=True) \n",
    "  new_sentence = [word for word in new_sentence if not word in stopwords]\n",
    "  encoded = token.texts_to_sequences([new_sentence])\n",
    "  pad_new = pad_sequences(encoded, maxlen = max_len) \n",
    "  score = float(loaded_model.predict(pad_new))\n",
    "  if(score > 0.5):\n",
    "    print(\"{:.2f}% 긍정 리뷰.\\n\".format(score * 100))\n",
    "  else:\n",
    "    print(\"{:.2f}% 부정 리뷰.\\n\".format((1 - score) * 100))"
   ]
  }
 ],
 "metadata": {
  "kernelspec": {
   "display_name": "Python 3",
   "language": "python",
   "name": "python3"
  },
  "language_info": {
   "codemirror_mode": {
    "name": "ipython",
    "version": 3
   },
   "file_extension": ".py",
   "mimetype": "text/x-python",
   "name": "python",
   "nbconvert_exporter": "python",
   "pygments_lexer": "ipython3",
   "version": "3.7.6"
  }
 },
 "nbformat": 4,
 "nbformat_minor": 5
}
