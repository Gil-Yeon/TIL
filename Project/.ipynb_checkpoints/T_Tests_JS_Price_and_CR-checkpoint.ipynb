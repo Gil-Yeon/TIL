{
 "cells": [
  {
   "cell_type": "code",
   "execution_count": 7,
   "metadata": {
    "colab": {
     "base_uri": "https://localhost:8080/"
    },
    "id": "uPWpvbJXAaiU",
    "outputId": "6fc5bb00-de4e-45ce-b19c-8b3c1223ab87"
   },
   "outputs": [
    {
     "name": "stderr",
     "output_type": "stream",
     "text": [
      "'sudo'은(는) 내부 또는 외부 명령, 실행할 수 있는 프로그램, 또는\n",
      "배치 파일이 아닙니다.\n",
      "'sudo'은(는) 내부 또는 외부 명령, 실행할 수 있는 프로그램, 또는\n",
      "배치 파일이 아닙니다.\n",
      "'rm'은(는) 내부 또는 외부 명령, 실행할 수 있는 프로그램, 또는\n",
      "배치 파일이 아닙니다.\n"
     ]
    }
   ],
   "source": [
    "!sudo apt-get install -y fonts-nanum\n",
    "!sudo fc-cache -fv\n",
    "!rm ~/.cache/matplotlib -rf\n"
   ]
  },
  {
   "cell_type": "code",
   "execution_count": 8,
   "metadata": {
    "id": "3QUmkrrW_fGp"
   },
   "outputs": [],
   "source": [
    "import pandas as pd\n",
    "from scipy import stats"
   ]
  },
  {
   "cell_type": "markdown",
   "metadata": {
    "id": "KeGAODOt_pr-"
   },
   "source": [
    "### Create a dataframe with the JS data"
   ]
  },
  {
   "cell_type": "code",
   "execution_count": 11,
   "metadata": {
    "id": "roNLK7Le_tEb"
   },
   "outputs": [],
   "source": [
    "file_path = \"./data/전세가격예측프로젝트_월별데이터_총병합.csv\"\n",
    "df = pd.read_csv(file_path)"
   ]
  },
  {
   "cell_type": "markdown",
   "metadata": {
    "id": "RCbFKmHOAoTk"
   },
   "source": [
    "### Perform a t-test"
   ]
  },
  {
   "cell_type": "code",
   "execution_count": 12,
   "metadata": {
    "id": "mbcmigA3Akxa"
   },
   "outputs": [],
   "source": [
    "t_statistic, p_value = stats.ttest_ind(df['JS_Price'], df['CR'])"
   ]
  },
  {
   "cell_type": "markdown",
   "metadata": {
    "id": "_d4Ycid8A65n"
   },
   "source": [
    "### Get the resutls of t-test"
   ]
  },
  {
   "cell_type": "code",
   "execution_count": 13,
   "metadata": {
    "colab": {
     "base_uri": "https://localhost:8080/"
    },
    "id": "mnBhQnUUA_Xk",
    "outputId": "2bc76f24-b14c-4888-a8fc-6bcee733395f"
   },
   "outputs": [
    {
     "name": "stdout",
     "output_type": "stream",
     "text": [
      "T-Statistic value is 173.9447097725874\n",
      "P-Value is  0.0000\n"
     ]
    }
   ],
   "source": [
    "print('T-Statistic value is', t_statistic)\n",
    "print(f'P-Value is {p_value: .4f}')"
   ]
  },
  {
   "cell_type": "markdown",
   "metadata": {
    "id": "HO_T05OiDANJ"
   },
   "source": [
    "Determine if two datasets would be correlated or could impact on each other."
   ]
  },
  {
   "cell_type": "code",
   "execution_count": 14,
   "metadata": {
    "colab": {
     "base_uri": "https://localhost:8080/"
    },
    "id": "m-OrQHG7C_iB",
    "outputId": "246a94ad-1ba1-46eb-d17e-6d9112a790c4"
   },
   "outputs": [
    {
     "name": "stdout",
     "output_type": "stream",
     "text": [
      "Reject the null hypothesis: There is a significant difference between JS_Price and CR. -> No correlation or impact\n"
     ]
    }
   ],
   "source": [
    "alpha = 0.05  # Significance level\n",
    "if p_value < alpha:\n",
    "    print(\"Reject the null hypothesis: There is a significant difference between JS_Price and CR. -> No correlation or impact\")\n",
    "else:\n",
    "    print(\"Fail to reject the null hypothesis: There is no significant difference between JS_Price and CR. -> Contrary with above\")"
   ]
  }
 ],
 "metadata": {
  "colab": {
   "provenance": []
  },
  "kernelspec": {
   "display_name": "Python 3",
   "language": "python",
   "name": "python3"
  },
  "language_info": {
   "codemirror_mode": {
    "name": "ipython",
    "version": 3
   },
   "file_extension": ".py",
   "mimetype": "text/x-python",
   "name": "python",
   "nbconvert_exporter": "python",
   "pygments_lexer": "ipython3",
   "version": "3.7.6"
  }
 },
 "nbformat": 4,
 "nbformat_minor": 1
}
