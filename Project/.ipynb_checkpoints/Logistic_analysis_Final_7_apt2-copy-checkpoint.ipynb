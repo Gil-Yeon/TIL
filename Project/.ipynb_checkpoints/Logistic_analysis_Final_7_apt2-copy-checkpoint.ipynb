{
 "cells": [
  {
   "cell_type": "code",
   "execution_count": 1,
   "metadata": {
    "scrolled": true
   },
   "outputs": [
    {
     "name": "stderr",
     "output_type": "stream",
     "text": [
      "\n",
      "Bad key text.latex.preview in file C:\\Users\\spa84\\anaconda3\\lib\\site-packages\\matplotlib\\mpl-data\\stylelib\\_classic_test.mplstyle, line 123 ('text.latex.preview : False')\n",
      "You probably need to get an updated matplotlibrc file from\n",
      "https://github.com/matplotlib/matplotlib/blob/v3.5.3/matplotlibrc.template\n",
      "or from the matplotlib source distribution\n",
      "\n",
      "Bad key mathtext.fallback_to_cm in file C:\\Users\\spa84\\anaconda3\\lib\\site-packages\\matplotlib\\mpl-data\\stylelib\\_classic_test.mplstyle, line 155 ('mathtext.fallback_to_cm : True  # When True, use symbols from the Computer Modern')\n",
      "You probably need to get an updated matplotlibrc file from\n",
      "https://github.com/matplotlib/matplotlib/blob/v3.5.3/matplotlibrc.template\n",
      "or from the matplotlib source distribution\n",
      "\n",
      "Bad key savefig.jpeg_quality in file C:\\Users\\spa84\\anaconda3\\lib\\site-packages\\matplotlib\\mpl-data\\stylelib\\_classic_test.mplstyle, line 418 ('savefig.jpeg_quality: 95       # when a jpeg is saved, the default quality parameter.')\n",
      "You probably need to get an updated matplotlibrc file from\n",
      "https://github.com/matplotlib/matplotlib/blob/v3.5.3/matplotlibrc.template\n",
      "or from the matplotlib source distribution\n",
      "\n",
      "Bad key keymap.all_axes in file C:\\Users\\spa84\\anaconda3\\lib\\site-packages\\matplotlib\\mpl-data\\stylelib\\_classic_test.mplstyle, line 466 ('keymap.all_axes : a                 # enable all axes')\n",
      "You probably need to get an updated matplotlibrc file from\n",
      "https://github.com/matplotlib/matplotlib/blob/v3.5.3/matplotlibrc.template\n",
      "or from the matplotlib source distribution\n",
      "\n",
      "Bad key animation.avconv_path in file C:\\Users\\spa84\\anaconda3\\lib\\site-packages\\matplotlib\\mpl-data\\stylelib\\_classic_test.mplstyle, line 477 ('animation.avconv_path: avconv     # Path to avconv binary. Without full path')\n",
      "You probably need to get an updated matplotlibrc file from\n",
      "https://github.com/matplotlib/matplotlib/blob/v3.5.3/matplotlibrc.template\n",
      "or from the matplotlib source distribution\n",
      "\n",
      "Bad key animation.avconv_args in file C:\\Users\\spa84\\anaconda3\\lib\\site-packages\\matplotlib\\mpl-data\\stylelib\\_classic_test.mplstyle, line 479 ('animation.avconv_args:            # Additional arguments to pass to avconv')\n",
      "You probably need to get an updated matplotlibrc file from\n",
      "https://github.com/matplotlib/matplotlib/blob/v3.5.3/matplotlibrc.template\n",
      "or from the matplotlib source distribution\n"
     ]
    }
   ],
   "source": [
    "import pandas as pd\n",
    "import numpy as np\n",
    "import statsmodels.api as sm\n",
    "import statsmodels.stats.api as sms\n",
    "from scipy import stats\n",
    "import matplotlib.pyplot as plt\n",
    "import plotly.express as px\n",
    "import scipy\n",
    "import seaborn as sns\n",
    "from sklearn.preprocessing import MinMaxScaler, StandardScaler\n",
    "from statsmodels.stats.outliers_influence import variance_inflation_factor\n",
    "import math\n",
    "import warnings\n",
    "from sklearn.model_selection import train_test_split, KFold, learning_curve\n",
    "from sklearn.linear_model import LogisticRegression\n",
    "from sklearn.feature_selection import SelectFromModel\n",
    "import random\n",
    "from imblearn.over_sampling import RandomOverSampler\n",
    "from sklearn.metrics import accuracy_score"
   ]
  },
  {
   "cell_type": "code",
   "execution_count": 2,
   "metadata": {},
   "outputs": [],
   "source": [
    "warnings.simplefilter('ignore')"
   ]
  },
  {
   "cell_type": "code",
   "execution_count": 3,
   "metadata": {},
   "outputs": [],
   "source": [
    "df = pd.read_csv('./data/APT_data.csv')"
   ]
  },
  {
   "cell_type": "code",
   "execution_count": 4,
   "metadata": {
    "scrolled": true
   },
   "outputs": [
    {
     "name": "stdout",
     "output_type": "stream",
     "text": [
      "<class 'pandas.core.frame.DataFrame'>\n",
      "RangeIndex: 100000 entries, 0 to 99999\n",
      "Data columns (total 22 columns):\n",
      " #   Column                           Non-Null Count   Dtype  \n",
      "---  ------                           --------------   -----  \n",
      " 0   Floor                            100000 non-null  float64\n",
      " 1   Building_Age                     100000 non-null  int64  \n",
      " 2   JS_BA                            100000 non-null  float64\n",
      " 3   Population                       100000 non-null  int64  \n",
      " 4   IR                               100000 non-null  float64\n",
      " 5   LC_index                         100000 non-null  float64\n",
      " 6   CA_index                         100000 non-null  float64\n",
      " 7   TC_index                         100000 non-null  float64\n",
      " 8   SDT_index                        100000 non-null  float64\n",
      " 9   Crime_Rates                      100000 non-null  float64\n",
      " 10  latitude                         100000 non-null  float64\n",
      " 11  longitude                        100000 non-null  float64\n",
      " 12  Sell_Price                       100000 non-null  float64\n",
      " 13  Shortest_Distance_to_Subway      100000 non-null  float64\n",
      " 14  Shortest_Distance_to_University  100000 non-null  float64\n",
      " 15  Shortest_Distance_to_School      100000 non-null  float64\n",
      " 16  JS_Price                         100000 non-null  int64  \n",
      " 17  Region_Name_y                    100000 non-null  object \n",
      " 18  Building_Use_y                   100000 non-null  object \n",
      " 19  YearMonth                        100000 non-null  int64  \n",
      " 20  UR                               100000 non-null  float64\n",
      " 21  HSP_index                        100000 non-null  float64\n",
      "dtypes: float64(16), int64(4), object(2)\n",
      "memory usage: 16.8+ MB\n"
     ]
    }
   ],
   "source": [
    "df.info()"
   ]
  },
  {
   "cell_type": "markdown",
   "metadata": {},
   "source": [
    "## Categorical:\n",
    "\n",
    "- Nominal(variables that have two or more categories, but which do not have an intrinsic order.)\n",
    "\n",
    "    - Region_Name : 자치구 명\n",
    "    - Building_Use : 건물 용도\n",
    "    \n",
    "- Ordinal(variables that have two or more categories just like nominal variables. Only the categories can also be ordered or ranked.)\n",
    "\n",
    "    \n",
    "## Numeric:\n",
    "\n",
    "- Discrete\n",
    "    - YearMonth : 년월\n",
    "    - Building_Age : 건물연식\n",
    "    - JS_Price : 전세가\n",
    "   \n",
    "- Continous\n",
    "    - Sell_Price : 매매 가격\n",
    "    - JS_BA = JS_Building Area : 임대 면적\n",
    "    - lR = Interest Rate : 금리\n",
    "    - UR = Unemployment Rate : 실업률\n",
    "    - LC_index = Leading Composite index : 선행종합 지수\n",
    "    - CA_index = Comprehensive Accompany index : 동행종합 지수\n",
    "    - TC_index = Trailing Composite index : 후행종합 지수\n",
    "    - SDT_index = Supply and Demand Trend index = 전세수급동향 지수\n",
    "    - HSP_index = \n",
    "    - Population : 인구수\n",
    "    - Crime_Rates : 범죄율\n",
    "    - Shortest_Distance_to_Subway : 가장 가까운 지하철역과의 거리\n",
    "    - Shortest_Distance_to_School : 가장 가까운 초중고등학교와의 거리\n",
    "    - Shortest_Distance_to_Univ : 가장 가까운 대학교와의 거리\n",
    "    - Shortest_Distance_to_Park : 가장 가까운 공원과의 거리\n",
    "    "
   ]
  },
  {
   "cell_type": "markdown",
   "metadata": {},
   "source": [
    "## 데이터 전처리"
   ]
  },
  {
   "cell_type": "code",
   "execution_count": 5,
   "metadata": {
    "scrolled": false
   },
   "outputs": [],
   "source": [
    "# 범주형 변수 리스트 지정\n",
    "categorical_columns = ['Building_Use_y', 'Region_Name_y', 'YearMonth']\n",
    "target_column = 'JS_Price'\n",
    "\n",
    "# 데이터 분할: 학습용(train), 테스트용(test)\n",
    "train_data, test_data = train_test_split(df, test_size=0.2, random_state=42)"
   ]
  },
  {
   "cell_type": "markdown",
   "metadata": {},
   "source": [
    "- 교차검증용 데이터 생성"
   ]
  },
  {
   "cell_type": "code",
   "execution_count": 6,
   "metadata": {},
   "outputs": [],
   "source": [
    "# 학습 데이터에서 검증용(validation) 데이터를 다시 분할\n",
    "# 데이터를 5개의 폴드로 분할\n",
    "kf = KFold(n_splits=5, random_state=42, shuffle=True)\n",
    "\n",
    "# 데이터를 저장할 리스트 생성\n",
    "fold_train_data = []\n",
    "fold_val_data = []\n",
    "\n",
    "# 5개의 폴드에 대해 반복\n",
    "for train_index, val_index in kf.split(train_data):\n",
    "    # 각 폴드에 대한 학습 데이터와 검증 데이터 생성\n",
    "    fold_train = train_data.iloc[train_index]\n",
    "    fold_val = train_data.iloc[val_index]\n",
    "    \n",
    "    # 각 범주형 변수에 대한 인코딩 매핑을 저장할 딕셔너리 초기화\n",
    "    encoding_maps = {}\n",
    "\n",
    "    # 학습 데이터에서 각 범주의 평균 타겟 값 계산 및 매핑 저장\n",
    "    for categorical_column in categorical_columns:\n",
    "        encoding_map = fold_train.groupby(categorical_column)[target_column].mean().to_dict()\n",
    "        encoding_maps[categorical_column] = encoding_map\n",
    "\n",
    "        # 학습 데이터에 타겟 인코딩 적용\n",
    "        fold_train[categorical_column + '_encoded'] = fold_train[categorical_column].map(encoding_map)\n",
    "        fold_val[categorical_column + '_encoded'] = fold_val[categorical_column].map(encoding_map)\n",
    "\n",
    "        # 기존 범주형 변수 삭제\n",
    "        fold_train.drop(columns=[categorical_column], inplace=True)\n",
    "        fold_val.drop(columns=[categorical_column], inplace=True)\n",
    "        \n",
    "    # JS_Price를 4개의 범주로 나눔\n",
    "    fold_train['JS_Price_Category'] = pd.cut(fold_train['JS_Price'], bins=5, labels=False)\n",
    "    fold_val['JS_Price_Category'] = pd.cut(fold_val['JS_Price'], bins=5, labels=False)\n",
    "\n",
    "    # 기존 변수 삭제\n",
    "    fold_train.drop('JS_Price', axis=1, inplace=True)\n",
    "    fold_val.drop('JS_Price', axis=1, inplace=True)\n",
    "\n",
    "    # 오버샘플링할 데이터와 레이블을 준비합니다.\n",
    "    X_fold_train = fold_train.drop('JS_Price_Category', axis=1)  # 독립변수\n",
    "    Y_fold_train = fold_train['JS_Price_Category']  # 종속변수\n",
    "\n",
    "    X_fold_val = fold_val.drop('JS_Price_Category', axis=1)  # 검증 독립변수\n",
    "    Y_fold_val = fold_val['JS_Price_Category']  # 검증 종속변수\n",
    "\n",
    "    # RandomOverSampler를 초기화합니다.\n",
    "    oversampler = RandomOverSampler(sampling_strategy='auto', random_state=42)\n",
    "\n",
    "    # 오버샘플링을 적용합니다(검증 데이터에는 적용하지 않습니다).\n",
    "    X_fold_train_resampled, Y_fold_train_resampled = oversampler.fit_resample(X_fold_train, Y_fold_train)\n",
    "\n",
    "    # 오버샘플링된 데이터를 새로운 데이터프레임으로 만듭니다.\n",
    "    fold_train_resampled = pd.concat([X_fold_train_resampled, Y_fold_train_resampled], axis=1)\n",
    "\n",
    "    fold_train_data.append(fold_train_resampled)\n",
    "    fold_val_data.append(fold_val)"
   ]
  },
  {
   "cell_type": "code",
   "execution_count": 7,
   "metadata": {},
   "outputs": [],
   "source": [
    "# 각 범주형 변수에 대한 인코딩 매핑을 저장할 딕셔너리 초기화\n",
    "encoding_maps = {}\n",
    "\n",
    "# 학습 데이터에서 각 범주의 평균 타겟 값 계산 및 매핑 저장\n",
    "for categorical_column in categorical_columns:\n",
    "    encoding_map = train_data.groupby(categorical_column)[target_column].mean().to_dict()\n",
    "    encoding_maps[categorical_column] = encoding_map\n",
    "\n",
    "    # 학습 데이터에 타겟 인코딩 적용\n",
    "    train_data[categorical_column + '_encoded'] = train_data[categorical_column].map(encoding_map)\n",
    "    test_data[categorical_column + '_encoded'] = test_data[categorical_column].map(encoding_map)\n",
    "\n",
    "    # 기존 범주형 변수 삭제\n",
    "    train_data.drop(columns=[categorical_column], inplace=True)\n",
    "    test_data.drop(columns=[categorical_column], inplace=True)"
   ]
  },
  {
   "cell_type": "code",
   "execution_count": 8,
   "metadata": {},
   "outputs": [
    {
     "name": "stdout",
     "output_type": "stream",
     "text": [
      "구간의 경계값:\n",
      "[(128.633, 101506.4], (101506.4, 202379.8], (202379.8, 303253.2], (303253.2, 404126.6], (404126.6, 505000.0]]\n",
      "Categories (5, interval[float64, right]): [(128.633, 101506.4] < (101506.4, 202379.8] < (202379.8, 303253.2] < (303253.2, 404126.6] < (404126.6, 505000.0]]\n"
     ]
    }
   ],
   "source": [
    "# JS_Price를 4개의 범주로 나눔\n",
    "train_data['JS_Price_Category'] = pd.cut(train_data['JS_Price'], bins=5, labels=False)\n",
    "test_data['JS_Price_Category'] = pd.cut(test_data['JS_Price'], bins=5, labels=False)\n",
    "\n",
    "# 각 구간의 경계값을 구함\n",
    "bin_edges = pd.cut(df['JS_Price'], bins=5).unique()\n",
    "\n",
    "# 결과 출력\n",
    "print(\"구간의 경계값:\")\n",
    "print(bin_edges)\n",
    "\n",
    "# 기존 변수 삭제\n",
    "train_data.drop('JS_Price', axis=1, inplace=True)\n",
    "test_data.drop('JS_Price', axis=1, inplace=True)\n",
    "\n",
    "# 오버샘플링할 데이터와 레이블을 준비합니다.\n",
    "X_train = train_data.drop('JS_Price_Category', axis=1)  # 독립변수\n",
    "Y_train = train_data['JS_Price_Category']  # 종속변수\n",
    "X_test = test_data.drop('JS_Price_Category', axis=1)  # 테스트 독립변수\n",
    "Y_test = test_data['JS_Price_Category']  # 테스트 종속변수\n",
    "\n",
    "# RandomOverSampler를 초기화합니다.\n",
    "oversampler = RandomOverSampler(sampling_strategy='auto', random_state=42)\n",
    "\n",
    "# 오버샘플링을 적용합니다(테스트 데이터는 일반화 성능 평가를 위해 적용X)\n",
    "X_train_resampled, Y_train_resampled = oversampler.fit_resample(X_train, Y_train)\n",
    "\n",
    "# 오버샘플링된 데이터를 새로운 데이터프레임으로 만듭니다.\n",
    "train_data_resampled = pd.concat([X_train_resampled, Y_train_resampled], axis=1)"
   ]
  },
  {
   "cell_type": "code",
   "execution_count": 9,
   "metadata": {},
   "outputs": [],
   "source": [
    "selected_features = ['Population',\n",
    "'Crime_Rates',\n",
    "'YearMonth_encoded',\n",
    "'HSP_index',\n",
    "'TC_index',\n",
    "'CA_index',\n",
    "'SDT_index',\n",
    "'IR',\n",
    "'UR',\n",
    "'Floor']"
   ]
  },
  {
   "cell_type": "markdown",
   "metadata": {},
   "source": [
    "# Logistic Regression Analysis"
   ]
  },
  {
   "cell_type": "markdown",
   "metadata": {},
   "source": [
    "## 사이킷런 모델 생성"
   ]
  },
  {
   "cell_type": "code",
   "execution_count": 10,
   "metadata": {
    "scrolled": false
   },
   "outputs": [
    {
     "data": {
      "text/plain": [
       "LogisticRegression(multi_class='multinomial')"
      ]
     },
     "execution_count": 10,
     "metadata": {},
     "output_type": "execute_result"
    }
   ],
   "source": [
    "# 독립 변수 선택\n",
    "X_train_resampled = train_data_resampled[selected_features]\n",
    "\n",
    "# 테스트 데이터에 대해 동일한 특성 선택 적용\n",
    "X_test = X_test[selected_features]\n",
    "\n",
    "# 데이터 표준화 (선택적)\n",
    "scaler = StandardScaler()\n",
    "X_train_resampled = scaler.fit_transform(X_train_resampled)\n",
    "X_test = scaler.transform(X_test)\n",
    "\n",
    "# 다항 로지스틱 회귀 모델 생성\n",
    "model = LogisticRegression(multi_class='multinomial', solver='lbfgs')\n",
    "model.fit(X_train_resampled, Y_train_resampled)"
   ]
  },
  {
   "cell_type": "markdown",
   "metadata": {},
   "source": [
    "### 학습곡선"
   ]
  },
  {
   "cell_type": "code",
   "execution_count": 11,
   "metadata": {
    "scrolled": false
   },
   "outputs": [
    {
     "data": {
      "image/png": "[encoded data removed]",
      "text/plain": [
       "<Figure size 720x432 with 1 Axes>"
      ]
     },
     "metadata": {
      "needs_background": "light"
     },
     "output_type": "display_data"
    }
   ],
   "source": [
    "# 검증 데이터에 대해 동일한 특성 선택 적용\n",
    "X_val = fold_val_data[4][selected_features]\n",
    "\n",
    "# 검증 데이터에 대한 표준화 (선택적)\n",
    "X_val = scaler.transform(X_val)\n",
    "\n",
    "# 다양한 훈련 샘플 크기 설정\n",
    "train_sizes = np.linspace(0.1, 1.0, 10)  # 10개의 다양한 훈련 크기\n",
    "\n",
    "# 결과를 저장할 리스트 초기화\n",
    "train_accuracy = []\n",
    "val_accuracy = []\n",
    "\n",
    "# 각 훈련 크기에 대해 모델 학습 및 평가\n",
    "for train_size in train_sizes:\n",
    "    # 훈련 크기에 맞게 데이터 샘플링\n",
    "    num_samples = int(train_size * X_train_resampled.shape[0])\n",
    "    X_train_subset = X_train_resampled[:num_samples]\n",
    "    Y_train_subset = Y_train_resampled[:num_samples]\n",
    "    \n",
    "    # 모델 학습\n",
    "    model.fit(X_train_subset, Y_train_subset)\n",
    "    \n",
    "    # 학습 데이터와 검증 데이터에 대한 정확도 계산\n",
    "    train_pred = model.predict(X_train_subset)\n",
    "    val_pred = model.predict(X_val)\n",
    "    \n",
    "    train_accuracy.append(accuracy_score(Y_train_subset, train_pred))\n",
    "    val_accuracy.append(accuracy_score(Y_fold_val, val_pred))\n",
    "\n",
    "# 학습 곡선 그리기\n",
    "plt.figure(figsize=(10, 6))\n",
    "plt.plot(train_sizes, train_accuracy, marker='o', label='Training Accuracy')\n",
    "plt.plot(train_sizes, val_accuracy, marker='o', label='Validation Accuracy')\n",
    "plt.xlabel('Training Sample Size')\n",
    "plt.ylabel('Accuracy')\n",
    "plt.title('Learning Curve')\n",
    "plt.legend()\n",
    "plt.grid(True)\n",
    "plt.show()"
   ]
  },
  {
   "cell_type": "markdown",
   "metadata": {},
   "source": [
    "## 변수선택법\n",
    "- 모델의 복잡성이 줄어든 상태에서 통계적 유의성을 고려하여 변수선택을 위해 다중공선성과 p-value 체크"
   ]
  },
  {
   "cell_type": "markdown",
   "metadata": {},
   "source": [
    "### 다중공선성-VIF"
   ]
  },
  {
   "cell_type": "code",
   "execution_count": 12,
   "metadata": {
    "scrolled": false
   },
   "outputs": [
    {
     "name": "stdout",
     "output_type": "stream",
     "text": [
      "독립 변수별 VIF:\n",
      "            Features        VIF\n",
      "0         Population   1.155592\n",
      "1        Crime_Rates   1.312423\n",
      "2  YearMonth_encoded   8.547155\n",
      "3          HSP_index   6.249034\n",
      "4           TC_index  89.337658\n",
      "5           CA_index  80.778438\n",
      "6          SDT_index   5.073301\n",
      "7                 IR   8.793044\n",
      "8                 UR   1.398107\n",
      "9              Floor   1.320433\n"
     ]
    }
   ],
   "source": [
    "# X_train_resampled을 DataFrame으로 변환\n",
    "X_train_resampled_df = pd.DataFrame(X_train_resampled, columns=selected_features)\n",
    "\n",
    "# 각 독립 변수의 VIF 계산\n",
    "vif = pd.DataFrame()\n",
    "vif[\"Features\"] = X_train_resampled_df.columns\n",
    "vif[\"VIF\"] = [variance_inflation_factor(X_train_resampled_df.values, i) for i in range(X_train_resampled_df.shape[1])]\n",
    "\n",
    "print(\"독립 변수별 VIF:\")\n",
    "print(vif)"
   ]
  },
  {
   "cell_type": "code",
   "execution_count": 13,
   "metadata": {},
   "outputs": [],
   "source": [
    "vif = vif.sort_values('VIF', ascending=False)\n",
    "vif.reset_index(drop=True, inplace=True)\n",
    "vif.to_csv('vif.csv')"
   ]
  },
  {
   "cell_type": "markdown",
   "metadata": {},
   "source": [
    "- VIF값 10을 기준으로 높으면 변수에서 제거할 요인으로 본다면 CA_index, TC_index를 제외한다."
   ]
  },
  {
   "cell_type": "markdown",
   "metadata": {},
   "source": [
    "## 통계 모델 생성"
   ]
  },
  {
   "cell_type": "code",
   "execution_count": 14,
   "metadata": {},
   "outputs": [],
   "source": [
    "selected_features = ['Population',\n",
    "'Crime_Rates',\n",
    "'YearMonth_encoded',\n",
    "'HSP_index',\n",
    "'SDT_index',\n",
    "'IR',\n",
    "'UR',\n",
    "'Floor']"
   ]
  },
  {
   "cell_type": "code",
   "execution_count": 15,
   "metadata": {
    "scrolled": true
   },
   "outputs": [
    {
     "name": "stdout",
     "output_type": "stream",
     "text": [
      "Optimization terminated successfully.\n",
      "         Current function value: 1.016018\n",
      "         Iterations 10\n"
     ]
    }
   ],
   "source": [
    "# 독립 변수 선택\n",
    "X_train_resampled = train_data_resampled[selected_features]\n",
    "\n",
    "# 다항 로지스틱 회귀 모델 생성 (상수항 추가)\n",
    "X_train_resampled = sm.add_constant(X_train_resampled)\n",
    "model = sm.MNLogit(Y_train_resampled, X_train_resampled)\n",
    "\n",
    "# 모델 피팅\n",
    "result = model.fit()"
   ]
  },
  {
   "cell_type": "code",
   "execution_count": 16,
   "metadata": {},
   "outputs": [
    {
     "data": {
      "text/html": [
       "<table class=\"simpletable\">\n",
       "<caption>MNLogit Regression Results</caption>\n",
       "<tr>\n",
       "  <th>Dep. Variable:</th>   <td>JS_Price_Category</td> <th>  No. Observations:  </th>   <td>389385</td>   \n",
       "</tr>\n",
       "<tr>\n",
       "  <th>Model:</th>                <td>MNLogit</td>      <th>  Df Residuals:      </th>   <td>389349</td>   \n",
       "</tr>\n",
       "<tr>\n",
       "  <th>Method:</th>                 <td>MLE</td>        <th>  Df Model:          </th>   <td>    32</td>   \n",
       "</tr>\n",
       "<tr>\n",
       "  <th>Date:</th>            <td>Sun, 24 Sep 2023</td>  <th>  Pseudo R-squ.:     </th>   <td>0.3687</td>   \n",
       "</tr>\n",
       "<tr>\n",
       "  <th>Time:</th>                <td>17:06:34</td>      <th>  Log-Likelihood:    </th> <td>-3.9562e+05</td>\n",
       "</tr>\n",
       "<tr>\n",
       "  <th>converged:</th>             <td>True</td>        <th>  LL-Null:           </th> <td>-6.2669e+05</td>\n",
       "</tr>\n",
       "<tr>\n",
       "  <th>Covariance Type:</th>     <td>nonrobust</td>     <th>  LLR p-value:       </th>   <td> 0.000</td>   \n",
       "</tr>\n",
       "</table>\n",
       "<table class=\"simpletable\">\n",
       "<tr>\n",
       "  <th>JS_Price_Category=1</th>    <th>coef</th>     <th>std err</th>      <th>z</th>      <th>P>|z|</th>  <th>[0.025</th>    <th>0.975]</th>  \n",
       "</tr>\n",
       "<tr>\n",
       "  <th>const</th>               <td>   -3.6421</td> <td>    0.115</td> <td>  -31.715</td> <td> 0.000</td> <td>   -3.867</td> <td>   -3.417</td>\n",
       "</tr>\n",
       "<tr>\n",
       "  <th>Population</th>          <td>-3.788e-07</td> <td> 5.29e-08</td> <td>   -7.156</td> <td> 0.000</td> <td>-4.83e-07</td> <td>-2.75e-07</td>\n",
       "</tr>\n",
       "<tr>\n",
       "  <th>Crime_Rates</th>         <td>   -0.2890</td> <td>    0.019</td> <td>  -15.424</td> <td> 0.000</td> <td>   -0.326</td> <td>   -0.252</td>\n",
       "</tr>\n",
       "<tr>\n",
       "  <th>YearMonth_encoded</th>   <td> 9.935e-05</td> <td> 1.39e-06</td> <td>   71.557</td> <td> 0.000</td> <td> 9.66e-05</td> <td>    0.000</td>\n",
       "</tr>\n",
       "<tr>\n",
       "  <th>HSP_index</th>           <td>    0.0015</td> <td>    0.000</td> <td>    4.535</td> <td> 0.000</td> <td>    0.001</td> <td>    0.002</td>\n",
       "</tr>\n",
       "<tr>\n",
       "  <th>SDT_index</th>           <td>   -0.0040</td> <td>    0.001</td> <td>   -7.701</td> <td> 0.000</td> <td>   -0.005</td> <td>   -0.003</td>\n",
       "</tr>\n",
       "<tr>\n",
       "  <th>IR</th>                  <td>   -0.1005</td> <td>    0.010</td> <td>  -10.403</td> <td> 0.000</td> <td>   -0.119</td> <td>   -0.082</td>\n",
       "</tr>\n",
       "<tr>\n",
       "  <th>UR</th>                  <td>    0.0223</td> <td>    0.011</td> <td>    2.096</td> <td> 0.036</td> <td>    0.001</td> <td>    0.043</td>\n",
       "</tr>\n",
       "<tr>\n",
       "  <th>Floor</th>               <td>    0.0085</td> <td>    0.001</td> <td>    8.626</td> <td> 0.000</td> <td>    0.007</td> <td>    0.010</td>\n",
       "</tr>\n",
       "<tr>\n",
       "  <th>JS_Price_Category=2</th>    <th>coef</th>     <th>std err</th>      <th>z</th>      <th>P>|z|</th>  <th>[0.025</th>    <th>0.975]</th>  \n",
       "</tr>\n",
       "<tr>\n",
       "  <th>const</th>               <td>   -1.2722</td> <td>    0.121</td> <td>  -10.556</td> <td> 0.000</td> <td>   -1.508</td> <td>   -1.036</td>\n",
       "</tr>\n",
       "<tr>\n",
       "  <th>Population</th>          <td>-7.232e-07</td> <td> 5.74e-08</td> <td>  -12.603</td> <td> 0.000</td> <td>-8.36e-07</td> <td>-6.11e-07</td>\n",
       "</tr>\n",
       "<tr>\n",
       "  <th>Crime_Rates</th>         <td>   -0.8381</td> <td>    0.021</td> <td>  -38.992</td> <td> 0.000</td> <td>   -0.880</td> <td>   -0.796</td>\n",
       "</tr>\n",
       "<tr>\n",
       "  <th>YearMonth_encoded</th>   <td>    0.0002</td> <td> 1.61e-06</td> <td>  105.943</td> <td> 0.000</td> <td>    0.000</td> <td>    0.000</td>\n",
       "</tr>\n",
       "<tr>\n",
       "  <th>HSP_index</th>           <td>   -0.0037</td> <td>    0.000</td> <td>  -10.096</td> <td> 0.000</td> <td>   -0.004</td> <td>   -0.003</td>\n",
       "</tr>\n",
       "<tr>\n",
       "  <th>SDT_index</th>           <td>   -0.0258</td> <td>    0.001</td> <td>  -45.095</td> <td> 0.000</td> <td>   -0.027</td> <td>   -0.025</td>\n",
       "</tr>\n",
       "<tr>\n",
       "  <th>IR</th>                  <td>   -0.5868</td> <td>    0.011</td> <td>  -53.005</td> <td> 0.000</td> <td>   -0.609</td> <td>   -0.565</td>\n",
       "</tr>\n",
       "<tr>\n",
       "  <th>UR</th>                  <td>   -0.4482</td> <td>    0.011</td> <td>  -39.306</td> <td> 0.000</td> <td>   -0.471</td> <td>   -0.426</td>\n",
       "</tr>\n",
       "<tr>\n",
       "  <th>Floor</th>               <td>    0.0134</td> <td>    0.001</td> <td>   12.248</td> <td> 0.000</td> <td>    0.011</td> <td>    0.016</td>\n",
       "</tr>\n",
       "<tr>\n",
       "  <th>JS_Price_Category=3</th>    <th>coef</th>     <th>std err</th>      <th>z</th>      <th>P>|z|</th>  <th>[0.025</th>    <th>0.975]</th>  \n",
       "</tr>\n",
       "<tr>\n",
       "  <th>const</th>               <td>  -13.4950</td> <td>    0.158</td> <td>  -85.259</td> <td> 0.000</td> <td>  -13.805</td> <td>  -13.185</td>\n",
       "</tr>\n",
       "<tr>\n",
       "  <th>Population</th>          <td> -2.26e-07</td> <td> 6.54e-08</td> <td>   -3.457</td> <td> 0.001</td> <td>-3.54e-07</td> <td>-9.79e-08</td>\n",
       "</tr>\n",
       "<tr>\n",
       "  <th>Crime_Rates</th>         <td>   -3.8607</td> <td>    0.034</td> <td> -113.184</td> <td> 0.000</td> <td>   -3.928</td> <td>   -3.794</td>\n",
       "</tr>\n",
       "<tr>\n",
       "  <th>YearMonth_encoded</th>   <td>    0.0004</td> <td> 2.03e-06</td> <td>  199.803</td> <td> 0.000</td> <td>    0.000</td> <td>    0.000</td>\n",
       "</tr>\n",
       "<tr>\n",
       "  <th>HSP_index</th>           <td>   -0.0242</td> <td>    0.000</td> <td>  -57.631</td> <td> 0.000</td> <td>   -0.025</td> <td>   -0.023</td>\n",
       "</tr>\n",
       "<tr>\n",
       "  <th>SDT_index</th>           <td>    0.0280</td> <td>    0.001</td> <td>   35.647</td> <td> 0.000</td> <td>    0.026</td> <td>    0.030</td>\n",
       "</tr>\n",
       "<tr>\n",
       "  <th>IR</th>                  <td>    0.4568</td> <td>    0.013</td> <td>   36.015</td> <td> 0.000</td> <td>    0.432</td> <td>    0.482</td>\n",
       "</tr>\n",
       "<tr>\n",
       "  <th>UR</th>                  <td>   -0.6672</td> <td>    0.013</td> <td>  -51.663</td> <td> 0.000</td> <td>   -0.693</td> <td>   -0.642</td>\n",
       "</tr>\n",
       "<tr>\n",
       "  <th>Floor</th>               <td>   -0.1460</td> <td>    0.001</td> <td>  -99.409</td> <td> 0.000</td> <td>   -0.149</td> <td>   -0.143</td>\n",
       "</tr>\n",
       "<tr>\n",
       "  <th>JS_Price_Category=4</th>    <th>coef</th>     <th>std err</th>      <th>z</th>      <th>P>|z|</th>  <th>[0.025</th>    <th>0.975]</th>  \n",
       "</tr>\n",
       "<tr>\n",
       "  <th>const</th>               <td>   47.2317</td> <td>    0.324</td> <td>  145.770</td> <td> 0.000</td> <td>   46.597</td> <td>   47.867</td>\n",
       "</tr>\n",
       "<tr>\n",
       "  <th>Population</th>          <td>-1.951e-05</td> <td> 1.31e-07</td> <td> -149.442</td> <td> 0.000</td> <td>-1.98e-05</td> <td>-1.93e-05</td>\n",
       "</tr>\n",
       "<tr>\n",
       "  <th>Crime_Rates</th>         <td>  -10.5845</td> <td>    0.065</td> <td> -163.381</td> <td> 0.000</td> <td>  -10.711</td> <td>  -10.458</td>\n",
       "</tr>\n",
       "<tr>\n",
       "  <th>YearMonth_encoded</th>   <td>    0.0003</td> <td> 3.15e-06</td> <td>   98.306</td> <td> 0.000</td> <td>    0.000</td> <td>    0.000</td>\n",
       "</tr>\n",
       "<tr>\n",
       "  <th>HSP_index</th>           <td>    0.0102</td> <td>    0.001</td> <td>   11.722</td> <td> 0.000</td> <td>    0.009</td> <td>    0.012</td>\n",
       "</tr>\n",
       "<tr>\n",
       "  <th>SDT_index</th>           <td>   -0.2821</td> <td>    0.002</td> <td> -157.149</td> <td> 0.000</td> <td>   -0.286</td> <td>   -0.279</td>\n",
       "</tr>\n",
       "<tr>\n",
       "  <th>IR</th>                  <td>   -4.5878</td> <td>    0.033</td> <td> -140.177</td> <td> 0.000</td> <td>   -4.652</td> <td>   -4.524</td>\n",
       "</tr>\n",
       "<tr>\n",
       "  <th>UR</th>                  <td>   -5.3455</td> <td>    0.036</td> <td> -146.673</td> <td> 0.000</td> <td>   -5.417</td> <td>   -5.274</td>\n",
       "</tr>\n",
       "<tr>\n",
       "  <th>Floor</th>               <td>    0.2745</td> <td>    0.002</td> <td>  112.972</td> <td> 0.000</td> <td>    0.270</td> <td>    0.279</td>\n",
       "</tr>\n",
       "</table>"
      ],
      "text/plain": [
       "<class 'statsmodels.iolib.summary.Summary'>\n",
       "\"\"\"\n",
       "                          MNLogit Regression Results                          \n",
       "==============================================================================\n",
       "Dep. Variable:      JS_Price_Category   No. Observations:               389385\n",
       "Model:                        MNLogit   Df Residuals:                   389349\n",
       "Method:                           MLE   Df Model:                           32\n",
       "Date:                Sun, 24 Sep 2023   Pseudo R-squ.:                  0.3687\n",
       "Time:                        17:06:34   Log-Likelihood:            -3.9562e+05\n",
       "converged:                       True   LL-Null:                   -6.2669e+05\n",
       "Covariance Type:            nonrobust   LLR p-value:                     0.000\n",
       "=======================================================================================\n",
       "JS_Price_Category=1       coef    std err          z      P>|z|      [0.025      0.975]\n",
       "---------------------------------------------------------------------------------------\n",
       "const                  -3.6421      0.115    -31.715      0.000      -3.867      -3.417\n",
       "Population          -3.788e-07   5.29e-08     -7.156      0.000   -4.83e-07   -2.75e-07\n",
       "Crime_Rates            -0.2890      0.019    -15.424      0.000      -0.326      -0.252\n",
       "YearMonth_encoded    9.935e-05   1.39e-06     71.557      0.000    9.66e-05       0.000\n",
       "HSP_index               0.0015      0.000      4.535      0.000       0.001       0.002\n",
       "SDT_index              -0.0040      0.001     -7.701      0.000      -0.005      -0.003\n",
       "IR                     -0.1005      0.010    -10.403      0.000      -0.119      -0.082\n",
       "UR                      0.0223      0.011      2.096      0.036       0.001       0.043\n",
       "Floor                   0.0085      0.001      8.626      0.000       0.007       0.010\n",
       "---------------------------------------------------------------------------------------\n",
       "JS_Price_Category=2       coef    std err          z      P>|z|      [0.025      0.975]\n",
       "---------------------------------------------------------------------------------------\n",
       "const                  -1.2722      0.121    -10.556      0.000      -1.508      -1.036\n",
       "Population          -7.232e-07   5.74e-08    -12.603      0.000   -8.36e-07   -6.11e-07\n",
       "Crime_Rates            -0.8381      0.021    -38.992      0.000      -0.880      -0.796\n",
       "YearMonth_encoded       0.0002   1.61e-06    105.943      0.000       0.000       0.000\n",
       "HSP_index              -0.0037      0.000    -10.096      0.000      -0.004      -0.003\n",
       "SDT_index              -0.0258      0.001    -45.095      0.000      -0.027      -0.025\n",
       "IR                     -0.5868      0.011    -53.005      0.000      -0.609      -0.565\n",
       "UR                     -0.4482      0.011    -39.306      0.000      -0.471      -0.426\n",
       "Floor                   0.0134      0.001     12.248      0.000       0.011       0.016\n",
       "---------------------------------------------------------------------------------------\n",
       "JS_Price_Category=3       coef    std err          z      P>|z|      [0.025      0.975]\n",
       "---------------------------------------------------------------------------------------\n",
       "const                 -13.4950      0.158    -85.259      0.000     -13.805     -13.185\n",
       "Population           -2.26e-07   6.54e-08     -3.457      0.001   -3.54e-07   -9.79e-08\n",
       "Crime_Rates            -3.8607      0.034   -113.184      0.000      -3.928      -3.794\n",
       "YearMonth_encoded       0.0004   2.03e-06    199.803      0.000       0.000       0.000\n",
       "HSP_index              -0.0242      0.000    -57.631      0.000      -0.025      -0.023\n",
       "SDT_index               0.0280      0.001     35.647      0.000       0.026       0.030\n",
       "IR                      0.4568      0.013     36.015      0.000       0.432       0.482\n",
       "UR                     -0.6672      0.013    -51.663      0.000      -0.693      -0.642\n",
       "Floor                  -0.1460      0.001    -99.409      0.000      -0.149      -0.143\n",
       "---------------------------------------------------------------------------------------\n",
       "JS_Price_Category=4       coef    std err          z      P>|z|      [0.025      0.975]\n",
       "---------------------------------------------------------------------------------------\n",
       "const                  47.2317      0.324    145.770      0.000      46.597      47.867\n",
       "Population          -1.951e-05   1.31e-07   -149.442      0.000   -1.98e-05   -1.93e-05\n",
       "Crime_Rates           -10.5845      0.065   -163.381      0.000     -10.711     -10.458\n",
       "YearMonth_encoded       0.0003   3.15e-06     98.306      0.000       0.000       0.000\n",
       "HSP_index               0.0102      0.001     11.722      0.000       0.009       0.012\n",
       "SDT_index              -0.2821      0.002   -157.149      0.000      -0.286      -0.279\n",
       "IR                     -4.5878      0.033   -140.177      0.000      -4.652      -4.524\n",
       "UR                     -5.3455      0.036   -146.673      0.000      -5.417      -5.274\n",
       "Floor                   0.2745      0.002    112.972      0.000       0.270       0.279\n",
       "=======================================================================================\n",
       "\"\"\""
      ]
     },
     "execution_count": 16,
     "metadata": {},
     "output_type": "execute_result"
    }
   ],
   "source": [
    "result.summary()"
   ]
  },
  {
   "cell_type": "markdown",
   "metadata": {},
   "source": [
    "### 교차검증\n",
    "- data leakage 확인을 위해 교차검증 실행"
   ]
  },
  {
   "cell_type": "code",
   "execution_count": 17,
   "metadata": {},
   "outputs": [
    {
     "ename": "KeyError",
     "evalue": "\"['JS_Price_Category'] not found in axis\"",
     "output_type": "error",
     "traceback": [
      "\u001b[1;31m---------------------------------------------------------------------------\u001b[0m",
      "\u001b[1;31mKeyError\u001b[0m                                  Traceback (most recent call last)",
      "\u001b[1;32m<ipython-input-17-20b81676edd1>\u001b[0m in \u001b[0;36m<module>\u001b[1;34m\u001b[0m\n\u001b[0;32m      8\u001b[0m \u001b[1;33m\u001b[0m\u001b[0m\n\u001b[0;32m      9\u001b[0m     \u001b[1;31m# 종속변수와 독립변수 분리\u001b[0m\u001b[1;33m\u001b[0m\u001b[1;33m\u001b[0m\u001b[1;33m\u001b[0m\u001b[0m\n\u001b[1;32m---> 10\u001b[1;33m     \u001b[0mX_train\u001b[0m \u001b[1;33m=\u001b[0m \u001b[0mtrain_data_fold\u001b[0m\u001b[1;33m.\u001b[0m\u001b[0mdrop\u001b[0m\u001b[1;33m(\u001b[0m\u001b[1;34m'JS_Price_Category'\u001b[0m\u001b[1;33m,\u001b[0m \u001b[0maxis\u001b[0m\u001b[1;33m=\u001b[0m\u001b[1;36m1\u001b[0m\u001b[1;33m)\u001b[0m\u001b[1;33m\u001b[0m\u001b[1;33m\u001b[0m\u001b[0m\n\u001b[0m\u001b[0;32m     11\u001b[0m     \u001b[0mY_train\u001b[0m \u001b[1;33m=\u001b[0m \u001b[0mtrain_data_fold\u001b[0m\u001b[1;33m[\u001b[0m\u001b[1;34m'JS_Price_Category'\u001b[0m\u001b[1;33m]\u001b[0m\u001b[1;33m\u001b[0m\u001b[1;33m\u001b[0m\u001b[0m\n\u001b[0;32m     12\u001b[0m     \u001b[0mX_val\u001b[0m \u001b[1;33m=\u001b[0m \u001b[0mval_data_fold\u001b[0m\u001b[1;33m.\u001b[0m\u001b[0mdrop\u001b[0m\u001b[1;33m(\u001b[0m\u001b[1;34m'JS_Price_Category'\u001b[0m\u001b[1;33m,\u001b[0m \u001b[0maxis\u001b[0m\u001b[1;33m=\u001b[0m\u001b[1;36m1\u001b[0m\u001b[1;33m)\u001b[0m\u001b[1;33m\u001b[0m\u001b[1;33m\u001b[0m\u001b[0m\n",
      "\u001b[1;32m~\\anaconda3\\lib\\site-packages\\pandas\\util\\_decorators.py\u001b[0m in \u001b[0;36mwrapper\u001b[1;34m(*args, **kwargs)\u001b[0m\n\u001b[0;32m    309\u001b[0m                     \u001b[0mstacklevel\u001b[0m\u001b[1;33m=\u001b[0m\u001b[0mstacklevel\u001b[0m\u001b[1;33m,\u001b[0m\u001b[1;33m\u001b[0m\u001b[1;33m\u001b[0m\u001b[0m\n\u001b[0;32m    310\u001b[0m                 )\n\u001b[1;32m--> 311\u001b[1;33m             \u001b[1;32mreturn\u001b[0m \u001b[0mfunc\u001b[0m\u001b[1;33m(\u001b[0m\u001b[1;33m*\u001b[0m\u001b[0margs\u001b[0m\u001b[1;33m,\u001b[0m \u001b[1;33m**\u001b[0m\u001b[0mkwargs\u001b[0m\u001b[1;33m)\u001b[0m\u001b[1;33m\u001b[0m\u001b[1;33m\u001b[0m\u001b[0m\n\u001b[0m\u001b[0;32m    312\u001b[0m \u001b[1;33m\u001b[0m\u001b[0m\n\u001b[0;32m    313\u001b[0m         \u001b[1;32mreturn\u001b[0m \u001b[0mwrapper\u001b[0m\u001b[1;33m\u001b[0m\u001b[1;33m\u001b[0m\u001b[0m\n",
      "\u001b[1;32m~\\anaconda3\\lib\\site-packages\\pandas\\core\\frame.py\u001b[0m in \u001b[0;36mdrop\u001b[1;34m(self, labels, axis, index, columns, level, inplace, errors)\u001b[0m\n\u001b[0;32m   4906\u001b[0m             \u001b[0mlevel\u001b[0m\u001b[1;33m=\u001b[0m\u001b[0mlevel\u001b[0m\u001b[1;33m,\u001b[0m\u001b[1;33m\u001b[0m\u001b[1;33m\u001b[0m\u001b[0m\n\u001b[0;32m   4907\u001b[0m             \u001b[0minplace\u001b[0m\u001b[1;33m=\u001b[0m\u001b[0minplace\u001b[0m\u001b[1;33m,\u001b[0m\u001b[1;33m\u001b[0m\u001b[1;33m\u001b[0m\u001b[0m\n\u001b[1;32m-> 4908\u001b[1;33m             \u001b[0merrors\u001b[0m\u001b[1;33m=\u001b[0m\u001b[0merrors\u001b[0m\u001b[1;33m,\u001b[0m\u001b[1;33m\u001b[0m\u001b[1;33m\u001b[0m\u001b[0m\n\u001b[0m\u001b[0;32m   4909\u001b[0m         )\n\u001b[0;32m   4910\u001b[0m \u001b[1;33m\u001b[0m\u001b[0m\n",
      "\u001b[1;32m~\\anaconda3\\lib\\site-packages\\pandas\\core\\generic.py\u001b[0m in \u001b[0;36mdrop\u001b[1;34m(self, labels, axis, index, columns, level, inplace, errors)\u001b[0m\n\u001b[0;32m   4148\u001b[0m         \u001b[1;32mfor\u001b[0m \u001b[0maxis\u001b[0m\u001b[1;33m,\u001b[0m \u001b[0mlabels\u001b[0m \u001b[1;32min\u001b[0m \u001b[0maxes\u001b[0m\u001b[1;33m.\u001b[0m\u001b[0mitems\u001b[0m\u001b[1;33m(\u001b[0m\u001b[1;33m)\u001b[0m\u001b[1;33m:\u001b[0m\u001b[1;33m\u001b[0m\u001b[1;33m\u001b[0m\u001b[0m\n\u001b[0;32m   4149\u001b[0m             \u001b[1;32mif\u001b[0m \u001b[0mlabels\u001b[0m \u001b[1;32mis\u001b[0m \u001b[1;32mnot\u001b[0m \u001b[1;32mNone\u001b[0m\u001b[1;33m:\u001b[0m\u001b[1;33m\u001b[0m\u001b[1;33m\u001b[0m\u001b[0m\n\u001b[1;32m-> 4150\u001b[1;33m                 \u001b[0mobj\u001b[0m \u001b[1;33m=\u001b[0m \u001b[0mobj\u001b[0m\u001b[1;33m.\u001b[0m\u001b[0m_drop_axis\u001b[0m\u001b[1;33m(\u001b[0m\u001b[0mlabels\u001b[0m\u001b[1;33m,\u001b[0m \u001b[0maxis\u001b[0m\u001b[1;33m,\u001b[0m \u001b[0mlevel\u001b[0m\u001b[1;33m=\u001b[0m\u001b[0mlevel\u001b[0m\u001b[1;33m,\u001b[0m \u001b[0merrors\u001b[0m\u001b[1;33m=\u001b[0m\u001b[0merrors\u001b[0m\u001b[1;33m)\u001b[0m\u001b[1;33m\u001b[0m\u001b[1;33m\u001b[0m\u001b[0m\n\u001b[0m\u001b[0;32m   4151\u001b[0m \u001b[1;33m\u001b[0m\u001b[0m\n\u001b[0;32m   4152\u001b[0m         \u001b[1;32mif\u001b[0m \u001b[0minplace\u001b[0m\u001b[1;33m:\u001b[0m\u001b[1;33m\u001b[0m\u001b[1;33m\u001b[0m\u001b[0m\n",
      "\u001b[1;32m~\\anaconda3\\lib\\site-packages\\pandas\\core\\generic.py\u001b[0m in \u001b[0;36m_drop_axis\u001b[1;34m(self, labels, axis, level, errors)\u001b[0m\n\u001b[0;32m   4183\u001b[0m                 \u001b[0mnew_axis\u001b[0m \u001b[1;33m=\u001b[0m \u001b[0maxis\u001b[0m\u001b[1;33m.\u001b[0m\u001b[0mdrop\u001b[0m\u001b[1;33m(\u001b[0m\u001b[0mlabels\u001b[0m\u001b[1;33m,\u001b[0m \u001b[0mlevel\u001b[0m\u001b[1;33m=\u001b[0m\u001b[0mlevel\u001b[0m\u001b[1;33m,\u001b[0m \u001b[0merrors\u001b[0m\u001b[1;33m=\u001b[0m\u001b[0merrors\u001b[0m\u001b[1;33m)\u001b[0m\u001b[1;33m\u001b[0m\u001b[1;33m\u001b[0m\u001b[0m\n\u001b[0;32m   4184\u001b[0m             \u001b[1;32melse\u001b[0m\u001b[1;33m:\u001b[0m\u001b[1;33m\u001b[0m\u001b[1;33m\u001b[0m\u001b[0m\n\u001b[1;32m-> 4185\u001b[1;33m                 \u001b[0mnew_axis\u001b[0m \u001b[1;33m=\u001b[0m \u001b[0maxis\u001b[0m\u001b[1;33m.\u001b[0m\u001b[0mdrop\u001b[0m\u001b[1;33m(\u001b[0m\u001b[0mlabels\u001b[0m\u001b[1;33m,\u001b[0m \u001b[0merrors\u001b[0m\u001b[1;33m=\u001b[0m\u001b[0merrors\u001b[0m\u001b[1;33m)\u001b[0m\u001b[1;33m\u001b[0m\u001b[1;33m\u001b[0m\u001b[0m\n\u001b[0m\u001b[0;32m   4186\u001b[0m             \u001b[0mresult\u001b[0m \u001b[1;33m=\u001b[0m \u001b[0mself\u001b[0m\u001b[1;33m.\u001b[0m\u001b[0mreindex\u001b[0m\u001b[1;33m(\u001b[0m\u001b[1;33m**\u001b[0m\u001b[1;33m{\u001b[0m\u001b[0maxis_name\u001b[0m\u001b[1;33m:\u001b[0m \u001b[0mnew_axis\u001b[0m\u001b[1;33m}\u001b[0m\u001b[1;33m)\u001b[0m\u001b[1;33m\u001b[0m\u001b[1;33m\u001b[0m\u001b[0m\n\u001b[0;32m   4187\u001b[0m \u001b[1;33m\u001b[0m\u001b[0m\n",
      "\u001b[1;32m~\\anaconda3\\lib\\site-packages\\pandas\\core\\indexes\\base.py\u001b[0m in \u001b[0;36mdrop\u001b[1;34m(self, labels, errors)\u001b[0m\n\u001b[0;32m   6016\u001b[0m         \u001b[1;32mif\u001b[0m \u001b[0mmask\u001b[0m\u001b[1;33m.\u001b[0m\u001b[0many\u001b[0m\u001b[1;33m(\u001b[0m\u001b[1;33m)\u001b[0m\u001b[1;33m:\u001b[0m\u001b[1;33m\u001b[0m\u001b[1;33m\u001b[0m\u001b[0m\n\u001b[0;32m   6017\u001b[0m             \u001b[1;32mif\u001b[0m \u001b[0merrors\u001b[0m \u001b[1;33m!=\u001b[0m \u001b[1;34m\"ignore\"\u001b[0m\u001b[1;33m:\u001b[0m\u001b[1;33m\u001b[0m\u001b[1;33m\u001b[0m\u001b[0m\n\u001b[1;32m-> 6018\u001b[1;33m                 \u001b[1;32mraise\u001b[0m \u001b[0mKeyError\u001b[0m\u001b[1;33m(\u001b[0m\u001b[1;34mf\"{labels[mask]} not found in axis\"\u001b[0m\u001b[1;33m)\u001b[0m\u001b[1;33m\u001b[0m\u001b[1;33m\u001b[0m\u001b[0m\n\u001b[0m\u001b[0;32m   6019\u001b[0m             \u001b[0mindexer\u001b[0m \u001b[1;33m=\u001b[0m \u001b[0mindexer\u001b[0m\u001b[1;33m[\u001b[0m\u001b[1;33m~\u001b[0m\u001b[0mmask\u001b[0m\u001b[1;33m]\u001b[0m\u001b[1;33m\u001b[0m\u001b[1;33m\u001b[0m\u001b[0m\n\u001b[0;32m   6020\u001b[0m         \u001b[1;32mreturn\u001b[0m \u001b[0mself\u001b[0m\u001b[1;33m.\u001b[0m\u001b[0mdelete\u001b[0m\u001b[1;33m(\u001b[0m\u001b[0mindexer\u001b[0m\u001b[1;33m)\u001b[0m\u001b[1;33m\u001b[0m\u001b[1;33m\u001b[0m\u001b[0m\n",
      "\u001b[1;31mKeyError\u001b[0m: \"['JS_Price_Category'] not found in axis\""
     ]
    }
   ],
   "source": [
    "fold_accuracies = []\n",
    "\n",
    "# 5개의 폴드에 대해 반복\n",
    "for fold in range(5):\n",
    "    # 학습 데이터와 검증 데이터 가져오기\n",
    "    train_data_fold = fold_train_data[fold][selected_features]\n",
    "    val_data_fold = fold_val_data[fold][selected_features]\n",
    "    \n",
    "    # 종속변수와 독립변수 분리\n",
    "    X_train = train_data_fold.drop('JS_Price_Category', axis=1)\n",
    "    Y_train = train_data_fold['JS_Price_Category']\n",
    "    X_val = val_data_fold.drop('JS_Price_Category', axis=1)\n",
    "    Y_val = val_data_fold['JS_Price_Category']\n",
    "    \n",
    "    # MNLogit 모델 학습\n",
    "    model = sm.MNLogit(Y_train, sm.add_constant(X_train))\n",
    "    result = model.fit()\n",
    "\n",
    "    # 검증 데이터로 예측\n",
    "    Y_pred = result.predict(sm.add_constant(X_val))\n",
    "    \n",
    "    # 예측된 범주를 확률에서 다시 범주로 변환\n",
    "    Y_pred_category = np.argmax(Y_pred.values, axis=1)\n",
    "    \n",
    "    # 정확도 계산\n",
    "    accuracy = accuracy_score(Y_val, Y_pred_category)\n",
    "    fold_accuracies.append(accuracy)\n",
    "\n",
    "# 교차검증 정확도 출력\n",
    "mean_accuracy = np.mean(fold_accuracies)\n",
    "print(\"교차검증 정확도:\", mean_accuracy)"
   ]
  },
  {
   "cell_type": "markdown",
   "metadata": {},
   "source": [
    "- 다섯 개의 fold에서 모두 비슷한 정확도를 보이고 있으므로 data leakage의 증거가 없어보임."
   ]
  },
  {
   "cell_type": "markdown",
   "metadata": {},
   "source": [
    "### 정확도"
   ]
  },
  {
   "cell_type": "code",
   "execution_count": null,
   "metadata": {},
   "outputs": [],
   "source": [
    "# 테스트 데이터도 독립 변수를 데이터프레임으로 변환\n",
    "X_test_df = pd.DataFrame(X_test, columns=selected_features)\n",
    "\n",
    "# CA_index와 TC_index 제거\n",
    "X_test_df.drop(['CA_index', 'TC_index'], axis=1, inplace=True)\n",
    "\n",
    "# 상수항 추가\n",
    "X_test_df = sm.add_constant(X_test_df)\n",
    "\n",
    "# 모델로부터 예측을 얻습니다.\n",
    "y_pred = result.predict(X_test_df)\n",
    "\n",
    "# 가장 확률이 높은 클래스 선택\n",
    "y_pred_classes = np.argmax(y_pred.values, axis=1)\n",
    "\n",
    "# 실제 클래스와 예측 클래스 비교하여 정확도 계산\n",
    "from sklearn.metrics import accuracy_score\n",
    "\n",
    "accuracy = accuracy_score(Y_test, y_pred_classes)\n",
    "print(\"모델의 정확도:\", accuracy)"
   ]
  },
  {
   "cell_type": "markdown",
   "metadata": {},
   "source": [
    "### F1-score"
   ]
  },
  {
   "cell_type": "code",
   "execution_count": null,
   "metadata": {},
   "outputs": [],
   "source": [
    "# 모델로부터 예측을 얻습니다.\n",
    "y_pred = result.predict(X_train_resampled_df)\n",
    "\n",
    "# 다중 클래스 F1-Score 계산\n",
    "from sklearn.metrics import f1_score\n",
    "\n",
    "# 예측 클래스 선택 (가장 확률이 높은 클래스)\n",
    "y_pred_classes = np.argmax(y_pred.values, axis=1)\n",
    "\n",
    "# 실제 클래스와 예측 클래스로 F1-Score 계산\n",
    "f1 = f1_score(Y_train_resampled, y_pred_classes, average='weighted')\n",
    "\n",
    "print(\"Weighted F1-Score:\", f1)"
   ]
  },
  {
   "cell_type": "markdown",
   "metadata": {},
   "source": [
    "### pval"
   ]
  },
  {
   "cell_type": "code",
   "execution_count": null,
   "metadata": {
    "scrolled": false
   },
   "outputs": [],
   "source": [
    "pval = pd.DataFrame(result.summary().tables[1].data)\n",
    "pval = pval[pval[0] != 'const']\n",
    "pval.columns = pval.iloc[0]\n",
    "pval = pval[1:]\n",
    "pval.to_csv('pval.csv')\n",
    "pval"
   ]
  },
  {
   "cell_type": "markdown",
   "metadata": {},
   "source": [
    "### 오즈비"
   ]
  },
  {
   "cell_type": "code",
   "execution_count": null,
   "metadata": {
    "scrolled": true
   },
   "outputs": [],
   "source": [
    "# 회귀 모델 결과에서 coef 값을 추출합니다.\n",
    "coef_values = result.params  # 이 코드는 모델 피팅 결과에서 계수를 추출합니다.\n",
    "\n",
    "# 각 독립 변수의 오즈비 계산\n",
    "odds_ratios = np.exp(coef_values).round(3)\n",
    "odds_ratios.to_csv('OR.csv')\n",
    "odds_ratios"
   ]
  },
  {
   "cell_type": "markdown",
   "metadata": {},
   "source": [
    "### 99% 신뢰구간"
   ]
  },
  {
   "cell_type": "code",
   "execution_count": null,
   "metadata": {
    "scrolled": false
   },
   "outputs": [],
   "source": [
    "# 각 계수에 대한 99% 신뢰 구간 출력\n",
    "conf_intervals = result.conf_int(alpha=0.01).round(3)\n",
    "conf_intervals.to_csv('CI.csv')\n",
    "conf_intervals"
   ]
  },
  {
   "cell_type": "markdown",
   "metadata": {},
   "source": [
    "- a=0.01일 때, p-value값을 고려하면 HSP_index, UR을 제외한다."
   ]
  },
  {
   "cell_type": "markdown",
   "metadata": {},
   "source": [
    "## 최종결론\n",
    "- Features_Ranking의 상위 10가지를 제외한 나머지 변수에 대해 VIF와 Logistic Regression Analysis를 진행한다.\n",
    "    - Logistit Regression의 p-value값의 제거요인인 UR, HSP_index\n",
    "    - VIF의 제거요인인 CA_index, TC_index\n",
    "    - 위의 네가지 요인(UR, HSP_index, TC_index, CA_index)을 변수에서 제거하여 머신러닝을 진행한다."
   ]
  }
 ],
 "metadata": {
  "colab": {
   "provenance": []
  },
  "kernelspec": {
   "display_name": "Python 3",
   "language": "python",
   "name": "python3"
  },
  "language_info": {
   "codemirror_mode": {
    "name": "ipython",
    "version": 3
   },
   "file_extension": ".py",
   "mimetype": "text/x-python",
   "name": "python",
   "nbconvert_exporter": "python",
   "pygments_lexer": "ipython3",
   "version": "3.7.6"
  }
 },
 "nbformat": 4,
 "nbformat_minor": 1
}
