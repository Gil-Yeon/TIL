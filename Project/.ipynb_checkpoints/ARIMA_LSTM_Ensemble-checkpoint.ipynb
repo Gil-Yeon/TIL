{
 "cells": [
  {
   "cell_type": "markdown",
   "metadata": {
    "id": "qsS6zaHxqB0X"
   },
   "source": [
    "1. **ARIMA** MSE: This is the Mean Squared Error of the ARIMA model's predictions on the testing data. The MSE measures the average squared difference between the predicted values and the actual values. A lower MSE indicates better model performance. You can use this value to quantify how well the ARIMA model fits the testing data. For example, if the ARIMA MSE is low, it means the model's predictions are close to the actual values.\n",
    "\n",
    "\n",
    "2. **LSTM** MSE: Similarly, this is the Mean Squared Error of the LSTM model's predictions on the testing data. It measures the accuracy of the LSTM model's forecasts. You can compare this MSE to the ARIMA MSE to determine which model performs better.\n",
    "\n",
    "\n",
    "3. **Ensemble** MSE: This is the Mean Squared Error of the ensemble of ARIMA and LSTM predictions on the testing data. An ensemble combines the predictions of multiple models to potentially improve accuracy. Comparing the ensemble MSE to the individual model MSEs helps assess whether the ensemble approach provides better results."
   ]
  },
  {
   "cell_type": "code",
   "execution_count": null,
   "metadata": {
    "id": "1CnZ9b3Xp-Qd"
   },
   "outputs": [],
   "source": [
    "# Import necessary libraries\n",
    "import pandas as pd\n",
    "import numpy as np\n",
    "from statsmodels.tsa.arima_model import ARIMA\n",
    "from sklearn.metrics import mean_squared_error\n",
    "from keras.models import Sequential\n",
    "from keras.layers import LSTM, Dense\n",
    "\n",
    "# Load your real estate dataset and preprocess it\n",
    "# ...\n",
    "\n",
    "# Perform unit root test and apply differencing if needed\n",
    "# ...\n",
    "\n",
    "# Split the dataset into training and testing sets\n",
    "# ...\n",
    "\n",
    "# Fit an ARIMA model\n",
    "def fit_arima(train_data):\n",
    "    model = ARIMA(train_data, order=(5,1,0))  # Example ARIMA order, tune as needed\n",
    "    model_fit = model.fit(disp=0)\n",
    "    return model_fit\n",
    "\n",
    "# Train ARIMA model\n",
    "arima_model = fit_arima(train_data)\n",
    "\n",
    "# Make ARIMA predictions\n",
    "arima_forecast = arima_model.forecast(steps=len(test_data))\n",
    "arima_mse = mean_squared_error(test_data, arima_forecast)\n",
    "\n",
    "# Create feature engineering functions (e.g., calculate distances)\n",
    "# ...\n",
    "\n",
    "# Create and preprocess features for deep learning\n",
    "# ...\n",
    "\n",
    "# Create an LSTM model\n",
    "def create_lstm_model(input_shape):\n",
    "    model = Sequential()\n",
    "    model.add(LSTM(100, input_shape=input_shape))\n",
    "    model.add(Dense(1))\n",
    "    model.compile(loss='mean_squared_error', optimizer='adam')\n",
    "    return model\n",
    "\n",
    "# Train LSTM model\n",
    "lstm_model = create_lstm_model(input_shape=(X_train.shape[1], X_train.shape[2]))\n",
    "lstm_model.fit(X_train, y_train, epochs=10, batch_size=32, verbose=2)\n",
    "\n",
    "# Make LSTM predictions\n",
    "lstm_forecast = lstm_model.predict(X_test)\n",
    "lstm_mse = mean_squared_error(y_test, lstm_forecast)\n",
    "\n",
    "# Ensemble predictions (you can use averaging or other methods)\n",
    "ensemble_forecast = (arima_forecast + lstm_forecast) / 2\n",
    "ensemble_mse = mean_squared_error(y_test, ensemble_forecast)\n",
    "\n",
    "# Evaluate models\n",
    "print(f\"ARIMA MSE: {arima_mse}\")\n",
    "print(f\"LSTM MSE: {lstm_mse}\")\n",
    "print(f\"Ensemble MSE: {ensemble_mse}\")\n"
   ]
  }
 ],
 "metadata": {
  "colab": {
   "provenance": []
  },
  "kernelspec": {
   "display_name": "Python 3",
   "language": "python",
   "name": "python3"
  },
  "language_info": {
   "codemirror_mode": {
    "name": "ipython",
    "version": 3
   },
   "file_extension": ".py",
   "mimetype": "text/x-python",
   "name": "python",
   "nbconvert_exporter": "python",
   "pygments_lexer": "ipython3",
   "version": "3.7.6"
  }
 },
 "nbformat": 4,
 "nbformat_minor": 1
}
