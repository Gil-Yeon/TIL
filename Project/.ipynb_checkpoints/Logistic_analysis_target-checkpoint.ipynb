{
 "cells": [
  {
   "cell_type": "code",
   "execution_count": null,
   "metadata": {
    "scrolled": false
   },
   "outputs": [],
   "source": [
    "import pandas as pd\n",
    "import numpy as np\n",
    "import statsmodels.api as sm\n",
    "import statsmodels.stats.api as sms\n",
    "from scipy import stats\n",
    "import matplotlib.pyplot as plt\n",
    "import plotly.express as px\n",
    "import scipy\n",
    "import seaborn as sns\n",
    "import matplotlib.font_manager as fm\n",
    "from sklearn.preprocessing import MinMaxScaler, StandardScaler\n",
    "from statsmodels.stats.outliers_influence import variance_inflation_factor\n",
    "import math\n",
    "import warnings\n",
    "from sklearn.model_selection import train_test_split\n",
    "from sklearn.linear_model import LogisticRegression\n",
    "from sklearn.feature_selection import SelectFromModel\n",
    "import random"
   ]
  },
  {
   "cell_type": "code",
   "execution_count": null,
   "metadata": {},
   "outputs": [],
   "source": [
    "warnings.simplefilter('ignore')"
   ]
  },
  {
   "cell_type": "code",
   "execution_count": null,
   "metadata": {},
   "outputs": [],
   "source": [
    "font_path = \"C:\\\\Users\\\\spa84\\\\Downloads\\\\text_mining\\\\NanumGothic.ttf\"  # 나눔 폰트의 경로를 지정\n",
    "font_name = fm.FontProperties(fname=font_path).get_name()\n",
    "plt.rc(\"font\", family=font_name)"
   ]
  },
  {
   "cell_type": "code",
   "execution_count": null,
   "metadata": {
    "scrolled": false
   },
   "outputs": [],
   "source": [
    "path = './data/'\n",
    "\n",
    "df = pd.read_csv(path+'merged_target.csv')"
   ]
  },
  {
   "cell_type": "code",
   "execution_count": null,
   "metadata": {},
   "outputs": [],
   "source": [
    "# 랜덤 시드를 설정하여 결과를 재현 가능하게 만듭니다.\n",
    "random.seed(42)\n",
    "\n",
    "# DataFrame에서 무작위로 30,000개의 행을 선택합니다.\n",
    "n_samples = 30000\n",
    "random_rows = df.sample(n=n_samples)\n",
    "\n",
    "# 선택된 행을 새로운 DataFrame으로 저장할 수도 있습니다.\n",
    "df = pd.DataFrame(random_rows)"
   ]
  },
  {
   "cell_type": "markdown",
   "metadata": {},
   "source": [
    "## Categorical:\n",
    "\n",
    "- Nominal(variables that have two or more categories, but which do not have an intrinsic order.)\n",
    "\n",
    "    - Region_Name : 자치구 명\n",
    "    - Building_Use : 건물 용도\n",
    "    \n",
    "- Ordinal(variables that have two or more categories just like nominal variables. Only the categories can also be ordered or ranked.)\n",
    "\n",
    "    \n",
    "## Numeric:\n",
    "\n",
    "- Discrete\n",
    "    - YearMonth : 년월\n",
    "    - Building_Age : 건물연식\n",
    "    - JS_Price : 전세가\n",
    "   \n",
    "- Continous\n",
    "    - Sell_Price : 매매 가격\n",
    "    - JS_BA = JS_Building Area : 임대 면적\n",
    "    - lR = Interest Rate : 금리\n",
    "    - UR = Unemployment Rate : 실업률\n",
    "    - LC_index = Leading Composite index : 선행종합 지수\n",
    "    - CA_index = Comprehensive Accompany index : 동행종합 지수\n",
    "    - TC_index = Trailing Composite index : 후행종합 지수\n",
    "    - SDT_index = Supply and Demand Trend index = 전세수급동향 지수\n",
    "    - HSP_index = \n",
    "    - Population : 인구수\n",
    "    - Crime_Rates : 범죄율\n",
    "    - Shortest_Distance_to_Subway : 가장 가까운 지하철역과의 거리\n",
    "    - Shortest_Distance_to_School : 가장 가까운 초중고등학교와의 거리\n",
    "    - Shortest_Distance_to_Univ : 가장 가까운 대학교와의 거리\n",
    "    - Shortest_Distance_to_Park : 가장 가까운 공원과의 거리\n",
    "    "
   ]
  },
  {
   "cell_type": "code",
   "execution_count": null,
   "metadata": {
    "scrolled": true
   },
   "outputs": [],
   "source": [
    "df.info()"
   ]
  },
  {
   "cell_type": "markdown",
   "metadata": {},
   "source": [
    "## 데이터전처리"
   ]
  },
  {
   "cell_type": "markdown",
   "metadata": {},
   "source": [
    "### 종속변수 변환"
   ]
  },
  {
   "cell_type": "code",
   "execution_count": null,
   "metadata": {},
   "outputs": [],
   "source": [
    "# JS_Price를 4개의 범주로 나누고 기존 변수 삭제\n",
    "df['JS_Price_Category'] = pd.cut(df['JS_Price'], bins=5, labels=False)\n",
    "df.drop('JS_Price', axis=1, inplace=True)"
   ]
  },
  {
   "cell_type": "markdown",
   "metadata": {},
   "source": [
    "### 인코딩"
   ]
  },
  {
   "cell_type": "code",
   "execution_count": null,
   "metadata": {},
   "outputs": [],
   "source": [
    "# # 범주형 변수 더미화 함수, 범주형 변수의 범주 레벨 간의 관계가 중요할 시 사용\n",
    "# def oh_encoding(df):\n",
    "#     # DataFrame의 복사본을 만듭니다.\n",
    "#     df_encoded = df.copy()\n",
    "#     columns_encoded = []\n",
    "#     for column in df.columns:\n",
    "#         if df[column].dtype == object:\n",
    "#             df_encoded = pd.get_dummies(df_encoded, columns=[column], prefix=column)\n",
    "#             columns_encoded.append(column)\n",
    "#     return df_encoded, columns_encoded"
   ]
  },
  {
   "cell_type": "code",
   "execution_count": null,
   "metadata": {
    "scrolled": true
   },
   "outputs": [],
   "source": [
    "# df_encoded, columns_encoded = oh_encoding(df)"
   ]
  },
  {
   "cell_type": "code",
   "execution_count": null,
   "metadata": {},
   "outputs": [],
   "source": [
    "df_encoded = df"
   ]
  },
  {
   "cell_type": "code",
   "execution_count": null,
   "metadata": {},
   "outputs": [],
   "source": [
    "df_encoded"
   ]
  },
  {
   "cell_type": "markdown",
   "metadata": {},
   "source": [
    "## 오버샘플링\n",
    "- 클래스 별 샘플 수 차이로 인해 오버샘플링 진행"
   ]
  },
  {
   "cell_type": "code",
   "execution_count": null,
   "metadata": {
    "scrolled": true
   },
   "outputs": [],
   "source": [
    "df_encoded['JS_Price_Category'].value_counts()"
   ]
  },
  {
   "cell_type": "code",
   "execution_count": null,
   "metadata": {},
   "outputs": [],
   "source": [
    "from imblearn.over_sampling import RandomOverSampler\n",
    "\n",
    "# 오버샘플링할 데이터와 레이블을 준비합니다.\n",
    "X = df_encoded.drop('JS_Price_Category', axis=1)  # 독립변수\n",
    "y = df_encoded['JS_Price_Category']  # 종속변수\n",
    "\n",
    "# RandomOverSampler를 초기화합니다.\n",
    "oversampler = RandomOverSampler(sampling_strategy='auto', random_state=42)\n",
    "\n",
    "# 오버샘플링을 적용합니다.\n",
    "X_resampled, y_resampled = oversampler.fit_resample(X, y)\n",
    "\n",
    "# 오버샘플링된 데이터를 새로운 데이터프레임으로 만듭니다.\n",
    "df_encoded = pd.concat([X_resampled, y_resampled], axis=1)"
   ]
  },
  {
   "cell_type": "code",
   "execution_count": null,
   "metadata": {},
   "outputs": [],
   "source": [
    "df_encoded"
   ]
  },
  {
   "cell_type": "markdown",
   "metadata": {},
   "source": [
    "## Logistic Regression Analysis"
   ]
  },
  {
   "cell_type": "code",
   "execution_count": null,
   "metadata": {},
   "outputs": [],
   "source": [
    "selected_features = ['Region_Name',\n",
    " 'JS_BA',\n",
    " 'Building_Use',\n",
    " 'Building_Age',\n",
    " 'SDT_index',\n",
    " 'Crime_Rates',\n",
    " 'Shortest_Distance_to_School',\n",
    " 'Sell_Price',\n",
    " 'HSP_index',\n",
    " 'YearMonth',\n",
    " 'Shortest_Distance_to_Subway']"
   ]
  },
  {
   "cell_type": "code",
   "execution_count": null,
   "metadata": {
    "scrolled": true
   },
   "outputs": [],
   "source": [
    "# 독립 변수 선택\n",
    "X = df_encoded[selected_features]\n",
    "\n",
    "# 종속 변수 선택 (JS_Price_Category, 다중 분류)\n",
    "Y = df_encoded['JS_Price_Category']\n",
    "\n",
    "# 층화 추출을 사용하여 데이터 분할\n",
    "X_train, X_test, Y_train, Y_test = train_test_split(X, Y, test_size=0.2, random_state=42, stratify=Y)\n",
    "\n",
    "# 표준화 (선택적)\n",
    "scaler = StandardScaler()\n",
    "X_train = scaler.fit_transform(X_train)\n",
    "X_test = scaler.transform(X_test)\n",
    "\n",
    "# 다항 로지스틱 회귀 모델 생성\n",
    "model = LogisticRegression(multi_class='multinomial', solver='lbfgs')\n",
    "model.fit(X_train, Y_train)\n",
    "\n",
    "# 모델 평가 (정확도 계산)\n",
    "accuracy = model.score(X_test, Y_test)\n",
    "print(f\"모델 정확도 : {accuracy}\", '\\n')\n",
    "\n",
    "# 각 클래스에 속할 확률 예측\n",
    "probabilities = model.predict_proba(X_test)\n",
    "\n",
    "# 예측 결과 클래스 (가장 높은 확률을 갖는 클래스 선택)\n",
    "predicted_classes = model.predict(X_test)\n",
    "\n",
    "# 예측된 클래스 및 확률 출력\n",
    "print(\"---예측된 클래스---\", '\\n', predicted_classes, '\\n')\n",
    "print(\"---클래스별 확률---\", '\\n', probabilities)"
   ]
  },
  {
   "cell_type": "markdown",
   "metadata": {},
   "source": [
    "### 로지스틱 회귀 분석의 통계량\n",
    "- 양수 회귀 계수는 종속 변수를 증가시키는 데 긍정적인 영향을 미치고, 음수 회귀 계수는 종속 변수를 감소시키는 데 부정적인 영향을 미칩니다.\n",
    "- 오즈비가 1보다 크면 해당 독립 변수가 종속 변수의 확률에 긍정적인 영향을 미칩니다. 오즈비가 1보다 작으면 부정적인 영향을 미칩니다."
   ]
  },
  {
   "cell_type": "code",
   "execution_count": null,
   "metadata": {},
   "outputs": [],
   "source": [
    "# 회귀 모델을 이미 만들었다고 가정합니다.\n",
    "# model은 이미 다중 클래스 로지스틱 회귀 모델로 훈련되어 있다고 가정합니다.\n",
    "\n",
    "# 독립 변수의 열 이름\n",
    "independent_variable_names = selected_features \n",
    "\n",
    "# 종속 변수 열의 이름을 식별하고 고유한 클래스 값을 확인합니다.\n",
    "dependent_variable_column = \"JS_Price_Category\"\n",
    "dependent_variable_classes = df_encoded[dependent_variable_column].unique()\n",
    "\n",
    "# 회귀 계수 출력\n",
    "coefficients = model.coef_\n",
    "\n",
    "# 각 독립 변수와 종속 변수 클래스에 대한 회귀 계수와 오즈비를 출력합니다.\n",
    "for i, dep_class in enumerate(dependent_variable_classes):\n",
    "    print(f\"종속 변수 클래스: {dep_class}\")\n",
    "    for j, indep_var in enumerate(independent_variable_names):\n",
    "        coef = coefficients[i][j]\n",
    "        odds_ratio = np.exp(coef)\n",
    "        print(f\"{indep_var} - 회귀 계수: {coef}, 오즈비: {odds_ratio}\")"
   ]
  },
  {
   "cell_type": "markdown",
   "metadata": {},
   "source": [
    "## 변수선택법\n",
    "- SelectFromModel로 유의한 순서대로 변수 8개 선택"
   ]
  },
  {
   "cell_type": "code",
   "execution_count": null,
   "metadata": {},
   "outputs": [],
   "source": [
    "# 로지스틱 회귀 모델을 사용하여 변수 선택\n",
    "model = LogisticRegression(max_iter=1000)  # 로지스틱 회귀 모델 생성 (다른 모델로 변경 가능)\n",
    "\n",
    "# SelectFromModel을 사용하여 변수 선택\n",
    "sfm = SelectFromModel(model, threshold=-np.inf, max_features=8)\n",
    "\n",
    "# 변수 선택 모델을 훈련 데이터에 맞춤\n",
    "sfm.fit(X, Y)\n",
    "\n",
    "# 선택된 변수 인덱스를 가져옴\n",
    "selected_feature_indices = sfm.get_support(indices=True)\n",
    "\n",
    "# 선택된 변수 이름 가져오기 (X.columns 활용)\n",
    "selected_features = X.columns[selected_feature_indices]\n",
    "\n",
    "# 선택된 변수 출력\n",
    "print(\"선택된 변수:\")\n",
    "print(selected_features)"
   ]
  },
  {
   "cell_type": "code",
   "execution_count": null,
   "metadata": {
    "scrolled": true
   },
   "outputs": [],
   "source": [
    "# 독립 변수 선택\n",
    "X = df_encoded[selected_features]\n",
    "\n",
    "# 종속 변수 선택 (JS_Price_Category, 다중 분류)\n",
    "Y = df_encoded['JS_Price_Category']\n",
    "\n",
    "# 층화 추출을 사용하여 데이터 분할\n",
    "X_train, X_test, Y_train, Y_test = train_test_split(X, Y, test_size=0.2, random_state=42, stratify=Y)\n",
    "\n",
    "# 표준화 (선택적)\n",
    "scaler = StandardScaler()\n",
    "X_train = scaler.fit_transform(X_train)\n",
    "X_test = scaler.transform(X_test)\n",
    "\n",
    "# 다항 로지스틱 회귀 모델 생성\n",
    "model = LogisticRegression(multi_class='multinomial', solver='lbfgs')\n",
    "model.fit(X_train, Y_train)\n",
    "\n",
    "# 모델 평가 (정확도 계산)\n",
    "accuracy = model.score(X_test, Y_test)\n",
    "print(f\"모델 정확도 : {accuracy}\", '\\n')\n",
    "\n",
    "# 각 클래스에 속할 확률 예측\n",
    "probabilities = model.predict_proba(X_test)\n",
    "\n",
    "# 예측 결과 클래스 (가장 높은 확률을 갖는 클래스 선택)\n",
    "predicted_classes = model.predict(X_test)\n",
    "\n",
    "# 예측된 클래스 및 확률 출력\n",
    "print(\"---예측된 클래스---\", '\\n', predicted_classes, '\\n')\n",
    "print(\"---클래스별 확률---\", '\\n', probabilities)"
   ]
  },
  {
   "cell_type": "code",
   "execution_count": null,
   "metadata": {
    "scrolled": true
   },
   "outputs": [],
   "source": [
    "# 회귀 모델을 이미 만들었다고 가정합니다.\n",
    "# model은 이미 다중 클래스 로지스틱 회귀 모델로 훈련되어 있다고 가정합니다.\n",
    "\n",
    "# 독립 변수의 열 이름\n",
    "independent_variable_names = selected_features \n",
    "\n",
    "# 종속 변수 열의 이름을 식별하고 고유한 클래스 값을 확인합니다.\n",
    "dependent_variable_column = \"JS_Price_Category\"\n",
    "dependent_variable_classes = df_encoded[dependent_variable_column].unique()\n",
    "\n",
    "# 회귀 계수 출력\n",
    "coefficients = model.coef_\n",
    "\n",
    "# 각 독립 변수와 종속 변수 클래스에 대한 회귀 계수와 오즈비를 출력합니다.\n",
    "for i, dep_class in enumerate(dependent_variable_classes):\n",
    "    print(f\"종속 변수 클래스: {dep_class}\")\n",
    "    for j, indep_var in enumerate(independent_variable_names):\n",
    "        coef = coefficients[i][j]\n",
    "        odds_ratio = np.exp(coef)\n",
    "        print(f\"{indep_var} - 회귀 계수: {coef}, 오즈비: {odds_ratio}\")"
   ]
  },
  {
   "cell_type": "markdown",
   "metadata": {},
   "source": [
    "## 과적합 체크"
   ]
  },
  {
   "cell_type": "code",
   "execution_count": null,
   "metadata": {},
   "outputs": [],
   "source": [
    "import matplotlib.pyplot as plt\n",
    "from sklearn.model_selection import learning_curve\n",
    "\n",
    "# 학습 곡선을 그리는 함수 정의\n",
    "def plot_learning_curve(estimator, title, X, y, ylim=None, cv=None, n_jobs=None, train_sizes=np.linspace(.1, 1.0, 5)):\n",
    "    plt.figure()\n",
    "    plt.title(title)\n",
    "    if ylim is not None:\n",
    "        plt.ylim(*ylim)\n",
    "    plt.xlabel(\"Training examples\")\n",
    "    plt.ylabel(\"Score\")\n",
    "    train_sizes, train_scores, test_scores = learning_curve(\n",
    "        estimator, X, y, cv=cv, n_jobs=n_jobs, train_sizes=train_sizes)\n",
    "    train_scores_mean = np.mean(train_scores, axis=1)\n",
    "    train_scores_std = np.std(train_scores, axis=1)\n",
    "    test_scores_mean = np.mean(test_scores, axis=1)\n",
    "    test_scores_std = np.std(test_scores, axis=1)\n",
    "    plt.grid()\n",
    "\n",
    "    plt.fill_between(train_sizes, train_scores_mean - train_scores_std,\n",
    "                     train_scores_mean + train_scores_std, alpha=0.1,\n",
    "                     color=\"r\")\n",
    "    plt.fill_between(train_sizes, test_scores_mean - test_scores_std,\n",
    "                     test_scores_mean + test_scores_std, alpha=0.1, color=\"g\")\n",
    "    plt.plot(train_sizes, train_scores_mean, 'o-', color=\"r\",\n",
    "             label=\"Training score\")\n",
    "    plt.plot(train_sizes, test_scores_mean, 'o-', color=\"g\",\n",
    "             label=\"Cross-validation score\")\n",
    "\n",
    "    plt.legend(loc=\"best\")\n",
    "    return plt\n",
    "\n",
    "# 학습 곡선 그리기\n",
    "title = \"Learning Curves (Logistic Regression)\"\n",
    "# 모델은 이미 훈련되었다고 가정합니다 (model 변수에 저장되어 있음)\n",
    "plot_learning_curve(model, title, X_train, Y_train, cv=5, n_jobs=1)\n",
    "\n",
    "plt.show()"
   ]
  },
  {
   "cell_type": "markdown",
   "metadata": {},
   "source": [
    "## 변수선택법\n",
    "- p-value로 최종선택"
   ]
  },
  {
   "cell_type": "code",
   "execution_count": null,
   "metadata": {
    "scrolled": false
   },
   "outputs": [],
   "source": [
    "# 로지스틱 회귀 모델 생성 (다항 로지스틱 회귀 모델)\n",
    "model = sm.MNLogit(Y, sm.add_constant(X))  # 상수항 추가\n",
    "\n",
    "# 모델 피팅\n",
    "result = model.fit()\n",
    "\n",
    "# 독립 변수들의 p-value 추출\n",
    "p_values = result.pvalues\n",
    "p_values"
   ]
  },
  {
   "cell_type": "markdown",
   "metadata": {},
   "source": [
    "- p-value값을 고려하여 종속변수의 모든 클래스에 대해 통계적으로 유의한 변수만을 사용한다.\n",
    "- 최종적으로 JS_BA, Region_Name, LC_index, Sell_Price, HSP_index 변수가 유의."
   ]
  }
 ],
 "metadata": {
  "colab": {
   "provenance": []
  },
  "kernelspec": {
   "display_name": "Python 3",
   "language": "python",
   "name": "python3"
  },
  "language_info": {
   "codemirror_mode": {
    "name": "ipython",
    "version": 3
   },
   "file_extension": ".py",
   "mimetype": "text/x-python",
   "name": "python",
   "nbconvert_exporter": "python",
   "pygments_lexer": "ipython3",
   "version": "3.7.6"
  }
 },
 "nbformat": 4,
 "nbformat_minor": 1
}
