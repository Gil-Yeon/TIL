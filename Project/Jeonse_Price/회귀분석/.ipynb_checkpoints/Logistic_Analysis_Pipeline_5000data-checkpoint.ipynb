{
 "cells": [
  {
   "cell_type": "code",
   "execution_count": 1,
   "metadata": {
    "scrolled": true
   },
   "outputs": [
    {
     "name": "stderr",
     "output_type": "stream",
     "text": [
      "\n",
      "Bad key text.latex.preview in file C:\\Users\\spa84\\anaconda3\\lib\\site-packages\\matplotlib\\mpl-data\\stylelib\\_classic_test.mplstyle, line 123 ('text.latex.preview : False')\n",
      "You probably need to get an updated matplotlibrc file from\n",
      "https://github.com/matplotlib/matplotlib/blob/v3.5.3/matplotlibrc.template\n",
      "or from the matplotlib source distribution\n",
      "\n",
      "Bad key mathtext.fallback_to_cm in file C:\\Users\\spa84\\anaconda3\\lib\\site-packages\\matplotlib\\mpl-data\\stylelib\\_classic_test.mplstyle, line 155 ('mathtext.fallback_to_cm : True  # When True, use symbols from the Computer Modern')\n",
      "You probably need to get an updated matplotlibrc file from\n",
      "https://github.com/matplotlib/matplotlib/blob/v3.5.3/matplotlibrc.template\n",
      "or from the matplotlib source distribution\n",
      "\n",
      "Bad key savefig.jpeg_quality in file C:\\Users\\spa84\\anaconda3\\lib\\site-packages\\matplotlib\\mpl-data\\stylelib\\_classic_test.mplstyle, line 418 ('savefig.jpeg_quality: 95       # when a jpeg is saved, the default quality parameter.')\n",
      "You probably need to get an updated matplotlibrc file from\n",
      "https://github.com/matplotlib/matplotlib/blob/v3.5.3/matplotlibrc.template\n",
      "or from the matplotlib source distribution\n",
      "\n",
      "Bad key keymap.all_axes in file C:\\Users\\spa84\\anaconda3\\lib\\site-packages\\matplotlib\\mpl-data\\stylelib\\_classic_test.mplstyle, line 466 ('keymap.all_axes : a                 # enable all axes')\n",
      "You probably need to get an updated matplotlibrc file from\n",
      "https://github.com/matplotlib/matplotlib/blob/v3.5.3/matplotlibrc.template\n",
      "or from the matplotlib source distribution\n",
      "\n",
      "Bad key animation.avconv_path in file C:\\Users\\spa84\\anaconda3\\lib\\site-packages\\matplotlib\\mpl-data\\stylelib\\_classic_test.mplstyle, line 477 ('animation.avconv_path: avconv     # Path to avconv binary. Without full path')\n",
      "You probably need to get an updated matplotlibrc file from\n",
      "https://github.com/matplotlib/matplotlib/blob/v3.5.3/matplotlibrc.template\n",
      "or from the matplotlib source distribution\n",
      "\n",
      "Bad key animation.avconv_args in file C:\\Users\\spa84\\anaconda3\\lib\\site-packages\\matplotlib\\mpl-data\\stylelib\\_classic_test.mplstyle, line 479 ('animation.avconv_args:            # Additional arguments to pass to avconv')\n",
      "You probably need to get an updated matplotlibrc file from\n",
      "https://github.com/matplotlib/matplotlib/blob/v3.5.3/matplotlibrc.template\n",
      "or from the matplotlib source distribution\n"
     ]
    }
   ],
   "source": [
    "import matplotlib.pyplot as plt\n",
    "from sklearn.model_selection import learning_curve\n",
    "import pandas as pd\n",
    "import numpy as np\n",
    "from sklearn.model_selection import train_test_split, cross_val_score, KFold\n",
    "from sklearn.preprocessing import StandardScaler\n",
    "from sklearn.linear_model import LogisticRegression\n",
    "from imblearn.pipeline import Pipeline\n",
    "from imblearn.over_sampling import RandomOverSampler\n",
    "from category_encoders import TargetEncoder\n",
    "from sklearn.metrics import accuracy_score\n",
    "from statsmodels.stats.outliers_influence import variance_inflation_factor\n",
    "import statsmodels.api as sm\n",
    "import warnings"
   ]
  },
  {
   "cell_type": "code",
   "execution_count": 2,
   "metadata": {},
   "outputs": [],
   "source": [
    "warnings.simplefilter('ignore')"
   ]
  },
  {
   "cell_type": "code",
   "execution_count": 3,
   "metadata": {},
   "outputs": [],
   "source": [
    "# 데이터 불러오기\n",
    "df = pd.read_csv('../data/Before_Encoding_5000.csv', encoding='euc-kr')"
   ]
  },
  {
   "cell_type": "markdown",
   "metadata": {},
   "source": [
    "## 파이프라인\n",
    "- 데이터 전처리를 파이프 라인으로 진행"
   ]
  },
  {
   "cell_type": "code",
   "execution_count": 5,
   "metadata": {},
   "outputs": [],
   "source": [
    "# 범주형 변수 리스트 지정\n",
    "categorical_columns = ['Building_Use', 'Region_Name']\n",
    "target_column = 'JS_Price'\n",
    "\n",
    "# JS_Price를 4개의 범주로 나누고 기존 변수 삭제\n",
    "df['JS_Price_Category'] = pd.cut(df['JS_Price'], bins=5, labels=False)\n",
    "df.drop('JS_Price', axis=1, inplace=True)\n",
    "\n",
    "# 선택한 독립변수만 추출\n",
    "selected_features = [\n",
    "    'CA_index',\n",
    "    'Shortest_Distance_to_School',\n",
    "    'HSP_index',\n",
    "    'TC_index',\n",
    "    'IR',\n",
    "    'SDT_index',\n",
    "    'UR'\n",
    "]\n",
    "\n",
    "# 범주형 열 중에서 선택한 독립 변수에 포함된 열 확인\n",
    "categorical_columns_exist = list(set(categorical_columns).intersection(set(selected_features)))\n",
    "\n",
    "# 데이터 분할\n",
    "X = df[selected_features]\n",
    "y = df['JS_Price_Category']\n",
    "X_train, X_test, y_train, y_test = train_test_split(X, y, test_size=0.2, random_state=42)\n",
    "\n",
    "# 파이프라인 설정 (타겟 인코딩 포함 여부에 따라 다르게 설정)\n",
    "if categorical_columns_exist:\n",
    "    pipeline = [\n",
    "        ('target_encoder', TargetEncoder(cols=categorical_columns_exist)),  # 타겟 인코딩\n",
    "        ('scaler', StandardScaler()),  # 수치형 변수 스케일링\n",
    "        ('oversampler', RandomOverSampler(sampling_strategy='auto', random_state=42)),  # 오버샘플링\n",
    "        ('classifier', LogisticRegression(multi_class='multinomial', solver='lbfgs'))  # 로지스틱 회귀 모델\n",
    "    ]\n",
    "else:\n",
    "    pipeline = [\n",
    "        ('scaler', StandardScaler()),  # 수치형 변수 스케일링\n",
    "        ('oversampler', RandomOverSampler(sampling_strategy='auto', random_state=42)),  # 오버샘플링\n",
    "        ('classifier', LogisticRegression(multi_class='multinomial', solver='lbfgs'))  # 로지스틱 회귀 모델\n",
    "    ]"
   ]
  },
  {
   "cell_type": "markdown",
   "metadata": {},
   "source": [
    "## Logistic Regression Analysis"
   ]
  },
  {
   "cell_type": "code",
   "execution_count": 6,
   "metadata": {
    "scrolled": false
   },
   "outputs": [
    {
     "name": "stdout",
     "output_type": "stream",
     "text": [
      "로지스틱 회귀 모델 정확도: 0.57925\n"
     ]
    }
   ],
   "source": [
    "# 파이프라인 생성\n",
    "model = Pipeline(pipeline)\n",
    "\n",
    "# 모델 학습\n",
    "model.fit(X_train, y_train)\n",
    "\n",
    "# 테스트 데이터에 대한 예측\n",
    "y_pred = model.predict(X_test)\n",
    "\n",
    "# 모델 평가 (정확도 계산)\n",
    "accuracy = accuracy_score(y_test, y_pred)\n",
    "print(f\"로지스틱 회귀 모델 정확도: {accuracy}\")"
   ]
  },
  {
   "cell_type": "markdown",
   "metadata": {},
   "source": [
    "## 교차검증\n",
    "- data leakage 확인을 위해 교차검증 실행"
   ]
  },
  {
   "cell_type": "code",
   "execution_count": 7,
   "metadata": {},
   "outputs": [
    {
     "name": "stdout",
     "output_type": "stream",
     "text": [
      "교차 검증 정확도: [0.5866  0.5686  0.58915 0.5943  0.60495]\n",
      "평균 정확도: 0.58872\n"
     ]
    }
   ],
   "source": [
    "# 교차 검증 수행\n",
    "cv = KFold(n_splits=5, shuffle=True, random_state=42)\n",
    "cross_val_scores = cross_val_score(model, X, y, cv=cv)\n",
    "\n",
    "# 교차 검증 정확도 출력\n",
    "print(\"교차 검증 정확도:\", cross_val_scores)\n",
    "\n",
    "# 평균 정확도 계산\n",
    "mean_accuracy = np.mean(cross_val_scores)\n",
    "print(\"평균 정확도:\", mean_accuracy)"
   ]
  },
  {
   "cell_type": "markdown",
   "metadata": {},
   "source": [
    "## Training and validaion accuracy\n",
    "- 학습곡선으로 데이터 크기 증가에 따른 훈련데이터와 검증 데이터의 정확도를 그림으로써 모델의 과적합을 시각적으로 확인"
   ]
  },
  {
   "cell_type": "code",
   "execution_count": 8,
   "metadata": {
    "scrolled": true
   },
   "outputs": [
    {
     "data": {
      "image/png": "[encoded data removed]",
      "text/plain": [
       "<Figure size 432x288 with 1 Axes>"
      ]
     },
     "metadata": {
      "needs_background": "light"
     },
     "output_type": "display_data"
    }
   ],
   "source": [
    "# 학습 곡선 그리기 함수\n",
    "def plot_learning_curve(estimator, title, X, y, ylim=None, cv=None,\n",
    "                        n_jobs=None, train_sizes=np.linspace(.1, 1.0, 5)):\n",
    "    plt.figure()\n",
    "    plt.title(title)\n",
    "    if ylim is not None:\n",
    "        plt.ylim(*ylim)\n",
    "    plt.xlabel(\"Training examples\")\n",
    "    plt.ylabel(\"Score\")\n",
    "    train_sizes, train_scores, test_scores = learning_curve(\n",
    "        estimator, X, y, cv=cv, n_jobs=n_jobs, train_sizes=train_sizes)\n",
    "    train_scores_mean = np.mean(train_scores, axis=1)\n",
    "    train_scores_std = np.std(train_scores, axis=1)\n",
    "    test_scores_mean = np.mean(test_scores, axis=1)\n",
    "    test_scores_std = np.std(test_scores, axis=1)\n",
    "    plt.grid()\n",
    "\n",
    "    plt.fill_between(train_sizes, train_scores_mean - train_scores_std,\n",
    "                     train_scores_mean + train_scores_std, alpha=0.1,\n",
    "                     color=\"r\")\n",
    "    plt.fill_between(train_sizes, test_scores_mean - test_scores_std,\n",
    "                     test_scores_mean + test_scores_std, alpha=0.1, color=\"g\")\n",
    "    plt.plot(train_sizes, train_scores_mean, 'o-', color=\"r\",\n",
    "             label=\"Training score\")\n",
    "    plt.plot(train_sizes, test_scores_mean, 'o-', color=\"g\",\n",
    "             label=\"Cross-validation score\")\n",
    "\n",
    "    plt.legend(loc=\"best\")\n",
    "    return plt\n",
    "\n",
    "# 학습 곡선 그리기\n",
    "title = \"Learning Curves (Logistic Regression)\"\n",
    "plot_learning_curve(model, title, X, y, cv=5, n_jobs=1)\n",
    "plt.show()"
   ]
  },
  {
   "cell_type": "markdown",
   "metadata": {},
   "source": [
    "## 변수선택법\n",
    "- 모델의 복잡성이 줄어든 상태에서 통계적 유의성을 고려하여 변수선택을 위해 다중공선성과 p-value 체크"
   ]
  },
  {
   "cell_type": "markdown",
   "metadata": {},
   "source": [
    "### 오즈비와 회귀계수"
   ]
  },
  {
   "cell_type": "code",
   "execution_count": 9,
   "metadata": {},
   "outputs": [
    {
     "name": "stdout",
     "output_type": "stream",
     "text": [
      "Optimization terminated successfully.\n",
      "         Current function value: 0.117678\n",
      "         Iterations 21\n",
      "다중 클래스 로지스틱 회귀 모델의 오즈비:\n",
      "                                    0             1             2  \\\n",
      "const                        0.000007  4.718534e-08  1.863431e-50   \n",
      "CA_index                     1.087996  1.063294e+00  1.605802e-01   \n",
      "Shortest_Distance_to_School  1.000385  1.000203e+00  9.971621e-01   \n",
      "HSP_index                    1.007451  9.993366e-01  9.803440e-01   \n",
      "TC_index                     0.994596  1.095079e+00  1.833485e+01   \n",
      "IR                           0.834316  4.051188e-01  2.699305e-03   \n",
      "SDT_index                    0.998624  9.837196e-01  1.050871e+00   \n",
      "UR                           0.988609  6.398723e-01  5.187948e-01   \n",
      "\n",
      "                                        3  \n",
      "const                        1.046774e-34  \n",
      "CA_index                     6.381561e-02  \n",
      "Shortest_Distance_to_School  9.987732e-01  \n",
      "HSP_index                    9.933464e-01  \n",
      "TC_index                     4.054949e+01  \n",
      "IR                           1.267833e-04  \n",
      "SDT_index                    8.956329e-01  \n",
      "UR                           5.386528e-02  \n",
      "다중 클래스 로지스틱 회귀 모델의 회귀 계수:\n",
      "                                     0          1           2          3\n",
      "const                       -11.841877 -16.869183 -114.506835 -78.242180\n",
      "CA_index                      0.084337   0.061372   -1.828962  -2.751757\n",
      "Shortest_Distance_to_School   0.000385   0.000203   -0.002842  -0.001228\n",
      "HSP_index                     0.007423  -0.000664   -0.019852  -0.006676\n",
      "TC_index                     -0.005419   0.090826    2.908804   3.702523\n",
      "IR                           -0.181143  -0.903575   -5.914761  -8.973031\n",
      "SDT_index                    -0.001377  -0.016414    0.049620  -0.110225\n",
      "UR                           -0.011456  -0.446487   -0.656247  -2.921269\n"
     ]
    }
   ],
   "source": [
    "import statsmodels.api as sm\n",
    "\n",
    "# 다중 로지스틱 회귀 모델 피팅\n",
    "X_train_sm = sm.add_constant(X_train)\n",
    "logit_model = sm.MNLogit(y_train, X_train_sm)  # 다중 클래스 로지스틱 회귀\n",
    "result = logit_model.fit()\n",
    "\n",
    "# 다중 클래스 로지스틱 회귀 모델의 오즈비와 회귀 계수\n",
    "print(\"다중 클래스 로지스틱 회귀 모델의 오즈비:\")\n",
    "print(np.exp(result.params))\n",
    "\n",
    "# 회귀 계수 출력\n",
    "print(\"다중 클래스 로지스틱 회귀 모델의 회귀 계수:\")\n",
    "print(result.params)"
   ]
  },
  {
   "cell_type": "markdown",
   "metadata": {},
   "source": [
    "### 다중공선성"
   ]
  },
  {
   "cell_type": "code",
   "execution_count": 10,
   "metadata": {
    "scrolled": true
   },
   "outputs": [
    {
     "name": "stdout",
     "output_type": "stream",
     "text": [
      "다중공선성 확인:\n",
      "                      Variable          VIF\n",
      "0                     CA_index  4565.325771\n",
      "1  Shortest_Distance_to_School     5.205711\n",
      "2                    HSP_index    53.000835\n",
      "3                     TC_index  4585.243444\n",
      "4                           IR     8.229593\n",
      "5                    SDT_index    44.872867\n",
      "6                           UR    44.852063\n"
     ]
    }
   ],
   "source": [
    "# 변수들의 VIF 계산\n",
    "def calculate_vif(data):\n",
    "    vif_data = pd.DataFrame()\n",
    "    vif_data[\"Variable\"] = data.columns\n",
    "    vif_data[\"VIF\"] = [variance_inflation_factor(data.values, i) for i in range(data.shape[1])]\n",
    "    return vif_data\n",
    "\n",
    "# 학습에 사용한 독립 변수에 대한 VIF 계산\n",
    "vif_data = calculate_vif(X_train)\n",
    "\n",
    "# VIF 출력\n",
    "print(\"다중공선성 확인:\")\n",
    "print(vif_data)"
   ]
  },
  {
   "cell_type": "markdown",
   "metadata": {},
   "source": [
    "- VIF값 5를 기준으로 높으면 변수에서 제거할 요인으로 본다면 Shortest_Distance_to_School을 제외하고 모두 제거변수"
   ]
  },
  {
   "cell_type": "markdown",
   "metadata": {},
   "source": [
    "### p-value"
   ]
  },
  {
   "cell_type": "code",
   "execution_count": 11,
   "metadata": {},
   "outputs": [
    {
     "name": "stdout",
     "output_type": "stream",
     "text": [
      "Optimization terminated successfully.\n",
      "         Current function value: 0.117678\n",
      "         Iterations 21\n",
      "                          MNLogit Regression Results                          \n",
      "==============================================================================\n",
      "Dep. Variable:      JS_Price_Category   No. Observations:                80000\n",
      "Model:                        MNLogit   Df Residuals:                    79968\n",
      "Method:                           MLE   Df Model:                           28\n",
      "Date:                Sun, 22 Oct 2023   Pseudo R-squ.:                 0.08704\n",
      "Time:                        19:03:05   Log-Likelihood:                -9414.2\n",
      "converged:                       True   LL-Null:                       -10312.\n",
      "Covariance Type:            nonrobust   LLR p-value:                     0.000\n",
      "===============================================================================================\n",
      "        JS_Price_Category=1       coef    std err          z      P>|z|      [0.025      0.975]\n",
      "-----------------------------------------------------------------------------------------------\n",
      "const                         -11.8419      0.928    -12.759      0.000     -13.661     -10.023\n",
      "CA_index                        0.0843      0.023      3.627      0.000       0.039       0.130\n",
      "Shortest_Distance_to_School     0.0004      0.000      2.403      0.016     7.1e-05       0.001\n",
      "HSP_index                       0.0074      0.001      5.078      0.000       0.005       0.010\n",
      "TC_index                       -0.0054      0.019     -0.289      0.772      -0.042       0.031\n",
      "IR                             -0.1811      0.050     -3.638      0.000      -0.279      -0.084\n",
      "SDT_index                      -0.0014      0.002     -0.564      0.573      -0.006       0.003\n",
      "UR                             -0.0115      0.040     -0.283      0.777      -0.091       0.068\n",
      "-----------------------------------------------------------------------------------------------\n",
      "        JS_Price_Category=2       coef    std err          z      P>|z|      [0.025      0.975]\n",
      "-----------------------------------------------------------------------------------------------\n",
      "const                         -16.8692      4.835     -3.489      0.000     -26.346      -7.392\n",
      "CA_index                        0.0614      0.108      0.569      0.569      -0.150       0.273\n",
      "Shortest_Distance_to_School     0.0002      0.001      0.297      0.766      -0.001       0.002\n",
      "HSP_index                      -0.0007      0.007     -0.096      0.924      -0.014       0.013\n",
      "TC_index                        0.0908      0.077      1.183      0.237      -0.060       0.241\n",
      "IR                             -0.9036      0.241     -3.746      0.000      -1.376      -0.431\n",
      "SDT_index                      -0.0164      0.010     -1.590      0.112      -0.037       0.004\n",
      "UR                             -0.4465      0.182     -2.453      0.014      -0.803      -0.090\n",
      "-----------------------------------------------------------------------------------------------\n",
      "        JS_Price_Category=3       coef    std err          z      P>|z|      [0.025      0.975]\n",
      "-----------------------------------------------------------------------------------------------\n",
      "const                        -114.5068     44.950     -2.547      0.011    -202.608     -26.406\n",
      "CA_index                       -1.8290      1.003     -1.824      0.068      -3.794       0.136\n",
      "Shortest_Distance_to_School    -0.0028      0.003     -1.002      0.316      -0.008       0.003\n",
      "HSP_index                      -0.0199      0.023     -0.868      0.385      -0.065       0.025\n",
      "TC_index                        2.9088      1.329      2.189      0.029       0.305       5.513\n",
      "IR                             -5.9148      2.508     -2.359      0.018     -10.830      -1.000\n",
      "SDT_index                       0.0496      0.044      1.125      0.261      -0.037       0.136\n",
      "UR                             -0.6562      0.597     -1.100      0.271      -1.826       0.513\n",
      "-----------------------------------------------------------------------------------------------\n",
      "        JS_Price_Category=4       coef    std err          z      P>|z|      [0.025      0.975]\n",
      "-----------------------------------------------------------------------------------------------\n",
      "const                         -78.2422     81.332     -0.962      0.336    -237.650      81.166\n",
      "CA_index                       -2.7518      1.781     -1.545      0.122      -6.242       0.739\n",
      "Shortest_Distance_to_School    -0.0012      0.005     -0.260      0.795      -0.010       0.008\n",
      "HSP_index                      -0.0067      0.049     -0.136      0.892      -0.103       0.089\n",
      "TC_index                        3.7025      2.344      1.579      0.114      -0.892       8.297\n",
      "IR                             -8.9730      4.849     -1.850      0.064     -18.478       0.532\n",
      "SDT_index                      -0.1102      0.104     -1.057      0.291      -0.315       0.094\n",
      "UR                             -2.9213      1.897     -1.540      0.124      -6.640       0.797\n",
      "===============================================================================================\n",
      "모델 정확도 : 0.57925 \n",
      "\n"
     ]
    }
   ],
   "source": [
    "# X_train에 상수 항 (intercept) 추가\n",
    "X_train_sm = sm.add_constant(X_train)\n",
    "\n",
    "# 로지스틱 회귀 모델의 p-value 계산 (다중 클래스 로지스틱 회귀)\n",
    "logit_model = sm.MNLogit(y_train, X_train_sm)  # 다중 클래스 로지스틱 회귀\n",
    "result = logit_model.fit()### p-value\n",
    "print(result.summary()\n",
    "     )\n",
    "# 테스트 데이터에 대한 예측\n",
    "y_pred = model.predict(X_test)\n",
    "\n",
    "# 모델 평가 (정확도 계산)\n",
    "accuracy = accuracy_score(y_test, y_pred)\n",
    "print(f\"모델 정확도 : {accuracy}\", '\\n')"
   ]
  },
  {
   "cell_type": "markdown",
   "metadata": {},
   "source": [
    "- a=0.05일 때, p-value값을 고려하면 모든 변수를 제외한다."
   ]
  },
  {
   "cell_type": "markdown",
   "metadata": {},
   "source": [
    "## 최종결론\n",
    "- Features_Ranking의 17가지 변수 중 상위 10가지를 제외한 7가지 변수에 대해 VIF와 Logistic Regression Analysis를 진행한다.\n",
    "    - VIF와 Logistit Regression의 p-value값의 공통 제거요인인 'CA_index', 'HSP_index', 'TC_index', 'IR', 'SDT_index', 'UR'을 제거한다.\n",
    "    - 위의 여섯가지 요인('CA_index', 'HSP_index', 'TC_index', 'IR', 'SDT_index', 'UR')을 변수에서 제거하여 머신러닝을 진행한다."
   ]
  }
 ],
 "metadata": {
  "kernelspec": {
   "display_name": "Python 3",
   "language": "python",
   "name": "python3"
  },
  "language_info": {
   "codemirror_mode": {
    "name": "ipython",
    "version": 3
   },
   "file_extension": ".py",
   "mimetype": "text/x-python",
   "name": "python",
   "nbconvert_exporter": "python",
   "pygments_lexer": "ipython3",
   "version": "3.7.6"
  }
 },
 "nbformat": 4,
 "nbformat_minor": 4
}
