{
 "cells": [
  {
   "cell_type": "code",
   "execution_count": 1,
   "metadata": {
    "scrolled": false
   },
   "outputs": [
    {
     "name": "stderr",
     "output_type": "stream",
     "text": [
      "\n",
      "Bad key text.latex.preview in file C:\\Users\\spa84\\anaconda3\\lib\\site-packages\\matplotlib\\mpl-data\\stylelib\\_classic_test.mplstyle, line 123 ('text.latex.preview : False')\n",
      "You probably need to get an updated matplotlibrc file from\n",
      "https://github.com/matplotlib/matplotlib/blob/v3.5.3/matplotlibrc.template\n",
      "or from the matplotlib source distribution\n",
      "\n",
      "Bad key mathtext.fallback_to_cm in file C:\\Users\\spa84\\anaconda3\\lib\\site-packages\\matplotlib\\mpl-data\\stylelib\\_classic_test.mplstyle, line 155 ('mathtext.fallback_to_cm : True  # When True, use symbols from the Computer Modern')\n",
      "You probably need to get an updated matplotlibrc file from\n",
      "https://github.com/matplotlib/matplotlib/blob/v3.5.3/matplotlibrc.template\n",
      "or from the matplotlib source distribution\n",
      "\n",
      "Bad key savefig.jpeg_quality in file C:\\Users\\spa84\\anaconda3\\lib\\site-packages\\matplotlib\\mpl-data\\stylelib\\_classic_test.mplstyle, line 418 ('savefig.jpeg_quality: 95       # when a jpeg is saved, the default quality parameter.')\n",
      "You probably need to get an updated matplotlibrc file from\n",
      "https://github.com/matplotlib/matplotlib/blob/v3.5.3/matplotlibrc.template\n",
      "or from the matplotlib source distribution\n",
      "\n",
      "Bad key keymap.all_axes in file C:\\Users\\spa84\\anaconda3\\lib\\site-packages\\matplotlib\\mpl-data\\stylelib\\_classic_test.mplstyle, line 466 ('keymap.all_axes : a                 # enable all axes')\n",
      "You probably need to get an updated matplotlibrc file from\n",
      "https://github.com/matplotlib/matplotlib/blob/v3.5.3/matplotlibrc.template\n",
      "or from the matplotlib source distribution\n",
      "\n",
      "Bad key animation.avconv_path in file C:\\Users\\spa84\\anaconda3\\lib\\site-packages\\matplotlib\\mpl-data\\stylelib\\_classic_test.mplstyle, line 477 ('animation.avconv_path: avconv     # Path to avconv binary. Without full path')\n",
      "You probably need to get an updated matplotlibrc file from\n",
      "https://github.com/matplotlib/matplotlib/blob/v3.5.3/matplotlibrc.template\n",
      "or from the matplotlib source distribution\n",
      "\n",
      "Bad key animation.avconv_args in file C:\\Users\\spa84\\anaconda3\\lib\\site-packages\\matplotlib\\mpl-data\\stylelib\\_classic_test.mplstyle, line 479 ('animation.avconv_args:            # Additional arguments to pass to avconv')\n",
      "You probably need to get an updated matplotlibrc file from\n",
      "https://github.com/matplotlib/matplotlib/blob/v3.5.3/matplotlibrc.template\n",
      "or from the matplotlib source distribution\n"
     ]
    }
   ],
   "source": [
    "import pandas as pd\n",
    "import numpy as np\n",
    "import statsmodels.api as sm\n",
    "import statsmodels.stats.api as sms\n",
    "from scipy import stats\n",
    "import matplotlib.pyplot as plt\n",
    "import plotly.express as px\n",
    "import scipy\n",
    "import seaborn as sns\n",
    "import matplotlib.font_manager as fm\n",
    "from sklearn.preprocessing import MinMaxScaler, StandardScaler\n",
    "from statsmodels.stats.outliers_influence import variance_inflation_factor\n",
    "import math\n",
    "import warnings\n",
    "import pingouin as pg"
   ]
  },
  {
   "cell_type": "code",
   "execution_count": 2,
   "metadata": {},
   "outputs": [],
   "source": [
    "warnings.simplefilter('ignore')"
   ]
  },
  {
   "cell_type": "code",
   "execution_count": 3,
   "metadata": {},
   "outputs": [],
   "source": [
    "font_path = \"C:\\\\Users\\\\spa84\\\\Downloads\\\\text_mining\\\\NanumGothic.ttf\"  # 나눔 폰트의 경로를 지정\n",
    "font_name = fm.FontProperties(fname=font_path).get_name()\n",
    "plt.rc(\"font\", family=font_name)"
   ]
  },
  {
   "cell_type": "code",
   "execution_count": 4,
   "metadata": {
    "scrolled": false
   },
   "outputs": [],
   "source": [
    "df = pd.read_csv('../data/Coordinates_Preprocessed.csv')"
   ]
  },
  {
   "cell_type": "code",
   "execution_count": 5,
   "metadata": {
    "scrolled": true
   },
   "outputs": [
    {
     "data": {
      "text/html": [
       "<div>\n",
       "<style scoped>\n",
       "    .dataframe tbody tr th:only-of-type {\n",
       "        vertical-align: middle;\n",
       "    }\n",
       "\n",
       "    .dataframe tbody tr th {\n",
       "        vertical-align: top;\n",
       "    }\n",
       "\n",
       "    .dataframe thead th {\n",
       "        text-align: right;\n",
       "    }\n",
       "</style>\n",
       "<table border=\"1\" class=\"dataframe\">\n",
       "  <thead>\n",
       "    <tr style=\"text-align: right;\">\n",
       "      <th></th>\n",
       "      <th>Building_Age</th>\n",
       "      <th>JS_Price</th>\n",
       "      <th>JS_BA</th>\n",
       "      <th>Population</th>\n",
       "      <th>UR</th>\n",
       "      <th>LC_index</th>\n",
       "      <th>CA_index</th>\n",
       "      <th>TC_index</th>\n",
       "      <th>SDT_index</th>\n",
       "      <th>HSP_index</th>\n",
       "      <th>Sell_Price</th>\n",
       "      <th>Crime_Rates</th>\n",
       "      <th>IR</th>\n",
       "      <th>Region_Name</th>\n",
       "      <th>Building_Use</th>\n",
       "      <th>YearMonth</th>\n",
       "      <th>Shortest_Distance_to_Subway</th>\n",
       "      <th>Shortest_Distance_to_School</th>\n",
       "      <th>Shortest_Distance_to_Univ</th>\n",
       "      <th>Shortest_Distance_to_Park</th>\n",
       "    </tr>\n",
       "  </thead>\n",
       "  <tbody>\n",
       "    <tr>\n",
       "      <th>0</th>\n",
       "      <td>14</td>\n",
       "      <td>22500</td>\n",
       "      <td>84.70</td>\n",
       "      <td>433809</td>\n",
       "      <td>4.1</td>\n",
       "      <td>90.4</td>\n",
       "      <td>95.3</td>\n",
       "      <td>91.0</td>\n",
       "      <td>107.634598</td>\n",
       "      <td>91.7</td>\n",
       "      <td>39900.00</td>\n",
       "      <td>0.967620</td>\n",
       "      <td>1.25</td>\n",
       "      <td>강동구</td>\n",
       "      <td>아파트</td>\n",
       "      <td>201703</td>\n",
       "      <td>218.546662</td>\n",
       "      <td>342.320637</td>\n",
       "      <td>2080.047982</td>\n",
       "      <td>159.232767</td>\n",
       "    </tr>\n",
       "    <tr>\n",
       "      <th>1</th>\n",
       "      <td>0</td>\n",
       "      <td>16000</td>\n",
       "      <td>17.45</td>\n",
       "      <td>662019</td>\n",
       "      <td>3.4</td>\n",
       "      <td>98.0</td>\n",
       "      <td>101.1</td>\n",
       "      <td>99.1</td>\n",
       "      <td>112.039216</td>\n",
       "      <td>131.7</td>\n",
       "      <td>18000.00</td>\n",
       "      <td>0.834577</td>\n",
       "      <td>1.25</td>\n",
       "      <td>송파구</td>\n",
       "      <td>오피스텔</td>\n",
       "      <td>201912</td>\n",
       "      <td>365.167081</td>\n",
       "      <td>428.396368</td>\n",
       "      <td>2078.432085</td>\n",
       "      <td>1250.766345</td>\n",
       "    </tr>\n",
       "    <tr>\n",
       "      <th>2</th>\n",
       "      <td>30</td>\n",
       "      <td>42000</td>\n",
       "      <td>108.47</td>\n",
       "      <td>553927</td>\n",
       "      <td>2.7</td>\n",
       "      <td>78.0</td>\n",
       "      <td>84.3</td>\n",
       "      <td>81.7</td>\n",
       "      <td>120.439963</td>\n",
       "      <td>74.7</td>\n",
       "      <td>135000.00</td>\n",
       "      <td>1.537764</td>\n",
       "      <td>2.50</td>\n",
       "      <td>강남구</td>\n",
       "      <td>아파트</td>\n",
       "      <td>201310</td>\n",
       "      <td>698.127221</td>\n",
       "      <td>334.807784</td>\n",
       "      <td>1514.222790</td>\n",
       "      <td>918.048403</td>\n",
       "    </tr>\n",
       "    <tr>\n",
       "      <th>3</th>\n",
       "      <td>4</td>\n",
       "      <td>48000</td>\n",
       "      <td>84.95</td>\n",
       "      <td>674828</td>\n",
       "      <td>2.9</td>\n",
       "      <td>72.9</td>\n",
       "      <td>80.0</td>\n",
       "      <td>77.1</td>\n",
       "      <td>114.366829</td>\n",
       "      <td>79.4</td>\n",
       "      <td>91646.15</td>\n",
       "      <td>1.145652</td>\n",
       "      <td>3.25</td>\n",
       "      <td>송파구</td>\n",
       "      <td>아파트</td>\n",
       "      <td>201110</td>\n",
       "      <td>536.947700</td>\n",
       "      <td>24.176463</td>\n",
       "      <td>3817.518298</td>\n",
       "      <td>838.633151</td>\n",
       "    </tr>\n",
       "    <tr>\n",
       "      <th>4</th>\n",
       "      <td>0</td>\n",
       "      <td>70000</td>\n",
       "      <td>84.99</td>\n",
       "      <td>302243</td>\n",
       "      <td>2.1</td>\n",
       "      <td>109.0</td>\n",
       "      <td>109.0</td>\n",
       "      <td>110.3</td>\n",
       "      <td>87.677816</td>\n",
       "      <td>167.9</td>\n",
       "      <td>108000.00</td>\n",
       "      <td>0.725826</td>\n",
       "      <td>2.50</td>\n",
       "      <td>서대문구</td>\n",
       "      <td>아파트</td>\n",
       "      <td>202208</td>\n",
       "      <td>1173.890039</td>\n",
       "      <td>335.949816</td>\n",
       "      <td>1165.416466</td>\n",
       "      <td>701.477137</td>\n",
       "    </tr>\n",
       "    <tr>\n",
       "      <th>...</th>\n",
       "      <td>...</td>\n",
       "      <td>...</td>\n",
       "      <td>...</td>\n",
       "      <td>...</td>\n",
       "      <td>...</td>\n",
       "      <td>...</td>\n",
       "      <td>...</td>\n",
       "      <td>...</td>\n",
       "      <td>...</td>\n",
       "      <td>...</td>\n",
       "      <td>...</td>\n",
       "      <td>...</td>\n",
       "      <td>...</td>\n",
       "      <td>...</td>\n",
       "      <td>...</td>\n",
       "      <td>...</td>\n",
       "      <td>...</td>\n",
       "      <td>...</td>\n",
       "      <td>...</td>\n",
       "      <td>...</td>\n",
       "    </tr>\n",
       "    <tr>\n",
       "      <th>4995</th>\n",
       "      <td>0</td>\n",
       "      <td>133000</td>\n",
       "      <td>84.86</td>\n",
       "      <td>530126</td>\n",
       "      <td>3.4</td>\n",
       "      <td>102.6</td>\n",
       "      <td>101.3</td>\n",
       "      <td>100.8</td>\n",
       "      <td>128.819696</td>\n",
       "      <td>158.1</td>\n",
       "      <td>193333.33</td>\n",
       "      <td>1.352069</td>\n",
       "      <td>0.50</td>\n",
       "      <td>강남구</td>\n",
       "      <td>아파트</td>\n",
       "      <td>202011</td>\n",
       "      <td>1341.605321</td>\n",
       "      <td>298.254673</td>\n",
       "      <td>3567.318940</td>\n",
       "      <td>1272.216183</td>\n",
       "    </tr>\n",
       "    <tr>\n",
       "      <th>4996</th>\n",
       "      <td>10</td>\n",
       "      <td>49000</td>\n",
       "      <td>84.91</td>\n",
       "      <td>427540</td>\n",
       "      <td>3.1</td>\n",
       "      <td>74.5</td>\n",
       "      <td>81.5</td>\n",
       "      <td>78.5</td>\n",
       "      <td>102.461258</td>\n",
       "      <td>74.2</td>\n",
       "      <td>81850.00</td>\n",
       "      <td>1.221012</td>\n",
       "      <td>3.00</td>\n",
       "      <td>서초구</td>\n",
       "      <td>아파트</td>\n",
       "      <td>201207</td>\n",
       "      <td>440.715060</td>\n",
       "      <td>269.506677</td>\n",
       "      <td>1053.568719</td>\n",
       "      <td>2804.609144</td>\n",
       "    </tr>\n",
       "    <tr>\n",
       "      <th>4997</th>\n",
       "      <td>0</td>\n",
       "      <td>23000</td>\n",
       "      <td>30.00</td>\n",
       "      <td>425539</td>\n",
       "      <td>4.5</td>\n",
       "      <td>93.9</td>\n",
       "      <td>98.0</td>\n",
       "      <td>94.1</td>\n",
       "      <td>94.786910</td>\n",
       "      <td>106.1</td>\n",
       "      <td>27038.00</td>\n",
       "      <td>0.907344</td>\n",
       "      <td>1.50</td>\n",
       "      <td>강동구</td>\n",
       "      <td>연립다세대</td>\n",
       "      <td>201803</td>\n",
       "      <td>364.897534</td>\n",
       "      <td>391.843327</td>\n",
       "      <td>1835.115994</td>\n",
       "      <td>251.807047</td>\n",
       "    </tr>\n",
       "    <tr>\n",
       "      <th>4998</th>\n",
       "      <td>0</td>\n",
       "      <td>71000</td>\n",
       "      <td>84.65</td>\n",
       "      <td>571614</td>\n",
       "      <td>3.8</td>\n",
       "      <td>106.9</td>\n",
       "      <td>103.8</td>\n",
       "      <td>103.4</td>\n",
       "      <td>117.233889</td>\n",
       "      <td>177.7</td>\n",
       "      <td>110000.00</td>\n",
       "      <td>0.671993</td>\n",
       "      <td>0.50</td>\n",
       "      <td>강서구</td>\n",
       "      <td>아파트</td>\n",
       "      <td>202106</td>\n",
       "      <td>0.000000</td>\n",
       "      <td>809.669099</td>\n",
       "      <td>2549.064034</td>\n",
       "      <td>864.197138</td>\n",
       "    </tr>\n",
       "    <tr>\n",
       "      <th>4999</th>\n",
       "      <td>4</td>\n",
       "      <td>34000</td>\n",
       "      <td>84.54</td>\n",
       "      <td>455617</td>\n",
       "      <td>3.6</td>\n",
       "      <td>84.1</td>\n",
       "      <td>88.5</td>\n",
       "      <td>86.5</td>\n",
       "      <td>120.617174</td>\n",
       "      <td>82.5</td>\n",
       "      <td>38666.67</td>\n",
       "      <td>0.884658</td>\n",
       "      <td>1.50</td>\n",
       "      <td>성북구</td>\n",
       "      <td>아파트</td>\n",
       "      <td>201507</td>\n",
       "      <td>586.255863</td>\n",
       "      <td>403.445394</td>\n",
       "      <td>1342.980946</td>\n",
       "      <td>995.127801</td>\n",
       "    </tr>\n",
       "  </tbody>\n",
       "</table>\n",
       "<p>5000 rows × 20 columns</p>\n",
       "</div>"
      ],
      "text/plain": [
       "      Building_Age  JS_Price   JS_BA  Population   UR  LC_index  CA_index  \\\n",
       "0               14     22500   84.70      433809  4.1      90.4      95.3   \n",
       "1                0     16000   17.45      662019  3.4      98.0     101.1   \n",
       "2               30     42000  108.47      553927  2.7      78.0      84.3   \n",
       "3                4     48000   84.95      674828  2.9      72.9      80.0   \n",
       "4                0     70000   84.99      302243  2.1     109.0     109.0   \n",
       "...            ...       ...     ...         ...  ...       ...       ...   \n",
       "4995             0    133000   84.86      530126  3.4     102.6     101.3   \n",
       "4996            10     49000   84.91      427540  3.1      74.5      81.5   \n",
       "4997             0     23000   30.00      425539  4.5      93.9      98.0   \n",
       "4998             0     71000   84.65      571614  3.8     106.9     103.8   \n",
       "4999             4     34000   84.54      455617  3.6      84.1      88.5   \n",
       "\n",
       "      TC_index   SDT_index  HSP_index  Sell_Price  Crime_Rates    IR  \\\n",
       "0         91.0  107.634598       91.7    39900.00     0.967620  1.25   \n",
       "1         99.1  112.039216      131.7    18000.00     0.834577  1.25   \n",
       "2         81.7  120.439963       74.7   135000.00     1.537764  2.50   \n",
       "3         77.1  114.366829       79.4    91646.15     1.145652  3.25   \n",
       "4        110.3   87.677816      167.9   108000.00     0.725826  2.50   \n",
       "...        ...         ...        ...         ...          ...   ...   \n",
       "4995     100.8  128.819696      158.1   193333.33     1.352069  0.50   \n",
       "4996      78.5  102.461258       74.2    81850.00     1.221012  3.00   \n",
       "4997      94.1   94.786910      106.1    27038.00     0.907344  1.50   \n",
       "4998     103.4  117.233889      177.7   110000.00     0.671993  0.50   \n",
       "4999      86.5  120.617174       82.5    38666.67     0.884658  1.50   \n",
       "\n",
       "     Region_Name Building_Use  YearMonth  Shortest_Distance_to_Subway  \\\n",
       "0            강동구          아파트     201703                   218.546662   \n",
       "1            송파구         오피스텔     201912                   365.167081   \n",
       "2            강남구          아파트     201310                   698.127221   \n",
       "3            송파구          아파트     201110                   536.947700   \n",
       "4           서대문구          아파트     202208                  1173.890039   \n",
       "...          ...          ...        ...                          ...   \n",
       "4995         강남구          아파트     202011                  1341.605321   \n",
       "4996         서초구          아파트     201207                   440.715060   \n",
       "4997         강동구        연립다세대     201803                   364.897534   \n",
       "4998         강서구          아파트     202106                     0.000000   \n",
       "4999         성북구          아파트     201507                   586.255863   \n",
       "\n",
       "      Shortest_Distance_to_School  Shortest_Distance_to_Univ  \\\n",
       "0                      342.320637                2080.047982   \n",
       "1                      428.396368                2078.432085   \n",
       "2                      334.807784                1514.222790   \n",
       "3                       24.176463                3817.518298   \n",
       "4                      335.949816                1165.416466   \n",
       "...                           ...                        ...   \n",
       "4995                   298.254673                3567.318940   \n",
       "4996                   269.506677                1053.568719   \n",
       "4997                   391.843327                1835.115994   \n",
       "4998                   809.669099                2549.064034   \n",
       "4999                   403.445394                1342.980946   \n",
       "\n",
       "      Shortest_Distance_to_Park  \n",
       "0                    159.232767  \n",
       "1                   1250.766345  \n",
       "2                    918.048403  \n",
       "3                    838.633151  \n",
       "4                    701.477137  \n",
       "...                         ...  \n",
       "4995                1272.216183  \n",
       "4996                2804.609144  \n",
       "4997                 251.807047  \n",
       "4998                 864.197138  \n",
       "4999                 995.127801  \n",
       "\n",
       "[5000 rows x 20 columns]"
      ]
     },
     "execution_count": 5,
     "metadata": {},
     "output_type": "execute_result"
    }
   ],
   "source": [
    "df"
   ]
  },
  {
   "cell_type": "markdown",
   "metadata": {},
   "source": [
    "## Categorical:\n",
    "\n",
    "- Nominal(variables that have two or more categories, but which do not have an intrinsic order.)\n",
    "\n",
    "    - Region_Name : 자치구 명\n",
    "    - Building_Use : 건물 용도\n",
    "    \n",
    "- Ordinal(variables that have two or more categories just like nominal variables. Only the categories can also be ordered or ranked.)\n",
    "\n",
    "    \n",
    "## Numeric:\n",
    "\n",
    "- Discrete\n",
    "    - YearMonth : 년월\n",
    "    - Building_Age : 건물연식\n",
    "    - JS_Price : 전세가\n",
    "   \n",
    "- Continous\n",
    "    - Sell_Price : 매매 가격\n",
    "    - JS_BA = JS_Building Area : 임대 면적\n",
    "    - lR = Interest Rate : 금리\n",
    "    - UR = Unemployment Rate : 실업률\n",
    "    - LC_index = Leading Composite index : 선행종합 지수\n",
    "    - CA_index = Comprehensive Accompany index : 동행종합 지수\n",
    "    - TC_index = Trailing Composite index : 후행종합 지수\n",
    "    - SDT_index = Supply and Demand Trend index = 전세수급동향 지수\n",
    "    - HSP_index = \n",
    "    - Population : 인구수\n",
    "    - Crime_Rates : 범죄율\n",
    "    - Shortest_Distance_to_Subway : 가장 가까운 지하철역과의 거리\n",
    "    - Shortest_Distance_to_School : 가장 가까운 초중고등학교와의 거리\n",
    "    - Shortest_Distance_to_Univ : 가장 가까운 대학교와의 거리\n",
    "    - Shortest_Distance_to_Park : 가장 가까운 공원과의 거리\n",
    "    "
   ]
  },
  {
   "cell_type": "code",
   "execution_count": 6,
   "metadata": {
    "scrolled": true
   },
   "outputs": [
    {
     "name": "stdout",
     "output_type": "stream",
     "text": [
      "<class 'pandas.core.frame.DataFrame'>\n",
      "RangeIndex: 5000 entries, 0 to 4999\n",
      "Data columns (total 20 columns):\n",
      " #   Column                       Non-Null Count  Dtype  \n",
      "---  ------                       --------------  -----  \n",
      " 0   Building_Age                 5000 non-null   int64  \n",
      " 1   JS_Price                     5000 non-null   int64  \n",
      " 2   JS_BA                        5000 non-null   float64\n",
      " 3   Population                   5000 non-null   int64  \n",
      " 4   UR                           5000 non-null   float64\n",
      " 5   LC_index                     5000 non-null   float64\n",
      " 6   CA_index                     5000 non-null   float64\n",
      " 7   TC_index                     5000 non-null   float64\n",
      " 8   SDT_index                    5000 non-null   float64\n",
      " 9   HSP_index                    5000 non-null   float64\n",
      " 10  Sell_Price                   5000 non-null   float64\n",
      " 11  Crime_Rates                  5000 non-null   float64\n",
      " 12  IR                           5000 non-null   float64\n",
      " 13  Region_Name                  5000 non-null   object \n",
      " 14  Building_Use                 5000 non-null   object \n",
      " 15  YearMonth                    5000 non-null   int64  \n",
      " 16  Shortest_Distance_to_Subway  5000 non-null   float64\n",
      " 17  Shortest_Distance_to_School  5000 non-null   float64\n",
      " 18  Shortest_Distance_to_Univ    5000 non-null   float64\n",
      " 19  Shortest_Distance_to_Park    5000 non-null   float64\n",
      "dtypes: float64(14), int64(4), object(2)\n",
      "memory usage: 781.4+ KB\n"
     ]
    }
   ],
   "source": [
    "df.info()"
   ]
  },
  {
   "cell_type": "markdown",
   "metadata": {},
   "source": [
    "## 데이터 전처리"
   ]
  },
  {
   "cell_type": "markdown",
   "metadata": {},
   "source": [
    "### 범주형 변수 인코딩"
   ]
  },
  {
   "cell_type": "code",
   "execution_count": 7,
   "metadata": {},
   "outputs": [],
   "source": [
    "def target_encoding(df, target_column):\n",
    "    # DataFrame의 복사본을 만듭니다.\n",
    "    df_encoded = df.copy()\n",
    "    \n",
    "    for column in df.columns:\n",
    "        if df[column].dtype == object and column != target_column:\n",
    "            encoding_map = df.groupby(column)[target_column].mean().to_dict()\n",
    "            df_encoded[column] = df_encoded[column].map(encoding_map)\n",
    "    \n",
    "    return df_encoded"
   ]
  },
  {
   "cell_type": "code",
   "execution_count": 8,
   "metadata": {
    "scrolled": true
   },
   "outputs": [],
   "source": [
    "df_encoded = target_encoding(df, 'JS_Price')"
   ]
  },
  {
   "cell_type": "markdown",
   "metadata": {},
   "source": [
    "### 전체 변수 스케일링"
   ]
  },
  {
   "cell_type": "code",
   "execution_count": 9,
   "metadata": {
    "scrolled": true
   },
   "outputs": [],
   "source": [
    "# StandardScaler 객체 생성\n",
    "scaler = StandardScaler()\n",
    "\n",
    "# 정규화할 열 선택 (수치형 데이터만, 원핫인코딩 열 제외)\n",
    "numeric_columns = df_encoded.select_dtypes(include=['float', 'int']).columns\n",
    "# numeric_columns = [col for col in numeric_columns if col not in columns_encoded]\n",
    "\n",
    "# 데이터 정규화 (Z-점수로)\n",
    "df_encoded[numeric_columns] = scaler.fit_transform(df_encoded[numeric_columns])"
   ]
  },
  {
   "cell_type": "markdown",
   "metadata": {},
   "source": [
    "## Regression Analysis"
   ]
  },
  {
   "cell_type": "code",
   "execution_count": 10,
   "metadata": {
    "scrolled": true
   },
   "outputs": [
    {
     "data": {
      "text/plain": [
       "Index(['Building_Age', 'JS_Price', 'JS_BA', 'Population', 'UR', 'LC_index',\n",
       "       'CA_index', 'TC_index', 'SDT_index', 'HSP_index', 'Sell_Price',\n",
       "       'Crime_Rates', 'IR', 'Region_Name', 'Building_Use', 'YearMonth',\n",
       "       'Shortest_Distance_to_Subway', 'Shortest_Distance_to_School',\n",
       "       'Shortest_Distance_to_Univ', 'Shortest_Distance_to_Park'],\n",
       "      dtype='object')"
      ]
     },
     "execution_count": 10,
     "metadata": {},
     "output_type": "execute_result"
    }
   ],
   "source": [
    "df_encoded.columns"
   ]
  },
  {
   "cell_type": "code",
   "execution_count": 11,
   "metadata": {
    "scrolled": true
   },
   "outputs": [
    {
     "name": "stdout",
     "output_type": "stream",
     "text": [
      "                            OLS Regression Results                            \n",
      "==============================================================================\n",
      "Dep. Variable:               JS_Price   R-squared:                       0.754\n",
      "Model:                            OLS   Adj. R-squared:                  0.753\n",
      "Method:                 Least Squares   F-statistic:                     1018.\n",
      "Date:                Sun, 08 Oct 2023   Prob (F-statistic):               0.00\n",
      "Time:                        16:04:02   Log-Likelihood:                -3588.9\n",
      "No. Observations:                5000   AIC:                             7210.\n",
      "Df Residuals:                    4984   BIC:                             7314.\n",
      "Df Model:                          15                                         \n",
      "Covariance Type:            nonrobust                                         \n",
      "===============================================================================================\n",
      "                                  coef    std err          t      P>|t|      [0.025      0.975]\n",
      "-----------------------------------------------------------------------------------------------\n",
      "const                         6.11e-15      0.007    8.7e-13      1.000      -0.014       0.014\n",
      "Shortest_Distance_to_School    -0.0528      0.007     -7.248      0.000      -0.067      -0.039\n",
      "Building_Use                    0.0199      0.009      2.309      0.021       0.003       0.037\n",
      "JS_BA                           0.3989      0.009     46.594      0.000       0.382       0.416\n",
      "Shortest_Distance_to_Subway    -0.0392      0.007     -5.323      0.000      -0.054      -0.025\n",
      "HSP_index                      -0.1870      0.031     -5.966      0.000      -0.248      -0.126\n",
      "IR                             -0.0380      0.014     -2.813      0.005      -0.064      -0.012\n",
      "TC_index                        0.0347      0.089      0.388      0.698      -0.141       0.210\n",
      "Sell_Price                      0.4716      0.011     42.341      0.000       0.450       0.493\n",
      "Shortest_Distance_to_Univ      -0.0128      0.007     -1.727      0.084      -0.027       0.002\n",
      "YearMonth                      -0.1908      0.062     -3.082      0.002      -0.312      -0.069\n",
      "SDT_index                       0.0332      0.012      2.740      0.006       0.009       0.057\n",
      "LC_index                        0.4628      0.146      3.167      0.002       0.176       0.749\n",
      "CA_index                        0.0805      0.093      0.863      0.388      -0.102       0.263\n",
      "Building_Age                   -0.2364      0.007    -31.952      0.000      -0.251      -0.222\n",
      "Region_Name                     0.1359      0.009     15.025      0.000       0.118       0.154\n",
      "==============================================================================\n",
      "Omnibus:                     2897.135   Durbin-Watson:                   1.980\n",
      "Prob(Omnibus):                  0.000   Jarque-Bera (JB):           145949.748\n",
      "Skew:                           2.061   Prob(JB):                         0.00\n",
      "Kurtosis:                      29.145   Cond. No.                         56.3\n",
      "==============================================================================\n",
      "\n",
      "Notes:\n",
      "[1] Standard Errors assume that the covariance matrix of the errors is correctly specified.\n"
     ]
    }
   ],
   "source": [
    "selected_features = ['Shortest_Distance_to_School',\n",
    " 'Building_Use',\n",
    " 'JS_BA',\n",
    " 'Shortest_Distance_to_Subway',\n",
    " 'HSP_index',\n",
    " 'IR',\n",
    " 'TC_index',\n",
    " 'Sell_Price',\n",
    " 'Shortest_Distance_to_Univ',\n",
    " 'YearMonth',\n",
    " 'SDT_index',\n",
    " 'LC_index',\n",
    " 'CA_index',\n",
    " 'Building_Age',\n",
    " 'Region_Name']\n",
    "\n",
    "# X 데이터 선택\n",
    "X = df_encoded[selected_features]\n",
    "\n",
    "# 상수항 추가\n",
    "X = sm.add_constant(X)\n",
    "\n",
    "# 종속 변수 선택\n",
    "Y = df_encoded['JS_Price']\n",
    "\n",
    "# 회귀 모델 생성\n",
    "model = sm.OLS(Y, X).fit()\n",
    "\n",
    "# 결과 요약 출력\n",
    "print(model.summary())"
   ]
  },
  {
   "cell_type": "markdown",
   "metadata": {},
   "source": [
    "## 변수선택법\n",
    "- 다중공선성과 회귀계수의 통계적 유의성 고려하여 진행"
   ]
  },
  {
   "cell_type": "markdown",
   "metadata": {},
   "source": [
    "### VIF"
   ]
  },
  {
   "cell_type": "code",
   "execution_count": 12,
   "metadata": {
    "scrolled": true
   },
   "outputs": [],
   "source": [
    "# X 데이터에서 상수항 제거 (VIF 계산에서 상수항은 제외해야 함)\n",
    "X_without_constant = X.drop('const', axis=1)\n",
    "\n",
    "# VIF 계산\n",
    "vif = pd.DataFrame()\n",
    "vif[\"Features\"] = X_without_constant.columns\n",
    "vif[\"VIF\"] = [variance_inflation_factor(X_without_constant.values, i) for i in range(X_without_constant.shape[1])]"
   ]
  },
  {
   "cell_type": "code",
   "execution_count": 13,
   "metadata": {
    "scrolled": false
   },
   "outputs": [
    {
     "data": {
      "text/html": [
       "<div>\n",
       "<style scoped>\n",
       "    .dataframe tbody tr th:only-of-type {\n",
       "        vertical-align: middle;\n",
       "    }\n",
       "\n",
       "    .dataframe tbody tr th {\n",
       "        vertical-align: top;\n",
       "    }\n",
       "\n",
       "    .dataframe thead th {\n",
       "        text-align: right;\n",
       "    }\n",
       "</style>\n",
       "<table border=\"1\" class=\"dataframe\">\n",
       "  <thead>\n",
       "    <tr style=\"text-align: right;\">\n",
       "      <th></th>\n",
       "      <th>Features</th>\n",
       "      <th>VIF</th>\n",
       "    </tr>\n",
       "  </thead>\n",
       "  <tbody>\n",
       "    <tr>\n",
       "      <th>11</th>\n",
       "      <td>LC_index</td>\n",
       "      <td>432.689795</td>\n",
       "    </tr>\n",
       "    <tr>\n",
       "      <th>12</th>\n",
       "      <td>CA_index</td>\n",
       "      <td>175.959888</td>\n",
       "    </tr>\n",
       "    <tr>\n",
       "      <th>6</th>\n",
       "      <td>TC_index</td>\n",
       "      <td>161.850551</td>\n",
       "    </tr>\n",
       "    <tr>\n",
       "      <th>9</th>\n",
       "      <td>YearMonth</td>\n",
       "      <td>77.645361</td>\n",
       "    </tr>\n",
       "    <tr>\n",
       "      <th>4</th>\n",
       "      <td>HSP_index</td>\n",
       "      <td>19.897164</td>\n",
       "    </tr>\n",
       "    <tr>\n",
       "      <th>5</th>\n",
       "      <td>IR</td>\n",
       "      <td>3.694098</td>\n",
       "    </tr>\n",
       "    <tr>\n",
       "      <th>10</th>\n",
       "      <td>SDT_index</td>\n",
       "      <td>2.975804</td>\n",
       "    </tr>\n",
       "    <tr>\n",
       "      <th>7</th>\n",
       "      <td>Sell_Price</td>\n",
       "      <td>2.513522</td>\n",
       "    </tr>\n",
       "    <tr>\n",
       "      <th>14</th>\n",
       "      <td>Region_Name</td>\n",
       "      <td>1.656921</td>\n",
       "    </tr>\n",
       "    <tr>\n",
       "      <th>1</th>\n",
       "      <td>Building_Use</td>\n",
       "      <td>1.506167</td>\n",
       "    </tr>\n",
       "    <tr>\n",
       "      <th>2</th>\n",
       "      <td>JS_BA</td>\n",
       "      <td>1.484810</td>\n",
       "    </tr>\n",
       "    <tr>\n",
       "      <th>8</th>\n",
       "      <td>Shortest_Distance_to_Univ</td>\n",
       "      <td>1.112691</td>\n",
       "    </tr>\n",
       "    <tr>\n",
       "      <th>13</th>\n",
       "      <td>Building_Age</td>\n",
       "      <td>1.108789</td>\n",
       "    </tr>\n",
       "    <tr>\n",
       "      <th>3</th>\n",
       "      <td>Shortest_Distance_to_Subway</td>\n",
       "      <td>1.100001</td>\n",
       "    </tr>\n",
       "    <tr>\n",
       "      <th>0</th>\n",
       "      <td>Shortest_Distance_to_School</td>\n",
       "      <td>1.074440</td>\n",
       "    </tr>\n",
       "  </tbody>\n",
       "</table>\n",
       "</div>"
      ],
      "text/plain": [
       "                       Features         VIF\n",
       "11                     LC_index  432.689795\n",
       "12                     CA_index  175.959888\n",
       "6                      TC_index  161.850551\n",
       "9                     YearMonth   77.645361\n",
       "4                     HSP_index   19.897164\n",
       "5                            IR    3.694098\n",
       "10                    SDT_index    2.975804\n",
       "7                    Sell_Price    2.513522\n",
       "14                  Region_Name    1.656921\n",
       "1                  Building_Use    1.506167\n",
       "2                         JS_BA    1.484810\n",
       "8     Shortest_Distance_to_Univ    1.112691\n",
       "13                 Building_Age    1.108789\n",
       "3   Shortest_Distance_to_Subway    1.100001\n",
       "0   Shortest_Distance_to_School    1.074440"
      ]
     },
     "execution_count": 13,
     "metadata": {},
     "output_type": "execute_result"
    }
   ],
   "source": [
    "vif.sort_values('VIF', ascending = False)"
   ]
  },
  {
   "cell_type": "code",
   "execution_count": 14,
   "metadata": {},
   "outputs": [
    {
     "data": {
      "text/html": [
       "<div>\n",
       "<style scoped>\n",
       "    .dataframe tbody tr th:only-of-type {\n",
       "        vertical-align: middle;\n",
       "    }\n",
       "\n",
       "    .dataframe tbody tr th {\n",
       "        vertical-align: top;\n",
       "    }\n",
       "\n",
       "    .dataframe thead th {\n",
       "        text-align: right;\n",
       "    }\n",
       "</style>\n",
       "<table border=\"1\" class=\"dataframe\">\n",
       "  <thead>\n",
       "    <tr style=\"text-align: right;\">\n",
       "      <th></th>\n",
       "      <th>0</th>\n",
       "      <th>1</th>\n",
       "      <th>2</th>\n",
       "      <th>3</th>\n",
       "      <th>4</th>\n",
       "      <th>5</th>\n",
       "      <th>6</th>\n",
       "    </tr>\n",
       "  </thead>\n",
       "  <tbody>\n",
       "    <tr>\n",
       "      <th>0</th>\n",
       "      <td></td>\n",
       "      <td>coef</td>\n",
       "      <td>std err</td>\n",
       "      <td>t</td>\n",
       "      <td>P&gt;|t|</td>\n",
       "      <td>[0.025</td>\n",
       "      <td>0.975]</td>\n",
       "    </tr>\n",
       "    <tr>\n",
       "      <th>1</th>\n",
       "      <td>const</td>\n",
       "      <td>6.11e-15</td>\n",
       "      <td>0.007</td>\n",
       "      <td>8.7e-13</td>\n",
       "      <td>1.000</td>\n",
       "      <td>-0.014</td>\n",
       "      <td>0.014</td>\n",
       "    </tr>\n",
       "    <tr>\n",
       "      <th>2</th>\n",
       "      <td>Shortest_Distance_to_School</td>\n",
       "      <td>-0.0528</td>\n",
       "      <td>0.007</td>\n",
       "      <td>-7.248</td>\n",
       "      <td>0.000</td>\n",
       "      <td>-0.067</td>\n",
       "      <td>-0.039</td>\n",
       "    </tr>\n",
       "    <tr>\n",
       "      <th>3</th>\n",
       "      <td>Building_Use</td>\n",
       "      <td>0.0199</td>\n",
       "      <td>0.009</td>\n",
       "      <td>2.309</td>\n",
       "      <td>0.021</td>\n",
       "      <td>0.003</td>\n",
       "      <td>0.037</td>\n",
       "    </tr>\n",
       "    <tr>\n",
       "      <th>4</th>\n",
       "      <td>JS_BA</td>\n",
       "      <td>0.3989</td>\n",
       "      <td>0.009</td>\n",
       "      <td>46.594</td>\n",
       "      <td>0.000</td>\n",
       "      <td>0.382</td>\n",
       "      <td>0.416</td>\n",
       "    </tr>\n",
       "    <tr>\n",
       "      <th>5</th>\n",
       "      <td>Shortest_Distance_to_Subway</td>\n",
       "      <td>-0.0392</td>\n",
       "      <td>0.007</td>\n",
       "      <td>-5.323</td>\n",
       "      <td>0.000</td>\n",
       "      <td>-0.054</td>\n",
       "      <td>-0.025</td>\n",
       "    </tr>\n",
       "    <tr>\n",
       "      <th>6</th>\n",
       "      <td>HSP_index</td>\n",
       "      <td>-0.1870</td>\n",
       "      <td>0.031</td>\n",
       "      <td>-5.966</td>\n",
       "      <td>0.000</td>\n",
       "      <td>-0.248</td>\n",
       "      <td>-0.126</td>\n",
       "    </tr>\n",
       "    <tr>\n",
       "      <th>7</th>\n",
       "      <td>IR</td>\n",
       "      <td>-0.0380</td>\n",
       "      <td>0.014</td>\n",
       "      <td>-2.813</td>\n",
       "      <td>0.005</td>\n",
       "      <td>-0.064</td>\n",
       "      <td>-0.012</td>\n",
       "    </tr>\n",
       "    <tr>\n",
       "      <th>8</th>\n",
       "      <td>TC_index</td>\n",
       "      <td>0.0347</td>\n",
       "      <td>0.089</td>\n",
       "      <td>0.388</td>\n",
       "      <td>0.698</td>\n",
       "      <td>-0.141</td>\n",
       "      <td>0.210</td>\n",
       "    </tr>\n",
       "    <tr>\n",
       "      <th>9</th>\n",
       "      <td>Sell_Price</td>\n",
       "      <td>0.4716</td>\n",
       "      <td>0.011</td>\n",
       "      <td>42.341</td>\n",
       "      <td>0.000</td>\n",
       "      <td>0.450</td>\n",
       "      <td>0.493</td>\n",
       "    </tr>\n",
       "    <tr>\n",
       "      <th>10</th>\n",
       "      <td>Shortest_Distance_to_Univ</td>\n",
       "      <td>-0.0128</td>\n",
       "      <td>0.007</td>\n",
       "      <td>-1.727</td>\n",
       "      <td>0.084</td>\n",
       "      <td>-0.027</td>\n",
       "      <td>0.002</td>\n",
       "    </tr>\n",
       "    <tr>\n",
       "      <th>11</th>\n",
       "      <td>YearMonth</td>\n",
       "      <td>-0.1908</td>\n",
       "      <td>0.062</td>\n",
       "      <td>-3.082</td>\n",
       "      <td>0.002</td>\n",
       "      <td>-0.312</td>\n",
       "      <td>-0.069</td>\n",
       "    </tr>\n",
       "    <tr>\n",
       "      <th>12</th>\n",
       "      <td>SDT_index</td>\n",
       "      <td>0.0332</td>\n",
       "      <td>0.012</td>\n",
       "      <td>2.740</td>\n",
       "      <td>0.006</td>\n",
       "      <td>0.009</td>\n",
       "      <td>0.057</td>\n",
       "    </tr>\n",
       "    <tr>\n",
       "      <th>13</th>\n",
       "      <td>LC_index</td>\n",
       "      <td>0.4628</td>\n",
       "      <td>0.146</td>\n",
       "      <td>3.167</td>\n",
       "      <td>0.002</td>\n",
       "      <td>0.176</td>\n",
       "      <td>0.749</td>\n",
       "    </tr>\n",
       "    <tr>\n",
       "      <th>14</th>\n",
       "      <td>CA_index</td>\n",
       "      <td>0.0805</td>\n",
       "      <td>0.093</td>\n",
       "      <td>0.863</td>\n",
       "      <td>0.388</td>\n",
       "      <td>-0.102</td>\n",
       "      <td>0.263</td>\n",
       "    </tr>\n",
       "    <tr>\n",
       "      <th>15</th>\n",
       "      <td>Building_Age</td>\n",
       "      <td>-0.2364</td>\n",
       "      <td>0.007</td>\n",
       "      <td>-31.952</td>\n",
       "      <td>0.000</td>\n",
       "      <td>-0.251</td>\n",
       "      <td>-0.222</td>\n",
       "    </tr>\n",
       "    <tr>\n",
       "      <th>16</th>\n",
       "      <td>Region_Name</td>\n",
       "      <td>0.1359</td>\n",
       "      <td>0.009</td>\n",
       "      <td>15.025</td>\n",
       "      <td>0.000</td>\n",
       "      <td>0.118</td>\n",
       "      <td>0.154</td>\n",
       "    </tr>\n",
       "  </tbody>\n",
       "</table>\n",
       "</div>"
      ],
      "text/plain": [
       "                              0           1          2          3       4  \\\n",
       "0                                      coef    std err          t   P>|t|   \n",
       "1                         const    6.11e-15      0.007    8.7e-13   1.000   \n",
       "2   Shortest_Distance_to_School     -0.0528      0.007     -7.248   0.000   \n",
       "3                  Building_Use      0.0199      0.009      2.309   0.021   \n",
       "4                         JS_BA      0.3989      0.009     46.594   0.000   \n",
       "5   Shortest_Distance_to_Subway     -0.0392      0.007     -5.323   0.000   \n",
       "6                     HSP_index     -0.1870      0.031     -5.966   0.000   \n",
       "7                            IR     -0.0380      0.014     -2.813   0.005   \n",
       "8                      TC_index      0.0347      0.089      0.388   0.698   \n",
       "9                    Sell_Price      0.4716      0.011     42.341   0.000   \n",
       "10    Shortest_Distance_to_Univ     -0.0128      0.007     -1.727   0.084   \n",
       "11                    YearMonth     -0.1908      0.062     -3.082   0.002   \n",
       "12                    SDT_index      0.0332      0.012      2.740   0.006   \n",
       "13                     LC_index      0.4628      0.146      3.167   0.002   \n",
       "14                     CA_index      0.0805      0.093      0.863   0.388   \n",
       "15                 Building_Age     -0.2364      0.007    -31.952   0.000   \n",
       "16                  Region_Name      0.1359      0.009     15.025   0.000   \n",
       "\n",
       "            5          6  \n",
       "0      [0.025     0.975]  \n",
       "1      -0.014      0.014  \n",
       "2      -0.067     -0.039  \n",
       "3       0.003      0.037  \n",
       "4       0.382      0.416  \n",
       "5      -0.054     -0.025  \n",
       "6      -0.248     -0.126  \n",
       "7      -0.064     -0.012  \n",
       "8      -0.141      0.210  \n",
       "9       0.450      0.493  \n",
       "10     -0.027      0.002  \n",
       "11     -0.312     -0.069  \n",
       "12      0.009      0.057  \n",
       "13      0.176      0.749  \n",
       "14     -0.102      0.263  \n",
       "15     -0.251     -0.222  \n",
       "16      0.118      0.154  "
      ]
     },
     "execution_count": 14,
     "metadata": {},
     "output_type": "execute_result"
    }
   ],
   "source": [
    "model = pd.DataFrame(model.summary().tables[1])\n",
    "model"
   ]
  },
  {
   "cell_type": "code",
   "execution_count": 15,
   "metadata": {},
   "outputs": [
    {
     "data": {
      "text/plain": [
       "['HSP_index', 'TC_index', 'YearMonth', 'LC_index', 'CA_index']"
      ]
     },
     "execution_count": 15,
     "metadata": {},
     "output_type": "execute_result"
    }
   ],
   "source": [
    "delete_columns = []\n",
    "for i in range(2, len(model.index)):\n",
    "    if vif['VIF'].iloc[i-2] > 5:\n",
    "        delete_columns.append(model.iloc[i, 0].data)\n",
    "delete_columns"
   ]
  },
  {
   "cell_type": "code",
   "execution_count": 16,
   "metadata": {
    "scrolled": false
   },
   "outputs": [
    {
     "data": {
      "text/plain": [
       "['Shortest_Distance_to_Univ',\n",
       " 'Shortest_Distance_to_Subway',\n",
       " 'SDT_index',\n",
       " 'IR',\n",
       " 'Region_Name',\n",
       " 'Sell_Price',\n",
       " 'JS_BA',\n",
       " 'Building_Use',\n",
       " 'Shortest_Distance_to_School',\n",
       " 'Building_Age']"
      ]
     },
     "execution_count": 16,
     "metadata": {},
     "output_type": "execute_result"
    }
   ],
   "source": [
    "selected_features = list(set(selected_features) - set(delete_columns))\n",
    "selected_features"
   ]
  },
  {
   "cell_type": "markdown",
   "metadata": {},
   "source": [
    "### 회귀계수의 P-VALUE"
   ]
  },
  {
   "cell_type": "code",
   "execution_count": 17,
   "metadata": {
    "scrolled": false
   },
   "outputs": [
    {
     "name": "stdout",
     "output_type": "stream",
     "text": [
      "                            OLS Regression Results                            \n",
      "==============================================================================\n",
      "Dep. Variable:               JS_Price   R-squared:                       0.737\n",
      "Model:                            OLS   Adj. R-squared:                  0.737\n",
      "Method:                 Least Squares   F-statistic:                     1401.\n",
      "Date:                Sun, 08 Oct 2023   Prob (F-statistic):               0.00\n",
      "Time:                        16:04:03   Log-Likelihood:                -3751.9\n",
      "No. Observations:                5000   AIC:                             7526.\n",
      "Df Residuals:                    4989   BIC:                             7598.\n",
      "Df Model:                          10                                         \n",
      "Covariance Type:            nonrobust                                         \n",
      "===============================================================================================\n",
      "                                  coef    std err          t      P>|t|      [0.025      0.975]\n",
      "-----------------------------------------------------------------------------------------------\n",
      "const                       -1.583e-17      0.007  -2.18e-15      1.000      -0.014       0.014\n",
      "Shortest_Distance_to_Univ      -0.0144      0.008     -1.878      0.060      -0.029       0.001\n",
      "Shortest_Distance_to_Subway    -0.0342      0.008     -4.495      0.000      -0.049      -0.019\n",
      "SDT_index                      -0.0986      0.008    -12.670      0.000      -0.114      -0.083\n",
      "IR                             -0.1596      0.008    -20.130      0.000      -0.175      -0.144\n",
      "Region_Name                     0.1116      0.009     12.385      0.000       0.094       0.129\n",
      "Sell_Price                      0.5293      0.010     52.913      0.000       0.510       0.549\n",
      "JS_BA                           0.3815      0.009     44.244      0.000       0.365       0.398\n",
      "Building_Use                   -0.0050      0.009     -0.582      0.561      -0.022       0.012\n",
      "Shortest_Distance_to_School    -0.0495      0.008     -6.587      0.000      -0.064      -0.035\n",
      "Building_Age                   -0.2265      0.008    -29.757      0.000      -0.241      -0.212\n",
      "==============================================================================\n",
      "Omnibus:                     2627.963   Durbin-Watson:                   1.993\n",
      "Prob(Omnibus):                  0.000   Jarque-Bera (JB):           114942.750\n",
      "Skew:                           1.815   Prob(JB):                         0.00\n",
      "Kurtosis:                      26.207   Cond. No.                         2.54\n",
      "==============================================================================\n",
      "\n",
      "Notes:\n",
      "[1] Standard Errors assume that the covariance matrix of the errors is correctly specified.\n"
     ]
    }
   ],
   "source": [
    "# X 데이터 선택\n",
    "X = df_encoded[selected_features]\n",
    "\n",
    "# 상수항 추가\n",
    "X = sm.add_constant(X)\n",
    "\n",
    "# 종속 변수 선택\n",
    "Y = df_encoded['JS_Price']\n",
    "\n",
    "# 회귀 모델 생성\n",
    "model = sm.OLS(Y, X).fit()\n",
    "\n",
    "# 결과 요약 출력\n",
    "print(model.summary())"
   ]
  },
  {
   "cell_type": "code",
   "execution_count": 18,
   "metadata": {},
   "outputs": [
    {
     "data": {
      "text/html": [
       "<div>\n",
       "<style scoped>\n",
       "    .dataframe tbody tr th:only-of-type {\n",
       "        vertical-align: middle;\n",
       "    }\n",
       "\n",
       "    .dataframe tbody tr th {\n",
       "        vertical-align: top;\n",
       "    }\n",
       "\n",
       "    .dataframe thead th {\n",
       "        text-align: right;\n",
       "    }\n",
       "</style>\n",
       "<table border=\"1\" class=\"dataframe\">\n",
       "  <thead>\n",
       "    <tr style=\"text-align: right;\">\n",
       "      <th></th>\n",
       "      <th>0</th>\n",
       "      <th>1</th>\n",
       "      <th>2</th>\n",
       "      <th>3</th>\n",
       "      <th>4</th>\n",
       "      <th>5</th>\n",
       "      <th>6</th>\n",
       "    </tr>\n",
       "  </thead>\n",
       "  <tbody>\n",
       "    <tr>\n",
       "      <th>0</th>\n",
       "      <td></td>\n",
       "      <td>coef</td>\n",
       "      <td>std err</td>\n",
       "      <td>t</td>\n",
       "      <td>P&gt;|t|</td>\n",
       "      <td>[0.025</td>\n",
       "      <td>0.975]</td>\n",
       "    </tr>\n",
       "    <tr>\n",
       "      <th>1</th>\n",
       "      <td>const</td>\n",
       "      <td>-1.583e-17</td>\n",
       "      <td>0.007</td>\n",
       "      <td>-2.18e-15</td>\n",
       "      <td>1.000</td>\n",
       "      <td>-0.014</td>\n",
       "      <td>0.014</td>\n",
       "    </tr>\n",
       "    <tr>\n",
       "      <th>2</th>\n",
       "      <td>Shortest_Distance_to_Univ</td>\n",
       "      <td>-0.0144</td>\n",
       "      <td>0.008</td>\n",
       "      <td>-1.878</td>\n",
       "      <td>0.060</td>\n",
       "      <td>-0.029</td>\n",
       "      <td>0.001</td>\n",
       "    </tr>\n",
       "    <tr>\n",
       "      <th>3</th>\n",
       "      <td>Shortest_Distance_to_Subway</td>\n",
       "      <td>-0.0342</td>\n",
       "      <td>0.008</td>\n",
       "      <td>-4.495</td>\n",
       "      <td>0.000</td>\n",
       "      <td>-0.049</td>\n",
       "      <td>-0.019</td>\n",
       "    </tr>\n",
       "    <tr>\n",
       "      <th>4</th>\n",
       "      <td>SDT_index</td>\n",
       "      <td>-0.0986</td>\n",
       "      <td>0.008</td>\n",
       "      <td>-12.670</td>\n",
       "      <td>0.000</td>\n",
       "      <td>-0.114</td>\n",
       "      <td>-0.083</td>\n",
       "    </tr>\n",
       "    <tr>\n",
       "      <th>5</th>\n",
       "      <td>IR</td>\n",
       "      <td>-0.1596</td>\n",
       "      <td>0.008</td>\n",
       "      <td>-20.130</td>\n",
       "      <td>0.000</td>\n",
       "      <td>-0.175</td>\n",
       "      <td>-0.144</td>\n",
       "    </tr>\n",
       "    <tr>\n",
       "      <th>6</th>\n",
       "      <td>Region_Name</td>\n",
       "      <td>0.1116</td>\n",
       "      <td>0.009</td>\n",
       "      <td>12.385</td>\n",
       "      <td>0.000</td>\n",
       "      <td>0.094</td>\n",
       "      <td>0.129</td>\n",
       "    </tr>\n",
       "    <tr>\n",
       "      <th>7</th>\n",
       "      <td>Sell_Price</td>\n",
       "      <td>0.5293</td>\n",
       "      <td>0.010</td>\n",
       "      <td>52.913</td>\n",
       "      <td>0.000</td>\n",
       "      <td>0.510</td>\n",
       "      <td>0.549</td>\n",
       "    </tr>\n",
       "    <tr>\n",
       "      <th>8</th>\n",
       "      <td>JS_BA</td>\n",
       "      <td>0.3815</td>\n",
       "      <td>0.009</td>\n",
       "      <td>44.244</td>\n",
       "      <td>0.000</td>\n",
       "      <td>0.365</td>\n",
       "      <td>0.398</td>\n",
       "    </tr>\n",
       "    <tr>\n",
       "      <th>9</th>\n",
       "      <td>Building_Use</td>\n",
       "      <td>-0.0050</td>\n",
       "      <td>0.009</td>\n",
       "      <td>-0.582</td>\n",
       "      <td>0.561</td>\n",
       "      <td>-0.022</td>\n",
       "      <td>0.012</td>\n",
       "    </tr>\n",
       "    <tr>\n",
       "      <th>10</th>\n",
       "      <td>Shortest_Distance_to_School</td>\n",
       "      <td>-0.0495</td>\n",
       "      <td>0.008</td>\n",
       "      <td>-6.587</td>\n",
       "      <td>0.000</td>\n",
       "      <td>-0.064</td>\n",
       "      <td>-0.035</td>\n",
       "    </tr>\n",
       "    <tr>\n",
       "      <th>11</th>\n",
       "      <td>Building_Age</td>\n",
       "      <td>-0.2265</td>\n",
       "      <td>0.008</td>\n",
       "      <td>-29.757</td>\n",
       "      <td>0.000</td>\n",
       "      <td>-0.241</td>\n",
       "      <td>-0.212</td>\n",
       "    </tr>\n",
       "  </tbody>\n",
       "</table>\n",
       "</div>"
      ],
      "text/plain": [
       "                              0           1          2          3       4  \\\n",
       "0                                      coef    std err          t   P>|t|   \n",
       "1                         const  -1.583e-17      0.007  -2.18e-15   1.000   \n",
       "2     Shortest_Distance_to_Univ     -0.0144      0.008     -1.878   0.060   \n",
       "3   Shortest_Distance_to_Subway     -0.0342      0.008     -4.495   0.000   \n",
       "4                     SDT_index     -0.0986      0.008    -12.670   0.000   \n",
       "5                            IR     -0.1596      0.008    -20.130   0.000   \n",
       "6                   Region_Name      0.1116      0.009     12.385   0.000   \n",
       "7                    Sell_Price      0.5293      0.010     52.913   0.000   \n",
       "8                         JS_BA      0.3815      0.009     44.244   0.000   \n",
       "9                  Building_Use     -0.0050      0.009     -0.582   0.561   \n",
       "10  Shortest_Distance_to_School     -0.0495      0.008     -6.587   0.000   \n",
       "11                 Building_Age     -0.2265      0.008    -29.757   0.000   \n",
       "\n",
       "            5          6  \n",
       "0      [0.025     0.975]  \n",
       "1      -0.014      0.014  \n",
       "2      -0.029      0.001  \n",
       "3      -0.049     -0.019  \n",
       "4      -0.114     -0.083  \n",
       "5      -0.175     -0.144  \n",
       "6       0.094      0.129  \n",
       "7       0.510      0.549  \n",
       "8       0.365      0.398  \n",
       "9      -0.022      0.012  \n",
       "10     -0.064     -0.035  \n",
       "11     -0.241     -0.212  "
      ]
     },
     "execution_count": 18,
     "metadata": {},
     "output_type": "execute_result"
    }
   ],
   "source": [
    "model = pd.DataFrame(model.summary().tables[1])\n",
    "model"
   ]
  },
  {
   "cell_type": "code",
   "execution_count": 19,
   "metadata": {
    "scrolled": true
   },
   "outputs": [
    {
     "data": {
      "text/plain": [
       "['Shortest_Distance_to_Univ', 'Building_Use']"
      ]
     },
     "execution_count": 19,
     "metadata": {},
     "output_type": "execute_result"
    }
   ],
   "source": [
    "delete_columns = []\n",
    "for i in range(2, len(model.index)):\n",
    "    if float(model.iloc[i, 4].data) > 0.01:\n",
    "        delete_columns.append(model.iloc[i, 0].data)\n",
    "delete_columns"
   ]
  },
  {
   "cell_type": "code",
   "execution_count": 20,
   "metadata": {},
   "outputs": [
    {
     "data": {
      "text/plain": [
       "['Shortest_Distance_to_Subway',\n",
       " 'SDT_index',\n",
       " 'IR',\n",
       " 'Region_Name',\n",
       " 'Sell_Price',\n",
       " 'JS_BA',\n",
       " 'Shortest_Distance_to_School',\n",
       " 'Building_Age']"
      ]
     },
     "execution_count": 20,
     "metadata": {},
     "output_type": "execute_result"
    }
   ],
   "source": [
    "selected_features = list(set(selected_features) - set(delete_columns))\n",
    "selected_features"
   ]
  },
  {
   "cell_type": "code",
   "execution_count": 21,
   "metadata": {},
   "outputs": [
    {
     "name": "stdout",
     "output_type": "stream",
     "text": [
      "                            OLS Regression Results                            \n",
      "==============================================================================\n",
      "Dep. Variable:               JS_Price   R-squared:                       0.737\n",
      "Model:                            OLS   Adj. R-squared:                  0.737\n",
      "Method:                 Least Squares   F-statistic:                     1750.\n",
      "Date:                Sun, 08 Oct 2023   Prob (F-statistic):               0.00\n",
      "Time:                        16:04:03   Log-Likelihood:                -3753.9\n",
      "No. Observations:                5000   AIC:                             7526.\n",
      "Df Residuals:                    4991   BIC:                             7584.\n",
      "Df Model:                           8                                         \n",
      "Covariance Type:            nonrobust                                         \n",
      "===============================================================================================\n",
      "                                  coef    std err          t      P>|t|      [0.025      0.975]\n",
      "-----------------------------------------------------------------------------------------------\n",
      "const                       -1.583e-17      0.007  -2.18e-15      1.000      -0.014       0.014\n",
      "Shortest_Distance_to_Subway    -0.0374      0.007     -5.046      0.000      -0.052      -0.023\n",
      "SDT_index                      -0.0991      0.008    -12.839      0.000      -0.114      -0.084\n",
      "IR                             -0.1611      0.008    -20.710      0.000      -0.176      -0.146\n",
      "Region_Name                     0.1092      0.009     12.511      0.000       0.092       0.126\n",
      "Sell_Price                      0.5269      0.010     54.083      0.000       0.508       0.546\n",
      "JS_BA                           0.3815      0.008     46.616      0.000       0.366       0.398\n",
      "Shortest_Distance_to_School    -0.0489      0.007     -6.555      0.000      -0.064      -0.034\n",
      "Building_Age                   -0.2274      0.007    -30.736      0.000      -0.242      -0.213\n",
      "==============================================================================\n",
      "Omnibus:                     2641.406   Durbin-Watson:                   1.993\n",
      "Prob(Omnibus):                  0.000   Jarque-Bera (JB):           115091.719\n",
      "Skew:                           1.830   Prob(JB):                         0.00\n",
      "Kurtosis:                      26.217   Cond. No.                         2.33\n",
      "==============================================================================\n",
      "\n",
      "Notes:\n",
      "[1] Standard Errors assume that the covariance matrix of the errors is correctly specified.\n"
     ]
    }
   ],
   "source": [
    "# X 데이터 선택\n",
    "X = df_encoded[selected_features]\n",
    "\n",
    "# 상수항 추가\n",
    "X = sm.add_constant(X)\n",
    "\n",
    "# 종속 변수 선택\n",
    "Y = df_encoded['JS_Price']\n",
    "\n",
    "# 회귀 모델 생성\n",
    "model = sm.OLS(Y, X).fit()\n",
    "\n",
    "# 결과 요약 출력\n",
    "print(model.summary())"
   ]
  },
  {
   "cell_type": "markdown",
   "metadata": {},
   "source": [
    "- 모든 변수가 통계적으로 유의한 것을 확인할 수 있다."
   ]
  },
  {
   "cell_type": "markdown",
   "metadata": {},
   "source": [
    "## 모델가정 확인"
   ]
  },
  {
   "cell_type": "markdown",
   "metadata": {},
   "source": [
    "### 선형성\n",
    "- 선형성은 계수의 유의성 검정과 다중공선성을 고려하여 변수를 걸러냄으로써 어느 정도 만족하는 것으로 보인다."
   ]
  },
  {
   "cell_type": "code",
   "execution_count": 22,
   "metadata": {
    "scrolled": false
   },
   "outputs": [
    {
     "data": {
      "text/plain": [
       "[<matplotlib.lines.Line2D at 0x2bd2573c488>]"
      ]
     },
     "execution_count": 22,
     "metadata": {},
     "output_type": "execute_result"
    },
    {
     "data": {
      "image/png": "[encoded data removed]",
      "text/plain": [
       "<Figure size 432x288 with 1 Axes>"
      ]
     },
     "metadata": {
      "needs_background": "light"
     },
     "output_type": "display_data"
    }
   ],
   "source": [
    "fitted = model.predict(X)\n",
    "residual = df_encoded['JS_Price'] - fitted\n",
    "\n",
    "sns.regplot(x=fitted, y=residual, lowess=True, line_kws={'color':'red'})\n",
    "\n",
    "plt.plot([fitted.min(), fitted.max()], [0, 0], '--', color='grey')"
   ]
  },
  {
   "cell_type": "markdown",
   "metadata": {},
   "source": [
    "### 정규성"
   ]
  },
  {
   "cell_type": "code",
   "execution_count": 23,
   "metadata": {
    "scrolled": false
   },
   "outputs": [
    {
     "data": {
      "text/plain": [
       "ShapiroResult(statistic=0.8079574108123779, pvalue=0.0)"
      ]
     },
     "execution_count": 23,
     "metadata": {},
     "output_type": "execute_result"
    },
    {
     "data": {
      "image/png": "[encoded data removed]",
      "text/plain": [
       "<Figure size 432x288 with 1 Axes>"
      ]
     },
     "metadata": {
      "needs_background": "light"
     },
     "output_type": "display_data"
    }
   ],
   "source": [
    "fitted = model.predict(X)\n",
    "residual = df_encoded['JS_Price'] - fitted\n",
    "sr = scipy.stats.zscore(residual)\n",
    "(x, y), _ = scipy.stats.probplot(sr)\n",
    "\n",
    "# Scatterplot 그리기\n",
    "sns.scatterplot(x=x, y=y)\n",
    "plt.plot([-3, 3], [-3, 3], '--', color='grey')\n",
    "\n",
    "# Shapiro-Wilk 정규성 검정\n",
    "scipy.stats.shapiro(residual)"
   ]
  },
  {
   "cell_type": "markdown",
   "metadata": {},
   "source": [
    "### 등분산성"
   ]
  },
  {
   "cell_type": "code",
   "execution_count": 24,
   "metadata": {
    "scrolled": true
   },
   "outputs": [
    {
     "data": {
      "text/plain": [
       "<AxesSubplot:>"
      ]
     },
     "execution_count": 24,
     "metadata": {},
     "output_type": "execute_result"
    },
    {
     "data": {
      "image/png": "[encoded data removed]",
      "text/plain": [
       "<Figure size 432x288 with 1 Axes>"
      ]
     },
     "metadata": {
      "needs_background": "light"
     },
     "output_type": "display_data"
    }
   ],
   "source": [
    "sns.regplot(x=fitted, y=np.sqrt(np.abs(sr)), lowess=True, line_kws={'color': 'red'})"
   ]
  },
  {
   "cell_type": "markdown",
   "metadata": {},
   "source": [
    "### 독립성"
   ]
  },
  {
   "cell_type": "code",
   "execution_count": 25,
   "metadata": {
    "scrolled": true
   },
   "outputs": [
    {
     "name": "stdout",
     "output_type": "stream",
     "text": [
      "==============================================================================\n",
      "Omnibus:                     2641.406   Durbin-Watson:                   1.993\n",
      "Prob(Omnibus):                  0.000   Jarque-Bera (JB):           115091.719\n",
      "Skew:                           1.830   Prob(JB):                         0.00\n",
      "Kurtosis:                      26.217   Cond. No.                         2.33\n",
      "==============================================================================\n"
     ]
    }
   ],
   "source": [
    "print(model.summary().tables[2])"
   ]
  },
  {
   "cell_type": "markdown",
   "metadata": {},
   "source": [
    "- Durbin-Watson:1.993로 1.5~2.5사이이므로 잔차 간의 자기상관이 없다고 할 수 있으며, 회귀 모델은 독립성 가정을 만족"
   ]
  },
  {
   "cell_type": "markdown",
   "metadata": {},
   "source": [
    "## 모델가정 확인(로그 변환 후)"
   ]
  },
  {
   "cell_type": "code",
   "execution_count": 26,
   "metadata": {},
   "outputs": [],
   "source": [
    "# 'JS_Price' 열을 로그 변환\n",
    "df_encoded['JS_Price'] = np.log(df_encoded['JS_Price']+1)"
   ]
  },
  {
   "cell_type": "markdown",
   "metadata": {},
   "source": [
    "### 선형성\n",
    "- 선형성은 계수의 유의성 검정과 다중공선성을 고려하여 변수를 걸러냄으로써 어느 정도 만족하는 것으로 보인다."
   ]
  },
  {
   "cell_type": "code",
   "execution_count": 27,
   "metadata": {
    "scrolled": false
   },
   "outputs": [
    {
     "data": {
      "text/plain": [
       "[<matplotlib.lines.Line2D at 0x2bd25a50d08>]"
      ]
     },
     "execution_count": 27,
     "metadata": {},
     "output_type": "execute_result"
    },
    {
     "data": {
      "image/png": "[encoded data removed]",
      "text/plain": [
       "<Figure size 432x288 with 1 Axes>"
      ]
     },
     "metadata": {
      "needs_background": "light"
     },
     "output_type": "display_data"
    }
   ],
   "source": [
    "fitted = model.predict(X)\n",
    "residual = df_encoded['JS_Price'] - fitted\n",
    "\n",
    "sns.regplot(x=fitted, y=residual, lowess=True, line_kws={'color':'red'})\n",
    "\n",
    "plt.plot([fitted.min(), fitted.max()], [0, 0], '--', color='grey')"
   ]
  },
  {
   "cell_type": "markdown",
   "metadata": {},
   "source": [
    "### 정규성"
   ]
  },
  {
   "cell_type": "code",
   "execution_count": 28,
   "metadata": {
    "scrolled": false
   },
   "outputs": [
    {
     "data": {
      "text/plain": [
       "ShapiroResult(statistic=nan, pvalue=1.0)"
      ]
     },
     "execution_count": 28,
     "metadata": {},
     "output_type": "execute_result"
    },
    {
     "data": {
      "image/png": "[encoded data removed]",
      "text/plain": [
       "<Figure size 432x288 with 1 Axes>"
      ]
     },
     "metadata": {
      "needs_background": "light"
     },
     "output_type": "display_data"
    }
   ],
   "source": [
    "fitted = model.predict(X)\n",
    "residual = df_encoded['JS_Price'] - fitted\n",
    "sr = scipy.stats.zscore(residual)\n",
    "(x, y), _ = scipy.stats.probplot(sr)\n",
    "\n",
    "# Scatterplot 그리기\n",
    "sns.scatterplot(x=x, y=y)\n",
    "plt.plot([-3, 3], [-3, 3], '--', color='grey')\n",
    "\n",
    "# Shapiro-Wilk 정규성 검정\n",
    "scipy.stats.shapiro(residual)"
   ]
  },
  {
   "cell_type": "markdown",
   "metadata": {},
   "source": [
    "### 등분산성"
   ]
  },
  {
   "cell_type": "code",
   "execution_count": 29,
   "metadata": {
    "scrolled": false
   },
   "outputs": [
    {
     "data": {
      "text/plain": [
       "<AxesSubplot:>"
      ]
     },
     "execution_count": 29,
     "metadata": {},
     "output_type": "execute_result"
    },
    {
     "data": {
      "image/png": "[encoded data removed]",
      "text/plain": [
       "<Figure size 432x288 with 1 Axes>"
      ]
     },
     "metadata": {
      "needs_background": "light"
     },
     "output_type": "display_data"
    }
   ],
   "source": [
    "sns.regplot(x=fitted, y=np.sqrt(np.abs(sr)), lowess=True, line_kws={'color': 'red'})"
   ]
  },
  {
   "cell_type": "markdown",
   "metadata": {},
   "source": [
    "### 독립성"
   ]
  },
  {
   "cell_type": "code",
   "execution_count": 30,
   "metadata": {
    "scrolled": true
   },
   "outputs": [
    {
     "name": "stdout",
     "output_type": "stream",
     "text": [
      "==============================================================================\n",
      "Omnibus:                     2641.406   Durbin-Watson:                   1.993\n",
      "Prob(Omnibus):                  0.000   Jarque-Bera (JB):           115091.719\n",
      "Skew:                           1.830   Prob(JB):                         0.00\n",
      "Kurtosis:                      26.217   Cond. No.                         2.33\n",
      "==============================================================================\n"
     ]
    }
   ],
   "source": [
    "print(model.summary().tables[2])"
   ]
  },
  {
   "cell_type": "markdown",
   "metadata": {},
   "source": [
    "- Durbin-Watson:2.002로 1.5~2.5사이이므로 잔차 간의 자기상관이 없다고 할 수 있으며, 회귀 모델은 독립성 가정을 만족"
   ]
  },
  {
   "cell_type": "markdown",
   "metadata": {},
   "source": [
    "## 최종 모델 점검"
   ]
  },
  {
   "cell_type": "code",
   "execution_count": 31,
   "metadata": {
    "scrolled": true
   },
   "outputs": [
    {
     "name": "stdout",
     "output_type": "stream",
     "text": [
      "                            OLS Regression Results                            \n",
      "==============================================================================\n",
      "Dep. Variable:               JS_Price   R-squared:                       0.737\n",
      "Model:                            OLS   Adj. R-squared:                  0.737\n",
      "Method:                 Least Squares   F-statistic:                     1750.\n",
      "Date:                Sun, 08 Oct 2023   Prob (F-statistic):               0.00\n",
      "Time:                        16:04:12   Log-Likelihood:                -3753.9\n",
      "No. Observations:                5000   AIC:                             7526.\n",
      "Df Residuals:                    4991   BIC:                             7584.\n",
      "Df Model:                           8                                         \n",
      "Covariance Type:            nonrobust                                         \n",
      "===============================================================================================\n",
      "                                  coef    std err          t      P>|t|      [0.025      0.975]\n",
      "-----------------------------------------------------------------------------------------------\n",
      "const                       -1.583e-17      0.007  -2.18e-15      1.000      -0.014       0.014\n",
      "Shortest_Distance_to_Subway    -0.0374      0.007     -5.046      0.000      -0.052      -0.023\n",
      "SDT_index                      -0.0991      0.008    -12.839      0.000      -0.114      -0.084\n",
      "IR                             -0.1611      0.008    -20.710      0.000      -0.176      -0.146\n",
      "Region_Name                     0.1092      0.009     12.511      0.000       0.092       0.126\n",
      "Sell_Price                      0.5269      0.010     54.083      0.000       0.508       0.546\n",
      "JS_BA                           0.3815      0.008     46.616      0.000       0.366       0.398\n",
      "Shortest_Distance_to_School    -0.0489      0.007     -6.555      0.000      -0.064      -0.034\n",
      "Building_Age                   -0.2274      0.007    -30.736      0.000      -0.242      -0.213\n",
      "==============================================================================\n",
      "Omnibus:                     2641.406   Durbin-Watson:                   1.993\n",
      "Prob(Omnibus):                  0.000   Jarque-Bera (JB):           115091.719\n",
      "Skew:                           1.830   Prob(JB):                         0.00\n",
      "Kurtosis:                      26.217   Cond. No.                         2.33\n",
      "==============================================================================\n",
      "\n",
      "Notes:\n",
      "[1] Standard Errors assume that the covariance matrix of the errors is correctly specified.\n"
     ]
    }
   ],
   "source": [
    "print(model.summary())"
   ]
  },
  {
   "cell_type": "code",
   "execution_count": 32,
   "metadata": {
    "scrolled": true
   },
   "outputs": [
    {
     "data": {
      "text/plain": [
       "Sell_Price                     5.269004e-01\n",
       "JS_BA                          3.815475e-01\n",
       "Region_Name                    1.092228e-01\n",
       "const                         -1.582935e-17\n",
       "Shortest_Distance_to_Subway   -3.742194e-02\n",
       "Shortest_Distance_to_School   -4.892151e-02\n",
       "SDT_index                     -9.911094e-02\n",
       "IR                            -1.610821e-01\n",
       "Building_Age                  -2.273648e-01\n",
       "dtype: float64"
      ]
     },
     "execution_count": 32,
     "metadata": {},
     "output_type": "execute_result"
    }
   ],
   "source": [
    "model.params.sort_values(ascending=False)"
   ]
  }
 ],
 "metadata": {
  "colab": {
   "provenance": []
  },
  "kernelspec": {
   "display_name": "Python 3",
   "language": "python",
   "name": "python3"
  },
  "language_info": {
   "codemirror_mode": {
    "name": "ipython",
    "version": 3
   },
   "file_extension": ".py",
   "mimetype": "text/x-python",
   "name": "python",
   "nbconvert_exporter": "python",
   "pygments_lexer": "ipython3",
   "version": "3.7.6"
  }
 },
 "nbformat": 4,
 "nbformat_minor": 1
}
