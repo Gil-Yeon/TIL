{
 "cells": [
  {
   "cell_type": "code",
   "execution_count": 22,
   "metadata": {
    "colab": {
     "base_uri": "https://localhost:8080/"
    },
    "id": "gStB2xo5ihdP",
    "outputId": "4c1e899e-742c-45cf-d9fa-329ef6c5d61d",
    "scrolled": true
   },
   "outputs": [
    {
     "data": {
      "text/html": [
       "<div>\n",
       "<style scoped>\n",
       "    .dataframe tbody tr th:only-of-type {\n",
       "        vertical-align: middle;\n",
       "    }\n",
       "\n",
       "    .dataframe tbody tr th {\n",
       "        vertical-align: top;\n",
       "    }\n",
       "\n",
       "    .dataframe thead th {\n",
       "        text-align: right;\n",
       "    }\n",
       "</style>\n",
       "<table border=\"1\" class=\"dataframe\">\n",
       "  <thead>\n",
       "    <tr style=\"text-align: right;\">\n",
       "      <th></th>\n",
       "      <th>Year</th>\n",
       "      <th>Month</th>\n",
       "      <th>Region_Name</th>\n",
       "      <th>Building_Age</th>\n",
       "      <th>Building_Use</th>\n",
       "      <th>JS_Price</th>\n",
       "      <th>JS_BA</th>\n",
       "      <th>Population</th>\n",
       "      <th>IR</th>\n",
       "      <th>UR</th>\n",
       "      <th>LC_index</th>\n",
       "      <th>CA_index</th>\n",
       "      <th>TC_index</th>\n",
       "      <th>SDT_index</th>\n",
       "      <th>HSP_index</th>\n",
       "      <th>Sell_Price</th>\n",
       "      <th>Crime_Rates</th>\n",
       "      <th>위도</th>\n",
       "      <th>경도</th>\n",
       "    </tr>\n",
       "  </thead>\n",
       "  <tbody>\n",
       "    <tr>\n",
       "      <th>0</th>\n",
       "      <td>2011</td>\n",
       "      <td>1</td>\n",
       "      <td>관악구</td>\n",
       "      <td>6</td>\n",
       "      <td>오피스텔</td>\n",
       "      <td>12000</td>\n",
       "      <td>25.05</td>\n",
       "      <td>521193</td>\n",
       "      <td>2.75</td>\n",
       "      <td>3.8</td>\n",
       "      <td>72.0</td>\n",
       "      <td>78.2</td>\n",
       "      <td>74.2</td>\n",
       "      <td>NaN</td>\n",
       "      <td>81.2</td>\n",
       "      <td>15800.00</td>\n",
       "      <td>NaN</td>\n",
       "      <td>37.474500</td>\n",
       "      <td>126.981390</td>\n",
       "    </tr>\n",
       "    <tr>\n",
       "      <th>1</th>\n",
       "      <td>2011</td>\n",
       "      <td>2</td>\n",
       "      <td>관악구</td>\n",
       "      <td>6</td>\n",
       "      <td>오피스텔</td>\n",
       "      <td>10000</td>\n",
       "      <td>25.05</td>\n",
       "      <td>521193</td>\n",
       "      <td>2.75</td>\n",
       "      <td>4.5</td>\n",
       "      <td>72.3</td>\n",
       "      <td>78.2</td>\n",
       "      <td>74.5</td>\n",
       "      <td>NaN</td>\n",
       "      <td>82.0</td>\n",
       "      <td>16875.00</td>\n",
       "      <td>NaN</td>\n",
       "      <td>37.474500</td>\n",
       "      <td>126.981390</td>\n",
       "    </tr>\n",
       "    <tr>\n",
       "      <th>2</th>\n",
       "      <td>2011</td>\n",
       "      <td>2</td>\n",
       "      <td>관악구</td>\n",
       "      <td>6</td>\n",
       "      <td>오피스텔</td>\n",
       "      <td>10500</td>\n",
       "      <td>26.18</td>\n",
       "      <td>521193</td>\n",
       "      <td>2.75</td>\n",
       "      <td>4.5</td>\n",
       "      <td>72.3</td>\n",
       "      <td>78.2</td>\n",
       "      <td>74.5</td>\n",
       "      <td>NaN</td>\n",
       "      <td>82.0</td>\n",
       "      <td>16875.00</td>\n",
       "      <td>NaN</td>\n",
       "      <td>37.474500</td>\n",
       "      <td>126.981390</td>\n",
       "    </tr>\n",
       "    <tr>\n",
       "      <th>3</th>\n",
       "      <td>2011</td>\n",
       "      <td>5</td>\n",
       "      <td>관악구</td>\n",
       "      <td>6</td>\n",
       "      <td>오피스텔</td>\n",
       "      <td>12000</td>\n",
       "      <td>27.15</td>\n",
       "      <td>521193</td>\n",
       "      <td>3.00</td>\n",
       "      <td>3.2</td>\n",
       "      <td>72.6</td>\n",
       "      <td>78.9</td>\n",
       "      <td>75.8</td>\n",
       "      <td>NaN</td>\n",
       "      <td>80.6</td>\n",
       "      <td>17216.67</td>\n",
       "      <td>NaN</td>\n",
       "      <td>37.474500</td>\n",
       "      <td>126.981390</td>\n",
       "    </tr>\n",
       "    <tr>\n",
       "      <th>4</th>\n",
       "      <td>2011</td>\n",
       "      <td>10</td>\n",
       "      <td>관악구</td>\n",
       "      <td>6</td>\n",
       "      <td>오피스텔</td>\n",
       "      <td>11500</td>\n",
       "      <td>27.15</td>\n",
       "      <td>521193</td>\n",
       "      <td>3.25</td>\n",
       "      <td>2.9</td>\n",
       "      <td>72.9</td>\n",
       "      <td>80.0</td>\n",
       "      <td>77.1</td>\n",
       "      <td>NaN</td>\n",
       "      <td>79.4</td>\n",
       "      <td>22000.00</td>\n",
       "      <td>NaN</td>\n",
       "      <td>37.474500</td>\n",
       "      <td>126.981390</td>\n",
       "    </tr>\n",
       "    <tr>\n",
       "      <th>...</th>\n",
       "      <td>...</td>\n",
       "      <td>...</td>\n",
       "      <td>...</td>\n",
       "      <td>...</td>\n",
       "      <td>...</td>\n",
       "      <td>...</td>\n",
       "      <td>...</td>\n",
       "      <td>...</td>\n",
       "      <td>...</td>\n",
       "      <td>...</td>\n",
       "      <td>...</td>\n",
       "      <td>...</td>\n",
       "      <td>...</td>\n",
       "      <td>...</td>\n",
       "      <td>...</td>\n",
       "      <td>...</td>\n",
       "      <td>...</td>\n",
       "      <td>...</td>\n",
       "      <td>...</td>\n",
       "    </tr>\n",
       "    <tr>\n",
       "      <th>1189429</th>\n",
       "      <td>2022</td>\n",
       "      <td>11</td>\n",
       "      <td>송파구</td>\n",
       "      <td>14</td>\n",
       "      <td>아파트</td>\n",
       "      <td>96900</td>\n",
       "      <td>84.80</td>\n",
       "      <td>652993</td>\n",
       "      <td>3.25</td>\n",
       "      <td>2.3</td>\n",
       "      <td>109.7</td>\n",
       "      <td>108.9</td>\n",
       "      <td>111.8</td>\n",
       "      <td>72.039914</td>\n",
       "      <td>146.8</td>\n",
       "      <td>193312.50</td>\n",
       "      <td>NaN</td>\n",
       "      <td>37.514069</td>\n",
       "      <td>127.081381</td>\n",
       "    </tr>\n",
       "    <tr>\n",
       "      <th>1189430</th>\n",
       "      <td>2022</td>\n",
       "      <td>11</td>\n",
       "      <td>서초구</td>\n",
       "      <td>17</td>\n",
       "      <td>아파트</td>\n",
       "      <td>25500</td>\n",
       "      <td>29.60</td>\n",
       "      <td>402936</td>\n",
       "      <td>3.25</td>\n",
       "      <td>2.3</td>\n",
       "      <td>109.7</td>\n",
       "      <td>108.9</td>\n",
       "      <td>111.8</td>\n",
       "      <td>72.039914</td>\n",
       "      <td>146.8</td>\n",
       "      <td>33000.00</td>\n",
       "      <td>NaN</td>\n",
       "      <td>37.486044</td>\n",
       "      <td>126.984201</td>\n",
       "    </tr>\n",
       "    <tr>\n",
       "      <th>1189431</th>\n",
       "      <td>2022</td>\n",
       "      <td>11</td>\n",
       "      <td>강서구</td>\n",
       "      <td>6</td>\n",
       "      <td>오피스텔</td>\n",
       "      <td>15180</td>\n",
       "      <td>25.55</td>\n",
       "      <td>567898</td>\n",
       "      <td>3.25</td>\n",
       "      <td>2.3</td>\n",
       "      <td>109.7</td>\n",
       "      <td>108.9</td>\n",
       "      <td>111.8</td>\n",
       "      <td>72.039914</td>\n",
       "      <td>146.8</td>\n",
       "      <td>18125.00</td>\n",
       "      <td>NaN</td>\n",
       "      <td>37.560579</td>\n",
       "      <td>126.837594</td>\n",
       "    </tr>\n",
       "    <tr>\n",
       "      <th>1189432</th>\n",
       "      <td>2022</td>\n",
       "      <td>11</td>\n",
       "      <td>송파구</td>\n",
       "      <td>9</td>\n",
       "      <td>오피스텔</td>\n",
       "      <td>19800</td>\n",
       "      <td>26.82</td>\n",
       "      <td>652993</td>\n",
       "      <td>3.25</td>\n",
       "      <td>2.3</td>\n",
       "      <td>109.7</td>\n",
       "      <td>108.9</td>\n",
       "      <td>111.8</td>\n",
       "      <td>72.039914</td>\n",
       "      <td>146.8</td>\n",
       "      <td>21100.00</td>\n",
       "      <td>NaN</td>\n",
       "      <td>37.480095</td>\n",
       "      <td>127.119684</td>\n",
       "    </tr>\n",
       "    <tr>\n",
       "      <th>1189433</th>\n",
       "      <td>2022</td>\n",
       "      <td>11</td>\n",
       "      <td>송파구</td>\n",
       "      <td>14</td>\n",
       "      <td>아파트</td>\n",
       "      <td>88000</td>\n",
       "      <td>84.79</td>\n",
       "      <td>652993</td>\n",
       "      <td>3.25</td>\n",
       "      <td>2.3</td>\n",
       "      <td>109.7</td>\n",
       "      <td>108.9</td>\n",
       "      <td>111.8</td>\n",
       "      <td>72.039914</td>\n",
       "      <td>146.8</td>\n",
       "      <td>165000.00</td>\n",
       "      <td>NaN</td>\n",
       "      <td>37.520536</td>\n",
       "      <td>127.106151</td>\n",
       "    </tr>\n",
       "  </tbody>\n",
       "</table>\n",
       "<p>1189434 rows × 19 columns</p>\n",
       "</div>"
      ],
      "text/plain": [
       "         Year  Month Region_Name  Building_Age Building_Use  JS_Price  JS_BA  \\\n",
       "0        2011      1         관악구             6         오피스텔     12000  25.05   \n",
       "1        2011      2         관악구             6         오피스텔     10000  25.05   \n",
       "2        2011      2         관악구             6         오피스텔     10500  26.18   \n",
       "3        2011      5         관악구             6         오피스텔     12000  27.15   \n",
       "4        2011     10         관악구             6         오피스텔     11500  27.15   \n",
       "...       ...    ...         ...           ...          ...       ...    ...   \n",
       "1189429  2022     11         송파구            14          아파트     96900  84.80   \n",
       "1189430  2022     11         서초구            17          아파트     25500  29.60   \n",
       "1189431  2022     11         강서구             6         오피스텔     15180  25.55   \n",
       "1189432  2022     11         송파구             9         오피스텔     19800  26.82   \n",
       "1189433  2022     11         송파구            14          아파트     88000  84.79   \n",
       "\n",
       "         Population    IR   UR  LC_index  CA_index  TC_index  SDT_index  \\\n",
       "0            521193  2.75  3.8      72.0      78.2      74.2        NaN   \n",
       "1            521193  2.75  4.5      72.3      78.2      74.5        NaN   \n",
       "2            521193  2.75  4.5      72.3      78.2      74.5        NaN   \n",
       "3            521193  3.00  3.2      72.6      78.9      75.8        NaN   \n",
       "4            521193  3.25  2.9      72.9      80.0      77.1        NaN   \n",
       "...             ...   ...  ...       ...       ...       ...        ...   \n",
       "1189429      652993  3.25  2.3     109.7     108.9     111.8  72.039914   \n",
       "1189430      402936  3.25  2.3     109.7     108.9     111.8  72.039914   \n",
       "1189431      567898  3.25  2.3     109.7     108.9     111.8  72.039914   \n",
       "1189432      652993  3.25  2.3     109.7     108.9     111.8  72.039914   \n",
       "1189433      652993  3.25  2.3     109.7     108.9     111.8  72.039914   \n",
       "\n",
       "         HSP_index  Sell_Price  Crime_Rates         위도          경도  \n",
       "0             81.2    15800.00          NaN  37.474500  126.981390  \n",
       "1             82.0    16875.00          NaN  37.474500  126.981390  \n",
       "2             82.0    16875.00          NaN  37.474500  126.981390  \n",
       "3             80.6    17216.67          NaN  37.474500  126.981390  \n",
       "4             79.4    22000.00          NaN  37.474500  126.981390  \n",
       "...            ...         ...          ...        ...         ...  \n",
       "1189429      146.8   193312.50          NaN  37.514069  127.081381  \n",
       "1189430      146.8    33000.00          NaN  37.486044  126.984201  \n",
       "1189431      146.8    18125.00          NaN  37.560579  126.837594  \n",
       "1189432      146.8    21100.00          NaN  37.480095  127.119684  \n",
       "1189433      146.8   165000.00          NaN  37.520536  127.106151  \n",
       "\n",
       "[1189434 rows x 19 columns]"
      ]
     },
     "execution_count": 22,
     "metadata": {},
     "output_type": "execute_result"
    }
   ],
   "source": [
    "import numpy as np\n",
    "import pandas as pd\n",
    "\n",
    "# 데이터 준비\n",
    "data = pd.read_csv(\"./data/전처리된_전체_데이터.csv\")\n",
    "\n",
    "data"
   ]
  },
  {
   "cell_type": "code",
   "execution_count": 15,
   "metadata": {},
   "outputs": [
    {
     "name": "stdout",
     "output_type": "stream",
     "text": [
      "<class 'pandas.core.frame.DataFrame'>\n",
      "RangeIndex: 1189434 entries, 0 to 1189433\n",
      "Data columns (total 19 columns):\n",
      " #   Column        Non-Null Count    Dtype  \n",
      "---  ------        --------------    -----  \n",
      " 0   Year          1189434 non-null  int64  \n",
      " 1   Month         1189434 non-null  int64  \n",
      " 2   Region_Name   1189434 non-null  object \n",
      " 3   Building_Age  1189434 non-null  int64  \n",
      " 4   Building_Use  1189434 non-null  object \n",
      " 5   JS_Price      1189434 non-null  int64  \n",
      " 6   JS_BA         1189434 non-null  float64\n",
      " 7   Population    1189434 non-null  int64  \n",
      " 8   IR            1182725 non-null  float64\n",
      " 9   UR            1182725 non-null  float64\n",
      " 10  LC_index      1182725 non-null  float64\n",
      " 11  CA_index      1182725 non-null  float64\n",
      " 12  TC_index      1182725 non-null  float64\n",
      " 13  SDT_index     1040988 non-null  float64\n",
      " 14  HSP_index     1166201 non-null  float64\n",
      " 15  Sell_Price    1189434 non-null  float64\n",
      " 16  Crime_Rates   793796 non-null   float64\n",
      " 17  위도            1189434 non-null  float64\n",
      " 18  경도            1189434 non-null  float64\n",
      "dtypes: float64(12), int64(5), object(2)\n",
      "memory usage: 172.4+ MB\n"
     ]
    }
   ],
   "source": [
    "data.info()"
   ]
  },
  {
   "cell_type": "markdown",
   "metadata": {
    "id": "etvJthTiHunP"
   },
   "source": [
    "## 시각화(QQ 플롯)"
   ]
  },
  {
   "cell_type": "code",
   "execution_count": 16,
   "metadata": {
    "id": "T6GuCf13Htn5"
   },
   "outputs": [],
   "source": [
    "import numpy as np\n",
    "import pandas as pd\n",
    "import matplotlib.pyplot as plt\n",
    "import scipy.stats as stats"
   ]
  },
  {
   "cell_type": "code",
   "execution_count": 17,
   "metadata": {
    "colab": {
     "base_uri": "https://localhost:8080/",
     "height": 472
    },
    "id": "3jELFY8DlX5d",
    "outputId": "fd5892b5-9366-407c-f6b9-0728e492787d"
   },
   "outputs": [
    {
     "data": {
      "image/png": "[encoded data removed]",
      "text/plain": [
       "<Figure size 432x288 with 1 Axes>"
      ]
     },
     "metadata": {
      "needs_background": "light"
     },
     "output_type": "display_data"
    }
   ],
   "source": [
    "# 열의 데이터를 가져옵니다.\n",
    "sample_data = data['JS_Price']\n",
    "\n",
    "# QQ 플롯 그리기\n",
    "stats.probplot(sample_data, dist='norm', plot=plt)\n",
    "plt.title('QQ Plot')\n",
    "plt.xlabel(\"Theoretical Quantiles\")\n",
    "plt.ylabel(\"Sample Quantiles\")\n",
    "plt.show()"
   ]
  },
  {
   "cell_type": "code",
   "execution_count": 18,
   "metadata": {
    "colab": {
     "base_uri": "https://localhost:8080/",
     "height": 472
    },
    "id": "K7qKS-1c-27m",
    "outputId": "71a58bd1-9cb0-44f4-b0f5-92f6a0edd346",
    "scrolled": true
   },
   "outputs": [
    {
     "data": {
      "image/png": "[encoded data removed]",
      "text/plain": [
       "<Figure size 432x288 with 1 Axes>"
      ]
     },
     "metadata": {
      "needs_background": "light"
     },
     "output_type": "display_data"
    }
   ],
   "source": [
    "import numpy as np\n",
    "import matplotlib.pyplot as plt\n",
    "import scipy.stats as stats\n",
    "\n",
    "# 평균이 0이고 표준 편차가 1인 표준 정규 분포로부터 샘플 데이터 생성\n",
    "data = np.random.normal(0, 1, 100)\n",
    "\n",
    "# QQ 플롯 그리기\n",
    "stats.probplot(data, dist=\"norm\", plot=plt)\n",
    "plt.title(\"QQ Plot for Standard Normal Distribution\")\n",
    "plt.xlabel(\"Theoretical Quantiles\")\n",
    "plt.ylabel(\"Sample Quantiles\")\n",
    "plt.show()\n"
   ]
  },
  {
   "cell_type": "markdown",
   "metadata": {
    "id": "Hmi_vtpfObWP"
   },
   "source": [
    "# 로버스트 통계 방법 코드"
   ]
  },
  {
   "cell_type": "code",
   "execution_count": 19,
   "metadata": {
    "id": "voedBlKZI5nT"
   },
   "outputs": [],
   "source": [
    "import pandas as pd\n",
    "from scipy import stats"
   ]
  },
  {
   "cell_type": "markdown",
   "metadata": {
    "id": "bydIMwoNWv_L"
   },
   "source": [
    "## IQR을 사용\n",
    "- 데이터의 분포가 정규분포에 가까울 때\n",
    "- 대부분의 이상치가 상위 이상치인 경우 또는 하위 이상치인 경우\n",
    "- 일반적인 통계적 분석에서 표준적인 방법으로 사용할 때"
   ]
  },
  {
   "cell_type": "code",
   "execution_count": 23,
   "metadata": {
    "colab": {
     "base_uri": "https://localhost:8080/"
    },
    "id": "ok2foQ1UNfce",
    "outputId": "d2d8d5a2-0cd9-4792-8bcf-592eadb426b8"
   },
   "outputs": [
    {
     "name": "stdout",
     "output_type": "stream",
     "text": [
      "이상치:\n",
      "0           12000\n",
      "1           10000\n",
      "2           10500\n",
      "3           12000\n",
      "4           11500\n",
      "            ...  \n",
      "1189427    103950\n",
      "1189428     44100\n",
      "1189429     96900\n",
      "1189431     15180\n",
      "1189433     88000\n",
      "Name: JS_Price, Length: 571884, dtype: int64\n",
      "이상치 개수: 571884\n"
     ]
    }
   ],
   "source": [
    "import numpy as np\n",
    "import pandas as pd\n",
    "\n",
    "# 선택한 열의 데이터를 가져옵니다.\n",
    "sample_data = data['JS_Price']\n",
    "\n",
    "# 중앙값과 IQR 계산\n",
    "median = sample_data.median()\n",
    "iqr = stats.iqr(sample_data)\n",
    "\n",
    "# 이상치 경계값 설정 (예: 1.5배 IQR)\n",
    "outlier_upper_bound = median + 1.5 * iqr\n",
    "outlier_lower_bound = median - 1.5 * iqr\n",
    "\n",
    "# 이상치 식별\n",
    "outliers = sample_data[(sample_data > outlier_upper_bound) | (sample_data < outlier_lower_bound)]\n",
    "\n",
    "# 이상치 출력\n",
    "print(\"이상치:\")\n",
    "print(outliers)\n",
    "\n",
    "# 이상치 개수 확인\n",
    "outlier_count = len(outliers)\n",
    "\n",
    "# 이상치 개수 출력\n",
    "print(\"이상치 개수:\", outlier_count)"
   ]
  },
  {
   "cell_type": "markdown",
   "metadata": {
    "id": "ybV7Xl1CYLbD"
   },
   "source": [
    "## MAD\n",
    "- 데이터의 분포가 정규분포를 따르지 않을 때\n",
    "- 이상치가 극단적으로 크거나 데이터셋이 작을 때"
   ]
  },
  {
   "cell_type": "code",
   "execution_count": null,
   "metadata": {
    "colab": {
     "base_uri": "https://localhost:8080/"
    },
    "id": "xXp85pltSsHT",
    "outputId": "064f4c0b-57a7-4a1c-b102-bcc85ce1ff79"
   },
   "outputs": [
    {
     "name": "stdout",
     "output_type": "stream",
     "text": [
      "233891\n"
     ]
    }
   ],
   "source": [
    "import numpy as np\n",
    "import pandas as pd\n",
    "\n",
    "def detect_outliers(df, column, threshold=3.5):\n",
    "    # 중앙값, 중앙값 절대 편차 계산\n",
    "    median = np.median(df[column])\n",
    "    mad = np.median(np.abs(df[column] - median))\n",
    "\n",
    "    # 아웃라이어 탐지\n",
    "    outlier_threshold = threshold * mad\n",
    "    outliers = df[column][(df[column] < median - outlier_threshold) | (df[column] > median + outlier_threshold)]\n",
    "\n",
    "    return outliers\n",
    "\n",
    "def count_outliers_robust(df, column, threshold=1.5):\n",
    "\n",
    "    \"\"\"\n",
    "    로버스트 통계를 사용하여 아웃라이어의 수를 계산합니다.\n",
    "\n",
    "    Args:\n",
    "        df: 데이터프레임\n",
    "        column: 아웃라이어를 탐지할 열의 이름\n",
    "        threshold: 아웃라이어의 기준값 (기본값: 1.5)\n",
    "\n",
    "    Returns:\n",
    "        아웃라이어의 수\n",
    "    \"\"\"\n",
    "\n",
    "    # 아웃라이어 탐지\n",
    "    outliers = detect_outliers(df, column, threshold)\n",
    "\n",
    "    # 아웃라이어의 수 계산\n",
    "    outlier_count = len(outliers)\n",
    "\n",
    "    return outlier_count\n",
    "\n",
    "data = pd.read_csv('/content/drive/MyDrive/semi_project/전처리된_전체_데이터.csv')\n",
    "\n",
    "# 아웃라이어 탐지\n",
    "outliers = detect_outliers(data, 'JS_Price')\n",
    "\n",
    "# 아웃라이어의 수 계산\n",
    "outlier_count = count_outliers_robust(data, 'JS_Price')\n",
    "\n",
    "print(outlier_count)"
   ]
  },
  {
   "cell_type": "markdown",
   "metadata": {
    "id": "TBfbv-rYOYuG"
   },
   "source": [
    "## IQR\n",
    "- 4.3% 제거"
   ]
  },
  {
   "cell_type": "code",
   "execution_count": 54,
   "metadata": {
    "colab": {
     "base_uri": "https://localhost:8080/"
    },
    "id": "VRLlfezBODUQ",
    "outputId": "412270bd-f75c-4c30-f0b7-35a6abebdab3"
   },
   "outputs": [
    {
     "name": "stdout",
     "output_type": "stream",
     "text": [
      "36062\n"
     ]
    }
   ],
   "source": [
    "import numpy as np\n",
    "import pandas as pd\n",
    "\n",
    "def detect_outliers_iqr(df,column, threshold=1.5):\n",
    "  '''\n",
    "  IQR을 사용하여 아웃라이어를 탐지\n",
    "\n",
    "  Args:\n",
    "      df : 데이터프레임\n",
    "      column : 아웃라이어의 탐지할 열의 이름\n",
    "      threshold : 아웃라이어의 기준값 (기본값 : 1.5)\n",
    "\n",
    "  Returns:\n",
    "      아웃라이어를 포함하는 Series 객체\n",
    "  '''\n",
    "\n",
    "  # 1사분위수, 3사분위수, IQR 계산\n",
    "  Q1 = np.percentile(df[column], 25)\n",
    "  Q3 = np.percentile(df[column], 75)\n",
    "  IQR = Q3 - Q1\n",
    "\n",
    "  # 아웃라이어 탐지\n",
    "  outlier_threshold = threshold * IQR\n",
    "  outliers = df[column][(df[column] < Q1 - outlier_threshold) | (df[column] > Q3 + outlier_threshold)]\n",
    "\n",
    "  return outliers\n",
    "\n",
    "def count_outliers_iqr(df, column, threshold=1.5):\n",
    "\n",
    "    \"\"\"\n",
    "    IQR을 사용하여 아웃라이어의 수를 계산합니다.\n",
    "\n",
    "    Args:\n",
    "        df: 데이터프레임\n",
    "        column: 아웃라이어를 탐지할 열의 이름\n",
    "        threshold: 아웃라이어의 기준값 (기본값: 1.5)\n",
    "\n",
    "    Returns:\n",
    "        아웃라이어의 수\n",
    "    \"\"\"\n",
    "\n",
    "    # 아웃라이어 탐지\n",
    "    outliers = detect_outliers_iqr(df, column, threshold)\n",
    "\n",
    "    # 아웃라이어의 수 계산\n",
    "    outlier_count = len(outliers)\n",
    "\n",
    "    return outlier_count\n",
    "\n",
    "# 예제\n",
    "data = pd.read_csv('/content/drive/MyDrive/semi_project/전처리된_전체_데이터.csv')\n",
    "\n",
    "outlier_count = count_outliers_iqr(data, \"JS_Price\")\n",
    "\n",
    "print(outlier_count)"
   ]
  },
  {
   "cell_type": "markdown",
   "metadata": {
    "id": "5zHRDOyVSaQv"
   },
   "source": [
    "### 다른 이름으로 CSV파일 저장"
   ]
  },
  {
   "cell_type": "code",
   "execution_count": 51,
   "metadata": {
    "colab": {
     "base_uri": "https://localhost:8080/",
     "height": 733
    },
    "id": "SPDpJcUYQs9q",
    "outputId": "ce871207-3b12-4294-e677-1d1fbacfe618"
   },
   "outputs": [
    {
     "ename": "KeyError",
     "evalue": "ignored",
     "output_type": "error",
     "traceback": [
      "\u001b[0;31m---------------------------------------------------------------------------\u001b[0m",
      "\u001b[0;31mKeyError\u001b[0m                                  Traceback (most recent call last)",
      "\u001b[0;32m<ipython-input-51-dc911fe4f608>\u001b[0m in \u001b[0;36m<cell line: 3>\u001b[0;34m()\u001b[0m\n\u001b[1;32m      1\u001b[0m \u001b[0;31m# 아웃라이어를 제거한 데이터프레임 생성\u001b[0m\u001b[0;34m\u001b[0m\u001b[0;34m\u001b[0m\u001b[0m\n\u001b[1;32m      2\u001b[0m \u001b[0mdf_without_outliers\u001b[0m \u001b[0;34m=\u001b[0m \u001b[0mdata\u001b[0m\u001b[0;34m.\u001b[0m\u001b[0mcopy\u001b[0m\u001b[0;34m(\u001b[0m\u001b[0;34m)\u001b[0m\u001b[0;34m\u001b[0m\u001b[0;34m\u001b[0m\u001b[0m\n\u001b[0;32m----> 3\u001b[0;31m \u001b[0mdf_without_outliers\u001b[0m\u001b[0;34m.\u001b[0m\u001b[0mdrop\u001b[0m\u001b[0;34m(\u001b[0m\u001b[0moutliers\u001b[0m\u001b[0;34m.\u001b[0m\u001b[0mindex\u001b[0m\u001b[0;34m,\u001b[0m \u001b[0minplace\u001b[0m\u001b[0;34m=\u001b[0m\u001b[0;32mTrue\u001b[0m\u001b[0;34m)\u001b[0m\u001b[0;34m\u001b[0m\u001b[0;34m\u001b[0m\u001b[0m\n\u001b[0m\u001b[1;32m      4\u001b[0m \u001b[0;34m\u001b[0m\u001b[0m\n\u001b[1;32m      5\u001b[0m \u001b[0;31m# 아웃라이어를 제거한 데이터프레임을 다른 이름으로 저장\u001b[0m\u001b[0;34m\u001b[0m\u001b[0;34m\u001b[0m\u001b[0m\n",
      "\u001b[0;32m/usr/local/lib/python3.10/dist-packages/pandas/util/_decorators.py\u001b[0m in \u001b[0;36mwrapper\u001b[0;34m(*args, **kwargs)\u001b[0m\n\u001b[1;32m    329\u001b[0m                     \u001b[0mstacklevel\u001b[0m\u001b[0;34m=\u001b[0m\u001b[0mfind_stack_level\u001b[0m\u001b[0;34m(\u001b[0m\u001b[0;34m)\u001b[0m\u001b[0;34m,\u001b[0m\u001b[0;34m\u001b[0m\u001b[0;34m\u001b[0m\u001b[0m\n\u001b[1;32m    330\u001b[0m                 )\n\u001b[0;32m--> 331\u001b[0;31m             \u001b[0;32mreturn\u001b[0m \u001b[0mfunc\u001b[0m\u001b[0;34m(\u001b[0m\u001b[0;34m*\u001b[0m\u001b[0margs\u001b[0m\u001b[0;34m,\u001b[0m \u001b[0;34m**\u001b[0m\u001b[0mkwargs\u001b[0m\u001b[0;34m)\u001b[0m\u001b[0;34m\u001b[0m\u001b[0;34m\u001b[0m\u001b[0m\n\u001b[0m\u001b[1;32m    332\u001b[0m \u001b[0;34m\u001b[0m\u001b[0m\n\u001b[1;32m    333\u001b[0m         \u001b[0;31m# error: \"Callable[[VarArg(Any), KwArg(Any)], Any]\" has no\u001b[0m\u001b[0;34m\u001b[0m\u001b[0;34m\u001b[0m\u001b[0m\n",
      "\u001b[0;32m/usr/local/lib/python3.10/dist-packages/pandas/core/frame.py\u001b[0m in \u001b[0;36mdrop\u001b[0;34m(self, labels, axis, index, columns, level, inplace, errors)\u001b[0m\n\u001b[1;32m   5397\u001b[0m                 \u001b[0mweight\u001b[0m  \u001b[0;36m1.0\u001b[0m     \u001b[0;36m0.8\u001b[0m\u001b[0;34m\u001b[0m\u001b[0;34m\u001b[0m\u001b[0m\n\u001b[1;32m   5398\u001b[0m         \"\"\"\n\u001b[0;32m-> 5399\u001b[0;31m         return super().drop(\n\u001b[0m\u001b[1;32m   5400\u001b[0m             \u001b[0mlabels\u001b[0m\u001b[0;34m=\u001b[0m\u001b[0mlabels\u001b[0m\u001b[0;34m,\u001b[0m\u001b[0;34m\u001b[0m\u001b[0;34m\u001b[0m\u001b[0m\n\u001b[1;32m   5401\u001b[0m             \u001b[0maxis\u001b[0m\u001b[0;34m=\u001b[0m\u001b[0maxis\u001b[0m\u001b[0;34m,\u001b[0m\u001b[0;34m\u001b[0m\u001b[0;34m\u001b[0m\u001b[0m\n",
      "\u001b[0;32m/usr/local/lib/python3.10/dist-packages/pandas/util/_decorators.py\u001b[0m in \u001b[0;36mwrapper\u001b[0;34m(*args, **kwargs)\u001b[0m\n\u001b[1;32m    329\u001b[0m                     \u001b[0mstacklevel\u001b[0m\u001b[0;34m=\u001b[0m\u001b[0mfind_stack_level\u001b[0m\u001b[0;34m(\u001b[0m\u001b[0;34m)\u001b[0m\u001b[0;34m,\u001b[0m\u001b[0;34m\u001b[0m\u001b[0;34m\u001b[0m\u001b[0m\n\u001b[1;32m    330\u001b[0m                 )\n\u001b[0;32m--> 331\u001b[0;31m             \u001b[0;32mreturn\u001b[0m \u001b[0mfunc\u001b[0m\u001b[0;34m(\u001b[0m\u001b[0;34m*\u001b[0m\u001b[0margs\u001b[0m\u001b[0;34m,\u001b[0m \u001b[0;34m**\u001b[0m\u001b[0mkwargs\u001b[0m\u001b[0;34m)\u001b[0m\u001b[0;34m\u001b[0m\u001b[0;34m\u001b[0m\u001b[0m\n\u001b[0m\u001b[1;32m    332\u001b[0m \u001b[0;34m\u001b[0m\u001b[0m\n\u001b[1;32m    333\u001b[0m         \u001b[0;31m# error: \"Callable[[VarArg(Any), KwArg(Any)], Any]\" has no\u001b[0m\u001b[0;34m\u001b[0m\u001b[0;34m\u001b[0m\u001b[0m\n",
      "\u001b[0;32m/usr/local/lib/python3.10/dist-packages/pandas/core/generic.py\u001b[0m in \u001b[0;36mdrop\u001b[0;34m(self, labels, axis, index, columns, level, inplace, errors)\u001b[0m\n\u001b[1;32m   4503\u001b[0m         \u001b[0;32mfor\u001b[0m \u001b[0maxis\u001b[0m\u001b[0;34m,\u001b[0m \u001b[0mlabels\u001b[0m \u001b[0;32min\u001b[0m \u001b[0maxes\u001b[0m\u001b[0;34m.\u001b[0m\u001b[0mitems\u001b[0m\u001b[0;34m(\u001b[0m\u001b[0;34m)\u001b[0m\u001b[0;34m:\u001b[0m\u001b[0;34m\u001b[0m\u001b[0;34m\u001b[0m\u001b[0m\n\u001b[1;32m   4504\u001b[0m             \u001b[0;32mif\u001b[0m \u001b[0mlabels\u001b[0m \u001b[0;32mis\u001b[0m \u001b[0;32mnot\u001b[0m \u001b[0;32mNone\u001b[0m\u001b[0;34m:\u001b[0m\u001b[0;34m\u001b[0m\u001b[0;34m\u001b[0m\u001b[0m\n\u001b[0;32m-> 4505\u001b[0;31m                 \u001b[0mobj\u001b[0m \u001b[0;34m=\u001b[0m \u001b[0mobj\u001b[0m\u001b[0;34m.\u001b[0m\u001b[0m_drop_axis\u001b[0m\u001b[0;34m(\u001b[0m\u001b[0mlabels\u001b[0m\u001b[0;34m,\u001b[0m \u001b[0maxis\u001b[0m\u001b[0;34m,\u001b[0m \u001b[0mlevel\u001b[0m\u001b[0;34m=\u001b[0m\u001b[0mlevel\u001b[0m\u001b[0;34m,\u001b[0m \u001b[0merrors\u001b[0m\u001b[0;34m=\u001b[0m\u001b[0merrors\u001b[0m\u001b[0;34m)\u001b[0m\u001b[0;34m\u001b[0m\u001b[0;34m\u001b[0m\u001b[0m\n\u001b[0m\u001b[1;32m   4506\u001b[0m \u001b[0;34m\u001b[0m\u001b[0m\n\u001b[1;32m   4507\u001b[0m         \u001b[0;32mif\u001b[0m \u001b[0minplace\u001b[0m\u001b[0;34m:\u001b[0m\u001b[0;34m\u001b[0m\u001b[0;34m\u001b[0m\u001b[0m\n",
      "\u001b[0;32m/usr/local/lib/python3.10/dist-packages/pandas/core/generic.py\u001b[0m in \u001b[0;36m_drop_axis\u001b[0;34m(self, labels, axis, level, errors, only_slice)\u001b[0m\n\u001b[1;32m   4544\u001b[0m                 \u001b[0mnew_axis\u001b[0m \u001b[0;34m=\u001b[0m \u001b[0maxis\u001b[0m\u001b[0;34m.\u001b[0m\u001b[0mdrop\u001b[0m\u001b[0;34m(\u001b[0m\u001b[0mlabels\u001b[0m\u001b[0;34m,\u001b[0m \u001b[0mlevel\u001b[0m\u001b[0;34m=\u001b[0m\u001b[0mlevel\u001b[0m\u001b[0;34m,\u001b[0m \u001b[0merrors\u001b[0m\u001b[0;34m=\u001b[0m\u001b[0merrors\u001b[0m\u001b[0;34m)\u001b[0m\u001b[0;34m\u001b[0m\u001b[0;34m\u001b[0m\u001b[0m\n\u001b[1;32m   4545\u001b[0m             \u001b[0;32melse\u001b[0m\u001b[0;34m:\u001b[0m\u001b[0;34m\u001b[0m\u001b[0;34m\u001b[0m\u001b[0m\n\u001b[0;32m-> 4546\u001b[0;31m                 \u001b[0mnew_axis\u001b[0m \u001b[0;34m=\u001b[0m \u001b[0maxis\u001b[0m\u001b[0;34m.\u001b[0m\u001b[0mdrop\u001b[0m\u001b[0;34m(\u001b[0m\u001b[0mlabels\u001b[0m\u001b[0;34m,\u001b[0m \u001b[0merrors\u001b[0m\u001b[0;34m=\u001b[0m\u001b[0merrors\u001b[0m\u001b[0;34m)\u001b[0m\u001b[0;34m\u001b[0m\u001b[0;34m\u001b[0m\u001b[0m\n\u001b[0m\u001b[1;32m   4547\u001b[0m             \u001b[0mindexer\u001b[0m \u001b[0;34m=\u001b[0m \u001b[0maxis\u001b[0m\u001b[0;34m.\u001b[0m\u001b[0mget_indexer\u001b[0m\u001b[0;34m(\u001b[0m\u001b[0mnew_axis\u001b[0m\u001b[0;34m)\u001b[0m\u001b[0;34m\u001b[0m\u001b[0;34m\u001b[0m\u001b[0m\n\u001b[1;32m   4548\u001b[0m \u001b[0;34m\u001b[0m\u001b[0m\n",
      "\u001b[0;32m/usr/local/lib/python3.10/dist-packages/pandas/core/indexes/base.py\u001b[0m in \u001b[0;36mdrop\u001b[0;34m(self, labels, errors)\u001b[0m\n\u001b[1;32m   6932\u001b[0m         \u001b[0;32mif\u001b[0m \u001b[0mmask\u001b[0m\u001b[0;34m.\u001b[0m\u001b[0many\u001b[0m\u001b[0;34m(\u001b[0m\u001b[0;34m)\u001b[0m\u001b[0;34m:\u001b[0m\u001b[0;34m\u001b[0m\u001b[0;34m\u001b[0m\u001b[0m\n\u001b[1;32m   6933\u001b[0m             \u001b[0;32mif\u001b[0m \u001b[0merrors\u001b[0m \u001b[0;34m!=\u001b[0m \u001b[0;34m\"ignore\"\u001b[0m\u001b[0;34m:\u001b[0m\u001b[0;34m\u001b[0m\u001b[0;34m\u001b[0m\u001b[0m\n\u001b[0;32m-> 6934\u001b[0;31m                 \u001b[0;32mraise\u001b[0m \u001b[0mKeyError\u001b[0m\u001b[0;34m(\u001b[0m\u001b[0;34mf\"{list(labels[mask])} not found in axis\"\u001b[0m\u001b[0;34m)\u001b[0m\u001b[0;34m\u001b[0m\u001b[0;34m\u001b[0m\u001b[0m\n\u001b[0m\u001b[1;32m   6935\u001b[0m             \u001b[0mindexer\u001b[0m \u001b[0;34m=\u001b[0m \u001b[0mindexer\u001b[0m\u001b[0;34m[\u001b[0m\u001b[0;34m~\u001b[0m\u001b[0mmask\u001b[0m\u001b[0;34m]\u001b[0m\u001b[0;34m\u001b[0m\u001b[0;34m\u001b[0m\u001b[0m\n\u001b[1;32m   6936\u001b[0m         \u001b[0;32mreturn\u001b[0m \u001b[0mself\u001b[0m\u001b[0;34m.\u001b[0m\u001b[0mdelete\u001b[0m\u001b[0;34m(\u001b[0m\u001b[0mindexer\u001b[0m\u001b[0;34m)\u001b[0m\u001b[0;34m\u001b[0m\u001b[0;34m\u001b[0m\u001b[0m\n",
      "\u001b[0;31mKeyError\u001b[0m: '[5102, 5105, 5106, 5108, 5109, 5111, 5112, 5114, 5115, 5116, 5117, 5118, 5119, 5120, 5121, 5122, 5123, 6088, 6487, 8587, 8603, 8710, 8714, 8715, 8716, 8717, 8718, 8722, 9264, 10305, 11072, 12471, 14712, 14713, 14714, 14715, 14716, 14717, 14719, 14720, 14721, 14722, 15815, 15818, 16053, 16054, 16055, 16056, 16057, 16058, 16059, 16060, 16061, 16062, 16064, 16065, 16069, 16071, 16072, 16075, 16076, 16077, 16078, 16079, 16080, 16082, 16083, 16084, 16085, 16086, 16087, 16088, 16089, 16090, 16091, 16092, 16093, 16094, 16095, 16096, 16097, 16098, 16099, 16100, 16101, 16102, 16103, 16104, 16105, 16106, 16107, 16108, 16109, 16110, 16111, 16112, 16113, 16117, 16144, 16145, 16146, 16147, 16148, 16149, 16150, 16151, 16152, 16153, 16154, 16155, 16156, 16157, 16158, 16159, 16160, 16162, 16163, 16164, 16165, 16166, 16167, 16168, 16170, 16171, 16173, 16174, 16175, 16176, 16177, 16178, 16179, 16180, 16181, 16182, 16183, 16184, 16185, 16187, 16188, 16189, 16190, 16191, 16192, 16193, 16194, 16195, 16196, 16197, 16198, 16199, 16200, 16201, 16202, 16203, 16204, 16205, 16206, 16207, 16208, 16209, 16210, 16211, 16212, 16213, 16214, 16215, 16216, 16217, 16218, 16219, 16220, 16221, 16222, 16223, 16224, 16225, 16226, 16227, 16228, 16229, 16230, 16231, 16232, 16233, 16234, 16235, 16236, 16237, 16327, 16329, 16334, 16335, 16336, 16337, 16338, 16339, 16341, 16342, 16343, 16344, 16345, 16347, 16348, 16414, 16417, 16420, 16422, 16423, 16459, 16483, 16497, 16498, 16499, 16500, 16501..."
     ]
    }
   ],
   "source": [
    "# 아웃라이어를 제거한 데이터프레임 생성\n",
    "df_without_outliers = data.copy()\n",
    "df_without_outliers.drop(outliers.index, inplace=True)\n",
    "\n",
    "# 아웃라이어를 제거한 데이터프레임을 다른 이름으로 저장\n",
    "data = pd.read_csv('/content/drive/MyDrive/semi_project/전처리된_전체_데이터.csv')"
   ]
  },
  {
   "cell_type": "code",
   "execution_count": null,
   "metadata": {
    "id": "_qa9OVmCZGqG"
   },
   "outputs": [],
   "source": []
  }
 ],
 "metadata": {
  "colab": {
   "provenance": []
  },
  "kernelspec": {
   "display_name": "Python 3",
   "language": "python",
   "name": "python3"
  },
  "language_info": {
   "codemirror_mode": {
    "name": "ipython",
    "version": 3
   },
   "file_extension": ".py",
   "mimetype": "text/x-python",
   "name": "python",
   "nbconvert_exporter": "python",
   "pygments_lexer": "ipython3",
   "version": "3.7.6"
  }
 },
 "nbformat": 4,
 "nbformat_minor": 1
}
