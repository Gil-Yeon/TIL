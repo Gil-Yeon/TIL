{
 "cells": [
  {
   "cell_type": "markdown",
   "metadata": {},
   "source": [
    "## 라이브러리"
   ]
  },
  {
   "cell_type": "code",
   "execution_count": null,
   "metadata": {},
   "outputs": [],
   "source": [
    "import pandas as pd\n",
    "import numpy as np\n",
    "from scipy.stats import pearsonr, spearmanr, kendalltau\n",
    "from scipy import stats\n",
    "from sklearn.ensemble import RandomForestRegressor"
   ]
  },
  {
   "cell_type": "markdown",
   "metadata": {},
   "source": [
    "## 데이터 불러오기"
   ]
  },
  {
   "cell_type": "code",
   "execution_count": null,
   "metadata": {},
   "outputs": [],
   "source": [
    "path = './data/'\n",
    "\n",
    "df = pd.read_csv(path+'월별데이터 총병합.csv')"
   ]
  },
  {
   "cell_type": "code",
   "execution_count": null,
   "metadata": {
    "scrolled": true
   },
   "outputs": [],
   "source": [
    "df"
   ]
  },
  {
   "cell_type": "code",
   "execution_count": null,
   "metadata": {
    "scrolled": true
   },
   "outputs": [],
   "source": [
    "df.info()"
   ]
  },
  {
   "cell_type": "code",
   "execution_count": null,
   "metadata": {
    "scrolled": true
   },
   "outputs": [],
   "source": [
    "df.drop('Unnamed: 0', axis=1, inplace=True)"
   ]
  },
  {
   "cell_type": "markdown",
   "metadata": {},
   "source": [
    "## Categorical:\n",
    "\n",
    "- Nominal(variables that have two or more categories, but which do not have an intrinsic order.)\n",
    "\n",
    "    - Region_Name : 자치구 명\n",
    "    - Building_Use : 건물 용도\n",
    "    \n",
    "- Ordinal(variables that have two or more categories just like nominal variables. Only the categories can also be ordered or ranked.)\n",
    "\n",
    "    \n",
    "## Numeric:\n",
    "\n",
    "- Discrete\n",
    "    - Year : 년\n",
    "    - Month : 월\n",
    "    - Region_Code : 자치구 코드\n",
    "    - JS_Count : 전세 거래량\n",
    "    - Sell_Count : 매매 거래량\n",
    "    - School_Counts : 자치구 내 초중고 수\n",
    "    - Subway_Counts : 자치구 내 지하철역 수\n",
    "    - Univ_Counts : 자치구 내 대학교 수\n",
    "    - Park_Counts : 자치구 내 공원 수\n",
    "   \n",
    "- Continous\n",
    "    - Sell : 매매\n",
    "    - Sell_Price : 매매 가격\n",
    "    - Sell_BA = Sell_building Area : 매매 건물 면적\n",
    "    - Sell_PPA = Sell_Price Per Area : 면적 당 매매 가격\n",
    "    - Sell_PPP = Sell_Price Per Pyeong : 평 당 매매 가격\n",
    "    - JS : 전세\n",
    "    - JS_Price : 전세 가격\n",
    "    - JS_BA = JS_Building Area : 임대 면적\n",
    "    - JS_PPA = JS_Price Per Area : 임대 면적 당 전세 가격\n",
    "    - JS_PPP = JS_Price Per Pyeong : 평 당 전세 가격\n",
    "    - CR = Charter Rate : 전세가율\n",
    "    - CR_PPA  = Charter_Rate_Price Per Area : 면적 당 전세가율\n",
    "    - CR_PPP = Charter Rate_Price Per Pyeong : 평 당 전세가율\n",
    "    - lR = Interest Rate : 금리\n",
    "    - UR = Unemployment Rate : 실업률\n",
    "    - LC_index = Leading Composite index : 선행종합 지수\n",
    "    - CA_index = Comprehensive Accompany index : 동행종합 지수\n",
    "    - TC_index = Trailing Composite index : 후행종합 지수\n",
    "    - SDT_index = Supply and Demand Trend index = 전세수급동향 지수\n",
    "    "
   ]
  },
  {
   "cell_type": "markdown",
   "metadata": {},
   "source": [
    "## PCC"
   ]
  },
  {
   "cell_type": "code",
   "execution_count": null,
   "metadata": {
    "scrolled": false
   },
   "outputs": [],
   "source": [
    "# 결과를 저장할 DataFrame 생성\n",
    "result_df = pd.DataFrame(columns=['Column_Name', 'PCC', 'p-value'])\n",
    "\n",
    "# 'JS_Price'와 다른 열 간의 PCC 및 p-value 계산 및 저장\n",
    "for column in df.columns:\n",
    "    if column != 'JS_Price':\n",
    "        if df[column].dtype != object:\n",
    "            correlation, p_value = pearsonr(df['JS_Price'], df[column])\n",
    "            result_df = result_df.append({'Column_Name': column, 'PCC': correlation, 'p-value': p_value}, ignore_index=True)"
   ]
  },
  {
   "cell_type": "code",
   "execution_count": null,
   "metadata": {
    "scrolled": false
   },
   "outputs": [],
   "source": [
    "result_df.sort_values(by='PCC', ascending=False).reset_index(drop=True)"
   ]
  },
  {
   "cell_type": "code",
   "execution_count": null,
   "metadata": {
    "scrolled": false
   },
   "outputs": [],
   "source": [
    "a = result_df.sort_values(by='PCC', ascending=False).reset_index(drop=True)['Column_Name'][0:13].tolist()"
   ]
  },
  {
   "cell_type": "code",
   "execution_count": null,
   "metadata": {},
   "outputs": [],
   "source": [
    "a"
   ]
  },
  {
   "cell_type": "code",
   "execution_count": null,
   "metadata": {},
   "outputs": [],
   "source": [
    "b = result_df.sort_values(by='PCC', ascending=False).reset_index(drop=True)['Column_Name'][20:].tolist()"
   ]
  },
  {
   "cell_type": "code",
   "execution_count": null,
   "metadata": {},
   "outputs": [],
   "source": [
    "b"
   ]
  },
  {
   "cell_type": "code",
   "execution_count": null,
   "metadata": {},
   "outputs": [],
   "source": [
    "df.columns[0]"
   ]
  },
  {
   "cell_type": "markdown",
   "metadata": {},
   "source": [
    "## ANOVA (continous vs discrete)"
   ]
  },
  {
   "cell_type": "code",
   "execution_count": null,
   "metadata": {},
   "outputs": [],
   "source": [
    "def anova(df):\n",
    "    for column in df.columns:\n",
    "        if np.issubdtype(df[column].dtype, np.integer):\n",
    "            # 이 코드는 정수형 열에 대해서만 분산분석을 수행합니다.\n",
    "            f_statistic, p_value = stats.f_oneway(*[group for name, group in df.groupby(column)['JS_Price']])\n",
    "            print(column)\n",
    "            print(\"F-statistic:\", f_statistic, \"p-value:\", p_value)"
   ]
  },
  {
   "cell_type": "code",
   "execution_count": null,
   "metadata": {
    "scrolled": false
   },
   "outputs": [],
   "source": [
    "anova(df)"
   ]
  },
  {
   "cell_type": "markdown",
   "metadata": {},
   "source": [
    "## KCC (continous vs categorical)"
   ]
  },
  {
   "cell_type": "markdown",
   "metadata": {},
   "source": [
    "- 범주형 변수 더미화"
   ]
  },
  {
   "cell_type": "code",
   "execution_count": null,
   "metadata": {},
   "outputs": [],
   "source": [
    "# 범주형 변수 더미화 함수, 범주형 변수의 범주 레벨 간의 관계가 중요할 시 사용\n",
    "def oh_encoding(df):\n",
    "    # DataFrame의 복사본을 만듭니다.\n",
    "    encoded_df = df.copy()\n",
    "    for column in df.columns:\n",
    "        if df[column].dtype == object:\n",
    "            encoded_df = pd.get_dummies(encoded_df, columns=[column], prefix=column)\n",
    "            print(column)\n",
    "    return encoded_df\n",
    "\n",
    "df_encoded = oh_encoding(df)"
   ]
  },
  {
   "cell_type": "code",
   "execution_count": null,
   "metadata": {},
   "outputs": [],
   "source": [
    "# 결과를 저장할 DataFrame 생성\n",
    "result_df = pd.DataFrame(columns=['Column_Name', 'KCC', 'p-value'])\n",
    "\n",
    "# 'JS_Price'와 다른 열 간의 Kendall 상관 계수 및 p-value 계산 및 저장\n",
    "for column in df_encoded.columns:\n",
    "    if column != 'JS_Price':\n",
    "        if column.startswith('Region') or column.startswith('Building'):  \n",
    "            kendall_corr, p_value = kendalltau(df_encoded['JS_Price'], df_encoded[column])\n",
    "            result_df = result_df.append({'Column_Name': column, 'KCC': kendall_corr, 'p-value': p_value}, ignore_index=True)"
   ]
  },
  {
   "cell_type": "code",
   "execution_count": null,
   "metadata": {
    "scrolled": false
   },
   "outputs": [],
   "source": [
    "result_df.sort_values(by='KCC', ascending=False).reset_index(drop=True)"
   ]
  },
  {
   "cell_type": "markdown",
   "metadata": {},
   "source": [
    "- p-value값 고려\n",
    "    - PCC 결과 a=0.01일 때 UR과 SDT_index, School_Counts는 통계적으로 상관관계가 유의하지 않으므로 변수에서 제외한다.\n",
    "    - Anova 결과 a=0.01일 때 Month는 통계적으로 상관관계가 유의하지 않으므로 변수에서 제외한다.\n",
    "    - KCC 결과 a=0.01일 때 Region_Name_영등포구, Region_Name_동작구, Region_Name_강동구, Region_Name_성동구, Region_Name_서대문구, Building_Use_연립다세대 등은 통계적으로 상관관계가 유의하지 않으므로 변수에서 제외한다.\n",
    "- correlation값 고려\n",
    "    - PCC결과 상관계수가 0.1이하인 변수 제외 -> Region_Code, Crime_Rates, Month, UR, SDT_index, CR_PPA, CR_PPP, School_Counts, Univ_Counts, Park_Counts를 변수에서 제외\n",
    "    - KCC결과 상관계수가 0.1이하인 변수 제외 -> Building_Use_아파트, Region_Name_강남구, Region_Name_서초구, Building_Use_단독다가구만을 변수에 포함"
   ]
  }
 ],
 "metadata": {
  "kernelspec": {
   "display_name": "Python 3",
   "language": "python",
   "name": "python3"
  },
  "language_info": {
   "codemirror_mode": {
    "name": "ipython",
    "version": 3
   },
   "file_extension": ".py",
   "mimetype": "text/x-python",
   "name": "python",
   "nbconvert_exporter": "python",
   "pygments_lexer": "ipython3",
   "version": "3.7.6"
  }
 },
 "nbformat": 4,
 "nbformat_minor": 4
}
