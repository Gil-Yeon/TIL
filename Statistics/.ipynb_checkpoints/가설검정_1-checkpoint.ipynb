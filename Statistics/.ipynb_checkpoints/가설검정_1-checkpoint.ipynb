{
 "cells": [
  {
   "cell_type": "markdown",
   "metadata": {
    "id": "66yHTTHRVy49"
   },
   "source": [
    "## 기초통계검정방법론\n",
    "- 모수 통계\n",
    "  - A 통계검정 방법론 (가정1, 가정2, 가정3 모두 충족할 때)\n",
    "- 비모수 통계(=모수가 아닌 통계)\n"
   ]
  },
  {
   "cell_type": "markdown",
   "metadata": {
    "id": "l9RwpyStW9r-"
   },
   "source": [
    "## 베이지안 통계 vs 모수 통계\n",
    "- 모수 통계 : 평균에 기반한 통계 검정\n",
    "- 베이지안 통계 : 확률에 기반한 통계 검정(경북대 통계학과 교수)"
   ]
  },
  {
   "cell_type": "markdown",
   "metadata": {
    "id": "7FKAwAO7XLLk"
   },
   "source": [
    "## z-test\n",
    "- 평균의 비교\n",
    "- z-test : 실용성이 낮은 test\n",
    "  - 전제 조건 : 모집단의 평균과 표준편차를 알아야 함\n",
    "  - 가설 검정\n",
    "    - 귀무 가설 : 표본평균이 모집단의 평균과 같음\n",
    "    - 대립 가설 : 표본평균이 모집단의 평균과 같지 않음\n",
    "  - z-test 하는 이유 : 추출된 표본이 동일 모집단에 실제로 속하는지 가설 검정"
   ]
  },
  {
   "cell_type": "markdown",
   "metadata": {
    "id": "YplWThF_ZsPv"
   },
   "source": [
    "### 예제\n",
    "- 모집단의 평균과 표준편차를 알고 있음(심리학 점수)\n",
    "  - 평균 : 67.5\n",
    "  - 표준편차 : 9.5"
   ]
  },
  {
   "cell_type": "code",
   "execution_count": null,
   "metadata": {
    "colab": {
     "base_uri": "https://localhost:8080/",
     "height": 206
    },
    "executionInfo": {
     "elapsed": 290,
     "status": "ok",
     "timestamp": 1691721146822,
     "user": {
      "displayName": "구국이",
      "userId": "07893391965781894103"
     },
     "user_tz": -540
    },
    "id": "7z1p6kUtaBtY",
    "outputId": "1208b52d-52bd-4e92-f7eb-ab5dbdd22ab4"
   },
   "outputs": [
    {
     "data": {
      "text/html": [
       "\n",
       "\n",
       "  <div id=\"df-22f0270e-9317-48d5-98e6-d6ef7f16b4d4\">\n",
       "    <div class=\"colab-df-container\">\n",
       "      <div>\n",
       "<style scoped>\n",
       "    .dataframe tbody tr th:only-of-type {\n",
       "        vertical-align: middle;\n",
       "    }\n",
       "\n",
       "    .dataframe tbody tr th {\n",
       "        vertical-align: top;\n",
       "    }\n",
       "\n",
       "    .dataframe thead th {\n",
       "        text-align: right;\n",
       "    }\n",
       "</style>\n",
       "<table border=\"1\" class=\"dataframe\">\n",
       "  <thead>\n",
       "    <tr style=\"text-align: right;\">\n",
       "      <th></th>\n",
       "      <th>grades</th>\n",
       "    </tr>\n",
       "  </thead>\n",
       "  <tbody>\n",
       "    <tr>\n",
       "      <th>0</th>\n",
       "      <td>50</td>\n",
       "    </tr>\n",
       "    <tr>\n",
       "      <th>1</th>\n",
       "      <td>60</td>\n",
       "    </tr>\n",
       "    <tr>\n",
       "      <th>2</th>\n",
       "      <td>60</td>\n",
       "    </tr>\n",
       "    <tr>\n",
       "      <th>3</th>\n",
       "      <td>64</td>\n",
       "    </tr>\n",
       "    <tr>\n",
       "      <th>4</th>\n",
       "      <td>66</td>\n",
       "    </tr>\n",
       "  </tbody>\n",
       "</table>\n",
       "</div>\n",
       "      <button class=\"colab-df-convert\" onclick=\"convertToInteractive('df-22f0270e-9317-48d5-98e6-d6ef7f16b4d4')\"\n",
       "              title=\"Convert this dataframe to an interactive table.\"\n",
       "              style=\"display:none;\">\n",
       "\n",
       "  <svg xmlns=\"http://www.w3.org/2000/svg\" height=\"24px\"viewBox=\"0 0 24 24\"\n",
       "       width=\"24px\">\n",
       "    <path d=\"M0 0h24v24H0V0z\" fill=\"none\"/>\n",
       "    <path d=\"M18.56 5.44l.94 2.06.94-2.06 2.06-.94-2.06-.94-.94-2.06-.94 2.06-2.06.94zm-11 1L8.5 8.5l.94-2.06 2.06-.94-2.06-.94L8.5 2.5l-.94 2.06-2.06.94zm10 10l.94 2.06.94-2.06 2.06-.94-2.06-.94-.94-2.06-.94 2.06-2.06.94z\"/><path d=\"M17.41 7.96l-1.37-1.37c-.4-.4-.92-.59-1.43-.59-.52 0-1.04.2-1.43.59L10.3 9.45l-7.72 7.72c-.78.78-.78 2.05 0 2.83L4 21.41c.39.39.9.59 1.41.59.51 0 1.02-.2 1.41-.59l7.78-7.78 2.81-2.81c.8-.78.8-2.07 0-2.86zM5.41 20L4 18.59l7.72-7.72 1.47 1.35L5.41 20z\"/>\n",
       "  </svg>\n",
       "      </button>\n",
       "\n",
       "\n",
       "\n",
       "    <div id=\"df-9614d9c9-8c56-4a5c-8a54-89bc52cbba18\">\n",
       "      <button class=\"colab-df-quickchart\" onclick=\"quickchart('df-9614d9c9-8c56-4a5c-8a54-89bc52cbba18')\"\n",
       "              title=\"Suggest charts.\"\n",
       "              style=\"display:none;\">\n",
       "\n",
       "<svg xmlns=\"http://www.w3.org/2000/svg\" height=\"24px\"viewBox=\"0 0 24 24\"\n",
       "     width=\"24px\">\n",
       "    <g>\n",
       "        <path d=\"M19 3H5c-1.1 0-2 .9-2 2v14c0 1.1.9 2 2 2h14c1.1 0 2-.9 2-2V5c0-1.1-.9-2-2-2zM9 17H7v-7h2v7zm4 0h-2V7h2v10zm4 0h-2v-4h2v4z\"/>\n",
       "    </g>\n",
       "</svg>\n",
       "      </button>\n",
       "    </div>\n",
       "\n",
       "<style>\n",
       "  .colab-df-quickchart {\n",
       "    background-color: #E8F0FE;\n",
       "    border: none;\n",
       "    border-radius: 50%;\n",
       "    cursor: pointer;\n",
       "    display: none;\n",
       "    fill: #1967D2;\n",
       "    height: 32px;\n",
       "    padding: 0 0 0 0;\n",
       "    width: 32px;\n",
       "  }\n",
       "\n",
       "  .colab-df-quickchart:hover {\n",
       "    background-color: #E2EBFA;\n",
       "    box-shadow: 0px 1px 2px rgba(60, 64, 67, 0.3), 0px 1px 3px 1px rgba(60, 64, 67, 0.15);\n",
       "    fill: #174EA6;\n",
       "  }\n",
       "\n",
       "  [theme=dark] .colab-df-quickchart {\n",
       "    background-color: #3B4455;\n",
       "    fill: #D2E3FC;\n",
       "  }\n",
       "\n",
       "  [theme=dark] .colab-df-quickchart:hover {\n",
       "    background-color: #434B5C;\n",
       "    box-shadow: 0px 1px 3px 1px rgba(0, 0, 0, 0.15);\n",
       "    filter: drop-shadow(0px 1px 2px rgba(0, 0, 0, 0.3));\n",
       "    fill: #FFFFFF;\n",
       "  }\n",
       "</style>\n",
       "\n",
       "    <script>\n",
       "      async function quickchart(key) {\n",
       "        const containerElement = document.querySelector('#' + key);\n",
       "        const charts = await google.colab.kernel.invokeFunction(\n",
       "            'suggestCharts', [key], {});\n",
       "      }\n",
       "    </script>\n",
       "\n",
       "      <script>\n",
       "\n",
       "function displayQuickchartButton(domScope) {\n",
       "  let quickchartButtonEl =\n",
       "    domScope.querySelector('#df-9614d9c9-8c56-4a5c-8a54-89bc52cbba18 button.colab-df-quickchart');\n",
       "  quickchartButtonEl.style.display =\n",
       "    google.colab.kernel.accessAllowed ? 'block' : 'none';\n",
       "}\n",
       "\n",
       "        displayQuickchartButton(document);\n",
       "      </script>\n",
       "      <style>\n",
       "    .colab-df-container {\n",
       "      display:flex;\n",
       "      flex-wrap:wrap;\n",
       "      gap: 12px;\n",
       "    }\n",
       "\n",
       "    .colab-df-convert {\n",
       "      background-color: #E8F0FE;\n",
       "      border: none;\n",
       "      border-radius: 50%;\n",
       "      cursor: pointer;\n",
       "      display: none;\n",
       "      fill: #1967D2;\n",
       "      height: 32px;\n",
       "      padding: 0 0 0 0;\n",
       "      width: 32px;\n",
       "    }\n",
       "\n",
       "    .colab-df-convert:hover {\n",
       "      background-color: #E2EBFA;\n",
       "      box-shadow: 0px 1px 2px rgba(60, 64, 67, 0.3), 0px 1px 3px 1px rgba(60, 64, 67, 0.15);\n",
       "      fill: #174EA6;\n",
       "    }\n",
       "\n",
       "    [theme=dark] .colab-df-convert {\n",
       "      background-color: #3B4455;\n",
       "      fill: #D2E3FC;\n",
       "    }\n",
       "\n",
       "    [theme=dark] .colab-df-convert:hover {\n",
       "      background-color: #434B5C;\n",
       "      box-shadow: 0px 1px 3px 1px rgba(0, 0, 0, 0.15);\n",
       "      filter: drop-shadow(0px 1px 2px rgba(0, 0, 0, 0.3));\n",
       "      fill: #FFFFFF;\n",
       "    }\n",
       "  </style>\n",
       "\n",
       "      <script>\n",
       "        const buttonEl =\n",
       "          document.querySelector('#df-22f0270e-9317-48d5-98e6-d6ef7f16b4d4 button.colab-df-convert');\n",
       "        buttonEl.style.display =\n",
       "          google.colab.kernel.accessAllowed ? 'block' : 'none';\n",
       "\n",
       "        async function convertToInteractive(key) {\n",
       "          const element = document.querySelector('#df-22f0270e-9317-48d5-98e6-d6ef7f16b4d4');\n",
       "          const dataTable =\n",
       "            await google.colab.kernel.invokeFunction('convertToInteractive',\n",
       "                                                     [key], {});\n",
       "          if (!dataTable) return;\n",
       "\n",
       "          const docLinkHtml = 'Like what you see? Visit the ' +\n",
       "            '<a target=\"_blank\" href=https://colab.research.google.com/notebooks/data_table.ipynb>data table notebook</a>'\n",
       "            + ' to learn more about interactive tables.';\n",
       "          element.innerHTML = '';\n",
       "          dataTable['output_type'] = 'display_data';\n",
       "          await google.colab.output.renderOutput(dataTable, element);\n",
       "          const docLink = document.createElement('div');\n",
       "          docLink.innerHTML = docLinkHtml;\n",
       "          element.appendChild(docLink);\n",
       "        }\n",
       "      </script>\n",
       "    </div>\n",
       "  </div>\n"
      ],
      "text/plain": [
       "   grades\n",
       "0      50\n",
       "1      60\n",
       "2      60\n",
       "3      64\n",
       "4      66"
      ]
     },
     "execution_count": 7,
     "metadata": {},
     "output_type": "execute_result"
    }
   ],
   "source": [
    "# 표본\n",
    "\n",
    "import pandas as pd\n",
    "df = pd.read_csv(\"https://raw.githubusercontent.com/ethanweed/pythonbook/main/Data/zeppo.csv\")\n",
    "df.head()"
   ]
  },
  {
   "cell_type": "code",
   "execution_count": null,
   "metadata": {
    "colab": {
     "base_uri": "https://localhost:8080/"
    },
    "executionInfo": {
     "elapsed": 3,
     "status": "ok",
     "timestamp": 1691721147134,
     "user": {
      "displayName": "구국이",
      "userId": "07893391965781894103"
     },
     "user_tz": -540
    },
    "id": "mPb8-hNPaDhH",
    "outputId": "25d4ae7a-c253-4852-ccee-0c38bd0187c8"
   },
   "outputs": [
    {
     "data": {
      "text/plain": [
       "(50, 89)"
      ]
     },
     "execution_count": 8,
     "metadata": {},
     "output_type": "execute_result"
    }
   ],
   "source": [
    "df['grades'].min(), df['grades'].max()"
   ]
  },
  {
   "cell_type": "markdown",
   "metadata": {
    "id": "Y4cTXDJxaeAP"
   },
   "source": [
    "### 시각화\n",
    "- 평균이 67.5, 표준편차가 9.5인 그래프 작성\n",
    "- 모집단의 수는 100개\n",
    "- 히스토그램이 의미하는 것은 20개의 샘플을 추출함"
   ]
  },
  {
   "cell_type": "code",
   "execution_count": null,
   "metadata": {
    "colab": {
     "base_uri": "https://localhost:8080/",
     "height": 449
    },
    "executionInfo": {
     "elapsed": 328,
     "status": "ok",
     "timestamp": 1691721181372,
     "user": {
      "displayName": "구국이",
      "userId": "07893391965781894103"
     },
     "user_tz": -540
    },
    "id": "Po7uN4sLaplq",
    "outputId": "ac4df50f-9fee-4bfe-e298-d087b4670306"
   },
   "outputs": [
    {
     "data": {
      "image/png": "[encoded data removed]",
      "text/plain": [
       "<Figure size 640x480 with 1 Axes>"
      ]
     },
     "metadata": {},
     "output_type": "display_data"
    }
   ],
   "source": [
    "import matplotlib.pyplot as plt\n",
    "import numpy as np\n",
    "import seaborn as sns\n",
    "import scipy.stats as stats\n",
    "\n",
    "mu = 67.5\n",
    "sigma = 9.5\n",
    "\n",
    "# 모집단 설정\n",
    "x = np.linspace(mu - 3*sigma, mu + 3*sigma, 100)\n",
    "y = 100 * stats.norm.pdf(x, mu, sigma)\n",
    "\n",
    "fig, ax = plt.subplots()\n",
    "ax1 = sns.histplot(df['grades']) # 샘플 데이터\n",
    "ax2 = sns.lineplot(x=x, y=y, color='black') # 모집단 데이터\n",
    "\n",
    "plt.show()"
   ]
  },
  {
   "cell_type": "markdown",
   "metadata": {
    "id": "kuqL-zpBcO_z"
   },
   "source": [
    "### 가설 세우기\n",
    "- 귀무가설 : 표본 평균은 모평균 67.5와 같다.\n",
    "- 대립가설 : 표본 평균은 모평균 67.5와 같지 않다."
   ]
  },
  {
   "cell_type": "code",
   "execution_count": null,
   "metadata": {
    "id": "lbShdXx-elwB"
   },
   "outputs": [],
   "source": [
    "import statistics"
   ]
  },
  {
   "cell_type": "markdown",
   "metadata": {
    "id": "G-YdMcyqzilS"
   },
   "source": [
    "### z-통계량(z분포의 검정통계량)\n",
    "- 각 데이터 값이 평균으로부터 얼마나 떨어져 있는지를 나타내는 통계량\n",
    "  - 표준화된 수치\n"
   ]
  },
  {
   "cell_type": "code",
   "execution_count": null,
   "metadata": {
    "id": "BxWO0sfEzqZ3"
   },
   "outputs": [],
   "source": [
    "grades = df['grades']\n",
    "sample_mean = statistics.mean(grades)\n",
    "sample_mean # 표본평균\n",
    "sd_true = 9.5 # 모표준편차\n",
    "mu_null = 67.5 # 모평균\n",
    "N = len(grades) # 표본크기"
   ]
  },
  {
   "cell_type": "code",
   "execution_count": null,
   "metadata": {
    "colab": {
     "base_uri": "https://localhost:8080/"
    },
    "executionInfo": {
     "elapsed": 316,
     "status": "ok",
     "timestamp": 1691727603855,
     "user": {
      "displayName": "구국이",
      "userId": "07893391965781894103"
     },
     "user_tz": -540
    },
    "id": "ixplfPmRz9B4",
    "outputId": "d421b1ae-a3eb-472a-8cf1-834b0b3033e2"
   },
   "outputs": [
    {
     "data": {
      "text/plain": [
       "2.1242645786248002"
      ]
     },
     "execution_count": 19,
     "metadata": {},
     "output_type": "execute_result"
    }
   ],
   "source": [
    "# 표준오차\n",
    "import math\n",
    "sem_true = sd_true / math.sqrt(N) # sigma/root(n)\n",
    "sem_true"
   ]
  },
  {
   "cell_type": "code",
   "execution_count": null,
   "metadata": {
    "colab": {
     "base_uri": "https://localhost:8080/"
    },
    "executionInfo": {
     "elapsed": 284,
     "status": "ok",
     "timestamp": 1691727738122,
     "user": {
      "displayName": "구국이",
      "userId": "07893391965781894103"
     },
     "user_tz": -540
    },
    "id": "c4rl9gV_0-Os",
    "outputId": "c0d4445d-f1a1-4851-d819-69b8a3aed5f5"
   },
   "outputs": [
    {
     "data": {
      "text/plain": [
       "2.259605535157681"
      ]
     },
     "execution_count": 20,
     "metadata": {},
     "output_type": "execute_result"
    }
   ],
   "source": [
    "# z-통계량\n",
    "z_score = (sample_mean - mu_null) / sem_true\n",
    "z_score"
   ]
  },
  {
   "cell_type": "markdown",
   "metadata": {
    "id": "w3Tfbgxu4PKz"
   },
   "source": [
    "- NormalDist().cdf(-z_score)\n",
    "  - NormalDist() : 표준정규분포 객체 생성\n",
    "  - cdf() : 확률변수 X가 주어진 값보다 작거나 같은 확률값을 알려줌, 주어진 값에서 정규 분포의 누적 분포 함수를 계산할 때 사용"
   ]
  },
  {
   "cell_type": "code",
   "execution_count": null,
   "metadata": {
    "colab": {
     "base_uri": "https://localhost:8080/"
    },
    "executionInfo": {
     "elapsed": 274,
     "status": "ok",
     "timestamp": 1691728416515,
     "user": {
      "displayName": "구국이",
      "userId": "07893391965781894103"
     },
     "user_tz": -540
    },
    "id": "1dG_I3WY3Q6U",
    "outputId": "f8c15250-2dd9-4b36-d667-529465ff6c9d"
   },
   "outputs": [
    {
     "data": {
      "text/plain": [
       "0.023845743764939864"
      ]
     },
     "execution_count": 21,
     "metadata": {},
     "output_type": "execute_result"
    }
   ],
   "source": [
    "from statistics import NormalDist\n",
    "lower_area = NormalDist().cdf(-z_score)\n",
    "upper_area = lower_area\n",
    "\n",
    "p_value = lower_area + upper_area\n",
    "p_value"
   ]
  },
  {
   "cell_type": "markdown",
   "metadata": {
    "id": "0ruPjmkO45jg"
   },
   "source": [
    "### 결론\n",
    "- p-value가 0.02이고 z-score가 2.25이기 때문에, 귀무가설 기각, 대립가설을 채택한다.\n",
    "  - 대립가설 : 표본평균은 모평균 67.5와 같지 않다."
   ]
  },
  {
   "cell_type": "markdown",
   "metadata": {
    "id": "-hr9WhBsAISa"
   },
   "source": [
    "## One Sample T-Test\n",
    "- z-test와 t-test의 가장 큰 차이점\n",
    "  - z-test : 모표준편차를 안다.\n",
    "  - t-test : 모표준편차를 모른다.\n",
    "- 이것이 의미하는 것\n",
    "  - 여러번 샘플링을 통해 모표준편차를 추정\n",
    "  - 수동으로 여러번 테스트 할 수 없음(샘플링비용 발생)"
   ]
  },
  {
   "cell_type": "code",
   "execution_count": null,
   "metadata": {
    "colab": {
     "base_uri": "https://localhost:8080/",
     "height": 206
    },
    "executionInfo": {
     "elapsed": 299,
     "status": "ok",
     "timestamp": 1691730950603,
     "user": {
      "displayName": "구국이",
      "userId": "07893391965781894103"
     },
     "user_tz": -540
    },
    "id": "PwRBlUokBY2q",
    "outputId": "f4c7c849-2d99-412b-8755-8573a4c20f8c"
   },
   "outputs": [
    {
     "data": {
      "text/html": [
       "\n",
       "\n",
       "  <div id=\"df-2fc03c82-81ea-4d0d-a824-3980a9c1cf02\">\n",
       "    <div class=\"colab-df-container\">\n",
       "      <div>\n",
       "<style scoped>\n",
       "    .dataframe tbody tr th:only-of-type {\n",
       "        vertical-align: middle;\n",
       "    }\n",
       "\n",
       "    .dataframe tbody tr th {\n",
       "        vertical-align: top;\n",
       "    }\n",
       "\n",
       "    .dataframe thead th {\n",
       "        text-align: right;\n",
       "    }\n",
       "</style>\n",
       "<table border=\"1\" class=\"dataframe\">\n",
       "  <thead>\n",
       "    <tr style=\"text-align: right;\">\n",
       "      <th></th>\n",
       "      <th>grades</th>\n",
       "    </tr>\n",
       "  </thead>\n",
       "  <tbody>\n",
       "    <tr>\n",
       "      <th>0</th>\n",
       "      <td>50</td>\n",
       "    </tr>\n",
       "    <tr>\n",
       "      <th>1</th>\n",
       "      <td>60</td>\n",
       "    </tr>\n",
       "    <tr>\n",
       "      <th>2</th>\n",
       "      <td>60</td>\n",
       "    </tr>\n",
       "    <tr>\n",
       "      <th>3</th>\n",
       "      <td>64</td>\n",
       "    </tr>\n",
       "    <tr>\n",
       "      <th>4</th>\n",
       "      <td>66</td>\n",
       "    </tr>\n",
       "  </tbody>\n",
       "</table>\n",
       "</div>\n",
       "      <button class=\"colab-df-convert\" onclick=\"convertToInteractive('df-2fc03c82-81ea-4d0d-a824-3980a9c1cf02')\"\n",
       "              title=\"Convert this dataframe to an interactive table.\"\n",
       "              style=\"display:none;\">\n",
       "\n",
       "  <svg xmlns=\"http://www.w3.org/2000/svg\" height=\"24px\"viewBox=\"0 0 24 24\"\n",
       "       width=\"24px\">\n",
       "    <path d=\"M0 0h24v24H0V0z\" fill=\"none\"/>\n",
       "    <path d=\"M18.56 5.44l.94 2.06.94-2.06 2.06-.94-2.06-.94-.94-2.06-.94 2.06-2.06.94zm-11 1L8.5 8.5l.94-2.06 2.06-.94-2.06-.94L8.5 2.5l-.94 2.06-2.06.94zm10 10l.94 2.06.94-2.06 2.06-.94-2.06-.94-.94-2.06-.94 2.06-2.06.94z\"/><path d=\"M17.41 7.96l-1.37-1.37c-.4-.4-.92-.59-1.43-.59-.52 0-1.04.2-1.43.59L10.3 9.45l-7.72 7.72c-.78.78-.78 2.05 0 2.83L4 21.41c.39.39.9.59 1.41.59.51 0 1.02-.2 1.41-.59l7.78-7.78 2.81-2.81c.8-.78.8-2.07 0-2.86zM5.41 20L4 18.59l7.72-7.72 1.47 1.35L5.41 20z\"/>\n",
       "  </svg>\n",
       "      </button>\n",
       "\n",
       "\n",
       "\n",
       "    <div id=\"df-f5194221-a06e-478b-bc3f-e63921f2e388\">\n",
       "      <button class=\"colab-df-quickchart\" onclick=\"quickchart('df-f5194221-a06e-478b-bc3f-e63921f2e388')\"\n",
       "              title=\"Suggest charts.\"\n",
       "              style=\"display:none;\">\n",
       "\n",
       "<svg xmlns=\"http://www.w3.org/2000/svg\" height=\"24px\"viewBox=\"0 0 24 24\"\n",
       "     width=\"24px\">\n",
       "    <g>\n",
       "        <path d=\"M19 3H5c-1.1 0-2 .9-2 2v14c0 1.1.9 2 2 2h14c1.1 0 2-.9 2-2V5c0-1.1-.9-2-2-2zM9 17H7v-7h2v7zm4 0h-2V7h2v10zm4 0h-2v-4h2v4z\"/>\n",
       "    </g>\n",
       "</svg>\n",
       "      </button>\n",
       "    </div>\n",
       "\n",
       "<style>\n",
       "  .colab-df-quickchart {\n",
       "    background-color: #E8F0FE;\n",
       "    border: none;\n",
       "    border-radius: 50%;\n",
       "    cursor: pointer;\n",
       "    display: none;\n",
       "    fill: #1967D2;\n",
       "    height: 32px;\n",
       "    padding: 0 0 0 0;\n",
       "    width: 32px;\n",
       "  }\n",
       "\n",
       "  .colab-df-quickchart:hover {\n",
       "    background-color: #E2EBFA;\n",
       "    box-shadow: 0px 1px 2px rgba(60, 64, 67, 0.3), 0px 1px 3px 1px rgba(60, 64, 67, 0.15);\n",
       "    fill: #174EA6;\n",
       "  }\n",
       "\n",
       "  [theme=dark] .colab-df-quickchart {\n",
       "    background-color: #3B4455;\n",
       "    fill: #D2E3FC;\n",
       "  }\n",
       "\n",
       "  [theme=dark] .colab-df-quickchart:hover {\n",
       "    background-color: #434B5C;\n",
       "    box-shadow: 0px 1px 3px 1px rgba(0, 0, 0, 0.15);\n",
       "    filter: drop-shadow(0px 1px 2px rgba(0, 0, 0, 0.3));\n",
       "    fill: #FFFFFF;\n",
       "  }\n",
       "</style>\n",
       "\n",
       "    <script>\n",
       "      async function quickchart(key) {\n",
       "        const containerElement = document.querySelector('#' + key);\n",
       "        const charts = await google.colab.kernel.invokeFunction(\n",
       "            'suggestCharts', [key], {});\n",
       "      }\n",
       "    </script>\n",
       "\n",
       "      <script>\n",
       "\n",
       "function displayQuickchartButton(domScope) {\n",
       "  let quickchartButtonEl =\n",
       "    domScope.querySelector('#df-f5194221-a06e-478b-bc3f-e63921f2e388 button.colab-df-quickchart');\n",
       "  quickchartButtonEl.style.display =\n",
       "    google.colab.kernel.accessAllowed ? 'block' : 'none';\n",
       "}\n",
       "\n",
       "        displayQuickchartButton(document);\n",
       "      </script>\n",
       "      <style>\n",
       "    .colab-df-container {\n",
       "      display:flex;\n",
       "      flex-wrap:wrap;\n",
       "      gap: 12px;\n",
       "    }\n",
       "\n",
       "    .colab-df-convert {\n",
       "      background-color: #E8F0FE;\n",
       "      border: none;\n",
       "      border-radius: 50%;\n",
       "      cursor: pointer;\n",
       "      display: none;\n",
       "      fill: #1967D2;\n",
       "      height: 32px;\n",
       "      padding: 0 0 0 0;\n",
       "      width: 32px;\n",
       "    }\n",
       "\n",
       "    .colab-df-convert:hover {\n",
       "      background-color: #E2EBFA;\n",
       "      box-shadow: 0px 1px 2px rgba(60, 64, 67, 0.3), 0px 1px 3px 1px rgba(60, 64, 67, 0.15);\n",
       "      fill: #174EA6;\n",
       "    }\n",
       "\n",
       "    [theme=dark] .colab-df-convert {\n",
       "      background-color: #3B4455;\n",
       "      fill: #D2E3FC;\n",
       "    }\n",
       "\n",
       "    [theme=dark] .colab-df-convert:hover {\n",
       "      background-color: #434B5C;\n",
       "      box-shadow: 0px 1px 3px 1px rgba(0, 0, 0, 0.15);\n",
       "      filter: drop-shadow(0px 1px 2px rgba(0, 0, 0, 0.3));\n",
       "      fill: #FFFFFF;\n",
       "    }\n",
       "  </style>\n",
       "\n",
       "      <script>\n",
       "        const buttonEl =\n",
       "          document.querySelector('#df-2fc03c82-81ea-4d0d-a824-3980a9c1cf02 button.colab-df-convert');\n",
       "        buttonEl.style.display =\n",
       "          google.colab.kernel.accessAllowed ? 'block' : 'none';\n",
       "\n",
       "        async function convertToInteractive(key) {\n",
       "          const element = document.querySelector('#df-2fc03c82-81ea-4d0d-a824-3980a9c1cf02');\n",
       "          const dataTable =\n",
       "            await google.colab.kernel.invokeFunction('convertToInteractive',\n",
       "                                                     [key], {});\n",
       "          if (!dataTable) return;\n",
       "\n",
       "          const docLinkHtml = 'Like what you see? Visit the ' +\n",
       "            '<a target=\"_blank\" href=https://colab.research.google.com/notebooks/data_table.ipynb>data table notebook</a>'\n",
       "            + ' to learn more about interactive tables.';\n",
       "          element.innerHTML = '';\n",
       "          dataTable['output_type'] = 'display_data';\n",
       "          await google.colab.output.renderOutput(dataTable, element);\n",
       "          const docLink = document.createElement('div');\n",
       "          docLink.innerHTML = docLinkHtml;\n",
       "          element.appendChild(docLink);\n",
       "        }\n",
       "      </script>\n",
       "    </div>\n",
       "  </div>\n"
      ],
      "text/plain": [
       "   grades\n",
       "0      50\n",
       "1      60\n",
       "2      60\n",
       "3      64\n",
       "4      66"
      ]
     },
     "execution_count": 22,
     "metadata": {},
     "output_type": "execute_result"
    }
   ],
   "source": [
    "import pandas as pd\n",
    "df = pd.read_csv(\"https://raw.githubusercontent.com/ethanweed/pythonbook/main/Data/zeppo.csv\")\n",
    "df.head()"
   ]
  },
  {
   "cell_type": "code",
   "execution_count": null,
   "metadata": {
    "colab": {
     "base_uri": "https://localhost:8080/"
    },
    "executionInfo": {
     "elapsed": 329,
     "status": "ok",
     "timestamp": 1691731003396,
     "user": {
      "displayName": "구국이",
      "userId": "07893391965781894103"
     },
     "user_tz": -540
    },
    "id": "aBV5cpYFBb9k",
    "outputId": "6e9e7328-9bc9-4154-cf20-4cd2da74f228"
   },
   "outputs": [
    {
     "name": "stdout",
     "output_type": "stream",
     "text": [
      "평균: 72.3\n",
      "표본의 표준편차: 9.520614752375915\n"
     ]
    }
   ],
   "source": [
    "import statistics\n",
    "print('평균:', statistics.mean(df['grades']))\n",
    "print('표본의 표준편차:', statistics.stdevz(df['grades']))"
   ]
  },
  {
   "cell_type": "markdown",
   "metadata": {
    "id": "qK3KRwTBB72P"
   },
   "source": [
    "### 가설설정\n",
    "- 귀무가설 : 모집단의 월급 평균은 3억이다.\n",
    "- 대립가설 : 모집단의 월급 평균은 3억이 아니다.\n",
    "- one_sample t-test를 통해 모평균을 추정"
   ]
  },
  {
   "cell_type": "markdown",
   "metadata": {
    "id": "FD-zMY5HDFjN"
   },
   "source": [
    "### 추정\n",
    "- 전체 모집단에서 샘플링 후 표본평균을 구함. 전체 모수를 추정하는 방법\n",
    "- 표본의 갯수를 늘리면 좀 더 정확해진다."
   ]
  },
  {
   "cell_type": "markdown",
   "metadata": {
    "id": "zf0cNYzzG28e"
   },
   "source": [
    "### 테스트\n",
    "- 전제조건\n",
    "  - 전국 고등학교의 평균 국어 점수가 67.5\n",
    "  - 우리 고등학교의 평균 국어 점수는 72.3\n",
    "\n",
    "- 가설설정\n",
    "  - 귀무가설 : 전국 고등학생의 평균 국어 점수와 우리 고등학교의 평균 국어점수는 통계적으로 유의하게 같다.\n",
    "  - 대립가설 : 전국 고등학생의 평균 국어 점수와 우리 고등학교의 평균 국어점수는 통계적으로 유의하게 다르다."
   ]
  },
  {
   "cell_type": "markdown",
   "metadata": {
    "id": "UnEbDde3MGeL"
   },
   "source": [
    "### t통계량, p-value값 구하기"
   ]
  },
  {
   "cell_type": "code",
   "execution_count": null,
   "metadata": {
    "colab": {
     "base_uri": "https://localhost:8080/"
    },
    "executionInfo": {
     "elapsed": 321,
     "status": "ok",
     "timestamp": 1691733864690,
     "user": {
      "displayName": "구국이",
      "userId": "07893391965781894103"
     },
     "user_tz": -540
    },
    "id": "MeYGnXR6Ir0I",
    "outputId": "f81946fb-fcce-4d09-a895-fd250def4c6b"
   },
   "outputs": [
    {
     "data": {
      "text/plain": [
       "(2.25471286700693, 0.03614521878144544)"
      ]
     },
     "execution_count": 24,
     "metadata": {},
     "output_type": "execute_result"
    }
   ],
   "source": [
    "from scipy.stats import ttest_1samp\n",
    "t_statistic, p_value = ttest_1samp(a = df['grades'], popmean = 67.5)\n",
    "t_statistic, p_value"
   ]
  },
  {
   "cell_type": "markdown",
   "metadata": {
    "id": "C1m2Mnz_NM8p"
   },
   "source": [
    "### 신뢰구간 구하기\n",
    "- 샘플의 평균은 72.3\n",
    "- 우리고등학교의 학생 수 1000명 / 전국 고등학교의 학생 수 40만명\n",
    "  - 비교 1 : 67.5 vs 70.0\n",
    "  - 비교 2 : 67.5 vs 75.0"
   ]
  },
  {
   "cell_type": "code",
   "execution_count": null,
   "metadata": {
    "colab": {
     "base_uri": "https://localhost:8080/"
    },
    "executionInfo": {
     "elapsed": 303,
     "status": "ok",
     "timestamp": 1691734832800,
     "user": {
      "displayName": "구국이",
      "userId": "07893391965781894103"
     },
     "user_tz": -540
    },
    "id": "xZzWhdy7O2Zc",
    "outputId": "8d9a419c-cdd7-4808-8329-7fd170646dec"
   },
   "outputs": [
    {
     "data": {
      "text/plain": [
       "(67.85924628213635, 76.74075371786364)"
      ]
     },
     "execution_count": 28,
     "metadata": {},
     "output_type": "execute_result"
    }
   ],
   "source": [
    "from scipy import stats\n",
    "confidence_level = 0.95 # 오류를 허용할 확률 신뢰도 95%\n",
    "degress_freedom = len(df['grades'] - 1) # 샘플에서는 모두 자유도(N-1) 사용\n",
    "sample_mean = statistics.mean(df['grades'])\n",
    "sample_standard_error = stats.sem(df['grades']) # 표준오차\n",
    "confidence_interval = stats.t.interval(confidence_level, degress_freedom, sample_mean, sample_standard_error)\n",
    "confidence_interval"
   ]
  },
  {
   "cell_type": "markdown",
   "metadata": {
    "id": "uSI-mjb-QSHG"
   },
   "source": [
    "- 평균 72.3을 기록한 우리 고등학교 학생들의 평균 국어 점수는 전국 고등학교 평균 국어 점수 67.5와 다르다.\n",
    "\n",
    "  $t(19) = 2.25, p<0.05, CI_{95} = [67.8, 76.8]$"
   ]
  },
  {
   "cell_type": "markdown",
   "metadata": {
    "id": "Iuu7B9rFTsSP"
   },
   "source": [
    "### pingouin 테스트\n",
    "- 프로젝트 할 때 매우 유용하니, 반드시 참조\n",
    "- 빅분기 실기에는 적용 x\n",
    "- URL : https://pingouin-stats.org/build/html/index.html"
   ]
  },
  {
   "cell_type": "code",
   "execution_count": null,
   "metadata": {
    "colab": {
     "base_uri": "https://localhost:8080/"
    },
    "executionInfo": {
     "elapsed": 5819,
     "status": "ok",
     "timestamp": 1691735793241,
     "user": {
      "displayName": "구국이",
      "userId": "07893391965781894103"
     },
     "user_tz": -540
    },
    "id": "NMRTtJqfTz4S",
    "outputId": "6095eb7f-bda0-48f6-e90d-a32188d46d28"
   },
   "outputs": [
    {
     "name": "stdout",
     "output_type": "stream",
     "text": [
      "Collecting pingouin\n",
      "  Downloading pingouin-0.5.3-py3-none-any.whl (198 kB)\n",
      "\u001b[2K     \u001b[90m━━━━━━━━━━━━━━━━━━━━━━━━━━━━━━━━━━━━━━━\u001b[0m \u001b[32m198.6/198.6 kB\u001b[0m \u001b[31m1.3 MB/s\u001b[0m eta \u001b[36m0:00:00\u001b[0m\n",
      "\u001b[?25hRequirement already satisfied: numpy>=1.19 in /usr/local/lib/python3.10/dist-packages (from pingouin) (1.23.5)\n",
      "Requirement already satisfied: scipy>=1.7 in /usr/local/lib/python3.10/dist-packages (from pingouin) (1.10.1)\n",
      "Requirement already satisfied: pandas>=1.0 in /usr/local/lib/python3.10/dist-packages (from pingouin) (1.5.3)\n",
      "Requirement already satisfied: matplotlib>=3.0.2 in /usr/local/lib/python3.10/dist-packages (from pingouin) (3.7.1)\n",
      "Requirement already satisfied: seaborn>=0.11 in /usr/local/lib/python3.10/dist-packages (from pingouin) (0.12.2)\n",
      "Requirement already satisfied: statsmodels>=0.13 in /usr/local/lib/python3.10/dist-packages (from pingouin) (0.13.5)\n",
      "Requirement already satisfied: scikit-learn in /usr/local/lib/python3.10/dist-packages (from pingouin) (1.2.2)\n",
      "Collecting pandas-flavor>=0.2.0 (from pingouin)\n",
      "  Downloading pandas_flavor-0.6.0-py3-none-any.whl (7.2 kB)\n",
      "Collecting outdated (from pingouin)\n",
      "  Downloading outdated-0.2.2-py2.py3-none-any.whl (7.5 kB)\n",
      "Requirement already satisfied: tabulate in /usr/local/lib/python3.10/dist-packages (from pingouin) (0.9.0)\n",
      "Requirement already satisfied: contourpy>=1.0.1 in /usr/local/lib/python3.10/dist-packages (from matplotlib>=3.0.2->pingouin) (1.1.0)\n",
      "Requirement already satisfied: cycler>=0.10 in /usr/local/lib/python3.10/dist-packages (from matplotlib>=3.0.2->pingouin) (0.11.0)\n",
      "Requirement already satisfied: fonttools>=4.22.0 in /usr/local/lib/python3.10/dist-packages (from matplotlib>=3.0.2->pingouin) (4.42.0)\n",
      "Requirement already satisfied: kiwisolver>=1.0.1 in /usr/local/lib/python3.10/dist-packages (from matplotlib>=3.0.2->pingouin) (1.4.4)\n",
      "Requirement already satisfied: packaging>=20.0 in /usr/local/lib/python3.10/dist-packages (from matplotlib>=3.0.2->pingouin) (23.1)\n",
      "Requirement already satisfied: pillow>=6.2.0 in /usr/local/lib/python3.10/dist-packages (from matplotlib>=3.0.2->pingouin) (9.4.0)\n",
      "Requirement already satisfied: pyparsing>=2.3.1 in /usr/local/lib/python3.10/dist-packages (from matplotlib>=3.0.2->pingouin) (3.1.1)\n",
      "Requirement already satisfied: python-dateutil>=2.7 in /usr/local/lib/python3.10/dist-packages (from matplotlib>=3.0.2->pingouin) (2.8.2)\n",
      "Requirement already satisfied: pytz>=2020.1 in /usr/local/lib/python3.10/dist-packages (from pandas>=1.0->pingouin) (2022.7.1)\n",
      "Requirement already satisfied: xarray in /usr/local/lib/python3.10/dist-packages (from pandas-flavor>=0.2.0->pingouin) (2022.12.0)\n",
      "Requirement already satisfied: patsy>=0.5.2 in /usr/local/lib/python3.10/dist-packages (from statsmodels>=0.13->pingouin) (0.5.3)\n",
      "Requirement already satisfied: setuptools>=44 in /usr/local/lib/python3.10/dist-packages (from outdated->pingouin) (67.7.2)\n",
      "Collecting littleutils (from outdated->pingouin)\n",
      "  Downloading littleutils-0.2.2.tar.gz (6.6 kB)\n",
      "  Preparing metadata (setup.py) ... \u001b[?25l\u001b[?25hdone\n",
      "Requirement already satisfied: requests in /usr/local/lib/python3.10/dist-packages (from outdated->pingouin) (2.31.0)\n",
      "Requirement already satisfied: joblib>=1.1.1 in /usr/local/lib/python3.10/dist-packages (from scikit-learn->pingouin) (1.3.1)\n",
      "Requirement already satisfied: threadpoolctl>=2.0.0 in /usr/local/lib/python3.10/dist-packages (from scikit-learn->pingouin) (3.2.0)\n",
      "Requirement already satisfied: six in /usr/local/lib/python3.10/dist-packages (from patsy>=0.5.2->statsmodels>=0.13->pingouin) (1.16.0)\n",
      "Requirement already satisfied: charset-normalizer<4,>=2 in /usr/local/lib/python3.10/dist-packages (from requests->outdated->pingouin) (3.2.0)\n",
      "Requirement already satisfied: idna<4,>=2.5 in /usr/local/lib/python3.10/dist-packages (from requests->outdated->pingouin) (3.4)\n",
      "Requirement already satisfied: urllib3<3,>=1.21.1 in /usr/local/lib/python3.10/dist-packages (from requests->outdated->pingouin) (1.26.16)\n",
      "Requirement already satisfied: certifi>=2017.4.17 in /usr/local/lib/python3.10/dist-packages (from requests->outdated->pingouin) (2023.7.22)\n",
      "Building wheels for collected packages: littleutils\n",
      "  Building wheel for littleutils (setup.py) ... \u001b[?25l\u001b[?25hdone\n",
      "  Created wheel for littleutils: filename=littleutils-0.2.2-py3-none-any.whl size=7028 sha256=5ac5e469085d3a1c6cea6b87d442a7dd0b305d68126f08fc9ab60d92366f153b\n",
      "  Stored in directory: /root/.cache/pip/wheels/3d/fe/b0/27a9892da57472e538c7452a721a9cf463cc03cf7379889266\n",
      "Successfully built littleutils\n",
      "Installing collected packages: littleutils, outdated, pandas-flavor, pingouin\n",
      "Successfully installed littleutils-0.2.2 outdated-0.2.2 pandas-flavor-0.6.0 pingouin-0.5.3\n"
     ]
    }
   ],
   "source": [
    "!pip install --upgrade pingouin"
   ]
  },
  {
   "cell_type": "code",
   "execution_count": null,
   "metadata": {
    "colab": {
     "base_uri": "https://localhost:8080/"
    },
    "executionInfo": {
     "elapsed": 302,
     "status": "ok",
     "timestamp": 1691736005484,
     "user": {
      "displayName": "구국이",
      "userId": "07893391965781894103"
     },
     "user_tz": -540
    },
    "id": "R4RG7gk9T4X0",
    "outputId": "171f3693-bde2-41a9-efc9-de8fab0678c6"
   },
   "outputs": [
    {
     "data": {
      "text/plain": [
       "pandas.core.frame.DataFrame"
      ]
     },
     "execution_count": 31,
     "metadata": {},
     "output_type": "execute_result"
    }
   ],
   "source": [
    "from pingouin import ttest\n",
    "result = ttest(df['grades'], 67.5)\n",
    "type(result)"
   ]
  },
  {
   "cell_type": "markdown",
   "metadata": {
    "id": "3Pl7ZOq_V5cX"
   },
   "source": [
    "### One Sample t-test의 가정\n",
    "- 정규성(Normality)을 가정\n",
    "  - 데이터의 갯수가 N < 30이면 shapiro.wilk 검정 실시\n",
    "    - 정규성을 만족 못하면, 비모수 검정 실시 또는 데이터를 추가 수집한다.\n",
    "  - 데이터의 갯수가 N >= 30이면 중심극한정리에 의해서 정규성을 만족한다고 가정"
   ]
  }
 ],
 "metadata": {
  "colab": {
   "authorship_tag": "ABX9TyNyeaCynhHxNi9cLxNJvtop",
   "provenance": []
  },
  "kernelspec": {
   "display_name": "Python 3",
   "language": "python",
   "name": "python3"
  },
  "language_info": {
   "codemirror_mode": {
    "name": "ipython",
    "version": 3
   },
   "file_extension": ".py",
   "mimetype": "text/x-python",
   "name": "python",
   "nbconvert_exporter": "python",
   "pygments_lexer": "ipython3",
   "version": "3.7.6"
  }
 },
 "nbformat": 4,
 "nbformat_minor": 1
}
