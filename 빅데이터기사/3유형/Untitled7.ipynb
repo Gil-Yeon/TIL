{
 "cells": [
  {
   "cell_type": "code",
   "execution_count": 5,
   "id": "760684ac",
   "metadata": {},
   "outputs": [
    {
     "name": "stdout",
     "output_type": "stream",
     "text": [
      "TtestResult(statistic=5.0780453996425345, pvalue=1.12311195083408e-06, df=149)\n"
     ]
    }
   ],
   "source": [
    "import seaborn as sns\n",
    "import pandas as pd\n",
    "from scipy import stats\n",
    "\n",
    "a = sns.load_dataset('iris')\n",
    "\n",
    "result = stats.ttest_1samp(a['sepal_length'], popmean=5.5)\n",
    "print(result)"
   ]
  },
  {
   "cell_type": "code",
   "execution_count": 13,
   "id": "3abe6f08",
   "metadata": {},
   "outputs": [
    {
     "name": "stdout",
     "output_type": "stream",
     "text": [
      "TtestResult(statistic=1.387859705421269, pvalue=0.16645623503456755, df=242.0)\n"
     ]
    }
   ],
   "source": [
    "import pandas as pd\n",
    "import seaborn as sns\n",
    "from scipy import stats\n",
    "\n",
    "a = sns.load_dataset('tips')\n",
    "result = stats.ttest_ind(a.loc[a['sex']=='Male', 'tip'], a.loc[a['sex']=='Female', 'tip'])\n",
    "print(result)"
   ]
  },
  {
   "cell_type": "code",
   "execution_count": 28,
   "id": "dc6e3fa2",
   "metadata": {},
   "outputs": [
    {
     "name": "stdout",
     "output_type": "stream",
     "text": [
      "F_onewayResult(statistic=49.160040089612075, pvalue=4.492017133309115e-17)\n"
     ]
    }
   ],
   "source": [
    "import pandas as pd\n",
    "import seaborn as sns\n",
    "from scipy import stats\n",
    "\n",
    "a = sns.load_dataset('iris')\n",
    "\n",
    "x1 = a.loc[a['species']=='setosa', 'sepal_width']\n",
    "x2 = a.loc[a['species']=='versicolor', 'sepal_width']\n",
    "x3 = a.loc[a['species']=='virginica', 'sepal_width']\n",
    "\n",
    "result = stats.f_oneway(x1, x2, x3)\n",
    "print(result)"
   ]
  },
  {
   "cell_type": "code",
   "execution_count": 31,
   "id": "98668294",
   "metadata": {},
   "outputs": [
    {
     "name": "stdout",
     "output_type": "stream",
     "text": [
      "Chi2ContingencyResult(statistic=25.787216672396262, pvalue=1.0567572499836523e-05, dof=3, expected_freq=array([[23.63114754,  7.24180328, 33.15983607, 28.96721311],\n",
      "       [38.36885246, 11.75819672, 53.84016393, 47.03278689]]))\n"
     ]
    }
   ],
   "source": [
    "import pandas as pd\n",
    "import seaborn as sns\n",
    "from scipy import stats\n",
    "\n",
    "a = sns.load_dataset('tips')\n",
    "cross_a = pd.crosstab(a['smoker'], a['day'])\n",
    "result = stats.chi2_contingency(cross_a)\n",
    "print(result)"
   ]
  },
  {
   "cell_type": "code",
   "execution_count": 47,
   "id": "72bccbad",
   "metadata": {},
   "outputs": [
    {
     "name": "stdout",
     "output_type": "stream",
     "text": [
      "Power_divergenceResult(statistic=5.640905542544886, pvalue=0.13044964110227353)\n"
     ]
    }
   ],
   "source": [
    "import pandas as pd\n",
    "import seaborn as sns\n",
    "from scipy import stats\n",
    "\n",
    "a = sns.load_dataset('tips')\n",
    "\n",
    "grouped_df = a.groupby('day').agg('count')['size']\n",
    "\n",
    "expected = [\n",
    "    len(a)*0.3,\n",
    "    len(a)*0.05,\n",
    "    len(a)*0.35,\n",
    "    len(a)*0.3\n",
    "]\n",
    "\n",
    "\n",
    "result = stats.chisquare(grouped_df, f_exp=expected)\n",
    "print(result)"
   ]
  }
 ],
 "metadata": {
  "kernelspec": {
   "display_name": "Python 3 (ipykernel)",
   "language": "python",
   "name": "python3"
  },
  "language_info": {
   "codemirror_mode": {
    "name": "ipython",
    "version": 3
   },
   "file_extension": ".py",
   "mimetype": "text/x-python",
   "name": "python",
   "nbconvert_exporter": "python",
   "pygments_lexer": "ipython3",
   "version": "3.11.5"
  }
 },
 "nbformat": 4,
 "nbformat_minor": 5
}
