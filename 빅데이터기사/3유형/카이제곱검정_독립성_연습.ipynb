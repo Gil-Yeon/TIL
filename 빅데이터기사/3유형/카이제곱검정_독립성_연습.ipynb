{
 "cells": [
  {
   "cell_type": "markdown",
   "id": "b2d6302f-b837-4478-82ff-da823e2489ee",
   "metadata": {},
   "source": [
    "## 문제\n",
    "- 주어진 데이터(data/student.csv)는 A 대학생의 학생 300명을 대상으로 각 학생이 속한 단과대학과 이번 학기 수강 과목 수를 조사한 결과이다. 이를 이용하여 단과대학별로 수강 과목 수에 차이가 있는지 카이제곱검정을 통해 답하고자 한다. 가설은 아래와 같다. \n",
    "- 가설검정 \n",
    "    + 귀무가설 : 단과대학과 수강 과목 수는 관련이 없다.  \n",
    "    + 대립가설 : 단과대학과 수강 과목 수는 관련이 있다. \n",
    "- 문제 1: 주어진 데이터로 단과대학과 수강 과목 수로 분할표를 만들었을 때, 수강 과목 수가 '6개 이상'인 학생 수가 가장 많은 단과대학을 출력하시오. \n",
    "- 문제 2: 위의 가설을 검정하기 위한 검정통계량을 구하시오. (반올림하여 소숫점 둘째 자리까지 계산)\n",
    "- 문제 3: 위의 통계량에 대한 p-값을 구하고 (반올림하여 소숫점 넷째 자리까지 계산), 유의수준 0.05하에서 가설검정의 결과를 채택/기각 중 하나로 선택하시오.  "
   ]
  },
  {
   "cell_type": "markdown",
   "id": "53bba55e-b064-43c7-89bf-cee7f1cd0c84",
   "metadata": {},
   "source": [
    "## 데이터 불러오기"
   ]
  },
  {
   "cell_type": "code",
   "execution_count": 1,
   "id": "f30ebbd0-56c8-4081-ab6a-e2e9dbe2c803",
   "metadata": {},
   "outputs": [
    {
     "data": {
      "text/html": [
       "<div>\n",
       "<style scoped>\n",
       "    .dataframe tbody tr th:only-of-type {\n",
       "        vertical-align: middle;\n",
       "    }\n",
       "\n",
       "    .dataframe tbody tr th {\n",
       "        vertical-align: top;\n",
       "    }\n",
       "\n",
       "    .dataframe thead th {\n",
       "        text-align: right;\n",
       "    }\n",
       "</style>\n",
       "<table border=\"1\" class=\"dataframe\">\n",
       "  <thead>\n",
       "    <tr style=\"text-align: right;\">\n",
       "      <th></th>\n",
       "      <th>ID</th>\n",
       "      <th>단과대학</th>\n",
       "      <th>수강 과목 수</th>\n",
       "    </tr>\n",
       "  </thead>\n",
       "  <tbody>\n",
       "    <tr>\n",
       "      <th>0</th>\n",
       "      <td>1</td>\n",
       "      <td>경영대학</td>\n",
       "      <td>4개 이하</td>\n",
       "    </tr>\n",
       "    <tr>\n",
       "      <th>1</th>\n",
       "      <td>2</td>\n",
       "      <td>경영대학</td>\n",
       "      <td>4개 이하</td>\n",
       "    </tr>\n",
       "    <tr>\n",
       "      <th>2</th>\n",
       "      <td>3</td>\n",
       "      <td>경영대학</td>\n",
       "      <td>4개 이하</td>\n",
       "    </tr>\n",
       "    <tr>\n",
       "      <th>3</th>\n",
       "      <td>4</td>\n",
       "      <td>경영대학</td>\n",
       "      <td>4개 이하</td>\n",
       "    </tr>\n",
       "    <tr>\n",
       "      <th>4</th>\n",
       "      <td>5</td>\n",
       "      <td>경영대학</td>\n",
       "      <td>4개 이하</td>\n",
       "    </tr>\n",
       "  </tbody>\n",
       "</table>\n",
       "</div>"
      ],
      "text/plain": [
       "   ID  단과대학 수강 과목 수\n",
       "0   1  경영대학   4개 이하\n",
       "1   2  경영대학   4개 이하\n",
       "2   3  경영대학   4개 이하\n",
       "3   4  경영대학   4개 이하\n",
       "4   5  경영대학   4개 이하"
      ]
     },
     "execution_count": 1,
     "metadata": {},
     "output_type": "execute_result"
    }
   ],
   "source": [
    "import pandas as pd \n",
    "df = pd.read_csv(\"./data/student.csv\")\n",
    "df.head()"
   ]
  },
  {
   "cell_type": "markdown",
   "id": "67bea173-8324-458f-98e5-b619fe4dc364",
   "metadata": {},
   "source": [
    "## 문제 1\n",
    "- 주어진 데이터로 단과대학과 수강 과목 수로 분할표를 만들었을 때, 수강 과목 수가 '6개 이상'인 학생 수가 가장 많은 단과대학을 출력하시오."
   ]
  },
  {
   "cell_type": "code",
   "execution_count": 2,
   "id": "c73e5a59",
   "metadata": {},
   "outputs": [
    {
     "data": {
      "text/html": [
       "<div>\n",
       "<style scoped>\n",
       "    .dataframe tbody tr th:only-of-type {\n",
       "        vertical-align: middle;\n",
       "    }\n",
       "\n",
       "    .dataframe tbody tr th {\n",
       "        vertical-align: top;\n",
       "    }\n",
       "\n",
       "    .dataframe thead th {\n",
       "        text-align: right;\n",
       "    }\n",
       "</style>\n",
       "<table border=\"1\" class=\"dataframe\">\n",
       "  <thead>\n",
       "    <tr style=\"text-align: right;\">\n",
       "      <th>수강 과목 수</th>\n",
       "      <th>4개 이하</th>\n",
       "      <th>5개</th>\n",
       "      <th>6개 이상</th>\n",
       "    </tr>\n",
       "    <tr>\n",
       "      <th>단과대학</th>\n",
       "      <th></th>\n",
       "      <th></th>\n",
       "      <th></th>\n",
       "    </tr>\n",
       "  </thead>\n",
       "  <tbody>\n",
       "    <tr>\n",
       "      <th>경영대학</th>\n",
       "      <td>12</td>\n",
       "      <td>78</td>\n",
       "      <td>30</td>\n",
       "    </tr>\n",
       "    <tr>\n",
       "      <th>공과대학</th>\n",
       "      <td>30</td>\n",
       "      <td>42</td>\n",
       "      <td>28</td>\n",
       "    </tr>\n",
       "    <tr>\n",
       "      <th>자연대학</th>\n",
       "      <td>30</td>\n",
       "      <td>42</td>\n",
       "      <td>8</td>\n",
       "    </tr>\n",
       "  </tbody>\n",
       "</table>\n",
       "</div>"
      ],
      "text/plain": [
       "수강 과목 수  4개 이하  5개  6개 이상\n",
       "단과대학                     \n",
       "경영대학        12  78     30\n",
       "공과대학        30  42     28\n",
       "자연대학        30  42      8"
      ]
     },
     "execution_count": 2,
     "metadata": {},
     "output_type": "execute_result"
    }
   ],
   "source": [
    "cross_df = pd.crosstab(df['단과대학'], df['수강 과목 수'])\n",
    "cross_df"
   ]
  },
  {
   "cell_type": "code",
   "execution_count": 3,
   "id": "b3db00e2",
   "metadata": {},
   "outputs": [
    {
     "name": "stdout",
     "output_type": "stream",
     "text": [
      "경영대학\n"
     ]
    }
   ],
   "source": [
    "result = cross_df[cross_df['6개 이상'] == cross_df['6개 이상'].max()]\n",
    "print(result.index[0])"
   ]
  },
  {
   "cell_type": "markdown",
   "id": "88bab335-c823-4c68-9329-4a4ce1b21252",
   "metadata": {},
   "source": [
    "## 문제 2\n",
    "- 위의 가설을 검정하기 위한 검정통계량을 구하시오. (반올림하여 소숫점 둘째 자리까지 계산)"
   ]
  },
  {
   "cell_type": "code",
   "execution_count": 4,
   "id": "84b51e6f",
   "metadata": {},
   "outputs": [
    {
     "data": {
      "text/plain": [
       "Chi2ContingencyResult(statistic=30.127525252525256, pvalue=4.6103966676496775e-06, dof=4, expected_freq=array([[28.8, 64.8, 26.4],\n",
       "       [24. , 54. , 22. ],\n",
       "       [19.2, 43.2, 17.6]]))"
      ]
     },
     "execution_count": 4,
     "metadata": {},
     "output_type": "execute_result"
    }
   ],
   "source": [
    "from scipy import stats\n",
    "from math import sqrt\n",
    "\n",
    "x1 = cross_df.iloc[0]\n",
    "x2 = cross_df.iloc[1]\n",
    "x3 = cross_df.iloc[2]\n",
    "\n",
    "result = stats.chi2_contingency([x1, x2, x3])\n",
    "result"
   ]
  },
  {
   "cell_type": "code",
   "execution_count": 5,
   "id": "f9dccbcd",
   "metadata": {},
   "outputs": [
    {
     "name": "stdout",
     "output_type": "stream",
     "text": [
      "통계량 : 30.13\n"
     ]
    }
   ],
   "source": [
    "print(f'통계량 : {round(result.statistic, 2)}')"
   ]
  },
  {
   "cell_type": "markdown",
   "id": "8c825fdc-d795-4fd7-b760-56430e2676f3",
   "metadata": {},
   "source": [
    "## 문제 3. \n",
    "- 위의 통계량에 대한 p-값을 구하고 (반올림하여 소숫점 넷째 자리까지 계산), 유의수준 0.05하에서 가설검정의 결과를 채택/기각 중 하나로 선택하시오. "
   ]
  },
  {
   "cell_type": "code",
   "execution_count": 6,
   "id": "b18dff55",
   "metadata": {},
   "outputs": [
    {
     "name": "stdout",
     "output_type": "stream",
     "text": [
      "p-값 : 0.0\n"
     ]
    }
   ],
   "source": [
    "print(f'p-값 : {round(result.pvalue, 4)}')"
   ]
  },
  {
   "cell_type": "code",
   "execution_count": 7,
   "id": "783afedb",
   "metadata": {},
   "outputs": [
    {
     "name": "stdout",
     "output_type": "stream",
     "text": [
      "귀무가설 기각\n"
     ]
    }
   ],
   "source": [
    "if result.pvalue >= 0.05:\n",
    "    print('귀무가설 채택')\n",
    "else:\n",
    "    print('귀무가설 기각')"
   ]
  }
 ],
 "metadata": {
  "kernelspec": {
   "display_name": "Python 3 (ipykernel)",
   "language": "python",
   "name": "python3"
  },
  "language_info": {
   "codemirror_mode": {
    "name": "ipython",
    "version": 3
   },
   "file_extension": ".py",
   "mimetype": "text/x-python",
   "name": "python",
   "nbconvert_exporter": "python",
   "pygments_lexer": "ipython3",
   "version": "3.11.5"
  }
 },
 "nbformat": 4,
 "nbformat_minor": 5
}
