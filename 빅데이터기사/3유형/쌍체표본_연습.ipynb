{
 "cells": [
  {
   "cell_type": "markdown",
   "id": "b2d6302f-b837-4478-82ff-da823e2489ee",
   "metadata": {},
   "source": [
    "## 문제\n",
    "- 주어진 데이터(data/insectsprays.csv)에는 여러 지역에서 스프레이를 뿌리기 전에 측정한 곤충의 수와 스프레이를 뿌린 다음의 곤충의 수가 저장되어 있다. 해당 스프레이가 구제 효과가 있는지(즉, 스프레이를 뿌린 뒤 곤충의 수가 감소했는지) 쌍체표본 t-검정(Paired t-test)을 통해 답하고자 한다. \n",
    "- 가설검정 ($\\overline{\\mu_{d}}$: 살충체를 뿌린 후의 곤충 수 - 살충제를 뿌리기 전의 곤충 수)의 평균\n",
    "    + 귀무가설 : $\\overline{\\mu_{d}}$은 0이다. \n",
    "    + 대립가설 : $\\overline{\\mu_{d}}$은 0이 아니다.\n",
    "- 데이터의 변수\n",
    "    + before_spr : 살충제 뿌리기 전 곤충의 수\n",
    "    + after_spr : 살충제 뿌린 뒤 곤충의 수\n",
    "- 단, $\\overline{\\mu_{d}}$는 정규분포를 만족한다. \n",
    "- 문제 1: 표본평균 $\\overline{\\mu_{d}}$의 표본 평균을 구하시오. (반올림하여 소숫점 둘째 자리까지 계산)\n",
    "- 문제 2: 위의 가설을 검정하기 위한 검정통계량을 구하시오. (반올림하여 소숫점 둘째 자리까지 계산)\n",
    "- 문제 3: 위의 통계량에 대한 p-값을 구하고 (반올림하여 소숫점 넷째 자리까지 계산), 유의수준 0.05하에서 가설검정의 결과를 채택/기각 중 하나로 선택하시오. \n",
    "      "
   ]
  },
  {
   "cell_type": "markdown",
   "id": "53bba55e-b064-43c7-89bf-cee7f1cd0c84",
   "metadata": {},
   "source": [
    "## 데이터 불러오기"
   ]
  },
  {
   "cell_type": "code",
   "execution_count": 2,
   "id": "f30ebbd0-56c8-4081-ab6a-e2e9dbe2c803",
   "metadata": {},
   "outputs": [
    {
     "data": {
      "text/html": [
       "<div>\n",
       "<style scoped>\n",
       "    .dataframe tbody tr th:only-of-type {\n",
       "        vertical-align: middle;\n",
       "    }\n",
       "\n",
       "    .dataframe tbody tr th {\n",
       "        vertical-align: top;\n",
       "    }\n",
       "\n",
       "    .dataframe thead th {\n",
       "        text-align: right;\n",
       "    }\n",
       "</style>\n",
       "<table border=\"1\" class=\"dataframe\">\n",
       "  <thead>\n",
       "    <tr style=\"text-align: right;\">\n",
       "      <th></th>\n",
       "      <th>before_spr</th>\n",
       "      <th>after_spr</th>\n",
       "    </tr>\n",
       "  </thead>\n",
       "  <tbody>\n",
       "    <tr>\n",
       "      <th>0</th>\n",
       "      <td>10</td>\n",
       "      <td>0</td>\n",
       "    </tr>\n",
       "    <tr>\n",
       "      <th>1</th>\n",
       "      <td>7</td>\n",
       "      <td>1</td>\n",
       "    </tr>\n",
       "    <tr>\n",
       "      <th>2</th>\n",
       "      <td>20</td>\n",
       "      <td>7</td>\n",
       "    </tr>\n",
       "    <tr>\n",
       "      <th>3</th>\n",
       "      <td>14</td>\n",
       "      <td>2</td>\n",
       "    </tr>\n",
       "    <tr>\n",
       "      <th>4</th>\n",
       "      <td>14</td>\n",
       "      <td>3</td>\n",
       "    </tr>\n",
       "  </tbody>\n",
       "</table>\n",
       "</div>"
      ],
      "text/plain": [
       "   before_spr  after_spr\n",
       "0          10          0\n",
       "1           7          1\n",
       "2          20          7\n",
       "3          14          2\n",
       "4          14          3"
      ]
     },
     "execution_count": 2,
     "metadata": {},
     "output_type": "execute_result"
    }
   ],
   "source": [
    "import pandas as pd \n",
    "df = pd.read_csv(\"./data/insectsprays.csv\")\n",
    "df.head()"
   ]
  },
  {
   "cell_type": "markdown",
   "id": "67bea173-8324-458f-98e5-b619fe4dc364",
   "metadata": {},
   "source": [
    "## 문제 1\n",
    "- 표본평균 $\\overline{\\mu_{d}}$의 표본 평균을 구하시오. (반올림하여 소숫점 둘째 자리까지 계산)"
   ]
  },
  {
   "cell_type": "code",
   "execution_count": 3,
   "id": "ee0d1359",
   "metadata": {},
   "outputs": [
    {
     "name": "stdout",
     "output_type": "stream",
     "text": [
      "-12.0\n"
     ]
    }
   ],
   "source": [
    "X = round((df['after_spr']-df['before_spr']).mean(), 2)\n",
    "print(X)"
   ]
  },
  {
   "cell_type": "markdown",
   "id": "88bab335-c823-4c68-9329-4a4ce1b21252",
   "metadata": {},
   "source": [
    "## 문제 2\n",
    "- 위의 가설을 검정하기 위한 검정통계량을 구하시오. (반올림하여 소숫점 둘째 자리까지 계산)"
   ]
  },
  {
   "cell_type": "code",
   "execution_count": 7,
   "id": "0f45ff90",
   "metadata": {},
   "outputs": [
    {
     "name": "stdout",
     "output_type": "stream",
     "text": [
      "통계량 : -14.89\n"
     ]
    }
   ],
   "source": [
    "from scipy import stats\n",
    "from math import sqrt\n",
    "\n",
    "statistic, p_value = stats.ttest_rel(df['after_spr'], df['before_spr'])\n",
    "print(f'통계량 : {round(statistic, 2)}')"
   ]
  },
  {
   "cell_type": "markdown",
   "id": "8c825fdc-d795-4fd7-b760-56430e2676f3",
   "metadata": {},
   "source": [
    "## 문제 3. \n",
    "- 위의 통계량에 대한 p-값을 구하고 (반올림하여 소숫점 넷째 자리까지 계산), 유의수준 0.05하에서 가설검정의 결과를 채택/기각 중 하나로 선택하시오. "
   ]
  },
  {
   "cell_type": "code",
   "execution_count": 8,
   "id": "d7b281ff",
   "metadata": {},
   "outputs": [
    {
     "name": "stdout",
     "output_type": "stream",
     "text": [
      "p-값 : 0.0\n"
     ]
    }
   ],
   "source": [
    "print(f'p-값 : {round(p_value, 4)}')"
   ]
  },
  {
   "cell_type": "code",
   "execution_count": 9,
   "id": "59e5f39c",
   "metadata": {},
   "outputs": [
    {
     "name": "stdout",
     "output_type": "stream",
     "text": [
      "귀무가설 기각\n"
     ]
    }
   ],
   "source": [
    "if p_value >= 0.05:\n",
    "    print('귀무가설 채택')\n",
    "else:\n",
    "    print('귀무가설 기각')"
   ]
  }
 ],
 "metadata": {
  "kernelspec": {
   "display_name": "Python 3 (ipykernel)",
   "language": "python",
   "name": "python3"
  },
  "language_info": {
   "codemirror_mode": {
    "name": "ipython",
    "version": 3
   },
   "file_extension": ".py",
   "mimetype": "text/x-python",
   "name": "python",
   "nbconvert_exporter": "python",
   "pygments_lexer": "ipython3",
   "version": "3.11.5"
  }
 },
 "nbformat": 4,
 "nbformat_minor": 5
}
