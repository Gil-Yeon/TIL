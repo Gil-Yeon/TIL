{
 "cells": [
  {
   "cell_type": "code",
   "execution_count": 11,
   "id": "279d57cd",
   "metadata": {},
   "outputs": [
    {
     "name": "stdout",
     "output_type": "stream",
     "text": [
      "ShapiroResult(statistic=0.9475648403167725, pvalue=0.1228824257850647)\n"
     ]
    }
   ],
   "source": [
    "import pandas as pd\n",
    "from scipy import stats\n",
    "import numpy as np\n",
    "\n",
    "a = pd.read_csv(\"data/mtcars.csv\")\n",
    "\n",
    "# 사용자 코딩\n",
    "\n",
    "## 메서드 확인\n",
    "# import scipy\n",
    "# print(dir(scipy.stats))\n",
    "\n",
    "## 평균 검정\n",
    "# result = stats.ttest_1samp(a['carb'], popmean=5)\n",
    "# print(result)\n",
    "# result = stats.ttest_1samp(a['carb'], popmean=5, alternative='less') # 이 때 alternative는 대립가설에서 모평균이 기준평균보다 '어떠하다'라는 것을 의미\n",
    "# print(result)\n",
    "\n",
    "## 두 독립표본의 평균 검정\n",
    "# result1 = stats.ttest_ind(a['carb'], a['wt'])\n",
    "# print(result1)\n",
    "\n",
    "## 쌍체 검정\n",
    "# result2 = stats.ttest_rel(a['vs'], a['am'])\n",
    "# print(result2)\n",
    "\n",
    "## 독립성 검정\n",
    "# cross_df = pd.crosstab(a['gear'], a['carb'])\n",
    "# result3 = stats.chi2_contingency(cross_df)\n",
    "# print(result3)\n",
    "\n",
    "## 적합도 검정\n",
    "# expected = [\n",
    "# \tlen(a) * (1/3),\n",
    "# \tlen(a) * (1/3),\n",
    "# \tlen(a) * (1/3)\n",
    "# ]\n",
    "# real = a['gear'].value_counts()\n",
    "# result4 = stats.chisquare(real, f_exp=expected)\n",
    "# print(result4)\n",
    "\n",
    "## 일원분산분석\n",
    "# x1 = a.loc[a['gear']==3, 'mpg']\n",
    "# x2 = a.loc[a['gear']==4, 'mpg']\n",
    "# x3 = a.loc[a['gear']==5, 'mpg']\n",
    "\n",
    "# result5 = stats.f_oneway(x1, x2, x3)\n",
    "# print(result5)\n",
    "\n",
    "## 비모수(정규분포x)인 경우 두 독립표본의 평균 검정\n",
    "# result6 = stats.mannwhitneyu(a['carb'], a['wt'])\n",
    "# print(result6)\n",
    "\n",
    "## 정규성 검정\n",
    "result7 = stats.shapiro(a['mpg'])\n",
    "print(result7)"
   ]
  },
  {
   "cell_type": "code",
   "execution_count": null,
   "id": "250bfde8",
   "metadata": {},
   "outputs": [],
   "source": []
  }
 ],
 "metadata": {
  "kernelspec": {
   "display_name": "Python 3 (ipykernel)",
   "language": "python",
   "name": "python3"
  },
  "language_info": {
   "codemirror_mode": {
    "name": "ipython",
    "version": 3
   },
   "file_extension": ".py",
   "mimetype": "text/x-python",
   "name": "python",
   "nbconvert_exporter": "python",
   "pygments_lexer": "ipython3",
   "version": "3.11.5"
  }
 },
 "nbformat": 4,
 "nbformat_minor": 5
}
