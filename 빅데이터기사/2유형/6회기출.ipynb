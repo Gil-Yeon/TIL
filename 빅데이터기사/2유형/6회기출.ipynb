{
 "cells": [
  {
   "cell_type": "markdown",
   "id": "4b0b614f-2129-4a26-9896-3ef123a4afbf",
   "metadata": {},
   "source": [
    "## 문제 1. \n",
    "- 학생 530명에 대한 학습용(train) 데이터를 이용하여 학생 구분(유치원생, 초등학생, 중학생, 고등학생, 대학생) 예측 모형을 만든 후, 이를 평가용(test) 데이터에 적용하여 얻은 230명 학생의 구분을 다음과 같은 형식의 CSV 파일로 생성하시오. (제출한 모델의 성능은 f1-macro 평가에 따라 채점)"
   ]
  },
  {
   "cell_type": "code",
   "execution_count": 1,
   "id": "3a8a0c45-0065-468b-8942-6f8884a6af7f",
   "metadata": {},
   "outputs": [
    {
     "data": {
      "text/html": [
       "<div>\n",
       "<style scoped>\n",
       "    .dataframe tbody tr th:only-of-type {\n",
       "        vertical-align: middle;\n",
       "    }\n",
       "\n",
       "    .dataframe tbody tr th {\n",
       "        vertical-align: top;\n",
       "    }\n",
       "\n",
       "    .dataframe thead th {\n",
       "        text-align: right;\n",
       "    }\n",
       "</style>\n",
       "<table border=\"1\" class=\"dataframe\">\n",
       "  <thead>\n",
       "    <tr style=\"text-align: right;\">\n",
       "      <th></th>\n",
       "      <th>pred</th>\n",
       "    </tr>\n",
       "  </thead>\n",
       "  <tbody>\n",
       "    <tr>\n",
       "      <th>0</th>\n",
       "      <td>고등학생</td>\n",
       "    </tr>\n",
       "    <tr>\n",
       "      <th>1</th>\n",
       "      <td>중학생</td>\n",
       "    </tr>\n",
       "    <tr>\n",
       "      <th>2</th>\n",
       "      <td>유치원생</td>\n",
       "    </tr>\n",
       "    <tr>\n",
       "      <th>3</th>\n",
       "      <td>...</td>\n",
       "    </tr>\n",
       "  </tbody>\n",
       "</table>\n",
       "</div>"
      ],
      "text/plain": [
       "   pred\n",
       "0  고등학생\n",
       "1   중학생\n",
       "2  유치원생\n",
       "3   ..."
      ]
     },
     "execution_count": 1,
     "metadata": {},
     "output_type": "execute_result"
    }
   ],
   "source": [
    "import pandas as pd \n",
    "pd.DataFrame({\n",
    "    \"pred\" : [\"고등학생\", \"중학생\", \"유치원생\", \"...\"]\n",
    "})"
   ]
  },
  {
   "cell_type": "code",
   "execution_count": 2,
   "id": "d3ca68f6-521d-40d9-bd44-8c997c8b2a84",
   "metadata": {},
   "outputs": [
    {
     "name": "stdout",
     "output_type": "stream",
     "text": [
      "<class 'pandas.core.frame.DataFrame'>\n",
      "RangeIndex: 530 entries, 0 to 529\n",
      "Data columns (total 9 columns):\n",
      " #   Column       Non-Null Count  Dtype  \n",
      "---  ------       --------------  -----  \n",
      " 0   일평균수면시간      530 non-null    float64\n",
      " 1   일평균학습시간      530 non-null    float64\n",
      " 2   일평균스마트폰사용시간  530 non-null    float64\n",
      " 3   키            530 non-null    object \n",
      " 4   몸무게          530 non-null    float64\n",
      " 5   체격           530 non-null    object \n",
      " 6   기초대사량        530 non-null    float64\n",
      " 7   거주지역         530 non-null    object \n",
      " 8   구분           530 non-null    object \n",
      "dtypes: float64(5), object(4)\n",
      "memory usage: 37.4+ KB\n"
     ]
    }
   ],
   "source": [
    "import pandas as pd \n",
    "X_test = pd.read_csv(\"data/6회/data_6_2_test.csv\")\n",
    "X_train = pd.read_csv(\"data/6회/data_6_2_train.csv\")\n",
    "\n",
    "X_train.info()"
   ]
  },
  {
   "cell_type": "code",
   "execution_count": 3,
   "id": "03a01eed",
   "metadata": {},
   "outputs": [
    {
     "name": "stdout",
     "output_type": "stream",
     "text": [
      "<class 'pandas.core.frame.DataFrame'>\n",
      "RangeIndex: 230 entries, 0 to 229\n",
      "Data columns (total 8 columns):\n",
      " #   Column       Non-Null Count  Dtype  \n",
      "---  ------       --------------  -----  \n",
      " 0   일평균수면시간      230 non-null    float64\n",
      " 1   일평균학습시간      230 non-null    float64\n",
      " 2   일평균스마트폰사용시간  230 non-null    float64\n",
      " 3   키            230 non-null    object \n",
      " 4   몸무게          230 non-null    float64\n",
      " 5   체격           230 non-null    object \n",
      " 6   기초대사량        230 non-null    float64\n",
      " 7   거주지역         230 non-null    object \n",
      "dtypes: float64(5), object(3)\n",
      "memory usage: 14.5+ KB\n"
     ]
    }
   ],
   "source": [
    "X_test.info()"
   ]
  },
  {
   "cell_type": "code",
   "execution_count": 4,
   "id": "2e2cd73b-68c8-4916-b113-b1ee82c2d1f9",
   "metadata": {
    "scrolled": true
   },
   "outputs": [
    {
     "data": {
      "text/html": [
       "<div>\n",
       "<style scoped>\n",
       "    .dataframe tbody tr th:only-of-type {\n",
       "        vertical-align: middle;\n",
       "    }\n",
       "\n",
       "    .dataframe tbody tr th {\n",
       "        vertical-align: top;\n",
       "    }\n",
       "\n",
       "    .dataframe thead th {\n",
       "        text-align: right;\n",
       "    }\n",
       "</style>\n",
       "<table border=\"1\" class=\"dataframe\">\n",
       "  <thead>\n",
       "    <tr style=\"text-align: right;\">\n",
       "      <th></th>\n",
       "      <th>변수</th>\n",
       "      <th>설명</th>\n",
       "    </tr>\n",
       "  </thead>\n",
       "  <tbody>\n",
       "    <tr>\n",
       "      <th>0</th>\n",
       "      <td>일평균수면시간</td>\n",
       "      <td>학생 일 평균 수명시간</td>\n",
       "    </tr>\n",
       "    <tr>\n",
       "      <th>1</th>\n",
       "      <td>일평균학습시간</td>\n",
       "      <td>학생 일 평균 학습시간</td>\n",
       "    </tr>\n",
       "    <tr>\n",
       "      <th>2</th>\n",
       "      <td>일평균스마트폰사용시간</td>\n",
       "      <td>학생 일 평균 스마트폰 사용시간</td>\n",
       "    </tr>\n",
       "    <tr>\n",
       "      <th>3</th>\n",
       "      <td>키</td>\n",
       "      <td>학생 키 (Tall, Short)</td>\n",
       "    </tr>\n",
       "    <tr>\n",
       "      <th>4</th>\n",
       "      <td>몸무게</td>\n",
       "      <td>학생 몸무게</td>\n",
       "    </tr>\n",
       "    <tr>\n",
       "      <th>5</th>\n",
       "      <td>체격</td>\n",
       "      <td>학생 체격 ('L', 'M', 'XS', 'S')</td>\n",
       "    </tr>\n",
       "    <tr>\n",
       "      <th>6</th>\n",
       "      <td>기초대사량</td>\n",
       "      <td>학생 기초대사량</td>\n",
       "    </tr>\n",
       "    <tr>\n",
       "      <th>7</th>\n",
       "      <td>거주지역</td>\n",
       "      <td>학생 거주지역 ('동구', '서구', '남구', '북구')</td>\n",
       "    </tr>\n",
       "    <tr>\n",
       "      <th>8</th>\n",
       "      <td>구분</td>\n",
       "      <td>학생 구분 ('고등학생', '중학생', '초등학생', '대학생', '유치원생')</td>\n",
       "    </tr>\n",
       "  </tbody>\n",
       "</table>\n",
       "</div>"
      ],
      "text/plain": [
       "            변수                                            설명\n",
       "0      일평균수면시간                                  학생 일 평균 수명시간\n",
       "1      일평균학습시간                                  학생 일 평균 학습시간\n",
       "2  일평균스마트폰사용시간                             학생 일 평균 스마트폰 사용시간\n",
       "3            키                            학생 키 (Tall, Short)\n",
       "4          몸무게                                        학생 몸무게\n",
       "5           체격                   학생 체격 ('L', 'M', 'XS', 'S')\n",
       "6        기초대사량                                      학생 기초대사량\n",
       "7         거주지역              학생 거주지역 ('동구', '서구', '남구', '북구')\n",
       "8           구분  학생 구분 ('고등학생', '중학생', '초등학생', '대학생', '유치원생')"
      ]
     },
     "execution_count": 4,
     "metadata": {},
     "output_type": "execute_result"
    }
   ],
   "source": [
    "import pandas as pd \n",
    "pd.DataFrame({\n",
    "    \"변수\" : list(X_train.columns), \n",
    "    \"설명\" : [\n",
    "        \"학생 일 평균 수명시간\", \n",
    "        \"학생 일 평균 학습시간\", \n",
    "        \"학생 일 평균 스마트폰 사용시간\", \n",
    "        \"학생 키 (Tall, Short)\", \n",
    "        \"학생 몸무게\", \n",
    "        \"학생 체격 ('L', 'M', 'XS', 'S')\",\n",
    "        \"학생 기초대사량\", \n",
    "        \"학생 거주지역 ('동구', '서구', '남구', '북구')\", \n",
    "        \"학생 구분 ('고등학생', '중학생', '초등학생', '대학생', '유치원생')\"\n",
    "    ]\n",
    "})"
   ]
  },
  {
   "cell_type": "markdown",
   "id": "3582bb7b",
   "metadata": {},
   "source": [
    "## 데이터 확인"
   ]
  },
  {
   "cell_type": "code",
   "execution_count": 5,
   "id": "89c1d733",
   "metadata": {},
   "outputs": [
    {
     "data": {
      "text/html": [
       "<div>\n",
       "<style scoped>\n",
       "    .dataframe tbody tr th:only-of-type {\n",
       "        vertical-align: middle;\n",
       "    }\n",
       "\n",
       "    .dataframe tbody tr th {\n",
       "        vertical-align: top;\n",
       "    }\n",
       "\n",
       "    .dataframe thead th {\n",
       "        text-align: right;\n",
       "    }\n",
       "</style>\n",
       "<table border=\"1\" class=\"dataframe\">\n",
       "  <thead>\n",
       "    <tr style=\"text-align: right;\">\n",
       "      <th></th>\n",
       "      <th>일평균수면시간</th>\n",
       "      <th>일평균학습시간</th>\n",
       "      <th>일평균스마트폰사용시간</th>\n",
       "      <th>키</th>\n",
       "      <th>몸무게</th>\n",
       "      <th>체격</th>\n",
       "      <th>기초대사량</th>\n",
       "      <th>거주지역</th>\n",
       "      <th>구분</th>\n",
       "    </tr>\n",
       "  </thead>\n",
       "  <tbody>\n",
       "    <tr>\n",
       "      <th>0</th>\n",
       "      <td>7.35</td>\n",
       "      <td>7.74</td>\n",
       "      <td>4.8</td>\n",
       "      <td>Tall</td>\n",
       "      <td>52.050</td>\n",
       "      <td>L</td>\n",
       "      <td>1499.4</td>\n",
       "      <td>동구</td>\n",
       "      <td>고등학생</td>\n",
       "    </tr>\n",
       "    <tr>\n",
       "      <th>1</th>\n",
       "      <td>7.05</td>\n",
       "      <td>8.10</td>\n",
       "      <td>1.2</td>\n",
       "      <td>Tall</td>\n",
       "      <td>51.300</td>\n",
       "      <td>M</td>\n",
       "      <td>1624.4</td>\n",
       "      <td>서구</td>\n",
       "      <td>중학생</td>\n",
       "    </tr>\n",
       "    <tr>\n",
       "      <th>2</th>\n",
       "      <td>7.35</td>\n",
       "      <td>7.74</td>\n",
       "      <td>3.0</td>\n",
       "      <td>Tall</td>\n",
       "      <td>51.285</td>\n",
       "      <td>L</td>\n",
       "      <td>1499.4</td>\n",
       "      <td>동구</td>\n",
       "      <td>고등학생</td>\n",
       "    </tr>\n",
       "    <tr>\n",
       "      <th>3</th>\n",
       "      <td>8.58</td>\n",
       "      <td>6.66</td>\n",
       "      <td>4.8</td>\n",
       "      <td>Short</td>\n",
       "      <td>25.545</td>\n",
       "      <td>XS</td>\n",
       "      <td>1249.5</td>\n",
       "      <td>서구</td>\n",
       "      <td>초등학생</td>\n",
       "    </tr>\n",
       "    <tr>\n",
       "      <th>4</th>\n",
       "      <td>7.05</td>\n",
       "      <td>8.10</td>\n",
       "      <td>4.8</td>\n",
       "      <td>Tall</td>\n",
       "      <td>54.150</td>\n",
       "      <td>M</td>\n",
       "      <td>1624.4</td>\n",
       "      <td>서구</td>\n",
       "      <td>대학생</td>\n",
       "    </tr>\n",
       "  </tbody>\n",
       "</table>\n",
       "</div>"
      ],
      "text/plain": [
       "   일평균수면시간  일평균학습시간  일평균스마트폰사용시간      키     몸무게  체격   기초대사량 거주지역    구분\n",
       "0     7.35     7.74          4.8   Tall  52.050   L  1499.4   동구  고등학생\n",
       "1     7.05     8.10          1.2   Tall  51.300   M  1624.4   서구   중학생\n",
       "2     7.35     7.74          3.0   Tall  51.285   L  1499.4   동구  고등학생\n",
       "3     8.58     6.66          4.8  Short  25.545  XS  1249.5   서구  초등학생\n",
       "4     7.05     8.10          4.8   Tall  54.150   M  1624.4   서구   대학생"
      ]
     },
     "execution_count": 5,
     "metadata": {},
     "output_type": "execute_result"
    }
   ],
   "source": [
    "X_train.head()"
   ]
  },
  {
   "cell_type": "code",
   "execution_count": 6,
   "id": "46a3aa7b",
   "metadata": {},
   "outputs": [],
   "source": [
    "X = X_train.drop(columns=['구분'])\n",
    "y = X_train['구분']"
   ]
  },
  {
   "cell_type": "code",
   "execution_count": 7,
   "id": "8ec940fd",
   "metadata": {
    "scrolled": true
   },
   "outputs": [
    {
     "data": {
      "text/html": [
       "<div>\n",
       "<style scoped>\n",
       "    .dataframe tbody tr th:only-of-type {\n",
       "        vertical-align: middle;\n",
       "    }\n",
       "\n",
       "    .dataframe tbody tr th {\n",
       "        vertical-align: top;\n",
       "    }\n",
       "\n",
       "    .dataframe thead th {\n",
       "        text-align: right;\n",
       "    }\n",
       "</style>\n",
       "<table border=\"1\" class=\"dataframe\">\n",
       "  <thead>\n",
       "    <tr style=\"text-align: right;\">\n",
       "      <th></th>\n",
       "      <th>일평균수면시간</th>\n",
       "      <th>일평균학습시간</th>\n",
       "      <th>일평균스마트폰사용시간</th>\n",
       "      <th>키</th>\n",
       "      <th>몸무게</th>\n",
       "      <th>체격</th>\n",
       "      <th>기초대사량</th>\n",
       "      <th>거주지역</th>\n",
       "    </tr>\n",
       "  </thead>\n",
       "  <tbody>\n",
       "    <tr>\n",
       "      <th>0</th>\n",
       "      <td>7.35</td>\n",
       "      <td>7.74</td>\n",
       "      <td>4.8</td>\n",
       "      <td>Tall</td>\n",
       "      <td>52.050</td>\n",
       "      <td>L</td>\n",
       "      <td>1499.4</td>\n",
       "      <td>동구</td>\n",
       "    </tr>\n",
       "    <tr>\n",
       "      <th>1</th>\n",
       "      <td>7.05</td>\n",
       "      <td>8.10</td>\n",
       "      <td>1.2</td>\n",
       "      <td>Tall</td>\n",
       "      <td>51.300</td>\n",
       "      <td>M</td>\n",
       "      <td>1624.4</td>\n",
       "      <td>서구</td>\n",
       "    </tr>\n",
       "    <tr>\n",
       "      <th>2</th>\n",
       "      <td>7.35</td>\n",
       "      <td>7.74</td>\n",
       "      <td>3.0</td>\n",
       "      <td>Tall</td>\n",
       "      <td>51.285</td>\n",
       "      <td>L</td>\n",
       "      <td>1499.4</td>\n",
       "      <td>동구</td>\n",
       "    </tr>\n",
       "    <tr>\n",
       "      <th>3</th>\n",
       "      <td>8.58</td>\n",
       "      <td>6.66</td>\n",
       "      <td>4.8</td>\n",
       "      <td>Short</td>\n",
       "      <td>25.545</td>\n",
       "      <td>XS</td>\n",
       "      <td>1249.5</td>\n",
       "      <td>서구</td>\n",
       "    </tr>\n",
       "    <tr>\n",
       "      <th>4</th>\n",
       "      <td>7.05</td>\n",
       "      <td>8.10</td>\n",
       "      <td>4.8</td>\n",
       "      <td>Tall</td>\n",
       "      <td>54.150</td>\n",
       "      <td>M</td>\n",
       "      <td>1624.4</td>\n",
       "      <td>서구</td>\n",
       "    </tr>\n",
       "  </tbody>\n",
       "</table>\n",
       "</div>"
      ],
      "text/plain": [
       "   일평균수면시간  일평균학습시간  일평균스마트폰사용시간      키     몸무게  체격   기초대사량 거주지역\n",
       "0     7.35     7.74          4.8   Tall  52.050   L  1499.4   동구\n",
       "1     7.05     8.10          1.2   Tall  51.300   M  1624.4   서구\n",
       "2     7.35     7.74          3.0   Tall  51.285   L  1499.4   동구\n",
       "3     8.58     6.66          4.8  Short  25.545  XS  1249.5   서구\n",
       "4     7.05     8.10          4.8   Tall  54.150   M  1624.4   서구"
      ]
     },
     "execution_count": 7,
     "metadata": {},
     "output_type": "execute_result"
    }
   ],
   "source": [
    "X.head()"
   ]
  },
  {
   "cell_type": "code",
   "execution_count": 8,
   "id": "d91a465d",
   "metadata": {},
   "outputs": [
    {
     "data": {
      "text/plain": [
       "0    고등학생\n",
       "1     중학생\n",
       "2    고등학생\n",
       "3    초등학생\n",
       "4     대학생\n",
       "Name: 구분, dtype: object"
      ]
     },
     "execution_count": 8,
     "metadata": {},
     "output_type": "execute_result"
    }
   ],
   "source": [
    "y.head()"
   ]
  },
  {
   "cell_type": "code",
   "execution_count": 9,
   "id": "f9eb63f0",
   "metadata": {
    "scrolled": true
   },
   "outputs": [
    {
     "name": "stdout",
     "output_type": "stream",
     "text": [
      "<class 'pandas.core.frame.DataFrame'>\n",
      "RangeIndex: 530 entries, 0 to 529\n",
      "Data columns (total 8 columns):\n",
      " #   Column       Non-Null Count  Dtype  \n",
      "---  ------       --------------  -----  \n",
      " 0   일평균수면시간      530 non-null    float64\n",
      " 1   일평균학습시간      530 non-null    float64\n",
      " 2   일평균스마트폰사용시간  530 non-null    float64\n",
      " 3   키            530 non-null    object \n",
      " 4   몸무게          530 non-null    float64\n",
      " 5   체격           530 non-null    object \n",
      " 6   기초대사량        530 non-null    float64\n",
      " 7   거주지역         530 non-null    object \n",
      "dtypes: float64(5), object(3)\n",
      "memory usage: 33.3+ KB\n"
     ]
    }
   ],
   "source": [
    "X.info()"
   ]
  },
  {
   "cell_type": "code",
   "execution_count": 10,
   "id": "1325ecbc",
   "metadata": {},
   "outputs": [
    {
     "name": "stdout",
     "output_type": "stream",
     "text": [
      "<class 'pandas.core.series.Series'>\n",
      "RangeIndex: 530 entries, 0 to 529\n",
      "Series name: 구분\n",
      "Non-Null Count  Dtype \n",
      "--------------  ----- \n",
      "530 non-null    object\n",
      "dtypes: object(1)\n",
      "memory usage: 4.3+ KB\n"
     ]
    }
   ],
   "source": [
    "y.info()"
   ]
  },
  {
   "cell_type": "code",
   "execution_count": 11,
   "id": "cc1d1c65",
   "metadata": {},
   "outputs": [
    {
     "data": {
      "text/plain": [
       "일평균수면시간        0\n",
       "일평균학습시간        0\n",
       "일평균스마트폰사용시간    0\n",
       "키              0\n",
       "몸무게            0\n",
       "체격             0\n",
       "기초대사량          0\n",
       "거주지역           0\n",
       "dtype: int64"
      ]
     },
     "execution_count": 11,
     "metadata": {},
     "output_type": "execute_result"
    }
   ],
   "source": [
    "X.isnull().sum()"
   ]
  },
  {
   "cell_type": "code",
   "execution_count": 12,
   "id": "9eeaba16",
   "metadata": {},
   "outputs": [
    {
     "data": {
      "text/plain": [
       "0"
      ]
     },
     "execution_count": 12,
     "metadata": {},
     "output_type": "execute_result"
    }
   ],
   "source": [
    "y.isnull().sum()"
   ]
  },
  {
   "cell_type": "code",
   "execution_count": 13,
   "id": "fac0351c",
   "metadata": {},
   "outputs": [
    {
     "data": {
      "text/plain": [
       "유치원생    140\n",
       "초등학생    121\n",
       "고등학생    120\n",
       "대학생      78\n",
       "중학생      71\n",
       "Name: 구분, dtype: int64"
      ]
     },
     "execution_count": 13,
     "metadata": {},
     "output_type": "execute_result"
    }
   ],
   "source": [
    "y.value_counts()"
   ]
  },
  {
   "cell_type": "markdown",
   "id": "06ecfa9d",
   "metadata": {},
   "source": [
    "## 데이터셋 분리"
   ]
  },
  {
   "cell_type": "code",
   "execution_count": 14,
   "id": "03d722de",
   "metadata": {},
   "outputs": [
    {
     "data": {
      "text/plain": [
       "((424, 8), (106, 8), (424,), (106,))"
      ]
     },
     "execution_count": 14,
     "metadata": {},
     "output_type": "execute_result"
    }
   ],
   "source": [
    "from sklearn.model_selection import train_test_split\n",
    "X_tr, X_te, y_tr, y_te = train_test_split(X, y, test_size = 0.2, random_state=42)\n",
    "\n",
    "X_tr.shape, X_te.shape, y_tr.shape, y_te.shape"
   ]
  },
  {
   "cell_type": "markdown",
   "id": "e57cfdf4",
   "metadata": {},
   "source": [
    "## 데이터타입별로 분리"
   ]
  },
  {
   "cell_type": "code",
   "execution_count": 15,
   "id": "221adb99",
   "metadata": {
    "scrolled": true
   },
   "outputs": [
    {
     "data": {
      "text/html": [
       "<div>\n",
       "<style scoped>\n",
       "    .dataframe tbody tr th:only-of-type {\n",
       "        vertical-align: middle;\n",
       "    }\n",
       "\n",
       "    .dataframe tbody tr th {\n",
       "        vertical-align: top;\n",
       "    }\n",
       "\n",
       "    .dataframe thead th {\n",
       "        text-align: right;\n",
       "    }\n",
       "</style>\n",
       "<table border=\"1\" class=\"dataframe\">\n",
       "  <thead>\n",
       "    <tr style=\"text-align: right;\">\n",
       "      <th></th>\n",
       "      <th>일평균수면시간</th>\n",
       "      <th>일평균학습시간</th>\n",
       "      <th>일평균스마트폰사용시간</th>\n",
       "      <th>몸무게</th>\n",
       "      <th>기초대사량</th>\n",
       "    </tr>\n",
       "  </thead>\n",
       "  <tbody>\n",
       "    <tr>\n",
       "      <th>137</th>\n",
       "      <td>8.89</td>\n",
       "      <td>6.39</td>\n",
       "      <td>4.8</td>\n",
       "      <td>23.385</td>\n",
       "      <td>1374.5</td>\n",
       "    </tr>\n",
       "    <tr>\n",
       "      <th>526</th>\n",
       "      <td>8.27</td>\n",
       "      <td>6.84</td>\n",
       "      <td>1.2</td>\n",
       "      <td>51.165</td>\n",
       "      <td>2124.2</td>\n",
       "    </tr>\n",
       "    <tr>\n",
       "      <th>417</th>\n",
       "      <td>8.27</td>\n",
       "      <td>6.84</td>\n",
       "      <td>1.2</td>\n",
       "      <td>50.505</td>\n",
       "      <td>2124.2</td>\n",
       "    </tr>\n",
       "    <tr>\n",
       "      <th>517</th>\n",
       "      <td>10.11</td>\n",
       "      <td>5.58</td>\n",
       "      <td>1.2</td>\n",
       "      <td>21.135</td>\n",
       "      <td>1874.3</td>\n",
       "    </tr>\n",
       "    <tr>\n",
       "      <th>69</th>\n",
       "      <td>8.58</td>\n",
       "      <td>6.66</td>\n",
       "      <td>3.0</td>\n",
       "      <td>20.685</td>\n",
       "      <td>1249.5</td>\n",
       "    </tr>\n",
       "  </tbody>\n",
       "</table>\n",
       "</div>"
      ],
      "text/plain": [
       "     일평균수면시간  일평균학습시간  일평균스마트폰사용시간     몸무게   기초대사량\n",
       "137     8.89     6.39          4.8  23.385  1374.5\n",
       "526     8.27     6.84          1.2  51.165  2124.2\n",
       "417     8.27     6.84          1.2  50.505  2124.2\n",
       "517    10.11     5.58          1.2  21.135  1874.3\n",
       "69      8.58     6.66          3.0  20.685  1249.5"
      ]
     },
     "execution_count": 15,
     "metadata": {},
     "output_type": "execute_result"
    }
   ],
   "source": [
    "import numpy as np\n",
    "\n",
    "number_df = X_tr.select_dtypes(include=np.number)\n",
    "number_df.head()"
   ]
  },
  {
   "cell_type": "code",
   "execution_count": 16,
   "id": "cb91bdd7",
   "metadata": {},
   "outputs": [
    {
     "data": {
      "text/html": [
       "<div>\n",
       "<style scoped>\n",
       "    .dataframe tbody tr th:only-of-type {\n",
       "        vertical-align: middle;\n",
       "    }\n",
       "\n",
       "    .dataframe tbody tr th {\n",
       "        vertical-align: top;\n",
       "    }\n",
       "\n",
       "    .dataframe thead th {\n",
       "        text-align: right;\n",
       "    }\n",
       "</style>\n",
       "<table border=\"1\" class=\"dataframe\">\n",
       "  <thead>\n",
       "    <tr style=\"text-align: right;\">\n",
       "      <th></th>\n",
       "      <th>키</th>\n",
       "      <th>체격</th>\n",
       "      <th>거주지역</th>\n",
       "    </tr>\n",
       "  </thead>\n",
       "  <tbody>\n",
       "    <tr>\n",
       "      <th>137</th>\n",
       "      <td>Short</td>\n",
       "      <td>XS</td>\n",
       "      <td>북구</td>\n",
       "    </tr>\n",
       "    <tr>\n",
       "      <th>526</th>\n",
       "      <td>Tall</td>\n",
       "      <td>M</td>\n",
       "      <td>동구</td>\n",
       "    </tr>\n",
       "    <tr>\n",
       "      <th>417</th>\n",
       "      <td>Tall</td>\n",
       "      <td>M</td>\n",
       "      <td>서구</td>\n",
       "    </tr>\n",
       "    <tr>\n",
       "      <th>517</th>\n",
       "      <td>Short</td>\n",
       "      <td>XS</td>\n",
       "      <td>북구</td>\n",
       "    </tr>\n",
       "    <tr>\n",
       "      <th>69</th>\n",
       "      <td>Short</td>\n",
       "      <td>XS</td>\n",
       "      <td>동구</td>\n",
       "    </tr>\n",
       "  </tbody>\n",
       "</table>\n",
       "</div>"
      ],
      "text/plain": [
       "         키  체격 거주지역\n",
       "137  Short  XS   북구\n",
       "526   Tall   M   동구\n",
       "417   Tall   M   서구\n",
       "517  Short  XS   북구\n",
       "69   Short  XS   동구"
      ]
     },
     "execution_count": 16,
     "metadata": {},
     "output_type": "execute_result"
    }
   ],
   "source": [
    "object_df = X_tr.select_dtypes(include=object)\n",
    "object_df.head()"
   ]
  },
  {
   "cell_type": "code",
   "execution_count": 17,
   "id": "81fae15d",
   "metadata": {},
   "outputs": [
    {
     "data": {
      "text/html": [
       "<div>\n",
       "<style scoped>\n",
       "    .dataframe tbody tr th:only-of-type {\n",
       "        vertical-align: middle;\n",
       "    }\n",
       "\n",
       "    .dataframe tbody tr th {\n",
       "        vertical-align: top;\n",
       "    }\n",
       "\n",
       "    .dataframe thead th {\n",
       "        text-align: right;\n",
       "    }\n",
       "</style>\n",
       "<table border=\"1\" class=\"dataframe\">\n",
       "  <thead>\n",
       "    <tr style=\"text-align: right;\">\n",
       "      <th></th>\n",
       "      <th>일평균수면시간</th>\n",
       "      <th>일평균학습시간</th>\n",
       "      <th>일평균스마트폰사용시간</th>\n",
       "      <th>몸무게</th>\n",
       "      <th>기초대사량</th>\n",
       "    </tr>\n",
       "  </thead>\n",
       "  <tbody>\n",
       "    <tr>\n",
       "      <th>count</th>\n",
       "      <td>424.000000</td>\n",
       "      <td>424.000000</td>\n",
       "      <td>424.000000</td>\n",
       "      <td>424.000000</td>\n",
       "      <td>424.000000</td>\n",
       "    </tr>\n",
       "    <tr>\n",
       "      <th>mean</th>\n",
       "      <td>8.372901</td>\n",
       "      <td>6.896250</td>\n",
       "      <td>2.869811</td>\n",
       "      <td>37.620601</td>\n",
       "      <td>1628.500943</td>\n",
       "    </tr>\n",
       "    <tr>\n",
       "      <th>std</th>\n",
       "      <td>1.080119</td>\n",
       "      <td>0.935629</td>\n",
       "      <td>1.585583</td>\n",
       "      <td>14.470400</td>\n",
       "      <td>213.728564</td>\n",
       "    </tr>\n",
       "    <tr>\n",
       "      <th>min</th>\n",
       "      <td>6.440000</td>\n",
       "      <td>5.580000</td>\n",
       "      <td>0.000000</td>\n",
       "      <td>16.905000</td>\n",
       "      <td>1249.500000</td>\n",
       "    </tr>\n",
       "    <tr>\n",
       "      <th>25%</th>\n",
       "      <td>7.350000</td>\n",
       "      <td>6.210000</td>\n",
       "      <td>1.200000</td>\n",
       "      <td>23.692500</td>\n",
       "      <td>1499.400000</td>\n",
       "    </tr>\n",
       "    <tr>\n",
       "      <th>50%</th>\n",
       "      <td>8.270000</td>\n",
       "      <td>6.840000</td>\n",
       "      <td>3.000000</td>\n",
       "      <td>37.905000</td>\n",
       "      <td>1624.400000</td>\n",
       "    </tr>\n",
       "    <tr>\n",
       "      <th>75%</th>\n",
       "      <td>9.190000</td>\n",
       "      <td>7.740000</td>\n",
       "      <td>4.800000</td>\n",
       "      <td>50.737500</td>\n",
       "      <td>1749.300000</td>\n",
       "    </tr>\n",
       "    <tr>\n",
       "      <th>max</th>\n",
       "      <td>10.110000</td>\n",
       "      <td>8.820000</td>\n",
       "      <td>4.800000</td>\n",
       "      <td>72.045000</td>\n",
       "      <td>2124.200000</td>\n",
       "    </tr>\n",
       "  </tbody>\n",
       "</table>\n",
       "</div>"
      ],
      "text/plain": [
       "          일평균수면시간     일평균학습시간  일평균스마트폰사용시간         몸무게        기초대사량\n",
       "count  424.000000  424.000000   424.000000  424.000000   424.000000\n",
       "mean     8.372901    6.896250     2.869811   37.620601  1628.500943\n",
       "std      1.080119    0.935629     1.585583   14.470400   213.728564\n",
       "min      6.440000    5.580000     0.000000   16.905000  1249.500000\n",
       "25%      7.350000    6.210000     1.200000   23.692500  1499.400000\n",
       "50%      8.270000    6.840000     3.000000   37.905000  1624.400000\n",
       "75%      9.190000    7.740000     4.800000   50.737500  1749.300000\n",
       "max     10.110000    8.820000     4.800000   72.045000  2124.200000"
      ]
     },
     "execution_count": 17,
     "metadata": {},
     "output_type": "execute_result"
    }
   ],
   "source": [
    "number_df.describe()"
   ]
  },
  {
   "cell_type": "code",
   "execution_count": 18,
   "id": "8a7cd7fd",
   "metadata": {},
   "outputs": [
    {
     "name": "stdout",
     "output_type": "stream",
     "text": [
      "Tall     221\n",
      "Short    203\n",
      "Name: 키, dtype: int64\n",
      "\n",
      "XS    203\n",
      "L     114\n",
      "M      75\n",
      "S      32\n",
      "Name: 체격, dtype: int64\n",
      "\n",
      "남구    123\n",
      "서구    113\n",
      "동구     97\n",
      "북구     91\n",
      "Name: 거주지역, dtype: int64\n",
      "\n"
     ]
    }
   ],
   "source": [
    "for column in object_df.columns:\n",
    "    print(object_df[column].value_counts())\n",
    "    print()"
   ]
  },
  {
   "cell_type": "markdown",
   "id": "c75b1338",
   "metadata": {},
   "source": [
    "## 모델 생성"
   ]
  },
  {
   "cell_type": "code",
   "execution_count": 19,
   "id": "6138ad63",
   "metadata": {
    "scrolled": true
   },
   "outputs": [
    {
     "data": {
      "text/html": [
       "<style>#sk-container-id-1 {color: black;}#sk-container-id-1 pre{padding: 0;}#sk-container-id-1 div.sk-toggleable {background-color: white;}#sk-container-id-1 label.sk-toggleable__label {cursor: pointer;display: block;width: 100%;margin-bottom: 0;padding: 0.3em;box-sizing: border-box;text-align: center;}#sk-container-id-1 label.sk-toggleable__label-arrow:before {content: \"▸\";float: left;margin-right: 0.25em;color: #696969;}#sk-container-id-1 label.sk-toggleable__label-arrow:hover:before {color: black;}#sk-container-id-1 div.sk-estimator:hover label.sk-toggleable__label-arrow:before {color: black;}#sk-container-id-1 div.sk-toggleable__content {max-height: 0;max-width: 0;overflow: hidden;text-align: left;background-color: #f0f8ff;}#sk-container-id-1 div.sk-toggleable__content pre {margin: 0.2em;color: black;border-radius: 0.25em;background-color: #f0f8ff;}#sk-container-id-1 input.sk-toggleable__control:checked~div.sk-toggleable__content {max-height: 200px;max-width: 100%;overflow: auto;}#sk-container-id-1 input.sk-toggleable__control:checked~label.sk-toggleable__label-arrow:before {content: \"▾\";}#sk-container-id-1 div.sk-estimator input.sk-toggleable__control:checked~label.sk-toggleable__label {background-color: #d4ebff;}#sk-container-id-1 div.sk-label input.sk-toggleable__control:checked~label.sk-toggleable__label {background-color: #d4ebff;}#sk-container-id-1 input.sk-hidden--visually {border: 0;clip: rect(1px 1px 1px 1px);clip: rect(1px, 1px, 1px, 1px);height: 1px;margin: -1px;overflow: hidden;padding: 0;position: absolute;width: 1px;}#sk-container-id-1 div.sk-estimator {font-family: monospace;background-color: #f0f8ff;border: 1px dotted black;border-radius: 0.25em;box-sizing: border-box;margin-bottom: 0.5em;}#sk-container-id-1 div.sk-estimator:hover {background-color: #d4ebff;}#sk-container-id-1 div.sk-parallel-item::after {content: \"\";width: 100%;border-bottom: 1px solid gray;flex-grow: 1;}#sk-container-id-1 div.sk-label:hover label.sk-toggleable__label {background-color: #d4ebff;}#sk-container-id-1 div.sk-serial::before {content: \"\";position: absolute;border-left: 1px solid gray;box-sizing: border-box;top: 0;bottom: 0;left: 50%;z-index: 0;}#sk-container-id-1 div.sk-serial {display: flex;flex-direction: column;align-items: center;background-color: white;padding-right: 0.2em;padding-left: 0.2em;position: relative;}#sk-container-id-1 div.sk-item {position: relative;z-index: 1;}#sk-container-id-1 div.sk-parallel {display: flex;align-items: stretch;justify-content: center;background-color: white;position: relative;}#sk-container-id-1 div.sk-item::before, #sk-container-id-1 div.sk-parallel-item::before {content: \"\";position: absolute;border-left: 1px solid gray;box-sizing: border-box;top: 0;bottom: 0;left: 50%;z-index: -1;}#sk-container-id-1 div.sk-parallel-item {display: flex;flex-direction: column;z-index: 1;position: relative;background-color: white;}#sk-container-id-1 div.sk-parallel-item:first-child::after {align-self: flex-end;width: 50%;}#sk-container-id-1 div.sk-parallel-item:last-child::after {align-self: flex-start;width: 50%;}#sk-container-id-1 div.sk-parallel-item:only-child::after {width: 0;}#sk-container-id-1 div.sk-dashed-wrapped {border: 1px dashed gray;margin: 0 0.4em 0.5em 0.4em;box-sizing: border-box;padding-bottom: 0.4em;background-color: white;}#sk-container-id-1 div.sk-label label {font-family: monospace;font-weight: bold;display: inline-block;line-height: 1.2em;}#sk-container-id-1 div.sk-label-container {text-align: center;}#sk-container-id-1 div.sk-container {/* jupyter's `normalize.less` sets `[hidden] { display: none; }` but bootstrap.min.css set `[hidden] { display: none !important; }` so we also need the `!important` here to be able to override the default hidden behavior on the sphinx rendered scikit-learn.org. See: https://github.com/scikit-learn/scikit-learn/issues/21755 */display: inline-block !important;position: relative;}#sk-container-id-1 div.sk-text-repr-fallback {display: none;}</style><div id=\"sk-container-id-1\" class=\"sk-top-container\"><div class=\"sk-text-repr-fallback\"><pre>Pipeline(steps=[(&#x27;preprocessor&#x27;,\n",
       "                 ColumnTransformer(remainder=&#x27;passthrough&#x27;,\n",
       "                                   transformers=[(&#x27;minmax_scaler&#x27;,\n",
       "                                                  MinMaxScaler(),\n",
       "                                                  Index([&#x27;일평균수면시간&#x27;, &#x27;일평균학습시간&#x27;, &#x27;일평균스마트폰사용시간&#x27;, &#x27;몸무게&#x27;, &#x27;기초대사량&#x27;], dtype=&#x27;object&#x27;)),\n",
       "                                                 (&#x27;ohc_encoder&#x27;,\n",
       "                                                  OneHotEncoder(),\n",
       "                                                  Index([&#x27;키&#x27;, &#x27;체격&#x27;, &#x27;거주지역&#x27;], dtype=&#x27;object&#x27;))])),\n",
       "                (&#x27;model&#x27;,\n",
       "                 LGBMClassifier(learning_rate=0.01, max_depth=3,\n",
       "                                random_state=42))])</pre><b>In a Jupyter environment, please rerun this cell to show the HTML representation or trust the notebook. <br />On GitHub, the HTML representation is unable to render, please try loading this page with nbviewer.org.</b></div><div class=\"sk-container\" hidden><div class=\"sk-item sk-dashed-wrapped\"><div class=\"sk-label-container\"><div class=\"sk-label sk-toggleable\"><input class=\"sk-toggleable__control sk-hidden--visually\" id=\"sk-estimator-id-1\" type=\"checkbox\" ><label for=\"sk-estimator-id-1\" class=\"sk-toggleable__label sk-toggleable__label-arrow\">Pipeline</label><div class=\"sk-toggleable__content\"><pre>Pipeline(steps=[(&#x27;preprocessor&#x27;,\n",
       "                 ColumnTransformer(remainder=&#x27;passthrough&#x27;,\n",
       "                                   transformers=[(&#x27;minmax_scaler&#x27;,\n",
       "                                                  MinMaxScaler(),\n",
       "                                                  Index([&#x27;일평균수면시간&#x27;, &#x27;일평균학습시간&#x27;, &#x27;일평균스마트폰사용시간&#x27;, &#x27;몸무게&#x27;, &#x27;기초대사량&#x27;], dtype=&#x27;object&#x27;)),\n",
       "                                                 (&#x27;ohc_encoder&#x27;,\n",
       "                                                  OneHotEncoder(),\n",
       "                                                  Index([&#x27;키&#x27;, &#x27;체격&#x27;, &#x27;거주지역&#x27;], dtype=&#x27;object&#x27;))])),\n",
       "                (&#x27;model&#x27;,\n",
       "                 LGBMClassifier(learning_rate=0.01, max_depth=3,\n",
       "                                random_state=42))])</pre></div></div></div><div class=\"sk-serial\"><div class=\"sk-item sk-dashed-wrapped\"><div class=\"sk-label-container\"><div class=\"sk-label sk-toggleable\"><input class=\"sk-toggleable__control sk-hidden--visually\" id=\"sk-estimator-id-2\" type=\"checkbox\" ><label for=\"sk-estimator-id-2\" class=\"sk-toggleable__label sk-toggleable__label-arrow\">preprocessor: ColumnTransformer</label><div class=\"sk-toggleable__content\"><pre>ColumnTransformer(remainder=&#x27;passthrough&#x27;,\n",
       "                  transformers=[(&#x27;minmax_scaler&#x27;, MinMaxScaler(),\n",
       "                                 Index([&#x27;일평균수면시간&#x27;, &#x27;일평균학습시간&#x27;, &#x27;일평균스마트폰사용시간&#x27;, &#x27;몸무게&#x27;, &#x27;기초대사량&#x27;], dtype=&#x27;object&#x27;)),\n",
       "                                (&#x27;ohc_encoder&#x27;, OneHotEncoder(),\n",
       "                                 Index([&#x27;키&#x27;, &#x27;체격&#x27;, &#x27;거주지역&#x27;], dtype=&#x27;object&#x27;))])</pre></div></div></div><div class=\"sk-parallel\"><div class=\"sk-parallel-item\"><div class=\"sk-item\"><div class=\"sk-label-container\"><div class=\"sk-label sk-toggleable\"><input class=\"sk-toggleable__control sk-hidden--visually\" id=\"sk-estimator-id-3\" type=\"checkbox\" ><label for=\"sk-estimator-id-3\" class=\"sk-toggleable__label sk-toggleable__label-arrow\">minmax_scaler</label><div class=\"sk-toggleable__content\"><pre>Index([&#x27;일평균수면시간&#x27;, &#x27;일평균학습시간&#x27;, &#x27;일평균스마트폰사용시간&#x27;, &#x27;몸무게&#x27;, &#x27;기초대사량&#x27;], dtype=&#x27;object&#x27;)</pre></div></div></div><div class=\"sk-serial\"><div class=\"sk-item\"><div class=\"sk-estimator sk-toggleable\"><input class=\"sk-toggleable__control sk-hidden--visually\" id=\"sk-estimator-id-4\" type=\"checkbox\" ><label for=\"sk-estimator-id-4\" class=\"sk-toggleable__label sk-toggleable__label-arrow\">MinMaxScaler</label><div class=\"sk-toggleable__content\"><pre>MinMaxScaler()</pre></div></div></div></div></div></div><div class=\"sk-parallel-item\"><div class=\"sk-item\"><div class=\"sk-label-container\"><div class=\"sk-label sk-toggleable\"><input class=\"sk-toggleable__control sk-hidden--visually\" id=\"sk-estimator-id-5\" type=\"checkbox\" ><label for=\"sk-estimator-id-5\" class=\"sk-toggleable__label sk-toggleable__label-arrow\">ohc_encoder</label><div class=\"sk-toggleable__content\"><pre>Index([&#x27;키&#x27;, &#x27;체격&#x27;, &#x27;거주지역&#x27;], dtype=&#x27;object&#x27;)</pre></div></div></div><div class=\"sk-serial\"><div class=\"sk-item\"><div class=\"sk-estimator sk-toggleable\"><input class=\"sk-toggleable__control sk-hidden--visually\" id=\"sk-estimator-id-6\" type=\"checkbox\" ><label for=\"sk-estimator-id-6\" class=\"sk-toggleable__label sk-toggleable__label-arrow\">OneHotEncoder</label><div class=\"sk-toggleable__content\"><pre>OneHotEncoder()</pre></div></div></div></div></div></div><div class=\"sk-parallel-item\"><div class=\"sk-item\"><div class=\"sk-label-container\"><div class=\"sk-label sk-toggleable\"><input class=\"sk-toggleable__control sk-hidden--visually\" id=\"sk-estimator-id-7\" type=\"checkbox\" ><label for=\"sk-estimator-id-7\" class=\"sk-toggleable__label sk-toggleable__label-arrow\">remainder</label><div class=\"sk-toggleable__content\"><pre>[]</pre></div></div></div><div class=\"sk-serial\"><div class=\"sk-item\"><div class=\"sk-estimator sk-toggleable\"><input class=\"sk-toggleable__control sk-hidden--visually\" id=\"sk-estimator-id-8\" type=\"checkbox\" ><label for=\"sk-estimator-id-8\" class=\"sk-toggleable__label sk-toggleable__label-arrow\">passthrough</label><div class=\"sk-toggleable__content\"><pre>passthrough</pre></div></div></div></div></div></div></div></div><div class=\"sk-item\"><div class=\"sk-estimator sk-toggleable\"><input class=\"sk-toggleable__control sk-hidden--visually\" id=\"sk-estimator-id-9\" type=\"checkbox\" ><label for=\"sk-estimator-id-9\" class=\"sk-toggleable__label sk-toggleable__label-arrow\">LGBMClassifier</label><div class=\"sk-toggleable__content\"><pre>LGBMClassifier(learning_rate=0.01, max_depth=3, random_state=42)</pre></div></div></div></div></div></div></div>"
      ],
      "text/plain": [
       "Pipeline(steps=[('preprocessor',\n",
       "                 ColumnTransformer(remainder='passthrough',\n",
       "                                   transformers=[('minmax_scaler',\n",
       "                                                  MinMaxScaler(),\n",
       "                                                  Index(['일평균수면시간', '일평균학습시간', '일평균스마트폰사용시간', '몸무게', '기초대사량'], dtype='object')),\n",
       "                                                 ('ohc_encoder',\n",
       "                                                  OneHotEncoder(),\n",
       "                                                  Index(['키', '체격', '거주지역'], dtype='object'))])),\n",
       "                ('model',\n",
       "                 LGBMClassifier(learning_rate=0.01, max_depth=3,\n",
       "                                random_state=42))])"
      ]
     },
     "execution_count": 19,
     "metadata": {},
     "output_type": "execute_result"
    }
   ],
   "source": [
    "from sklearn.pipeline import Pipeline\n",
    "from sklearn.compose import ColumnTransformer\n",
    "from sklearn.preprocessing import MinMaxScaler, OneHotEncoder, OrdinalEncoder\n",
    "from lightgbm import LGBMClassifier\n",
    "\n",
    "transformer = ColumnTransformer([\n",
    "    ('minmax_scaler', MinMaxScaler(), number_df.columns),\n",
    "    ('ohc_encoder', OneHotEncoder(), object_df.columns)\n",
    "], remainder='passthrough')\n",
    "\n",
    "pipeline = Pipeline([\n",
    "    ('preprocessor', transformer),\n",
    "    ('model', LGBMClassifier(random_state=42, max_depth=3, learning_rate=0.01))\n",
    "])\n",
    "\n",
    "# 모델 학습\n",
    "pipeline.fit(X_tr, y_tr)"
   ]
  },
  {
   "cell_type": "markdown",
   "id": "2ca51676",
   "metadata": {},
   "source": [
    "## 모델 평가"
   ]
  },
  {
   "cell_type": "code",
   "execution_count": 20,
   "id": "61ab28c4",
   "metadata": {},
   "outputs": [
    {
     "data": {
      "text/plain": [
       "'train : 0.8937423742210961, test : 0.867981751285422'"
      ]
     },
     "execution_count": 20,
     "metadata": {},
     "output_type": "execute_result"
    }
   ],
   "source": [
    "from sklearn.metrics import f1_score\n",
    "\n",
    "def get_scores(model, X_train, X_test, y_train, y_test):\n",
    "    train_predict = model.predict(X_train)\n",
    "    test_predict = model.predict(X_test)\n",
    "    train_score = f1_score(y_train, train_predict, average='macro')\n",
    "    test_score = f1_score(y_test, test_predict, average='macro')\n",
    "    return f'train : {train_score}, test : {test_score}'\n",
    "    \n",
    "get_scores(pipeline, X_tr, X_te, y_tr, y_te)"
   ]
  },
  {
   "cell_type": "markdown",
   "id": "52b3ce11",
   "metadata": {},
   "source": [
    "## 결과 제출"
   ]
  },
  {
   "cell_type": "code",
   "execution_count": 21,
   "id": "30a75a6a",
   "metadata": {
    "scrolled": true
   },
   "outputs": [
    {
     "data": {
      "text/plain": [
       "array(['대학생', '초등학생', '중학생', '유치원생', '고등학생', '고등학생', '유치원생', '초등학생',\n",
       "       '초등학생', '대학생', '고등학생', '초등학생', '유치원생', '유치원생', '중학생', '초등학생',\n",
       "       '유치원생', '초등학생', '초등학생', '중학생', '유치원생', '중학생', '초등학생', '중학생',\n",
       "       '초등학생', '유치원생', '고등학생', '유치원생', '대학생', '중학생', '초등학생', '대학생', '대학생',\n",
       "       '유치원생', '대학생', '초등학생', '유치원생', '유치원생', '초등학생', '고등학생', '유치원생',\n",
       "       '유치원생', '초등학생', '초등학생', '유치원생', '중학생', '유치원생', '유치원생', '중학생',\n",
       "       '고등학생', '중학생', '초등학생', '중학생', '고등학생', '고등학생', '초등학생', '초등학생',\n",
       "       '대학생', '유치원생', '고등학생', '고등학생', '유치원생', '고등학생', '초등학생', '중학생',\n",
       "       '고등학생', '유치원생', '초등학생', '초등학생', '유치원생', '초등학생', '초등학생', '중학생',\n",
       "       '고등학생', '초등학생', '유치원생', '대학생', '대학생', '초등학생', '유치원생', '고등학생',\n",
       "       '유치원생', '초등학생', '대학생', '초등학생', '유치원생', '유치원생', '중학생', '대학생',\n",
       "       '유치원생', '유치원생', '유치원생', '유치원생', '대학생', '대학생', '초등학생', '고등학생',\n",
       "       '유치원생', '유치원생', '대학생', '고등학생', '초등학생', '초등학생', '유치원생', '초등학생',\n",
       "       '고등학생', '유치원생', '유치원생', '초등학생', '유치원생', '유치원생', '대학생', '고등학생',\n",
       "       '대학생', '대학생', '유치원생', '대학생', '중학생', '유치원생', '유치원생', '유치원생', '중학생',\n",
       "       '고등학생', '중학생', '고등학생', '대학생', '고등학생', '고등학생', '초등학생', '고등학생',\n",
       "       '초등학생', '중학생', '유치원생', '고등학생', '고등학생', '고등학생', '유치원생', '고등학생',\n",
       "       '대학생', '유치원생', '유치원생', '고등학생', '초등학생', '초등학생', '유치원생', '초등학생',\n",
       "       '초등학생', '중학생', '초등학생', '고등학생', '유치원생', '유치원생', '고등학생', '고등학생',\n",
       "       '고등학생', '유치원생', '중학생', '초등학생', '초등학생', '고등학생', '대학생', '유치원생',\n",
       "       '초등학생', '대학생', '초등학생', '유치원생', '고등학생', '유치원생', '초등학생', '유치원생',\n",
       "       '고등학생', '대학생', '고등학생', '초등학생', '고등학생', '초등학생', '초등학생', '유치원생',\n",
       "       '중학생', '고등학생', '고등학생', '초등학생', '초등학생', '유치원생', '초등학생', '고등학생',\n",
       "       '대학생', '유치원생', '고등학생', '유치원생', '대학생', '초등학생', '대학생', '대학생', '고등학생',\n",
       "       '대학생', '중학생', '초등학생', '유치원생', '고등학생', '초등학생', '초등학생', '고등학생',\n",
       "       '고등학생', '초등학생', '고등학생', '유치원생', '고등학생', '대학생', '초등학생', '유치원생',\n",
       "       '유치원생', '초등학생', '유치원생', '초등학생', '대학생', '고등학생', '유치원생', '초등학생',\n",
       "       '대학생', '초등학생', '고등학생', '유치원생', '유치원생', '유치원생', '초등학생', '초등학생',\n",
       "       '고등학생', '고등학생', '초등학생'], dtype=object)"
      ]
     },
     "execution_count": 21,
     "metadata": {},
     "output_type": "execute_result"
    }
   ],
   "source": [
    "final_predict = pipeline.predict(X_test)\n",
    "final_predict"
   ]
  },
  {
   "cell_type": "code",
   "execution_count": 23,
   "id": "fe87bfb4",
   "metadata": {},
   "outputs": [
    {
     "data": {
      "text/html": [
       "<div>\n",
       "<style scoped>\n",
       "    .dataframe tbody tr th:only-of-type {\n",
       "        vertical-align: middle;\n",
       "    }\n",
       "\n",
       "    .dataframe tbody tr th {\n",
       "        vertical-align: top;\n",
       "    }\n",
       "\n",
       "    .dataframe thead th {\n",
       "        text-align: right;\n",
       "    }\n",
       "</style>\n",
       "<table border=\"1\" class=\"dataframe\">\n",
       "  <thead>\n",
       "    <tr style=\"text-align: right;\">\n",
       "      <th></th>\n",
       "      <th>pred</th>\n",
       "    </tr>\n",
       "  </thead>\n",
       "  <tbody>\n",
       "    <tr>\n",
       "      <th>0</th>\n",
       "      <td>대학생</td>\n",
       "    </tr>\n",
       "    <tr>\n",
       "      <th>1</th>\n",
       "      <td>초등학생</td>\n",
       "    </tr>\n",
       "    <tr>\n",
       "      <th>2</th>\n",
       "      <td>중학생</td>\n",
       "    </tr>\n",
       "    <tr>\n",
       "      <th>3</th>\n",
       "      <td>유치원생</td>\n",
       "    </tr>\n",
       "    <tr>\n",
       "      <th>4</th>\n",
       "      <td>고등학생</td>\n",
       "    </tr>\n",
       "    <tr>\n",
       "      <th>...</th>\n",
       "      <td>...</td>\n",
       "    </tr>\n",
       "    <tr>\n",
       "      <th>225</th>\n",
       "      <td>초등학생</td>\n",
       "    </tr>\n",
       "    <tr>\n",
       "      <th>226</th>\n",
       "      <td>초등학생</td>\n",
       "    </tr>\n",
       "    <tr>\n",
       "      <th>227</th>\n",
       "      <td>고등학생</td>\n",
       "    </tr>\n",
       "    <tr>\n",
       "      <th>228</th>\n",
       "      <td>고등학생</td>\n",
       "    </tr>\n",
       "    <tr>\n",
       "      <th>229</th>\n",
       "      <td>초등학생</td>\n",
       "    </tr>\n",
       "  </tbody>\n",
       "</table>\n",
       "<p>230 rows × 1 columns</p>\n",
       "</div>"
      ],
      "text/plain": [
       "     pred\n",
       "0     대학생\n",
       "1    초등학생\n",
       "2     중학생\n",
       "3    유치원생\n",
       "4    고등학생\n",
       "..    ...\n",
       "225  초등학생\n",
       "226  초등학생\n",
       "227  고등학생\n",
       "228  고등학생\n",
       "229  초등학생\n",
       "\n",
       "[230 rows x 1 columns]"
      ]
     },
     "execution_count": 23,
     "metadata": {},
     "output_type": "execute_result"
    }
   ],
   "source": [
    "result = pd.DataFrame({'pred':final_predict})\n",
    "result"
   ]
  },
  {
   "cell_type": "code",
   "execution_count": 24,
   "id": "485954d5",
   "metadata": {},
   "outputs": [],
   "source": [
    "result.to_csv('5.csv', index=False)"
   ]
  }
 ],
 "metadata": {
  "kernelspec": {
   "display_name": "Python 3 (ipykernel)",
   "language": "python",
   "name": "python3"
  },
  "language_info": {
   "codemirror_mode": {
    "name": "ipython",
    "version": 3
   },
   "file_extension": ".py",
   "mimetype": "text/x-python",
   "name": "python",
   "nbconvert_exporter": "python",
   "pygments_lexer": "ipython3",
   "version": "3.11.5"
  }
 },
 "nbformat": 4,
 "nbformat_minor": 5
}
