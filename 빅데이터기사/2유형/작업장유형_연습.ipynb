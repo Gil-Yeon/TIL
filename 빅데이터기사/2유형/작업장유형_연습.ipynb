{
 "cells": [
  {
   "cell_type": "markdown",
   "id": "c85739cc-d2e7-4b83-9bf5-c56c912bb4d7",
   "metadata": {},
   "source": [
    "## 작업형 2 예시\n",
    "- 데이터 가져오기\n",
    "    + [고객지원] - [공지사항] - 제2회 빅데이터분석기사 실기 안내(수정: 체험링크 추가)"
   ]
  },
  {
   "cell_type": "markdown",
   "id": "2320ce9c-b524-40ce-88e3-e4ca490f41d9",
   "metadata": {},
   "source": [
    "## 문제\n",
    "- 아래는 백화점 고객의 1년 간 구매 데이터이다.\n",
    "- 제공 데이터 목록\n",
    "  + y_train.csv : 고객의 성별 데이터(학습용, CSV 형식의 파일)\n",
    "  + X_train.csv, X_test.csv : 고객의 상품구매 속성(학습용 및 평가용), CSV 형식의 파일\n",
    "- 데이터 형식 및 내용\n",
    "  + y_train.csv (3,500명 데이터)\n",
    "    * custid : 고객 ID\n",
    "    * gender: 고객의 성별(0: 여자, 1:남자)\n",
    "- 고객 3,5000명에 대한 학습용 데이터를 이용하여 성별예측 모형을 만드 후, 이를 평가용 데이터에 적용하여 얻은 고객의 성별 예측값(남자일 확률)을 다음과 같은 형식의 CSV 파일로 생성\n",
    "- 제출한 모델의 성능은 ROC-AUC 평가지표에 따라 채점"
   ]
  },
  {
   "cell_type": "code",
   "execution_count": 1,
   "id": "f7f8d3d7-b212-417a-b7c9-1f37c0a01263",
   "metadata": {},
   "outputs": [
    {
     "data": {
      "text/html": [
       "<div>\n",
       "<style scoped>\n",
       "    .dataframe tbody tr th:only-of-type {\n",
       "        vertical-align: middle;\n",
       "    }\n",
       "\n",
       "    .dataframe tbody tr th {\n",
       "        vertical-align: top;\n",
       "    }\n",
       "\n",
       "    .dataframe thead th {\n",
       "        text-align: right;\n",
       "    }\n",
       "</style>\n",
       "<table border=\"1\" class=\"dataframe\">\n",
       "  <thead>\n",
       "    <tr style=\"text-align: right;\">\n",
       "      <th></th>\n",
       "      <th>custid</th>\n",
       "      <th>gender</th>\n",
       "    </tr>\n",
       "  </thead>\n",
       "  <tbody>\n",
       "    <tr>\n",
       "      <th>0</th>\n",
       "      <td>3500</td>\n",
       "      <td>0.267</td>\n",
       "    </tr>\n",
       "    <tr>\n",
       "      <th>1</th>\n",
       "      <td>3501</td>\n",
       "      <td>0.578</td>\n",
       "    </tr>\n",
       "    <tr>\n",
       "      <th>2</th>\n",
       "      <td>3502</td>\n",
       "      <td>0.885</td>\n",
       "    </tr>\n",
       "  </tbody>\n",
       "</table>\n",
       "</div>"
      ],
      "text/plain": [
       "   custid  gender\n",
       "0    3500   0.267\n",
       "1    3501   0.578\n",
       "2    3502   0.885"
      ]
     },
     "execution_count": 1,
     "metadata": {},
     "output_type": "execute_result"
    }
   ],
   "source": [
    "import pandas as pd \n",
    "pd.DataFrame({\n",
    "    'custid' : [3500, 3501, 3502], \n",
    "    'gender' : [0.267, 0.578, 0.885]\n",
    "})"
   ]
  },
  {
   "cell_type": "code",
   "execution_count": 2,
   "id": "6fac1885",
   "metadata": {},
   "outputs": [],
   "source": [
    "import pandas as pd\n",
    "\n",
    "DATA_PATH = 'data/department_store/'\n",
    "\n",
    "X_test = pd.read_csv(DATA_PATH + \"X_test.csv\", encoding=\"euc-kr\")   # 작업장 환경에서는 불필요\n",
    "X_train = pd.read_csv(DATA_PATH + \"X_train.csv\", encoding=\"euc-kr\")\n",
    "y_train = pd.read_csv(DATA_PATH + \"y_train.csv\", encoding=\"euc-kr\")"
   ]
  },
  {
   "cell_type": "markdown",
   "id": "899193b3",
   "metadata": {},
   "source": [
    "## 데이터확인"
   ]
  },
  {
   "cell_type": "code",
   "execution_count": 3,
   "id": "e24755bb",
   "metadata": {},
   "outputs": [
    {
     "name": "stdout",
     "output_type": "stream",
     "text": [
      "   cust_id      총구매액     최대구매액       환불금액   주구매상품 주구매지점  내점일수   내점당구매건수  \\\n",
      "0        0  68282840  11264000  6860000.0      기타   강남점    19  3.894737   \n",
      "1        1   2136000   2136000   300000.0     스포츠   잠실점     2  1.500000   \n",
      "2        2   3197000   1639000        NaN  남성 캐주얼   관악점     2  2.000000   \n",
      "3        3  16077620   4935000        NaN      기타   광주점    18  2.444444   \n",
      "4        4  29050000  24000000        NaN      보석  본  점     2  1.500000   \n",
      "\n",
      "     주말방문비율  구매주기  \n",
      "0  0.527027    17  \n",
      "1  0.000000     1  \n",
      "2  0.000000     1  \n",
      "3  0.318182    16  \n",
      "4  0.000000    85  \n",
      "   cust_id  gender\n",
      "0        0       0\n",
      "1        1       0\n",
      "2        2       1\n",
      "3        3       1\n",
      "4        4       0\n"
     ]
    }
   ],
   "source": [
    "print(X_train.head())\n",
    "print(y_train.head())"
   ]
  },
  {
   "cell_type": "code",
   "execution_count": 4,
   "id": "fe41a68a",
   "metadata": {},
   "outputs": [
    {
     "name": "stdout",
     "output_type": "stream",
     "text": [
      "<class 'pandas.core.frame.DataFrame'>\n",
      "RangeIndex: 3500 entries, 0 to 3499\n",
      "Data columns (total 10 columns):\n",
      " #   Column   Non-Null Count  Dtype  \n",
      "---  ------   --------------  -----  \n",
      " 0   cust_id  3500 non-null   int64  \n",
      " 1   총구매액     3500 non-null   int64  \n",
      " 2   최대구매액    3500 non-null   int64  \n",
      " 3   환불금액     1205 non-null   float64\n",
      " 4   주구매상품    3500 non-null   object \n",
      " 5   주구매지점    3500 non-null   object \n",
      " 6   내점일수     3500 non-null   int64  \n",
      " 7   내점당구매건수  3500 non-null   float64\n",
      " 8   주말방문비율   3500 non-null   float64\n",
      " 9   구매주기     3500 non-null   int64  \n",
      "dtypes: float64(3), int64(5), object(2)\n",
      "memory usage: 273.6+ KB\n",
      "None\n",
      "\n",
      "<class 'pandas.core.frame.DataFrame'>\n",
      "RangeIndex: 3500 entries, 0 to 3499\n",
      "Data columns (total 2 columns):\n",
      " #   Column   Non-Null Count  Dtype\n",
      "---  ------   --------------  -----\n",
      " 0   cust_id  3500 non-null   int64\n",
      " 1   gender   3500 non-null   int64\n",
      "dtypes: int64(2)\n",
      "memory usage: 54.8 KB\n",
      "None\n",
      "\n"
     ]
    }
   ],
   "source": [
    "print(X_train.info())\n",
    "print()\n",
    "print(y_train.info())\n",
    "print()"
   ]
  },
  {
   "cell_type": "code",
   "execution_count": 5,
   "id": "4c970ff3",
   "metadata": {},
   "outputs": [
    {
     "name": "stdout",
     "output_type": "stream",
     "text": [
      "cust_id       0\n",
      "총구매액          0\n",
      "최대구매액         0\n",
      "환불금액       2295\n",
      "주구매상품         0\n",
      "주구매지점         0\n",
      "내점일수          0\n",
      "내점당구매건수       0\n",
      "주말방문비율        0\n",
      "구매주기          0\n",
      "dtype: int64\n",
      "\n",
      "cust_id    0\n",
      "gender     0\n",
      "dtype: int64\n",
      "\n",
      "cust_id       0\n",
      "총구매액          0\n",
      "최대구매액         0\n",
      "환불금액       1611\n",
      "주구매상품         0\n",
      "주구매지점         0\n",
      "내점일수          0\n",
      "내점당구매건수       0\n",
      "주말방문비율        0\n",
      "구매주기          0\n",
      "dtype: int64\n",
      "\n"
     ]
    }
   ],
   "source": [
    "print(X_train.isnull().sum())\n",
    "print()\n",
    "print(y_train.isnull().sum())\n",
    "print()\n",
    "print(X_test.isnull().sum())\n",
    "print()"
   ]
  },
  {
   "cell_type": "code",
   "execution_count": 6,
   "id": "03cb7f44",
   "metadata": {},
   "outputs": [
    {
     "name": "stdout",
     "output_type": "stream",
     "text": [
      "cust_id    0\n",
      "총구매액       0\n",
      "최대구매액      0\n",
      "환불금액       0\n",
      "주구매상품      0\n",
      "주구매지점      0\n",
      "내점일수       0\n",
      "내점당구매건수    0\n",
      "주말방문비율     0\n",
      "구매주기       0\n",
      "dtype: int64\n",
      "cust_id    0\n",
      "총구매액       0\n",
      "최대구매액      0\n",
      "환불금액       0\n",
      "주구매상품      0\n",
      "주구매지점      0\n",
      "내점일수       0\n",
      "내점당구매건수    0\n",
      "주말방문비율     0\n",
      "구매주기       0\n",
      "dtype: int64\n"
     ]
    }
   ],
   "source": [
    "X_train['환불금액'] = X_train['환불금액'].fillna(X_train['환불금액'].median())\n",
    "print(X_train.isnull().sum())\n",
    "\n",
    "X_test['환불금액'] = X_test['환불금액'].fillna(X_test['환불금액'].median())\n",
    "print(X_test.isnull().sum())"
   ]
  },
  {
   "cell_type": "markdown",
   "id": "390b8a8a",
   "metadata": {},
   "source": [
    "## 데이터셋 분리"
   ]
  },
  {
   "cell_type": "code",
   "execution_count": 7,
   "id": "066a0f9f",
   "metadata": {},
   "outputs": [
    {
     "name": "stdout",
     "output_type": "stream",
     "text": [
      "(2800, 10) (700, 10) (2800, 2) (700, 2)\n"
     ]
    }
   ],
   "source": [
    "from sklearn.model_selection import train_test_split\n",
    "\n",
    "X_tr, X_te, y_tr, y_te = train_test_split(X_train, y_train, test_size=0.2, random_state=42)\n",
    "print(X_tr.shape, X_te.shape, y_tr.shape, y_te.shape)"
   ]
  },
  {
   "cell_type": "markdown",
   "id": "ff21a132",
   "metadata": {},
   "source": [
    "## 컬럼 삭제 및 분리"
   ]
  },
  {
   "cell_type": "code",
   "execution_count": 8,
   "id": "dc5dc5f4",
   "metadata": {},
   "outputs": [
    {
     "name": "stdout",
     "output_type": "stream",
     "text": [
      "(2800, 9) (700, 9) (2800, 1) (700, 1)\n"
     ]
    }
   ],
   "source": [
    "X_tr.pop('cust_id')\n",
    "X_te.pop('cust_id')\n",
    "y_tr.pop('cust_id')\n",
    "y_te.pop('cust_id')\n",
    "\n",
    "print(X_tr.shape, X_te.shape, y_tr.shape, y_te.shape)\n",
    "\n",
    "X_test_id = X_test.pop('cust_id')"
   ]
  },
  {
   "cell_type": "markdown",
   "id": "bbf47b60",
   "metadata": {},
   "source": [
    "## 데이터 타입별로 분리"
   ]
  },
  {
   "cell_type": "code",
   "execution_count": 9,
   "id": "fdd34bf6",
   "metadata": {},
   "outputs": [],
   "source": [
    "import numpy as np\n",
    "\n",
    "object_df = X_tr.select_dtypes(include=object)\n",
    "number_df = X_tr.select_dtypes(include=np.number)"
   ]
  },
  {
   "cell_type": "code",
   "execution_count": 10,
   "id": "8360bbac",
   "metadata": {},
   "outputs": [
    {
     "name": "stdout",
     "output_type": "stream",
     "text": [
      "기타        475\n",
      "가공식품      433\n",
      "농산물       277\n",
      "화장품       204\n",
      "시티웨어      169\n",
      "디자이너      151\n",
      "수산품       123\n",
      "명품         85\n",
      "섬유잡화       84\n",
      "캐주얼        79\n",
      "골프         58\n",
      "스포츠        53\n",
      "일용잡화       51\n",
      "모피/피혁      51\n",
      "육류         48\n",
      "남성 캐주얼     44\n",
      "구두         43\n",
      "차/커피       36\n",
      "피혁잡화       35\n",
      "건강식품       34\n",
      "축산가공       31\n",
      "아동         29\n",
      "주방용품       27\n",
      "셔츠         25\n",
      "젓갈/반찬      25\n",
      "트래디셔널      21\n",
      "주방가전       19\n",
      "남성정장       17\n",
      "생활잡화       13\n",
      "주류         10\n",
      "가구          9\n",
      "커리어         6\n",
      "란제리/내의      6\n",
      "식기          5\n",
      "대형가전        5\n",
      "액세서리        5\n",
      "침구/수예       3\n",
      "보석          3\n",
      "통신/컴퓨터      3\n",
      "악기          2\n",
      "소형가전        2\n",
      "남성 트랜디      1\n",
      "Name: 주구매상품, dtype: int64\n",
      "본  점     851\n",
      "잠실점      385\n",
      "분당점      359\n",
      "부산본점     196\n",
      "영등포점     194\n",
      "일산점      156\n",
      "강남점      114\n",
      "광주점       96\n",
      "노원점       74\n",
      "청량리점      70\n",
      "대전점       55\n",
      "부평점       48\n",
      "미아점       48\n",
      "동래점       39\n",
      "관악점       33\n",
      "안양점       25\n",
      "인천점       25\n",
      "포항점        8\n",
      "울산점        6\n",
      "대구점        6\n",
      "센텀시티점      5\n",
      "전주점        3\n",
      "창원점        3\n",
      "상인점        1\n",
      "Name: 주구매지점, dtype: int64\n"
     ]
    }
   ],
   "source": [
    "for column in object_df.columns:\n",
    "    print(object_df[column].value_counts())"
   ]
  },
  {
   "cell_type": "code",
   "execution_count": 11,
   "id": "e21dff9d",
   "metadata": {},
   "outputs": [
    {
     "name": "stdout",
     "output_type": "stream",
     "text": [
      "               총구매액         최대구매액          환불금액         내점일수      내점당구매건수  \\\n",
      "count  2.800000e+03  2.800000e+03  2.800000e+03  2800.000000  2800.000000   \n",
      "mean   9.252644e+07  1.980003e+07  1.365154e+07    19.462500     2.847587   \n",
      "std    1.638971e+08  3.037693e+07  3.054602e+07    27.751436     1.932191   \n",
      "min   -5.242152e+07 -2.992000e+06  1.800000e+04     1.000000     1.000000   \n",
      "25%    4.827700e+06  2.898000e+06  7.392000e+06     2.000000     1.700000   \n",
      "50%    2.837486e+07  9.875000e+06  7.392000e+06     8.000000     2.333333   \n",
      "75%    1.068782e+08  2.316600e+07  7.392000e+06    26.000000     3.400000   \n",
      "max    2.323180e+09  3.910000e+08  5.637530e+08   285.000000    22.083333   \n",
      "\n",
      "            주말방문비율         구매주기  \n",
      "count  2800.000000  2800.000000  \n",
      "mean      0.304402    20.746071  \n",
      "std       0.288487    24.460119  \n",
      "min       0.000000     0.000000  \n",
      "25%       0.022480     4.000000  \n",
      "50%       0.252339    13.000000  \n",
      "75%       0.444444    28.000000  \n",
      "max       1.000000   162.000000  \n"
     ]
    }
   ],
   "source": [
    "print(number_df.describe())"
   ]
  },
  {
   "cell_type": "markdown",
   "id": "8c220d1c",
   "metadata": {},
   "source": [
    "## 모델 생성"
   ]
  },
  {
   "cell_type": "code",
   "execution_count": 12,
   "id": "13cbea3f",
   "metadata": {
    "scrolled": false
   },
   "outputs": [
    {
     "name": "stderr",
     "output_type": "stream",
     "text": [
      "D:\\Anaconda\\Lib\\site-packages\\sklearn\\preprocessing\\_label.py:97: DataConversionWarning: A column-vector y was passed when a 1d array was expected. Please change the shape of y to (n_samples, ), for example using ravel().\n",
      "  y = column_or_1d(y, warn=True)\n",
      "D:\\Anaconda\\Lib\\site-packages\\sklearn\\preprocessing\\_label.py:132: DataConversionWarning: A column-vector y was passed when a 1d array was expected. Please change the shape of y to (n_samples, ), for example using ravel().\n",
      "  y = column_or_1d(y, dtype=self.classes_.dtype, warn=True)\n"
     ]
    },
    {
     "data": {
      "text/html": [
       "<style>#sk-container-id-1 {color: black;}#sk-container-id-1 pre{padding: 0;}#sk-container-id-1 div.sk-toggleable {background-color: white;}#sk-container-id-1 label.sk-toggleable__label {cursor: pointer;display: block;width: 100%;margin-bottom: 0;padding: 0.3em;box-sizing: border-box;text-align: center;}#sk-container-id-1 label.sk-toggleable__label-arrow:before {content: \"▸\";float: left;margin-right: 0.25em;color: #696969;}#sk-container-id-1 label.sk-toggleable__label-arrow:hover:before {color: black;}#sk-container-id-1 div.sk-estimator:hover label.sk-toggleable__label-arrow:before {color: black;}#sk-container-id-1 div.sk-toggleable__content {max-height: 0;max-width: 0;overflow: hidden;text-align: left;background-color: #f0f8ff;}#sk-container-id-1 div.sk-toggleable__content pre {margin: 0.2em;color: black;border-radius: 0.25em;background-color: #f0f8ff;}#sk-container-id-1 input.sk-toggleable__control:checked~div.sk-toggleable__content {max-height: 200px;max-width: 100%;overflow: auto;}#sk-container-id-1 input.sk-toggleable__control:checked~label.sk-toggleable__label-arrow:before {content: \"▾\";}#sk-container-id-1 div.sk-estimator input.sk-toggleable__control:checked~label.sk-toggleable__label {background-color: #d4ebff;}#sk-container-id-1 div.sk-label input.sk-toggleable__control:checked~label.sk-toggleable__label {background-color: #d4ebff;}#sk-container-id-1 input.sk-hidden--visually {border: 0;clip: rect(1px 1px 1px 1px);clip: rect(1px, 1px, 1px, 1px);height: 1px;margin: -1px;overflow: hidden;padding: 0;position: absolute;width: 1px;}#sk-container-id-1 div.sk-estimator {font-family: monospace;background-color: #f0f8ff;border: 1px dotted black;border-radius: 0.25em;box-sizing: border-box;margin-bottom: 0.5em;}#sk-container-id-1 div.sk-estimator:hover {background-color: #d4ebff;}#sk-container-id-1 div.sk-parallel-item::after {content: \"\";width: 100%;border-bottom: 1px solid gray;flex-grow: 1;}#sk-container-id-1 div.sk-label:hover label.sk-toggleable__label {background-color: #d4ebff;}#sk-container-id-1 div.sk-serial::before {content: \"\";position: absolute;border-left: 1px solid gray;box-sizing: border-box;top: 0;bottom: 0;left: 50%;z-index: 0;}#sk-container-id-1 div.sk-serial {display: flex;flex-direction: column;align-items: center;background-color: white;padding-right: 0.2em;padding-left: 0.2em;position: relative;}#sk-container-id-1 div.sk-item {position: relative;z-index: 1;}#sk-container-id-1 div.sk-parallel {display: flex;align-items: stretch;justify-content: center;background-color: white;position: relative;}#sk-container-id-1 div.sk-item::before, #sk-container-id-1 div.sk-parallel-item::before {content: \"\";position: absolute;border-left: 1px solid gray;box-sizing: border-box;top: 0;bottom: 0;left: 50%;z-index: -1;}#sk-container-id-1 div.sk-parallel-item {display: flex;flex-direction: column;z-index: 1;position: relative;background-color: white;}#sk-container-id-1 div.sk-parallel-item:first-child::after {align-self: flex-end;width: 50%;}#sk-container-id-1 div.sk-parallel-item:last-child::after {align-self: flex-start;width: 50%;}#sk-container-id-1 div.sk-parallel-item:only-child::after {width: 0;}#sk-container-id-1 div.sk-dashed-wrapped {border: 1px dashed gray;margin: 0 0.4em 0.5em 0.4em;box-sizing: border-box;padding-bottom: 0.4em;background-color: white;}#sk-container-id-1 div.sk-label label {font-family: monospace;font-weight: bold;display: inline-block;line-height: 1.2em;}#sk-container-id-1 div.sk-label-container {text-align: center;}#sk-container-id-1 div.sk-container {/* jupyter's `normalize.less` sets `[hidden] { display: none; }` but bootstrap.min.css set `[hidden] { display: none !important; }` so we also need the `!important` here to be able to override the default hidden behavior on the sphinx rendered scikit-learn.org. See: https://github.com/scikit-learn/scikit-learn/issues/21755 */display: inline-block !important;position: relative;}#sk-container-id-1 div.sk-text-repr-fallback {display: none;}</style><div id=\"sk-container-id-1\" class=\"sk-top-container\"><div class=\"sk-text-repr-fallback\"><pre>Pipeline(steps=[(&#x27;preprocessor&#x27;,\n",
       "                 ColumnTransformer(remainder=&#x27;passthrough&#x27;,\n",
       "                                   transformers=[(&#x27;scaler&#x27;, RobustScaler(),\n",
       "                                                  Index([&#x27;총구매액&#x27;, &#x27;최대구매액&#x27;, &#x27;환불금액&#x27;, &#x27;내점일수&#x27;, &#x27;내점당구매건수&#x27;, &#x27;주말방문비율&#x27;, &#x27;구매주기&#x27;], dtype=&#x27;object&#x27;)),\n",
       "                                                 (&#x27;encoder&#x27;, OneHotEncoder(),\n",
       "                                                  Index([&#x27;주구매상품&#x27;, &#x27;주구매지점&#x27;], dtype=&#x27;object&#x27;))])),\n",
       "                (&#x27;model&#x27;,\n",
       "                 LGBMClassifier(learning_rate=0.025, max_depth=3,\n",
       "                                random_state=42))])</pre><b>In a Jupyter environment, please rerun this cell to show the HTML representation or trust the notebook. <br />On GitHub, the HTML representation is unable to render, please try loading this page with nbviewer.org.</b></div><div class=\"sk-container\" hidden><div class=\"sk-item sk-dashed-wrapped\"><div class=\"sk-label-container\"><div class=\"sk-label sk-toggleable\"><input class=\"sk-toggleable__control sk-hidden--visually\" id=\"sk-estimator-id-1\" type=\"checkbox\" ><label for=\"sk-estimator-id-1\" class=\"sk-toggleable__label sk-toggleable__label-arrow\">Pipeline</label><div class=\"sk-toggleable__content\"><pre>Pipeline(steps=[(&#x27;preprocessor&#x27;,\n",
       "                 ColumnTransformer(remainder=&#x27;passthrough&#x27;,\n",
       "                                   transformers=[(&#x27;scaler&#x27;, RobustScaler(),\n",
       "                                                  Index([&#x27;총구매액&#x27;, &#x27;최대구매액&#x27;, &#x27;환불금액&#x27;, &#x27;내점일수&#x27;, &#x27;내점당구매건수&#x27;, &#x27;주말방문비율&#x27;, &#x27;구매주기&#x27;], dtype=&#x27;object&#x27;)),\n",
       "                                                 (&#x27;encoder&#x27;, OneHotEncoder(),\n",
       "                                                  Index([&#x27;주구매상품&#x27;, &#x27;주구매지점&#x27;], dtype=&#x27;object&#x27;))])),\n",
       "                (&#x27;model&#x27;,\n",
       "                 LGBMClassifier(learning_rate=0.025, max_depth=3,\n",
       "                                random_state=42))])</pre></div></div></div><div class=\"sk-serial\"><div class=\"sk-item sk-dashed-wrapped\"><div class=\"sk-label-container\"><div class=\"sk-label sk-toggleable\"><input class=\"sk-toggleable__control sk-hidden--visually\" id=\"sk-estimator-id-2\" type=\"checkbox\" ><label for=\"sk-estimator-id-2\" class=\"sk-toggleable__label sk-toggleable__label-arrow\">preprocessor: ColumnTransformer</label><div class=\"sk-toggleable__content\"><pre>ColumnTransformer(remainder=&#x27;passthrough&#x27;,\n",
       "                  transformers=[(&#x27;scaler&#x27;, RobustScaler(),\n",
       "                                 Index([&#x27;총구매액&#x27;, &#x27;최대구매액&#x27;, &#x27;환불금액&#x27;, &#x27;내점일수&#x27;, &#x27;내점당구매건수&#x27;, &#x27;주말방문비율&#x27;, &#x27;구매주기&#x27;], dtype=&#x27;object&#x27;)),\n",
       "                                (&#x27;encoder&#x27;, OneHotEncoder(),\n",
       "                                 Index([&#x27;주구매상품&#x27;, &#x27;주구매지점&#x27;], dtype=&#x27;object&#x27;))])</pre></div></div></div><div class=\"sk-parallel\"><div class=\"sk-parallel-item\"><div class=\"sk-item\"><div class=\"sk-label-container\"><div class=\"sk-label sk-toggleable\"><input class=\"sk-toggleable__control sk-hidden--visually\" id=\"sk-estimator-id-3\" type=\"checkbox\" ><label for=\"sk-estimator-id-3\" class=\"sk-toggleable__label sk-toggleable__label-arrow\">scaler</label><div class=\"sk-toggleable__content\"><pre>Index([&#x27;총구매액&#x27;, &#x27;최대구매액&#x27;, &#x27;환불금액&#x27;, &#x27;내점일수&#x27;, &#x27;내점당구매건수&#x27;, &#x27;주말방문비율&#x27;, &#x27;구매주기&#x27;], dtype=&#x27;object&#x27;)</pre></div></div></div><div class=\"sk-serial\"><div class=\"sk-item\"><div class=\"sk-estimator sk-toggleable\"><input class=\"sk-toggleable__control sk-hidden--visually\" id=\"sk-estimator-id-4\" type=\"checkbox\" ><label for=\"sk-estimator-id-4\" class=\"sk-toggleable__label sk-toggleable__label-arrow\">RobustScaler</label><div class=\"sk-toggleable__content\"><pre>RobustScaler()</pre></div></div></div></div></div></div><div class=\"sk-parallel-item\"><div class=\"sk-item\"><div class=\"sk-label-container\"><div class=\"sk-label sk-toggleable\"><input class=\"sk-toggleable__control sk-hidden--visually\" id=\"sk-estimator-id-5\" type=\"checkbox\" ><label for=\"sk-estimator-id-5\" class=\"sk-toggleable__label sk-toggleable__label-arrow\">encoder</label><div class=\"sk-toggleable__content\"><pre>Index([&#x27;주구매상품&#x27;, &#x27;주구매지점&#x27;], dtype=&#x27;object&#x27;)</pre></div></div></div><div class=\"sk-serial\"><div class=\"sk-item\"><div class=\"sk-estimator sk-toggleable\"><input class=\"sk-toggleable__control sk-hidden--visually\" id=\"sk-estimator-id-6\" type=\"checkbox\" ><label for=\"sk-estimator-id-6\" class=\"sk-toggleable__label sk-toggleable__label-arrow\">OneHotEncoder</label><div class=\"sk-toggleable__content\"><pre>OneHotEncoder()</pre></div></div></div></div></div></div><div class=\"sk-parallel-item\"><div class=\"sk-item\"><div class=\"sk-label-container\"><div class=\"sk-label sk-toggleable\"><input class=\"sk-toggleable__control sk-hidden--visually\" id=\"sk-estimator-id-7\" type=\"checkbox\" ><label for=\"sk-estimator-id-7\" class=\"sk-toggleable__label sk-toggleable__label-arrow\">remainder</label><div class=\"sk-toggleable__content\"><pre>[]</pre></div></div></div><div class=\"sk-serial\"><div class=\"sk-item\"><div class=\"sk-estimator sk-toggleable\"><input class=\"sk-toggleable__control sk-hidden--visually\" id=\"sk-estimator-id-8\" type=\"checkbox\" ><label for=\"sk-estimator-id-8\" class=\"sk-toggleable__label sk-toggleable__label-arrow\">passthrough</label><div class=\"sk-toggleable__content\"><pre>passthrough</pre></div></div></div></div></div></div></div></div><div class=\"sk-item\"><div class=\"sk-estimator sk-toggleable\"><input class=\"sk-toggleable__control sk-hidden--visually\" id=\"sk-estimator-id-9\" type=\"checkbox\" ><label for=\"sk-estimator-id-9\" class=\"sk-toggleable__label sk-toggleable__label-arrow\">LGBMClassifier</label><div class=\"sk-toggleable__content\"><pre>LGBMClassifier(learning_rate=0.025, max_depth=3, random_state=42)</pre></div></div></div></div></div></div></div>"
      ],
      "text/plain": [
       "Pipeline(steps=[('preprocessor',\n",
       "                 ColumnTransformer(remainder='passthrough',\n",
       "                                   transformers=[('scaler', RobustScaler(),\n",
       "                                                  Index(['총구매액', '최대구매액', '환불금액', '내점일수', '내점당구매건수', '주말방문비율', '구매주기'], dtype='object')),\n",
       "                                                 ('encoder', OneHotEncoder(),\n",
       "                                                  Index(['주구매상품', '주구매지점'], dtype='object'))])),\n",
       "                ('model',\n",
       "                 LGBMClassifier(learning_rate=0.025, max_depth=3,\n",
       "                                random_state=42))])"
      ]
     },
     "execution_count": 12,
     "metadata": {},
     "output_type": "execute_result"
    }
   ],
   "source": [
    "from sklearn.pipeline import Pipeline\n",
    "from sklearn.compose import ColumnTransformer\n",
    "from sklearn.preprocessing import RobustScaler, OneHotEncoder\n",
    "from lightgbm import LGBMClassifier\n",
    "\n",
    "transformer = ColumnTransformer([\n",
    "    ('scaler', RobustScaler(), number_df.columns),\n",
    "    ('encoder', OneHotEncoder(), object_df.columns)\n",
    "], remainder='passthrough')\n",
    "\n",
    "pipeline = Pipeline([\n",
    "    ('preprocessor', transformer),\n",
    "    ('model', LGBMClassifier(random_state=42, max_depth=3, learning_rate=0.025))\n",
    "])\n",
    "\n",
    "pipeline.fit(X_tr, y_tr)"
   ]
  },
  {
   "cell_type": "code",
   "execution_count": 16,
   "id": "6b947a7b",
   "metadata": {},
   "outputs": [
    {
     "name": "stderr",
     "output_type": "stream",
     "text": [
      "D:\\Anaconda\\Lib\\site-packages\\sklearn\\base.py:1151: DataConversionWarning: A column-vector y was passed when a 1d array was expected. Please change the shape of y to (n_samples,), for example using ravel().\n",
      "  return fit_method(estimator, *args, **kwargs)\n"
     ]
    },
    {
     "data": {
      "text/html": [
       "<style>#sk-container-id-2 {color: black;}#sk-container-id-2 pre{padding: 0;}#sk-container-id-2 div.sk-toggleable {background-color: white;}#sk-container-id-2 label.sk-toggleable__label {cursor: pointer;display: block;width: 100%;margin-bottom: 0;padding: 0.3em;box-sizing: border-box;text-align: center;}#sk-container-id-2 label.sk-toggleable__label-arrow:before {content: \"▸\";float: left;margin-right: 0.25em;color: #696969;}#sk-container-id-2 label.sk-toggleable__label-arrow:hover:before {color: black;}#sk-container-id-2 div.sk-estimator:hover label.sk-toggleable__label-arrow:before {color: black;}#sk-container-id-2 div.sk-toggleable__content {max-height: 0;max-width: 0;overflow: hidden;text-align: left;background-color: #f0f8ff;}#sk-container-id-2 div.sk-toggleable__content pre {margin: 0.2em;color: black;border-radius: 0.25em;background-color: #f0f8ff;}#sk-container-id-2 input.sk-toggleable__control:checked~div.sk-toggleable__content {max-height: 200px;max-width: 100%;overflow: auto;}#sk-container-id-2 input.sk-toggleable__control:checked~label.sk-toggleable__label-arrow:before {content: \"▾\";}#sk-container-id-2 div.sk-estimator input.sk-toggleable__control:checked~label.sk-toggleable__label {background-color: #d4ebff;}#sk-container-id-2 div.sk-label input.sk-toggleable__control:checked~label.sk-toggleable__label {background-color: #d4ebff;}#sk-container-id-2 input.sk-hidden--visually {border: 0;clip: rect(1px 1px 1px 1px);clip: rect(1px, 1px, 1px, 1px);height: 1px;margin: -1px;overflow: hidden;padding: 0;position: absolute;width: 1px;}#sk-container-id-2 div.sk-estimator {font-family: monospace;background-color: #f0f8ff;border: 1px dotted black;border-radius: 0.25em;box-sizing: border-box;margin-bottom: 0.5em;}#sk-container-id-2 div.sk-estimator:hover {background-color: #d4ebff;}#sk-container-id-2 div.sk-parallel-item::after {content: \"\";width: 100%;border-bottom: 1px solid gray;flex-grow: 1;}#sk-container-id-2 div.sk-label:hover label.sk-toggleable__label {background-color: #d4ebff;}#sk-container-id-2 div.sk-serial::before {content: \"\";position: absolute;border-left: 1px solid gray;box-sizing: border-box;top: 0;bottom: 0;left: 50%;z-index: 0;}#sk-container-id-2 div.sk-serial {display: flex;flex-direction: column;align-items: center;background-color: white;padding-right: 0.2em;padding-left: 0.2em;position: relative;}#sk-container-id-2 div.sk-item {position: relative;z-index: 1;}#sk-container-id-2 div.sk-parallel {display: flex;align-items: stretch;justify-content: center;background-color: white;position: relative;}#sk-container-id-2 div.sk-item::before, #sk-container-id-2 div.sk-parallel-item::before {content: \"\";position: absolute;border-left: 1px solid gray;box-sizing: border-box;top: 0;bottom: 0;left: 50%;z-index: -1;}#sk-container-id-2 div.sk-parallel-item {display: flex;flex-direction: column;z-index: 1;position: relative;background-color: white;}#sk-container-id-2 div.sk-parallel-item:first-child::after {align-self: flex-end;width: 50%;}#sk-container-id-2 div.sk-parallel-item:last-child::after {align-self: flex-start;width: 50%;}#sk-container-id-2 div.sk-parallel-item:only-child::after {width: 0;}#sk-container-id-2 div.sk-dashed-wrapped {border: 1px dashed gray;margin: 0 0.4em 0.5em 0.4em;box-sizing: border-box;padding-bottom: 0.4em;background-color: white;}#sk-container-id-2 div.sk-label label {font-family: monospace;font-weight: bold;display: inline-block;line-height: 1.2em;}#sk-container-id-2 div.sk-label-container {text-align: center;}#sk-container-id-2 div.sk-container {/* jupyter's `normalize.less` sets `[hidden] { display: none; }` but bootstrap.min.css set `[hidden] { display: none !important; }` so we also need the `!important` here to be able to override the default hidden behavior on the sphinx rendered scikit-learn.org. See: https://github.com/scikit-learn/scikit-learn/issues/21755 */display: inline-block !important;position: relative;}#sk-container-id-2 div.sk-text-repr-fallback {display: none;}</style><div id=\"sk-container-id-2\" class=\"sk-top-container\"><div class=\"sk-text-repr-fallback\"><pre>Pipeline(steps=[(&#x27;preprocessor&#x27;,\n",
       "                 ColumnTransformer(remainder=&#x27;passthrough&#x27;,\n",
       "                                   transformers=[(&#x27;scaler&#x27;, RobustScaler(),\n",
       "                                                  Index([&#x27;총구매액&#x27;, &#x27;최대구매액&#x27;, &#x27;환불금액&#x27;, &#x27;내점일수&#x27;, &#x27;내점당구매건수&#x27;, &#x27;주말방문비율&#x27;, &#x27;구매주기&#x27;], dtype=&#x27;object&#x27;)),\n",
       "                                                 (&#x27;encoder&#x27;, OneHotEncoder(),\n",
       "                                                  Index([&#x27;주구매상품&#x27;, &#x27;주구매지점&#x27;], dtype=&#x27;object&#x27;))])),\n",
       "                (&#x27;model&#x27;,\n",
       "                 RandomForestClassifier(max_depth=3, random_state=42))])</pre><b>In a Jupyter environment, please rerun this cell to show the HTML representation or trust the notebook. <br />On GitHub, the HTML representation is unable to render, please try loading this page with nbviewer.org.</b></div><div class=\"sk-container\" hidden><div class=\"sk-item sk-dashed-wrapped\"><div class=\"sk-label-container\"><div class=\"sk-label sk-toggleable\"><input class=\"sk-toggleable__control sk-hidden--visually\" id=\"sk-estimator-id-10\" type=\"checkbox\" ><label for=\"sk-estimator-id-10\" class=\"sk-toggleable__label sk-toggleable__label-arrow\">Pipeline</label><div class=\"sk-toggleable__content\"><pre>Pipeline(steps=[(&#x27;preprocessor&#x27;,\n",
       "                 ColumnTransformer(remainder=&#x27;passthrough&#x27;,\n",
       "                                   transformers=[(&#x27;scaler&#x27;, RobustScaler(),\n",
       "                                                  Index([&#x27;총구매액&#x27;, &#x27;최대구매액&#x27;, &#x27;환불금액&#x27;, &#x27;내점일수&#x27;, &#x27;내점당구매건수&#x27;, &#x27;주말방문비율&#x27;, &#x27;구매주기&#x27;], dtype=&#x27;object&#x27;)),\n",
       "                                                 (&#x27;encoder&#x27;, OneHotEncoder(),\n",
       "                                                  Index([&#x27;주구매상품&#x27;, &#x27;주구매지점&#x27;], dtype=&#x27;object&#x27;))])),\n",
       "                (&#x27;model&#x27;,\n",
       "                 RandomForestClassifier(max_depth=3, random_state=42))])</pre></div></div></div><div class=\"sk-serial\"><div class=\"sk-item sk-dashed-wrapped\"><div class=\"sk-label-container\"><div class=\"sk-label sk-toggleable\"><input class=\"sk-toggleable__control sk-hidden--visually\" id=\"sk-estimator-id-11\" type=\"checkbox\" ><label for=\"sk-estimator-id-11\" class=\"sk-toggleable__label sk-toggleable__label-arrow\">preprocessor: ColumnTransformer</label><div class=\"sk-toggleable__content\"><pre>ColumnTransformer(remainder=&#x27;passthrough&#x27;,\n",
       "                  transformers=[(&#x27;scaler&#x27;, RobustScaler(),\n",
       "                                 Index([&#x27;총구매액&#x27;, &#x27;최대구매액&#x27;, &#x27;환불금액&#x27;, &#x27;내점일수&#x27;, &#x27;내점당구매건수&#x27;, &#x27;주말방문비율&#x27;, &#x27;구매주기&#x27;], dtype=&#x27;object&#x27;)),\n",
       "                                (&#x27;encoder&#x27;, OneHotEncoder(),\n",
       "                                 Index([&#x27;주구매상품&#x27;, &#x27;주구매지점&#x27;], dtype=&#x27;object&#x27;))])</pre></div></div></div><div class=\"sk-parallel\"><div class=\"sk-parallel-item\"><div class=\"sk-item\"><div class=\"sk-label-container\"><div class=\"sk-label sk-toggleable\"><input class=\"sk-toggleable__control sk-hidden--visually\" id=\"sk-estimator-id-12\" type=\"checkbox\" ><label for=\"sk-estimator-id-12\" class=\"sk-toggleable__label sk-toggleable__label-arrow\">scaler</label><div class=\"sk-toggleable__content\"><pre>Index([&#x27;총구매액&#x27;, &#x27;최대구매액&#x27;, &#x27;환불금액&#x27;, &#x27;내점일수&#x27;, &#x27;내점당구매건수&#x27;, &#x27;주말방문비율&#x27;, &#x27;구매주기&#x27;], dtype=&#x27;object&#x27;)</pre></div></div></div><div class=\"sk-serial\"><div class=\"sk-item\"><div class=\"sk-estimator sk-toggleable\"><input class=\"sk-toggleable__control sk-hidden--visually\" id=\"sk-estimator-id-13\" type=\"checkbox\" ><label for=\"sk-estimator-id-13\" class=\"sk-toggleable__label sk-toggleable__label-arrow\">RobustScaler</label><div class=\"sk-toggleable__content\"><pre>RobustScaler()</pre></div></div></div></div></div></div><div class=\"sk-parallel-item\"><div class=\"sk-item\"><div class=\"sk-label-container\"><div class=\"sk-label sk-toggleable\"><input class=\"sk-toggleable__control sk-hidden--visually\" id=\"sk-estimator-id-14\" type=\"checkbox\" ><label for=\"sk-estimator-id-14\" class=\"sk-toggleable__label sk-toggleable__label-arrow\">encoder</label><div class=\"sk-toggleable__content\"><pre>Index([&#x27;주구매상품&#x27;, &#x27;주구매지점&#x27;], dtype=&#x27;object&#x27;)</pre></div></div></div><div class=\"sk-serial\"><div class=\"sk-item\"><div class=\"sk-estimator sk-toggleable\"><input class=\"sk-toggleable__control sk-hidden--visually\" id=\"sk-estimator-id-15\" type=\"checkbox\" ><label for=\"sk-estimator-id-15\" class=\"sk-toggleable__label sk-toggleable__label-arrow\">OneHotEncoder</label><div class=\"sk-toggleable__content\"><pre>OneHotEncoder()</pre></div></div></div></div></div></div><div class=\"sk-parallel-item\"><div class=\"sk-item\"><div class=\"sk-label-container\"><div class=\"sk-label sk-toggleable\"><input class=\"sk-toggleable__control sk-hidden--visually\" id=\"sk-estimator-id-16\" type=\"checkbox\" ><label for=\"sk-estimator-id-16\" class=\"sk-toggleable__label sk-toggleable__label-arrow\">remainder</label><div class=\"sk-toggleable__content\"><pre>[]</pre></div></div></div><div class=\"sk-serial\"><div class=\"sk-item\"><div class=\"sk-estimator sk-toggleable\"><input class=\"sk-toggleable__control sk-hidden--visually\" id=\"sk-estimator-id-17\" type=\"checkbox\" ><label for=\"sk-estimator-id-17\" class=\"sk-toggleable__label sk-toggleable__label-arrow\">passthrough</label><div class=\"sk-toggleable__content\"><pre>passthrough</pre></div></div></div></div></div></div></div></div><div class=\"sk-item\"><div class=\"sk-estimator sk-toggleable\"><input class=\"sk-toggleable__control sk-hidden--visually\" id=\"sk-estimator-id-18\" type=\"checkbox\" ><label for=\"sk-estimator-id-18\" class=\"sk-toggleable__label sk-toggleable__label-arrow\">RandomForestClassifier</label><div class=\"sk-toggleable__content\"><pre>RandomForestClassifier(max_depth=3, random_state=42)</pre></div></div></div></div></div></div></div>"
      ],
      "text/plain": [
       "Pipeline(steps=[('preprocessor',\n",
       "                 ColumnTransformer(remainder='passthrough',\n",
       "                                   transformers=[('scaler', RobustScaler(),\n",
       "                                                  Index(['총구매액', '최대구매액', '환불금액', '내점일수', '내점당구매건수', '주말방문비율', '구매주기'], dtype='object')),\n",
       "                                                 ('encoder', OneHotEncoder(),\n",
       "                                                  Index(['주구매상품', '주구매지점'], dtype='object'))])),\n",
       "                ('model',\n",
       "                 RandomForestClassifier(max_depth=3, random_state=42))])"
      ]
     },
     "execution_count": 16,
     "metadata": {},
     "output_type": "execute_result"
    }
   ],
   "source": [
    "from sklearn.pipeline import Pipeline\n",
    "from sklearn.compose import ColumnTransformer\n",
    "from sklearn.preprocessing import RobustScaler, OneHotEncoder\n",
    "from sklearn.ensemble import RandomForestClassifier\n",
    "\n",
    "transformer = ColumnTransformer([\n",
    "    ('scaler', RobustScaler(), number_df.columns),\n",
    "    ('encoder', OneHotEncoder(), object_df.columns)\n",
    "], remainder='passthrough')\n",
    "\n",
    "pipeline = Pipeline([\n",
    "    ('preprocessor', transformer),\n",
    "    ('model', RandomForestClassifier(random_state=42, n_estimators=100, max_depth=3))\n",
    "])\n",
    "\n",
    "pipeline.fit(X_tr, y_tr)"
   ]
  },
  {
   "cell_type": "markdown",
   "id": "8c70be42",
   "metadata": {},
   "source": [
    "## 모델 평가"
   ]
  },
  {
   "cell_type": "code",
   "execution_count": 17,
   "id": "7c0292d5",
   "metadata": {},
   "outputs": [
    {
     "name": "stdout",
     "output_type": "stream",
     "text": [
      "train : 0.690090753272351, test : 0.6809583858764185\n"
     ]
    }
   ],
   "source": [
    "from sklearn.metrics import roc_auc_score\n",
    "\n",
    "def get_scores(model, X_tr, X_te, y_tr, y_te):\n",
    "    train_predict = model.predict_proba(X_tr)\n",
    "    test_predict = model.predict_proba(X_te)\n",
    "    train_score = roc_auc_score(y_tr, train_predict[:, 1])\n",
    "    test_score = roc_auc_score(y_te, test_predict[:, 1])    \n",
    "    return f\"train : {train_score}, test : {test_score}\"\n",
    "\n",
    "print(get_scores(pipeline, X_tr, X_te, y_tr, y_te))"
   ]
  },
  {
   "cell_type": "markdown",
   "id": "eb9c2c33",
   "metadata": {},
   "source": [
    "## 결과제출"
   ]
  },
  {
   "cell_type": "code",
   "execution_count": 18,
   "id": "adb66e7e",
   "metadata": {},
   "outputs": [
    {
     "name": "stdout",
     "output_type": "stream",
     "text": [
      "      cust_id    gender\n",
      "0        3500  0.401842\n",
      "1        3501  0.247428\n",
      "2        3502  0.249309\n",
      "3        3503  0.384044\n",
      "4        3504  0.403472\n",
      "...       ...       ...\n",
      "2477     5977  0.370295\n",
      "2478     5978  0.451998\n",
      "2479     5979  0.370941\n",
      "2480     5980  0.348606\n",
      "2481     5981  0.424711\n",
      "\n",
      "[2482 rows x 2 columns]\n"
     ]
    }
   ],
   "source": [
    "final_predict = pipeline.predict_proba(X_test)\n",
    "result = pd.DataFrame({\n",
    "    'cust_id' : X_test_id,\n",
    "    'gender' : final_predict[:, 1]\n",
    "})\n",
    "print(result)"
   ]
  }
 ],
 "metadata": {
  "kernelspec": {
   "display_name": "Python 3 (ipykernel)",
   "language": "python",
   "name": "python3"
  },
  "language_info": {
   "codemirror_mode": {
    "name": "ipython",
    "version": 3
   },
   "file_extension": ".py",
   "mimetype": "text/x-python",
   "name": "python",
   "nbconvert_exporter": "python",
   "pygments_lexer": "ipython3",
   "version": "3.11.5"
  }
 },
 "nbformat": 4,
 "nbformat_minor": 5
}
